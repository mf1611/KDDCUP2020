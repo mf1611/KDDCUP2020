{
  "nbformat": 4,
  "nbformat_minor": 0,
  "metadata": {
    "accelerator": "GPU",
    "colab": {
      "name": "transformer_0525.ipynb",
      "provenance": [],
      "collapsed_sections": [],
      "machine_shape": "hm"
    },
    "kernelspec": {
      "display_name": "Python 3",
      "language": "python",
      "name": "python3"
    },
    "language_info": {
      "codemirror_mode": {
        "name": "ipython",
        "version": 3
      },
      "file_extension": ".py",
      "mimetype": "text/x-python",
      "name": "python",
      "nbconvert_exporter": "python",
      "pygments_lexer": "ipython3",
      "version": "3.6.8"
    }
  },
  "cells": [
    {
      "cell_type": "markdown",
      "metadata": {
        "id": "_d96Tn9SNxTF",
        "colab_type": "text"
      },
      "source": [
        "## ベースラインモデル概要\n",
        "\n",
        "- Forumに挙がっているコードを、Pytorchで出来る限り再現したコード\n",
        "    - https://mp.weixin.qq.com/s/KBtxmYlvV1U7wimCyv9v_g?\n",
        "    - https://github.com/Ai-Light/KDD2020Multimodalities/blob/master/code/%5Bimage-concat-query%5D-wwm_uncased_L12-768_v3_quart.ipynb\n",
        "    \n",
        "\n",
        "- 訓練データの画像とクエリのペアを正例、ペアをランダムに入れ替えたデータを負例として、2値分類モデルを学習するモデル\n",
        "    - クエリ側：BERTとword2vecでエンコードしたものをconcat\n",
        "    - 画像側：面積順にして、画特徴量と位置特徴量とクラスラベルをconcatして、BiLSTMでエンコード\n",
        "    - 最後に、両方をconcatして、全結合層でつなげて、出力\n",
        "    \n",
        "    \n",
        "    - 負例に関しては、ミニバッチごとに、ミニバッチ数×5の負例（ランダムに入れ替え）を用意\n",
        "\n",
        "\n",
        "\n",
        "- 現在評価中だが、1epochが約5時間(GPU2枚)で、3epochで、0.5くらいな感じ\n",
        "- 多分、まだ上がるはず\n",
        "    - Epoch 1, train_loss: 0.21015196827693125, train_score: 0.9234113280874952, valid_score: 0.45962303517930975, time: 19286.304292201996\n",
        "    - Epoch 2, train_loss: 0.18031329249707034, train_score: 0.9534390202407629, valid_score: 0.4747285933335644, time: 19173.962506055832\n",
        "    - Epoch 3, train_loss: 0.17171741712500027, train_score: 0.9565376569179256, valid_score: 0.5024780766046713, time: 19172.145148277283"
      ]
    },
    {
      "cell_type": "code",
      "metadata": {
        "id": "3_z0MENqSwCX",
        "colab_type": "code",
        "outputId": "7a495517-d6db-4ab9-a31c-91d9af69dd6f",
        "colab": {
          "base_uri": "https://localhost:8080/",
          "height": 34
        }
      },
      "source": [
        "from google.colab import drive\n",
        "drive.mount('/content/drive')"
      ],
      "execution_count": 1,
      "outputs": [
        {
          "output_type": "stream",
          "text": [
            "Drive already mounted at /content/drive; to attempt to forcibly remount, call drive.mount(\"/content/drive\", force_remount=True).\n"
          ],
          "name": "stdout"
        }
      ]
    },
    {
      "cell_type": "code",
      "metadata": {
        "colab_type": "code",
        "id": "_azqvH__RTc-",
        "colab": {
          "base_uri": "https://localhost:8080/",
          "height": 1000
        },
        "outputId": "9b6882ae-0abd-4124-ff80-a7665f9f739c"
      },
      "source": [
        "!pip install transformers\n",
        "!pip install swifter"
      ],
      "execution_count": 2,
      "outputs": [
        {
          "output_type": "stream",
          "text": [
            "Requirement already satisfied: transformers in /usr/local/lib/python3.6/dist-packages (2.10.0)\n",
            "Requirement already satisfied: sentencepiece in /usr/local/lib/python3.6/dist-packages (from transformers) (0.1.91)\n",
            "Requirement already satisfied: sacremoses in /usr/local/lib/python3.6/dist-packages (from transformers) (0.0.43)\n",
            "Requirement already satisfied: numpy in /usr/local/lib/python3.6/dist-packages (from transformers) (1.18.4)\n",
            "Requirement already satisfied: tqdm>=4.27 in /usr/local/lib/python3.6/dist-packages (from transformers) (4.41.1)\n",
            "Requirement already satisfied: requests in /usr/local/lib/python3.6/dist-packages (from transformers) (2.23.0)\n",
            "Requirement already satisfied: filelock in /usr/local/lib/python3.6/dist-packages (from transformers) (3.0.12)\n",
            "Requirement already satisfied: tokenizers==0.7.0 in /usr/local/lib/python3.6/dist-packages (from transformers) (0.7.0)\n",
            "Requirement already satisfied: dataclasses; python_version < \"3.7\" in /usr/local/lib/python3.6/dist-packages (from transformers) (0.7)\n",
            "Requirement already satisfied: regex!=2019.12.17 in /usr/local/lib/python3.6/dist-packages (from transformers) (2019.12.20)\n",
            "Requirement already satisfied: six in /usr/local/lib/python3.6/dist-packages (from sacremoses->transformers) (1.12.0)\n",
            "Requirement already satisfied: click in /usr/local/lib/python3.6/dist-packages (from sacremoses->transformers) (7.1.2)\n",
            "Requirement already satisfied: joblib in /usr/local/lib/python3.6/dist-packages (from sacremoses->transformers) (0.15.1)\n",
            "Requirement already satisfied: chardet<4,>=3.0.2 in /usr/local/lib/python3.6/dist-packages (from requests->transformers) (3.0.4)\n",
            "Requirement already satisfied: urllib3!=1.25.0,!=1.25.1,<1.26,>=1.21.1 in /usr/local/lib/python3.6/dist-packages (from requests->transformers) (1.24.3)\n",
            "Requirement already satisfied: idna<3,>=2.5 in /usr/local/lib/python3.6/dist-packages (from requests->transformers) (2.9)\n",
            "Requirement already satisfied: certifi>=2017.4.17 in /usr/local/lib/python3.6/dist-packages (from requests->transformers) (2020.4.5.1)\n",
            "Requirement already satisfied: swifter in /usr/local/lib/python3.6/dist-packages (0.304)\n",
            "Requirement already satisfied: ipywidgets>=7.0.0 in /usr/local/lib/python3.6/dist-packages (from swifter) (7.5.1)\n",
            "Requirement already satisfied: parso>0.4.0 in /usr/local/lib/python3.6/dist-packages (from swifter) (0.7.0)\n",
            "Requirement already satisfied: numba>=0.49.0 in /usr/local/lib/python3.6/dist-packages (from swifter) (0.49.1)\n",
            "Requirement already satisfied: psutil>=5.6.6 in /usr/local/lib/python3.6/dist-packages (from swifter) (5.7.0)\n",
            "Requirement already satisfied: tqdm>=4.33.0 in /usr/local/lib/python3.6/dist-packages (from swifter) (4.41.1)\n",
            "Requirement already satisfied: pandas>=0.23.0 in /usr/local/lib/python3.6/dist-packages (from swifter) (1.0.3)\n",
            "Requirement already satisfied: dask[complete]>=0.19.0 in /usr/local/lib/python3.6/dist-packages (from swifter) (2.12.0)\n",
            "Requirement already satisfied: bleach>=3.1.1 in /usr/local/lib/python3.6/dist-packages (from swifter) (3.1.5)\n",
            "Requirement already satisfied: ipykernel>=4.5.1 in /usr/local/lib/python3.6/dist-packages (from ipywidgets>=7.0.0->swifter) (4.10.1)\n",
            "Requirement already satisfied: nbformat>=4.2.0 in /usr/local/lib/python3.6/dist-packages (from ipywidgets>=7.0.0->swifter) (5.0.6)\n",
            "Requirement already satisfied: traitlets>=4.3.1 in /usr/local/lib/python3.6/dist-packages (from ipywidgets>=7.0.0->swifter) (4.3.3)\n",
            "Requirement already satisfied: ipython>=4.0.0; python_version >= \"3.3\" in /usr/local/lib/python3.6/dist-packages (from ipywidgets>=7.0.0->swifter) (5.5.0)\n",
            "Requirement already satisfied: widgetsnbextension~=3.5.0 in /usr/local/lib/python3.6/dist-packages (from ipywidgets>=7.0.0->swifter) (3.5.1)\n",
            "Requirement already satisfied: numpy>=1.15 in /usr/local/lib/python3.6/dist-packages (from numba>=0.49.0->swifter) (1.18.4)\n",
            "Requirement already satisfied: llvmlite<=0.33.0.dev0,>=0.31.0.dev0 in /usr/local/lib/python3.6/dist-packages (from numba>=0.49.0->swifter) (0.31.0)\n",
            "Requirement already satisfied: setuptools in /usr/local/lib/python3.6/dist-packages (from numba>=0.49.0->swifter) (46.3.0)\n",
            "Requirement already satisfied: pytz>=2017.2 in /usr/local/lib/python3.6/dist-packages (from pandas>=0.23.0->swifter) (2018.9)\n",
            "Requirement already satisfied: python-dateutil>=2.6.1 in /usr/local/lib/python3.6/dist-packages (from pandas>=0.23.0->swifter) (2.8.1)\n",
            "Requirement already satisfied: fsspec>=0.6.0; extra == \"complete\" in /usr/local/lib/python3.6/dist-packages (from dask[complete]>=0.19.0->swifter) (0.7.4)\n",
            "Requirement already satisfied: bokeh>=1.0.0; extra == \"complete\" in /usr/local/lib/python3.6/dist-packages (from dask[complete]>=0.19.0->swifter) (1.4.0)\n",
            "Requirement already satisfied: toolz>=0.7.3; extra == \"complete\" in /usr/local/lib/python3.6/dist-packages (from dask[complete]>=0.19.0->swifter) (0.10.0)\n",
            "Requirement already satisfied: distributed>=2.0; extra == \"complete\" in /usr/local/lib/python3.6/dist-packages (from dask[complete]>=0.19.0->swifter) (2.16.0)\n",
            "Requirement already satisfied: cloudpickle>=0.2.1; extra == \"complete\" in /usr/local/lib/python3.6/dist-packages (from dask[complete]>=0.19.0->swifter) (1.3.0)\n",
            "Requirement already satisfied: partd>=0.3.10; extra == \"complete\" in /usr/local/lib/python3.6/dist-packages (from dask[complete]>=0.19.0->swifter) (1.1.0)\n",
            "Requirement already satisfied: PyYaml; extra == \"complete\" in /usr/local/lib/python3.6/dist-packages (from dask[complete]>=0.19.0->swifter) (3.13)\n",
            "Requirement already satisfied: webencodings in /usr/local/lib/python3.6/dist-packages (from bleach>=3.1.1->swifter) (0.5.1)\n",
            "Requirement already satisfied: packaging in /usr/local/lib/python3.6/dist-packages (from bleach>=3.1.1->swifter) (20.4)\n",
            "Requirement already satisfied: six>=1.9.0 in /usr/local/lib/python3.6/dist-packages (from bleach>=3.1.1->swifter) (1.12.0)\n",
            "Requirement already satisfied: tornado>=4.0 in /usr/local/lib/python3.6/dist-packages (from ipykernel>=4.5.1->ipywidgets>=7.0.0->swifter) (6.0.4)\n",
            "Requirement already satisfied: jupyter-client in /usr/local/lib/python3.6/dist-packages (from ipykernel>=4.5.1->ipywidgets>=7.0.0->swifter) (5.3.4)\n",
            "Requirement already satisfied: ipython-genutils in /usr/local/lib/python3.6/dist-packages (from nbformat>=4.2.0->ipywidgets>=7.0.0->swifter) (0.2.0)\n",
            "Requirement already satisfied: jsonschema!=2.5.0,>=2.4 in /usr/local/lib/python3.6/dist-packages (from nbformat>=4.2.0->ipywidgets>=7.0.0->swifter) (2.6.0)\n",
            "Requirement already satisfied: jupyter-core in /usr/local/lib/python3.6/dist-packages (from nbformat>=4.2.0->ipywidgets>=7.0.0->swifter) (4.6.3)\n",
            "Requirement already satisfied: decorator in /usr/local/lib/python3.6/dist-packages (from traitlets>=4.3.1->ipywidgets>=7.0.0->swifter) (4.4.2)\n",
            "Requirement already satisfied: pickleshare in /usr/local/lib/python3.6/dist-packages (from ipython>=4.0.0; python_version >= \"3.3\"->ipywidgets>=7.0.0->swifter) (0.7.5)\n",
            "Requirement already satisfied: prompt-toolkit<2.0.0,>=1.0.4 in /usr/local/lib/python3.6/dist-packages (from ipython>=4.0.0; python_version >= \"3.3\"->ipywidgets>=7.0.0->swifter) (1.0.18)\n",
            "Requirement already satisfied: pexpect; sys_platform != \"win32\" in /usr/local/lib/python3.6/dist-packages (from ipython>=4.0.0; python_version >= \"3.3\"->ipywidgets>=7.0.0->swifter) (4.8.0)\n",
            "Requirement already satisfied: pygments in /usr/local/lib/python3.6/dist-packages (from ipython>=4.0.0; python_version >= \"3.3\"->ipywidgets>=7.0.0->swifter) (2.1.3)\n",
            "Requirement already satisfied: simplegeneric>0.8 in /usr/local/lib/python3.6/dist-packages (from ipython>=4.0.0; python_version >= \"3.3\"->ipywidgets>=7.0.0->swifter) (0.8.1)\n",
            "Requirement already satisfied: notebook>=4.4.1 in /usr/local/lib/python3.6/dist-packages (from widgetsnbextension~=3.5.0->ipywidgets>=7.0.0->swifter) (5.2.2)\n",
            "Requirement already satisfied: Jinja2>=2.7 in /usr/local/lib/python3.6/dist-packages (from bokeh>=1.0.0; extra == \"complete\"->dask[complete]>=0.19.0->swifter) (2.11.2)\n",
            "Requirement already satisfied: pillow>=4.0 in /usr/local/lib/python3.6/dist-packages (from bokeh>=1.0.0; extra == \"complete\"->dask[complete]>=0.19.0->swifter) (7.0.0)\n",
            "Requirement already satisfied: zict>=0.1.3 in /usr/local/lib/python3.6/dist-packages (from distributed>=2.0; extra == \"complete\"->dask[complete]>=0.19.0->swifter) (2.0.0)\n",
            "Requirement already satisfied: contextvars; python_version < \"3.7\" in /usr/local/lib/python3.6/dist-packages (from distributed>=2.0; extra == \"complete\"->dask[complete]>=0.19.0->swifter) (2.4)\n",
            "Requirement already satisfied: click>=6.6 in /usr/local/lib/python3.6/dist-packages (from distributed>=2.0; extra == \"complete\"->dask[complete]>=0.19.0->swifter) (7.1.2)\n",
            "Requirement already satisfied: tblib>=1.6.0 in /usr/local/lib/python3.6/dist-packages (from distributed>=2.0; extra == \"complete\"->dask[complete]>=0.19.0->swifter) (1.6.0)\n",
            "Requirement already satisfied: sortedcontainers!=2.0.0,!=2.0.1 in /usr/local/lib/python3.6/dist-packages (from distributed>=2.0; extra == \"complete\"->dask[complete]>=0.19.0->swifter) (2.1.0)\n",
            "Requirement already satisfied: msgpack>=0.6.0 in /usr/local/lib/python3.6/dist-packages (from distributed>=2.0; extra == \"complete\"->dask[complete]>=0.19.0->swifter) (1.0.0)\n",
            "Requirement already satisfied: locket in /usr/local/lib/python3.6/dist-packages (from partd>=0.3.10; extra == \"complete\"->dask[complete]>=0.19.0->swifter) (0.2.0)\n",
            "Requirement already satisfied: pyparsing>=2.0.2 in /usr/local/lib/python3.6/dist-packages (from packaging->bleach>=3.1.1->swifter) (2.4.7)\n",
            "Requirement already satisfied: pyzmq>=13 in /usr/local/lib/python3.6/dist-packages (from jupyter-client->ipykernel>=4.5.1->ipywidgets>=7.0.0->swifter) (19.0.1)\n",
            "Requirement already satisfied: wcwidth in /usr/local/lib/python3.6/dist-packages (from prompt-toolkit<2.0.0,>=1.0.4->ipython>=4.0.0; python_version >= \"3.3\"->ipywidgets>=7.0.0->swifter) (0.1.9)\n",
            "Requirement already satisfied: ptyprocess>=0.5 in /usr/local/lib/python3.6/dist-packages (from pexpect; sys_platform != \"win32\"->ipython>=4.0.0; python_version >= \"3.3\"->ipywidgets>=7.0.0->swifter) (0.6.0)\n",
            "Requirement already satisfied: nbconvert in /usr/local/lib/python3.6/dist-packages (from notebook>=4.4.1->widgetsnbextension~=3.5.0->ipywidgets>=7.0.0->swifter) (5.6.1)\n",
            "Requirement already satisfied: terminado>=0.3.3; sys_platform != \"win32\" in /usr/local/lib/python3.6/dist-packages (from notebook>=4.4.1->widgetsnbextension~=3.5.0->ipywidgets>=7.0.0->swifter) (0.8.3)\n",
            "Requirement already satisfied: MarkupSafe>=0.23 in /usr/local/lib/python3.6/dist-packages (from Jinja2>=2.7->bokeh>=1.0.0; extra == \"complete\"->dask[complete]>=0.19.0->swifter) (1.1.1)\n",
            "Requirement already satisfied: heapdict in /usr/local/lib/python3.6/dist-packages (from zict>=0.1.3->distributed>=2.0; extra == \"complete\"->dask[complete]>=0.19.0->swifter) (1.0.1)\n",
            "Requirement already satisfied: immutables>=0.9 in /usr/local/lib/python3.6/dist-packages (from contextvars; python_version < \"3.7\"->distributed>=2.0; extra == \"complete\"->dask[complete]>=0.19.0->swifter) (0.14)\n",
            "Requirement already satisfied: testpath in /usr/local/lib/python3.6/dist-packages (from nbconvert->notebook>=4.4.1->widgetsnbextension~=3.5.0->ipywidgets>=7.0.0->swifter) (0.4.4)\n",
            "Requirement already satisfied: entrypoints>=0.2.2 in /usr/local/lib/python3.6/dist-packages (from nbconvert->notebook>=4.4.1->widgetsnbextension~=3.5.0->ipywidgets>=7.0.0->swifter) (0.3)\n",
            "Requirement already satisfied: pandocfilters>=1.4.1 in /usr/local/lib/python3.6/dist-packages (from nbconvert->notebook>=4.4.1->widgetsnbextension~=3.5.0->ipywidgets>=7.0.0->swifter) (1.4.2)\n",
            "Requirement already satisfied: defusedxml in /usr/local/lib/python3.6/dist-packages (from nbconvert->notebook>=4.4.1->widgetsnbextension~=3.5.0->ipywidgets>=7.0.0->swifter) (0.6.0)\n",
            "Requirement already satisfied: mistune<2,>=0.8.1 in /usr/local/lib/python3.6/dist-packages (from nbconvert->notebook>=4.4.1->widgetsnbextension~=3.5.0->ipywidgets>=7.0.0->swifter) (0.8.4)\n"
          ],
          "name": "stdout"
        }
      ]
    },
    {
      "cell_type": "code",
      "metadata": {
        "colab_type": "code",
        "id": "m2nQtsuaQ7sr",
        "colab": {}
      },
      "source": [
        "import pandas as pd\n",
        "import numpy as np\n",
        "import datetime\n",
        "import random\n",
        "import os\n",
        "import time\n",
        "import gc\n",
        "from glob import glob\n",
        "from tqdm import tqdm\n",
        "import pickle\n",
        "import logging\n",
        "import json\n",
        "import math\n",
        "from collections import OrderedDict\n",
        "\n",
        "import base64\n",
        "import swifter\n",
        "import gensim\n",
        "\n",
        "from sklearn.metrics import mean_absolute_error\n",
        "import lightgbm as lgb\n",
        "from sklearn.utils import shuffle\n",
        "from sklearn.model_selection import KFold, StratifiedKFold, GroupKFold\n",
        "from sklearn.metrics import mean_squared_error, roc_auc_score\n",
        "import matplotlib.pyplot as plt\n",
        "#import japanize_matplotlib\n",
        "import seaborn as sns\n",
        "\n",
        "import torch\n",
        "import torch.nn.functional as F\n",
        "from torch import nn\n",
        "from torch.utils.data import DataLoader, Dataset\n",
        "\n",
        "pd.set_option('display.max_columns', 500)"
      ],
      "execution_count": 0,
      "outputs": []
    },
    {
      "cell_type": "code",
      "metadata": {
        "colab_type": "code",
        "id": "KS9idpUtQ7tB",
        "colab": {
          "base_uri": "https://localhost:8080/",
          "height": 34
        },
        "outputId": "fdcdf710-7fc4-4da1-9712-3d196808dd50"
      },
      "source": [
        "import torch\n",
        "import torch.nn.functional as F\n",
        "from torch import nn\n",
        "from torch.utils import data\n",
        "from torch.utils.data import DataLoader, Dataset\n",
        "\n",
        "import keras\n",
        "from keras.preprocessing.sequence import pad_sequences\n",
        "\n",
        "# from pytorch_metric_learning import losses\n",
        "\n",
        "import transformers\n",
        "from transformers import (\n",
        "    BertTokenizer, BertModel, BertForSequenceClassification, BertConfig,\n",
        "    WEIGHTS_NAME, CONFIG_NAME, AdamW, get_linear_schedule_with_warmup, \n",
        "    get_cosine_schedule_with_warmup,DistilBertTokenizer,DistilBertModel\n",
        ")"
      ],
      "execution_count": 4,
      "outputs": [
        {
          "output_type": "stream",
          "text": [
            "Using TensorFlow backend.\n"
          ],
          "name": "stderr"
        }
      ]
    },
    {
      "cell_type": "code",
      "metadata": {
        "id": "JcV7s7eIpCKD",
        "colab_type": "code",
        "colab": {}
      },
      "source": [
        "DATE = '20200525'\n",
        "VER = 'transformer'"
      ],
      "execution_count": 0,
      "outputs": []
    },
    {
      "cell_type": "code",
      "metadata": {
        "id": "5CCJ2XhAS7cE",
        "colab_type": "code",
        "colab": {}
      },
      "source": [
        "TRAIN_DIR = '/content/drive/My Drive/Colab Notebooks/KDDCUP/data/train/'\n",
        "VALID_DIR = '/content/drive/My Drive/Colab Notebooks/KDDCUP/data/valid/'\n",
        "TESTA_DIR = '/content/drive/My Drive/Colab Notebooks/KDDCUP/data/testA/'\n",
        "TESTB_DIR = '/content/drive/My Drive/Colab Notebooks/KDDCUP/data/testB/'\n",
        "FEATURE_DIR = '/content/drive/My Drive/Colab Notebooks/KDDCUP/features/'\n",
        "LOG_DIR = '/content/drive/My Drive/Colab Notebooks/KDDCUP/log/'\n",
        "W2V_DIR = '/content/drive/My Drive/Colab Notebooks/KDDCUP/w2v/'\n",
        "MODEL_DIR = '/content/drive/My Drive/Colab Notebooks/KDDCUP/model/'\n",
        "SUBMIT_DIR = '/content/drive/My Drive/Colab Notebooks/KDDCUP/prediction_result/'"
      ],
      "execution_count": 0,
      "outputs": []
    },
    {
      "cell_type": "code",
      "metadata": {
        "colab_type": "code",
        "id": "G0raUpbyRM9k",
        "colab": {}
      },
      "source": [
        "# DATA_DIR = '/home/m_fujitsuka/mnt/data/'\n",
        "# TRAIN_DIR = '/home/m_fujitsuka/mnt/data/'\n",
        "# VALID_DIR = '/home/m_fujitsuka/mnt/data/'\n",
        "# TESTA_DIR = '/home/m_fujitsuka/mnt/data/'\n",
        "# TESTB_DIR = '/home/m_fujitsuka/mnt/data/'\n",
        "\n",
        "# FEATURE_DIR = '/home/m_fujitsuka/mnt/fujitsuka/features/'\n",
        "# LOG_DIR = '/home/m_fujitsuka/mnt/fujitsuka/log/'\n",
        "# W2V_DIR = '/home/m_fujitsuka/mnt/fujitsuka/w2v/'\n",
        "# MODEL_DIR = '/home/m_fujitsuka/mnt/fujitsuka/model/'\n",
        "# SUBMIT_DIR = '/home/m_fujitsuka/mnt/fujitsuka/prediction_result/'"
      ],
      "execution_count": 0,
      "outputs": []
    },
    {
      "cell_type": "markdown",
      "metadata": {
        "colab_type": "text",
        "id": "NKWPOtZ8Q7tw"
      },
      "source": [
        "### Read Data"
      ]
    },
    {
      "cell_type": "code",
      "metadata": {
        "colab_type": "code",
        "id": "TsD8ScdkQ7tz",
        "colab": {}
      },
      "source": [
        "# # train = pd.read_csv(TRAIN_DIR+'train.tsv', sep='\\t', , quoting=csv.QUOTE_NONE)\n",
        "# train = pd.read_csv(TRAIN_DIR+'train.sample.tsv', sep='\\t')\n",
        "# print(train.shape)\n",
        "# train.head()"
      ],
      "execution_count": 0,
      "outputs": []
    },
    {
      "cell_type": "code",
      "metadata": {
        "colab_type": "code",
        "id": "pZtQFPJ_Q7uG",
        "colab": {}
      },
      "source": [
        "# valid = pd.read_csv(VALID_DIR+'valid.tsv', sep='\\t')\n",
        "# print(valid.shape)\n",
        "# valid.head()"
      ],
      "execution_count": 0,
      "outputs": []
    },
    {
      "cell_type": "code",
      "metadata": {
        "colab_type": "code",
        "id": "IQuRGN4iQ7uU",
        "colab": {}
      },
      "source": [
        "# testA = pd.read_csv(TESTA_DIR+'testA.tsv', sep='\\t')\n",
        "# print(testA.shape)\n",
        "# testA.head()"
      ],
      "execution_count": 0,
      "outputs": []
    },
    {
      "cell_type": "markdown",
      "metadata": {
        "colab_type": "text",
        "id": "LK0eNvPyQ7uk"
      },
      "source": [
        "### Decode Data"
      ]
    },
    {
      "cell_type": "code",
      "metadata": {
        "colab_type": "code",
        "id": "A7xfGrBxQ7uo",
        "colab": {}
      },
      "source": [
        "# def transform_boxes(df_row):\n",
        "#     return np.frombuffer(base64.b64decode(df_row.boxes), dtype=np.float32).reshape(df_row.num_boxes, 4)\n",
        "\n",
        "# def transform_features(df_row):\n",
        "#     return np.frombuffer(base64.b64decode(df_row.features), dtype=np.float32).reshape(df_row.num_boxes, 2048)\n",
        "\n",
        "# def transform_class_labels(df_row):\n",
        "#     return np.frombuffer(base64.b64decode(df_row.class_labels), dtype=np.int64).reshape(df_row.num_boxes)\n",
        "\n",
        "# def transform_df(df):\n",
        "#     df.boxes = df.swifter.apply(transform_boxes, axis=1)\n",
        "#     df.features = df.swifter.apply(transform_features, axis=1)\n",
        "#     df.class_labels = df.swifter.apply(transform_class_labels, axis=1)\n",
        "#     return df"
      ],
      "execution_count": 0,
      "outputs": []
    },
    {
      "cell_type": "code",
      "metadata": {
        "colab_type": "code",
        "id": "gShMk_awQ7vE",
        "colab": {}
      },
      "source": [
        "# train = transform_df(train)\n",
        "# valid = transform_df(valid)\n",
        "# testA = transform_df(testA)"
      ],
      "execution_count": 0,
      "outputs": []
    },
    {
      "cell_type": "code",
      "metadata": {
        "id": "KbvwNvRrNxTj",
        "colab_type": "code",
        "colab": {}
      },
      "source": [
        "# # すでにデコードしたデータも作成済み\n",
        "# # こちらだと、メモリ消費量102GBくらいで、読み込みも速い\n",
        "\n",
        "# train = pd.read_pickle(FEATURE_DIR+'train_decode.pkl')\n",
        "# valid = pd.read_pickle(FEATURE_DIR+'valid_decode.pkl')\n",
        "# testA = pd.read_pickle(FEATURE_DIR+'testA_decode.pkl')"
      ],
      "execution_count": 0,
      "outputs": []
    },
    {
      "cell_type": "markdown",
      "metadata": {
        "colab_type": "text",
        "id": "GdXGQ2cUQ7vS"
      },
      "source": [
        "### Feature Engineering"
      ]
    },
    {
      "cell_type": "markdown",
      "metadata": {
        "colab_type": "text",
        "id": "GZzx7nadQ7vU"
      },
      "source": [
        "- 正規化したボックスの座標"
      ]
    },
    {
      "cell_type": "code",
      "metadata": {
        "colab_type": "code",
        "id": "zTNq3GdLO_iR",
        "colab": {}
      },
      "source": [
        "# train['box_normalized'] = train.swifter.apply(lambda x: np.array([[xi[0]/x.image_h,xi[1]/x.image_w,xi[2]/x.image_h,xi[3]/x.image_w] for xi in x.boxes]), axis=1)\n",
        "# valid['box_normalized'] = valid.swifter.apply(lambda x: np.array([[xi[0]/x.image_h,xi[1]/x.image_w,xi[2]/x.image_h,xi[3]/x.image_w] for xi in x.boxes]), axis=1)\n",
        "# testA['box_normalized'] = testA.swifter.apply(lambda x: np.array([[xi[0]/x.image_h,xi[1]/x.image_w,xi[2]/x.image_h,xi[3]/x.image_w] for xi in x.boxes]), axis=1)"
      ],
      "execution_count": 0,
      "outputs": []
    },
    {
      "cell_type": "markdown",
      "metadata": {
        "id": "8akM00eSNxTp",
        "colab_type": "text"
      },
      "source": [
        "- 正規化されたボックスの面積"
      ]
    },
    {
      "cell_type": "code",
      "metadata": {
        "colab_type": "code",
        "id": "jdRtu_5zQ7vX",
        "colab": {}
      },
      "source": [
        "# train['box_area_normalized'] = train.box_normalized.apply(lambda x: np.array([(xi[3]-xi[1]) * (xi[2]-xi[0]) for xi in x]))\n",
        "# valid['box_area_normalized'] = valid.box_normalized.apply(lambda x: np.array([(xi[3]-xi[1]) * (xi[2]-xi[0]) for xi in x]))\n",
        "# testA['box_area_normalized'] = testA.box_normalized.apply(lambda x: np.array([(xi[3]-xi[1]) * (xi[2]-xi[0]) for xi in x]))"
      ],
      "execution_count": 0,
      "outputs": []
    },
    {
      "cell_type": "markdown",
      "metadata": {
        "colab_type": "text",
        "id": "jg5QdYu5Q7vj"
      },
      "source": [
        "- ボックスのクラスラベルをテキスト化"
      ]
    },
    {
      "cell_type": "code",
      "metadata": {
        "colab_type": "code",
        "id": "vqV6V3G0Q7vm",
        "colab": {}
      },
      "source": [
        "# class_label_dict = {\n",
        "#     0:'top clothes (coat, jacket, shirt, etc.)',\n",
        "#     1:'skirt & dress',\n",
        "#     2:'bottom clothes (trousers, pants, etc.)',\n",
        "#     3:'luggage, leather goods',\n",
        "#     4:'shoes',\n",
        "#     5:'accessories (jewelry, clothing accessories, belts, hats, scarves, etc.)',\n",
        "#     6:'snacks, nuts, liquor and tea',\n",
        "#     7:'makeup, perfume, beauty tools and essential oils',\n",
        "#     8:'bottle drink',\n",
        "#     9:'furniture',\n",
        "#     10:'stationery',\n",
        "#     11:'household electrical appliances',\n",
        "#     12:'home decoration',\n",
        "#     13:'household fabric',\n",
        "#     14:'kitchenware',\n",
        "#     15:'home / personal cleaning tools',\n",
        "#     16:'storage supplies',\n",
        "#     17:'motorcycle, motorcycle accessories, vehicles, bicycle and riding equipment',\n",
        "#     18:'outdoor product',\n",
        "#     19:'lighting',\n",
        "#     20:'toys',\n",
        "#     21:'underwear',\n",
        "#     22:'digital supplies',\n",
        "#     23:'bed linens',\n",
        "#     24:'baby products',\n",
        "#     25:'personal care',\n",
        "#     26:'sporting goods',\n",
        "#     27:'clothes (accessories, baby clothing, etc.)',\n",
        "#     28:'others',\n",
        "#     29:'human face',\n",
        "#     30:'arm',\n",
        "#     31:'hair',\n",
        "#     32:'hand',\n",
        "# }\n",
        "\n",
        "# train['class_labels_words'] = train.class_labels.swifter.apply(lambda x: (' ').join([class_label_dict[xi] for xi in x]))\n",
        "# valid['class_labels_words'] = valid.class_labels.swifter.apply(lambda x: (' ').join([class_label_dict[xi] for xi in x]))\n",
        "# testA['class_labels_words'] = testA.class_labels.swifter.apply(lambda x: (' ').join([class_label_dict[xi] for xi in x]))\n",
        "\n",
        "# train['class_labels'] = train.class_labels.swifter.apply(lambda x: np.array([class_label_dict[xi] for xi in x]))\n",
        "# valid['class_labels'] = valid.class_labels.swifter.apply(lambda x: np.array([class_label_dict[xi] for xi in x]))\n",
        "# testA['class_labels'] = testA.class_labels.swifter.apply(lambda x: np.array([class_label_dict[xi] for xi in x]))"
      ],
      "execution_count": 0,
      "outputs": []
    },
    {
      "cell_type": "markdown",
      "metadata": {
        "id": "uW7N0pfhNxTw",
        "colab_type": "text"
      },
      "source": [
        "- 今回のテキストデータに対するtokenizer\n",
        "- 学習済みword2vecの重み行列"
      ]
    },
    {
      "cell_type": "code",
      "metadata": {
        "colab_type": "code",
        "id": "UeTqja5iQ7v3",
        "colab": {}
      },
      "source": [
        "# def get_coefs(word, *arr):\n",
        "#     return word, np.asarray(arr, dtype='float32')\n",
        "\n",
        "# def load_embeddings(path):\n",
        "#     with open(path, encoding='utf-8') as f:\n",
        "#         return dict(get_coefs(*line.strip().split(' ')) for line in tqdm(f))\n",
        "\n",
        "# def build_matrix(word_index, path):\n",
        "#     embedding_index = load_embeddings(path)\n",
        "#     embedding_matrix = np.zeros((len(word_index) + 1, 300))\n",
        "#     unknown_words = []\n",
        "    \n",
        "#     for word, i in word_index.items():  # word_indexのwordに対応するembがあれば、embを代入する\n",
        "#         try:\n",
        "#             embedding_matrix[i] = embedding_index[word]\n",
        "#         except KeyError:\n",
        "#             unknown_words.append(word)\n",
        "#     return embedding_matrix, unknown_words\n",
        "\n",
        "\n",
        "# def load_word_embed(word_embed_glove=W2V_DIR+\"glove.840B.300d.txt\", \n",
        "#                     word_embed_crawl=W2V_DIR+\"crawl-300d-2M.vec\",\n",
        "#                     save_filename=W2V_DIR+\"word_embedding_matrix_testA\",\n",
        "#                     word_index=None):\n",
        "    \n",
        "    \n",
        "    \n",
        "#     if os.path.exists(save_filename + \".npy\"):\n",
        "#         embedding_matrix = np.load(save_filename + \".npy\").astype(\"float32\")\n",
        "\n",
        "#         with open(W2V_DIR+'tokenizer_w2v.pkl', 'rb') as f:\n",
        "#             Tokenizer = pickle.load(f)\n",
        "\n",
        "#     else:\n",
        "\n",
        "#         # Tokneizerの学習\n",
        "#         Tokenizer = keras.preprocessing.text.Tokenizer(filters='', lower=False)\n",
        "#         Tokenizer.fit_on_texts(list(train['query'])+list(valid['query'])+list(testA['query'])\n",
        "#                                 +list(train['class_labels_words'])+list(valid['class_labels_words'])+list(testA['class_labels_words']))\n",
        "        \n",
        "#         with open(W2V_DIR+'tokenizer_w2v.pkl', 'wb') as f:\n",
        "#             pickle.dump(Tokenizer, f)\n",
        "        \n",
        "#         if word_index is None:\n",
        "#             word_index = Tokenizer.word_index\n",
        "        \n",
        "#         glove_matrix, unknown_words_glove = build_matrix(word_index, word_embed_glove)\n",
        "#         print('n unknown words (glove): ', len(unknown_words_glove))\n",
        "        \n",
        "#         crawl_matrix, unknown_words_crawl = build_matrix(word_index, word_embed_crawl)\n",
        "#         print('n unknown words (crawl): ', len(unknown_words_crawl))\n",
        "        \n",
        "#         embedding_matrix = crawl_matrix + glove_matrix  \n",
        "#         np.save(save_filename, embedding_matrix)\n",
        "\n",
        "#         del crawl_matrix\n",
        "#         del glove_matrix\n",
        "#         gc.collect()\n",
        "        \n",
        "#     return embedding_matrix, Tokenizer"
      ],
      "execution_count": 0,
      "outputs": []
    },
    {
      "cell_type": "code",
      "metadata": {
        "colab_type": "code",
        "id": "hlQvm9zjQ7wD",
        "colab": {}
      },
      "source": [
        "# # about 5 minites\n",
        "# embedding_matrix, tokenizer_w2v = load_word_embed()"
      ],
      "execution_count": 0,
      "outputs": []
    },
    {
      "cell_type": "markdown",
      "metadata": {
        "id": "sge3ZaE0NxT1",
        "colab_type": "text"
      },
      "source": [
        "## 上記の処理が終わっている前提で"
      ]
    },
    {
      "cell_type": "code",
      "metadata": {
        "id": "EPX4sV3nNxT1",
        "colab_type": "code",
        "colab": {}
      },
      "source": [
        "# 上記の処理済みデータは作成済み\n",
        "# メモリ消費量102GBくらいで、読み込みも速い\n",
        "\n",
        "train = pd.read_pickle(FEATURE_DIR+'train.pkl')\n",
        "valid = pd.read_pickle(FEATURE_DIR+'valid.pkl')\n",
        "testA = pd.read_pickle(FEATURE_DIR+'testA.pkl')\n",
        "\n",
        "embedding_matrix = np.load(W2V_DIR+\"word_embedding_matrix_testA.npy\").astype(\"float32\")\n",
        "\n",
        "with open(W2V_DIR+'tokenizer_w2v.pkl', 'rb') as f:\n",
        "    tokenizer_w2v = pickle.load(f)"
      ],
      "execution_count": 0,
      "outputs": []
    },
    {
      "cell_type": "markdown",
      "metadata": {
        "colab_type": "text",
        "id": "WAMB3K6TQ7xn"
      },
      "source": [
        "## モデル構築"
      ]
    },
    {
      "cell_type": "code",
      "metadata": {
        "colab_type": "code",
        "id": "cuUmn9HBPT7B",
        "colab": {}
      },
      "source": [
        "# ログ作成\n",
        "logger = logging.getLogger('main')\n",
        "logger.setLevel(logging.DEBUG)\n",
        "sc = logging.StreamHandler()\n",
        "logger.addHandler(sc)\n",
        "fh = logging.FileHandler(LOG_DIR+'{DATE}_transformer.log')\n",
        "logger.addHandler(fh)"
      ],
      "execution_count": 0,
      "outputs": []
    },
    {
      "cell_type": "code",
      "metadata": {
        "colab_type": "code",
        "id": "Vx7jmHxZQ7xr",
        "colab": {}
      },
      "source": [
        "# シード値固定\n",
        "def seed_everything(seed: int):\n",
        "    random.seed(seed)\n",
        "    os.environ[\"PYTHONHASHSEED\"] = str(seed)\n",
        "    np.random.seed(seed)\n",
        "    torch.manual_seed(seed)\n",
        "    torch.cuda.manual_seed(seed)\n",
        "    torch.backends.cudnn.deterministic = True\n",
        "\n",
        "seed_everything(1234)"
      ],
      "execution_count": 0,
      "outputs": []
    },
    {
      "cell_type": "code",
      "metadata": {
        "colab_type": "code",
        "id": "O8cHgIhXQ7x0",
        "colab": {
          "base_uri": "https://localhost:8080/",
          "height": 34
        },
        "outputId": "15be5066-8ee9-4986-c9e1-bc969952861f"
      },
      "source": [
        "# GPU使うために\n",
        "device = 'cuda' if torch.cuda.is_available() else 'cpu'\n",
        "#device = 'cpu'\n",
        "print(device)"
      ],
      "execution_count": 21,
      "outputs": [
        {
          "output_type": "stream",
          "text": [
            "cuda\n"
          ],
          "name": "stdout"
        }
      ]
    },
    {
      "cell_type": "markdown",
      "metadata": {
        "colab_type": "text",
        "id": "ubdQYpFeQ7x_"
      },
      "source": [
        "### DatasetとDataLoaderの設定"
      ]
    },
    {
      "cell_type": "code",
      "metadata": {
        "colab_type": "code",
        "id": "FFjriqwvQ7yA",
        "colab": {}
      },
      "source": [
        "MAX_LEN = 14  # クエリの最大単語数\n",
        "MAX_LEN_IMG = 10  # 検出ボックスの最大数\n",
        "MAX_LABEL_IMG = 8  # 検出ボックスのクラスラベルに含まれるwordの最大数\n",
        "\n",
        "class KDDDataset(Dataset):\n",
        "\n",
        "    def __init__(self, df, train_mode=True, transform=None):\n",
        "        self.df = df\n",
        "        self.bert_tokenizer = BertTokenizer.from_pretrained('bert-base-uncased')\n",
        "        self.w2v_tokenizer = tokenizer_w2v\n",
        "        #self.transform = transform\n",
        "        self.train_mode = train_mode\n",
        "        \n",
        "        \n",
        "    def __len__(self):\n",
        "        return len(self.df)\n",
        "\n",
        "    def __getitem__(self, idx):\n",
        "        row = self.df.iloc[idx]\n",
        "        \n",
        "        ################################################################\n",
        "        # query side\n",
        "        ################################################################\n",
        "        query = row['query']\n",
        "        \n",
        "        # BERTの入力作成\n",
        "        inputs_query = self.bert_tokenizer.encode_plus(\n",
        "            query,\n",
        "            add_special_tokens=True,\n",
        "            max_length=MAX_LEN,\n",
        "        )\n",
        "        \n",
        "        ids_query = inputs_query[\"input_ids\"]\n",
        "        token_type_ids_query = inputs_query[\"token_type_ids\"]\n",
        "        mask_query = inputs_query[\"attention_mask\"]\n",
        "        \n",
        "        padding_len = MAX_LEN - len(ids_query)\n",
        "        ids_query =  ([0]*padding_len) + ids_query\n",
        "        token_type_ids_query = ([0]*padding_len) + token_type_ids_query\n",
        "        mask_query = ([0]*padding_len) + mask_query\n",
        "            \n",
        "            \n",
        "        # word2vec入力作成\n",
        "        query = tokenizer_w2v.texts_to_sequences([query])\n",
        "        query = pad_sequences(query, maxlen=MAX_LEN, padding='pre')[0]\n",
        "\n",
        "        \n",
        "        ################################################################\n",
        "        # image side\n",
        "        ################################################################\n",
        "\n",
        "        # box_areaの大きい順にソート\n",
        "        box_area = row['box_area_normalized']\n",
        "        box_area_ordered = list(np.argsort(box_area)[::-1])\n",
        "        \n",
        "        \n",
        "        features_ordered = row.features[box_area_ordered, :][:MAX_LEN_IMG][:,::-1]\n",
        "        box_ordered = row.box_normalized[box_area_ordered, :][:MAX_LEN_IMG][:,::-1]\n",
        "        area_ordered = row.box_area_normalized[box_area_ordered][:MAX_LEN_IMG][::-1]\n",
        "        class_labels_ordered = row.class_labels[box_area_ordered][:MAX_LEN_IMG][::-1]\n",
        "        class_labels = []\n",
        "        for cl in class_labels_ordered:\n",
        "            class_tmp = tokenizer_w2v.texts_to_sequences([cl])[0][:MAX_LABEL_IMG]\n",
        "            class_labels.append([0]*(MAX_LABEL_IMG-len(class_tmp)) + class_tmp)\n",
        "\n",
        "        pad_image_len = MAX_LEN_IMG - features_ordered.shape[0]\n",
        "        img_mask = ([0]*pad_image_len) + [1 for _ in range(features_ordered.shape[0])]\n",
        "\n",
        "\n",
        "        features = pad_sequences([features_ordered.reshape(-1,2048)], maxlen=MAX_LEN_IMG, padding='pre')[0]\n",
        "        box = pad_sequences([box_ordered.reshape(-1,4)], maxlen=MAX_LEN_IMG, padding='pre')[0]\n",
        "        area = pad_sequences([area_ordered.reshape(-1,1)], maxlen=MAX_LEN_IMG, padding='pre')[0]\n",
        "        class_labels = pad_sequences([class_labels], maxlen=MAX_LEN_IMG, padding='pre')[0]\n",
        "\n",
        "        \n",
        "        if self.train_mode:\n",
        "            return {\n",
        "                'query': torch.tensor(query, dtype=torch.long),\n",
        "                'ids_query': torch.tensor(ids_query, dtype=torch.long),\n",
        "                'token_type_ids_query': torch.tensor(token_type_ids_query, dtype=torch.long),\n",
        "                'mask_query': torch.tensor(mask_query, dtype=torch.long),\n",
        "                'features': torch.tensor(features, dtype=torch.float),\n",
        "                'box': torch.tensor(box, dtype=torch.float),\n",
        "                'area': torch.tensor(area, dtype=torch.float),\n",
        "                'class_labels': torch.tensor(class_labels, dtype=torch.long).view(MAX_LEN_IMG, MAX_LABEL_IMG),\n",
        "                'img_mask': torch.tensor(img_mask, dtype=torch.float).view(MAX_LEN_IMG,1),\n",
        "            }\n",
        "        else:\n",
        "            # 今は何も変わっていない\n",
        "            return {\n",
        "                'query': torch.tensor(query, dtype=torch.long),\n",
        "                'ids_query': torch.tensor(ids_query, dtype=torch.long),\n",
        "                'token_type_ids_query': torch.tensor(token_type_ids_query, dtype=torch.long),\n",
        "                'mask_query': torch.tensor(mask_query, dtype=torch.long),\n",
        "                'features': torch.tensor(features, dtype=torch.float),\n",
        "                'box': torch.tensor(box, dtype=torch.float),\n",
        "                'area': torch.tensor(area, dtype=torch.float),\n",
        "                'class_labels': torch.tensor(class_labels, dtype=torch.long).view(MAX_LEN_IMG, MAX_LABEL_IMG),\n",
        "                'img_mask': torch.tensor(img_mask, dtype=torch.float).view(MAX_LEN_IMG,1),\n",
        "            }"
      ],
      "execution_count": 0,
      "outputs": []
    },
    {
      "cell_type": "code",
      "metadata": {
        "colab_type": "code",
        "id": "xvkO9HhiQ7yW",
        "scrolled": true,
        "colab": {}
      },
      "source": [
        "# # dataloaderの挙動確認\n",
        "\n",
        "# dataset_train = KDDDataset(train, train_mode=True)\n",
        "# train_loader = DataLoader(dataset_train, batch_size=128, shuffle=True, num_workers=0, drop_last=True)\n",
        "\n",
        "# for i, batch in enumerate(train_loader):\n",
        "#     if i<1:\n",
        "#         print(batch['query'].shape)\n",
        "#         print(batch['ids_query'].shape)\n",
        "#         print(batch['features'].shape)\n",
        "#         print(batch['box'].shape)\n",
        "#         print(batch['area'].shape)\n",
        "#         print(batch['class_labels'].shape)\n",
        "#         print(batch['img_mask'].shape)\n",
        "\n",
        "#     else:\n",
        "#         break"
      ],
      "execution_count": 0,
      "outputs": []
    },
    {
      "cell_type": "markdown",
      "metadata": {
        "colab_type": "text",
        "id": "87pW9Hat2nBm"
      },
      "source": [
        "## Model"
      ]
    },
    {
      "cell_type": "code",
      "metadata": {
        "id": "C5vf6om7UoTn",
        "colab_type": "code",
        "colab": {}
      },
      "source": [
        "class PositionalEncoding(nn.Module):\n",
        " \n",
        "    def __init__(self, d_model, dropout=0.1, max_len=MAX_LEN_IMG):\n",
        "        super(PositionalEncoding, self).__init__()\n",
        "        self.dropout = nn.Dropout(p=dropout)\n",
        " \n",
        "        pe = torch.zeros(max_len, d_model)\n",
        "        position = torch.arange(0, max_len, dtype=torch.float).unsqueeze(1)\n",
        "        div_term = torch.exp(torch.arange(0, d_model, 2).float() * (-math.log(10000.0) / d_model))\n",
        "        pe[:, 0::2] = torch.sin(position * div_term)\n",
        "        pe[:, 1::2] = torch.cos(position * div_term)\n",
        "        pe = pe.unsqueeze(0).transpose(0, 1)\n",
        "        self.register_buffer('pe', pe)\n",
        " \n",
        "    def forward(self, x):\n",
        "        print(x.shape)\n",
        "        x = x + self.pe[:x.size(0), :]\n",
        "        return self.dropout(x)\n",
        "\n",
        "class TransformerModel(nn.Module):\n",
        " \n",
        "    def __init__(self, ninp, nhead, nhid, nlayers, dropout=0.5):\n",
        "        super(TransformerModel, self).__init__()\n",
        "        from torch.nn import TransformerEncoder, TransformerEncoderLayer\n",
        "        self.model_type = 'Transformer'\n",
        "        self.src_mask = None\n",
        "        # self.pos_encoder = PositionalEncoding(ninp, dropout)\n",
        "        encoder_layers = TransformerEncoderLayer(ninp, nhead, nhid, dropout)\n",
        "        self.transformer_encoder = TransformerEncoder(encoder_layers, nlayers)\n",
        "        self.ninp = ninp\n",
        " \n",
        " \n",
        "    def _generate_square_subsequent_mask(self, sz):\n",
        "        mask = (torch.triu(torch.ones(sz, sz)) == 1).transpose(0, 1)\n",
        "        mask = mask.float().masked_fill(mask == 0, float('-inf')).masked_fill(mask == 1, float(0.0))\n",
        "        return mask\n",
        " \n",
        " \n",
        "    def forward(self, src):\n",
        "        if self.src_mask is None or self.src_mask.size(0) != len(src):\n",
        "            device = src.device\n",
        "            mask = self._generate_square_subsequent_mask(len(src)).to(device)\n",
        "            self.src_mask = mask\n",
        " \n",
        "        src = src * math.sqrt(self.ninp)\n",
        "        # src = self.pos_encoder(src)\n",
        "        output = self.transformer_encoder(src, self.src_mask)\n",
        "        return output"
      ],
      "execution_count": 0,
      "outputs": []
    },
    {
      "cell_type": "code",
      "metadata": {
        "colab_type": "code",
        "id": "3Aw_dQ6JQIS2",
        "colab": {}
      },
      "source": [
        "class KDDModel(nn.Module):\n",
        "    def __init__(self):\n",
        "        super(KDDModel, self).__init__()\n",
        "        self.model_name = 'KDDModel'\n",
        "        \n",
        "        ######################################\n",
        "        # query \n",
        "        ######################################\n",
        "        self.bert_model = BertModel.from_pretrained('bert-base-uncased')\n",
        "\n",
        "        self.max_feature = embedding_matrix.shape[0]\n",
        "        self.embedding_size = embedding_matrix.shape[1]\n",
        "        self.embedding = nn.Embedding(self.max_feature, self.embedding_size)\n",
        "        self.embedding.weight = nn.Parameter(torch.tensor(embedding_matrix, dtype=torch.float32))\n",
        "        self.embedding.weight.required_grad = True  # こっちもtrainableに\n",
        "\n",
        "        self.lstm_q = nn.LSTM(self.embedding_size, hidden_size=128, num_layers=1, bidirectional=True, batch_first=True)\n",
        "\n",
        "        self.fc_q1 = nn.Linear(768+128*2, 1024)\n",
        "        \n",
        "        \n",
        "        ######################################\n",
        "        # image\n",
        "        ######################################\n",
        "        self.conv1d = nn.Conv1d(in_channels=300, out_channels=128, kernel_size=3)\n",
        "\n",
        "        self.fc_i1 = nn.Linear(2048+128, 512)\n",
        "        self.fc_i2 = nn.Linear(5, 512)\n",
        "\n",
        "        # transformer\n",
        "        emsize = 1024 # embedding dimension  # 512じゃないと次元のエラーになってしまう！！！\n",
        "        nhid = 512 # the dimension of the feedforward network model in nn.TransformerEncoder\n",
        "        nlayers = 1 # the number of nn.TransformerEncoderLayer in nn.TransformerEncoder\n",
        "        nhead = 4 # the number of heads in the multiheadattention models\n",
        "        dropout = 0.3 # the dropout value\n",
        "        self.transformer = TransformerModel(emsize, nhead, nhid, nlayers, dropout)\n",
        "\n",
        "        #self.lstm_i = nn.LSTM(512+512, hidden_size=512, num_layers=1, bidirectional=True, batch_first=True)\n",
        "\n",
        "\n",
        "        self.fc1 = nn.Linear(1024+1024, 512)\n",
        "        self.fc2 = nn.Linear(512, 128)\n",
        "        self.fc3 = nn.Linear(128, 1)\n",
        "\n",
        "\n",
        "    def forward(self, query, ids, token_type_ids, mask, features, box, area, class_labels, img_mask):\n",
        "\n",
        "        ######################################\n",
        "        # query \n",
        "        ######################################\n",
        "        layers, pool_out = self.bert_model(input_ids=ids, token_type_ids=token_type_ids, attention_mask=mask)\n",
        "        layers = layers[:,-1,:]\n",
        "       \n",
        "        out_query = self.embedding(query).squeeze()\n",
        "        out_query, _  = self.lstm_q(out_query)\n",
        "        out_query = out_query[:,-1,:]  # bi-directionalなので、hidden_size*2\n",
        "        \n",
        "        out_query = torch.cat([layers, out_query], dim=-1)  # (batch, 768+128*2)\n",
        "\n",
        "        out_query = F.relu(self.fc_q1(out_query))\n",
        "        out_query = F.dropout(out_query, p=0.2, training=self.training)\n",
        "\n",
        "\n",
        "        ######################################\n",
        "        # image\n",
        "        ######################################\n",
        "        class_labels = self.embedding(class_labels)\n",
        "        out_class_labels = torch.zeros((class_labels.shape[0], class_labels.shape[1], 128), requires_grad=True).to(device)\n",
        "        for l in range(class_labels.shape[1]):\n",
        "            out_class_labels[:,l,:] = F.max_pool1d(self.conv1d(class_labels[:,l,:,:].permute(0,2,1)), kernel_size=6).squeeze()\n",
        "        \n",
        "\n",
        "        out_image = torch.cat([out_class_labels, features], dim=-1)\n",
        "        out_image = F.relu(self.fc_i1(out_image))\n",
        "        out_image = out_image * img_mask\n",
        "\n",
        "        out_pos = torch.cat([box, area], dim=-1)\n",
        "        out_pos = out_pos * img_mask\n",
        "        out_pos = F.relu(self.fc_i2(out_pos))\n",
        "        \n",
        "        out_image = torch.cat([out_image, out_pos], dim=-1)\n",
        "        out_image = F.dropout(out_image, p=0.2, training=self.training)\n",
        "        out_image = self.transformer(out_image)\n",
        "        #out_image, _ = self.lstm_i(out_image)  # bi-directionalなので、output_dimは*2\n",
        "        out_image = out_image * img_mask\n",
        "        out_image = out_image[:,-1,:]\n",
        "\n",
        "        \n",
        "        ######################################\n",
        "        # 結合\n",
        "        ######################################\n",
        "        out = torch.cat([out_query, out_image], dim=-1)\n",
        "        out = F.relu(self.fc1(out))\n",
        "        out = F.relu(self.fc2(out))\n",
        "        out = self.fc3(out)\n",
        "        \n",
        "        return out.squeeze()"
      ],
      "execution_count": 0,
      "outputs": []
    },
    {
      "cell_type": "markdown",
      "metadata": {
        "colab_type": "text",
        "id": "SEph059mQ7zQ"
      },
      "source": [
        "### エポックごとバッチごとの学習・評価処理"
      ]
    },
    {
      "cell_type": "code",
      "metadata": {
        "colab_type": "code",
        "id": "0lD5g25aqG6b",
        "colab": {}
      },
      "source": [
        "def train_model(train_loader, model, optimizer, criterion): #, scheduler):\n",
        "    model.train()\n",
        "    avg_loss = 0.\n",
        "    avg_score = 0.\n",
        "    for idx, batch in enumerate(tqdm(train_loader)):\n",
        "        batch_size = batch['query'].shape[0]\n",
        "\n",
        "        query = batch['query'].to(device)\n",
        "        ids_query = batch['ids_query'].to(device)\n",
        "        token_type_ids_query = batch['token_type_ids_query'].to(device)\n",
        "        mask_query = batch['mask_query'].to(device)\n",
        "        features = batch['features'].to(device)\n",
        "        box = batch['box'].to(device)\n",
        "        area = batch['area'].to(device)\n",
        "        class_labels = batch['class_labels'].to(device)\n",
        "        img_mask = batch['img_mask'].to(device)\n",
        "        \n",
        "        \n",
        "        ####################################################################\n",
        "        # Negative sample作成\n",
        "        # ここでは、バッチサイズの正例に、バッチサイズ*5の負例を加えている\n",
        "        ####################################################################\n",
        "        k = 5\n",
        "        for num in range(k):\n",
        "            idx_neg = random.sample(range(batch_size), k=batch_size)\n",
        "            #idx_neg = random.choices(range(batch_size), k=batch_size)\n",
        "            \n",
        "            query = torch.cat([query, batch['query'].to(device)], dim=0)\n",
        "            ids_query = torch.cat([ids_query, batch['ids_query'].to(device)], dim=0)\n",
        "            token_type_ids_query = torch.cat([token_type_ids_query, batch['token_type_ids_query'].to(device)], dim=0)\n",
        "            mask_query = torch.cat([mask_query, batch['mask_query'].to(device)], dim=0)\n",
        "            \n",
        "            features = torch.cat([features, batch['features'][idx_neg, :].to(device)])\n",
        "            box = torch.cat([box, batch['box'][idx_neg, :].to(device)], dim=0)\n",
        "            area = torch.cat([area, batch['area'][idx_neg, :].to(device)], dim=0)\n",
        "            class_labels = torch.cat([class_labels, batch['class_labels'][idx_neg, :].to(device)], dim=0)\n",
        "            img_mask = torch.cat([img_mask, batch['img_mask'][idx_neg, :].to(device)], dim=0)\n",
        "\n",
        "\n",
        "        labels = torch.cat([torch.tensor(np.ones(batch_size), dtype=torch.float), torch.tensor(np.zeros(batch_size*k), dtype=torch.float)], dim=0).to(device)\n",
        "        \n",
        "\n",
        "        out = model(query, ids_query, token_type_ids_query, mask_query, features, box, area, class_labels, img_mask)\n",
        "        loss = criterion(out, labels)\n",
        "\n",
        "        score = roc_auc_score(labels.detach().cpu().numpy(), out.detach().cpu().numpy())\n",
        "        print('roc_auc', score)\n",
        "\n",
        "        optimizer.zero_grad()\n",
        "        loss.backward()\n",
        "        optimizer.step()\n",
        "        \n",
        "        avg_loss += loss.item() / len(train_loader)\n",
        "        avg_score += score / len(train_loader)\n",
        "\n",
        "        del out,loss\n",
        "\n",
        "    torch.cuda.empty_cache()\n",
        "    gc.collect()\n",
        "    return avg_loss, avg_score\n",
        "\n",
        "\n",
        "\n",
        "def test_model(test_loader, model):\n",
        "    model.eval()\n",
        "    \n",
        "    out_list = []   \n",
        "    with torch.no_grad():\n",
        "        for idx, batch in enumerate(tqdm(test_loader)):\n",
        "            query = batch['query'].to(device)\n",
        "            ids_query = batch['ids_query'].to(device)\n",
        "            token_type_ids_query = batch['token_type_ids_query'].to(device)\n",
        "            mask_query = batch['mask_query'].to(device)\n",
        "            features = batch['features'].to(device)\n",
        "            box = batch['box'].to(device)\n",
        "            area = batch['area'].to(device)\n",
        "            class_labels = batch['class_labels'].to(device)\n",
        "            img_mask = batch['img_mask'].to(device)\n",
        "\n",
        "            out = torch.sigmoid(model(query, ids_query, token_type_ids_query, mask_query, features, box, area, class_labels, img_mask))\n",
        "\n",
        "            out_list.append(out)\n",
        "            del out\n",
        "        \n",
        "    torch.cuda.empty_cache()\n",
        "    gc.collect()\n",
        "    return out_list"
      ],
      "execution_count": 0,
      "outputs": []
    },
    {
      "cell_type": "markdown",
      "metadata": {
        "id": "qvwtx_EnNxUF",
        "colab_type": "text"
      },
      "source": [
        "### n-DCG@5の評価コード\n",
        "- Forumの公式のコードを流用"
      ]
    },
    {
      "cell_type": "code",
      "metadata": {
        "colab_type": "code",
        "id": "o8RExWGGOwT5",
        "colab": {}
      },
      "source": [
        "# compute dcg@k for a single sample\n",
        "def dcg_at_k(r, k):\n",
        "    r = np.asfarray(r)[:k]\n",
        "    if r.size:\n",
        "        return r[0] + np.sum(r[1:] / np.log2(np.arange(3, r.size + 2)))\n",
        "    return 0.\n",
        "\n",
        "\n",
        "# compute ndcg@k (dcg@k / idcg@k) for a single sample\n",
        "def get_ndcg(r, ref, k):\n",
        "    dcg_max = dcg_at_k(ref, k)\n",
        "    if not dcg_max:\n",
        "        return 0.\n",
        "    dcg = dcg_at_k(r, k)\n",
        "    return dcg / dcg_max\n",
        "\n",
        "\n",
        "def make_score(df_test, out_list):\n",
        "    for i, out in enumerate(out_list):\n",
        "        if i==0:\n",
        "            out_array = out.squeeze()\n",
        "        else:\n",
        "            out_array = torch.cat([out_array, out.squeeze()], dim=-1)\n",
        "\n",
        "    out_array = out_array.cpu().detach().numpy()\n",
        "    df_test['score'] = out_array\n",
        "    \n",
        "    # sort and group by\n",
        "    df_test = df_test.sort_values(by=\"score\", ascending=False)\n",
        "    grouped = df_test.groupby(\"query_id\").head(5)\n",
        "    \n",
        "    predictions = {}\n",
        "    for i, q_id in enumerate(tqdm(grouped['query_id'].unique())):\n",
        "        predictions[f'{q_id}'] = grouped.loc[(grouped['query_id']==q_id), 'product_id'].values.astype(str)\n",
        "    \n",
        "    \n",
        "    # read ground-truth\n",
        "    reference = json.load(open(VALID_DIR+'valid_answer.json'))\n",
        "\n",
        "    # compute score for each query\n",
        "    k = 5\n",
        "    score_sum = 0.\n",
        "    for qid in reference.keys():\n",
        "        ground_truth_ids = set([str(pid) for pid in reference[qid]])\n",
        "        ref_vec = [1.0] * len(ground_truth_ids)\n",
        "        pred_vec = [1.0 if pid in ground_truth_ids else 0.0 for pid in predictions[qid]]\n",
        "        score_sum += get_ndcg(pred_vec, ref_vec, k)\n",
        "    # the higher score, the better\n",
        "    score = score_sum / len(reference)\n",
        "    \n",
        "    return score"
      ],
      "execution_count": 0,
      "outputs": []
    },
    {
      "cell_type": "markdown",
      "metadata": {
        "id": "tsjKPT_JNxUH",
        "colab_type": "text"
      },
      "source": [
        "### 実際に学習"
      ]
    },
    {
      "cell_type": "code",
      "metadata": {
        "colab_type": "code",
        "id": "rQKLYducDw3E",
        "colab": {
          "base_uri": "https://localhost:8080/",
          "height": 1000
        },
        "outputId": "4f0026a6-6918-44e9-e79e-c6bc01fb6d0a"
      },
      "source": [
        "model = KDDModel().to(device)\n",
        "# model = nn.DataParallel(model) # これでGPU複数並列処理可能\n",
        "\n",
        "\n",
        "optimizer = torch.optim.Adam(model.parameters(), lr=1e-4)\n",
        "# criterion = nn.CrossEntropyLoss()\n",
        "criterion = nn.BCEWithLogitsLoss()\n",
        "\n",
        "\n",
        "loss_list_epoch_train = []\n",
        "score_list_epoch_valid = []\n",
        "score_best = 0\n",
        "patience = 0\n",
        "EPOCHS = 20\n",
        "for epoch in range(EPOCHS):\n",
        "\n",
        "    torch.cuda.empty_cache()\n",
        "    start_time   = time.time()\n",
        "\n",
        "    dataset_train = KDDDataset(train, train_mode=True)\n",
        "    dataset_valid = KDDDataset(valid, train_mode=False)\n",
        "    train_loader = DataLoader(dataset_train, batch_size=128, shuffle=True, num_workers=0, drop_last=True)\n",
        "    valid_loader = DataLoader(dataset_valid, batch_size=128, shuffle=False, num_workers=0, drop_last=False)\n",
        "    #scheduler = torch.optim.lr_scheduler.LambdaLR(optimizer, lr_lambda = lambda epoch: 0.95 ** epoch)\n",
        "    #scheduler = torch.optim.lr_scheduler.OneCycleLR(optimizer, max_lr=0.01, steps_per_epoch=len(train_loader), epochs=EPOCHS)\n",
        "\n",
        "    loss_train, score_train = train_model(train_loader, model, optimizer, criterion) #, scheduler)\n",
        "    #scheduler.step()\n",
        "    out_valid = test_model(valid_loader, model)\n",
        "    score_valid = make_score(valid, out_valid)\n",
        "\n",
        "    loss_list_epoch_train.append(loss_train)\n",
        "    score_list_epoch_valid.append(score_valid)\n",
        "\n",
        "    logger.info(f'Epoch {(epoch+1)}, train_loss: {loss_train}, train_score: {score_train}, valid_score: {score_valid}, time: {(time.time()-start_time)}')\n",
        "\n",
        "    \n",
        "    # Eearly Stopping\n",
        "    if score_valid > score_best:\n",
        "        score_best = score_valid\n",
        "        best_param = model.state_dict()\n",
        "        torch.save(best_param, MODEL_DIR+f'best_param.pt')\n",
        "        patience = 0\n",
        "    else:\n",
        "        patience += 1\n",
        "        if patience >= 3:\n",
        "            del train_loader, valid_loader, loss_train, out_valid\n",
        "            torch.cuda.empty_cache()\n",
        "            gc.collect()\n",
        "            break\n",
        "\n",
        "    del train_loader, valid_loader, loss_train, out_valid\n",
        "    torch.cuda.empty_cache()\n",
        "    gc.collect()"
      ],
      "execution_count": 0,
      "outputs": [
        {
          "output_type": "stream",
          "text": [
            "\r  0%|          | 0/78 [00:00<?, ?it/s]"
          ],
          "name": "stderr"
        },
        {
          "output_type": "stream",
          "text": [
            "roc_auc 0.47763671875\n"
          ],
          "name": "stdout"
        },
        {
          "output_type": "stream",
          "text": [
            "\r  1%|▏         | 1/78 [00:01<01:35,  1.24s/it]"
          ],
          "name": "stderr"
        },
        {
          "output_type": "stream",
          "text": [
            "roc_auc 0.5025146484375\n"
          ],
          "name": "stdout"
        },
        {
          "output_type": "stream",
          "text": [
            "\r  3%|▎         | 2/78 [00:02<01:33,  1.23s/it]"
          ],
          "name": "stderr"
        },
        {
          "output_type": "stream",
          "text": [
            "roc_auc 0.48609619140625004\n"
          ],
          "name": "stdout"
        },
        {
          "output_type": "stream",
          "text": [
            "\r  4%|▍         | 3/78 [00:03<01:31,  1.22s/it]"
          ],
          "name": "stderr"
        },
        {
          "output_type": "stream",
          "text": [
            "roc_auc 0.57122802734375\n"
          ],
          "name": "stdout"
        },
        {
          "output_type": "stream",
          "text": [
            "\r  5%|▌         | 4/78 [00:04<01:29,  1.22s/it]"
          ],
          "name": "stderr"
        },
        {
          "output_type": "stream",
          "text": [
            "roc_auc 0.5454345703125\n"
          ],
          "name": "stdout"
        },
        {
          "output_type": "stream",
          "text": [
            "\r  6%|▋         | 5/78 [00:06<01:28,  1.22s/it]"
          ],
          "name": "stderr"
        },
        {
          "output_type": "stream",
          "text": [
            "roc_auc 0.58885498046875\n"
          ],
          "name": "stdout"
        },
        {
          "output_type": "stream",
          "text": [
            "\r  8%|▊         | 6/78 [00:07<01:27,  1.22s/it]"
          ],
          "name": "stderr"
        },
        {
          "output_type": "stream",
          "text": [
            "roc_auc 0.5481201171875\n"
          ],
          "name": "stdout"
        },
        {
          "output_type": "stream",
          "text": [
            "\r  9%|▉         | 7/78 [00:08<01:26,  1.21s/it]"
          ],
          "name": "stderr"
        },
        {
          "output_type": "stream",
          "text": [
            "roc_auc 0.607568359375\n"
          ],
          "name": "stdout"
        },
        {
          "output_type": "stream",
          "text": [
            "\r 10%|█         | 8/78 [00:09<01:24,  1.21s/it]"
          ],
          "name": "stderr"
        },
        {
          "output_type": "stream",
          "text": [
            "roc_auc 0.540673828125\n"
          ],
          "name": "stdout"
        },
        {
          "output_type": "stream",
          "text": [
            "\r 12%|█▏        | 9/78 [00:10<01:23,  1.21s/it]"
          ],
          "name": "stderr"
        },
        {
          "output_type": "stream",
          "text": [
            "roc_auc 0.49959716796875\n"
          ],
          "name": "stdout"
        },
        {
          "output_type": "stream",
          "text": [
            "\r 13%|█▎        | 10/78 [00:12<01:22,  1.21s/it]"
          ],
          "name": "stderr"
        },
        {
          "output_type": "stream",
          "text": [
            "roc_auc 0.523779296875\n"
          ],
          "name": "stdout"
        },
        {
          "output_type": "stream",
          "text": [
            "\r 14%|█▍        | 11/78 [00:13<01:20,  1.21s/it]"
          ],
          "name": "stderr"
        },
        {
          "output_type": "stream",
          "text": [
            "roc_auc 0.45570068359375004\n"
          ],
          "name": "stdout"
        },
        {
          "output_type": "stream",
          "text": [
            "\r 15%|█▌        | 12/78 [00:14<01:19,  1.21s/it]"
          ],
          "name": "stderr"
        },
        {
          "output_type": "stream",
          "text": [
            "roc_auc 0.55704345703125\n"
          ],
          "name": "stdout"
        },
        {
          "output_type": "stream",
          "text": [
            "\r 17%|█▋        | 13/78 [00:15<01:18,  1.22s/it]"
          ],
          "name": "stderr"
        },
        {
          "output_type": "stream",
          "text": [
            "roc_auc 0.5716796875\n"
          ],
          "name": "stdout"
        },
        {
          "output_type": "stream",
          "text": [
            "\r 18%|█▊        | 14/78 [00:16<01:17,  1.21s/it]"
          ],
          "name": "stderr"
        },
        {
          "output_type": "stream",
          "text": [
            "roc_auc 0.6762329101562499\n"
          ],
          "name": "stdout"
        },
        {
          "output_type": "stream",
          "text": [
            "\r 19%|█▉        | 15/78 [00:18<01:16,  1.21s/it]"
          ],
          "name": "stderr"
        },
        {
          "output_type": "stream",
          "text": [
            "roc_auc 0.56845703125\n"
          ],
          "name": "stdout"
        },
        {
          "output_type": "stream",
          "text": [
            "\r 21%|██        | 16/78 [00:19<01:14,  1.21s/it]"
          ],
          "name": "stderr"
        },
        {
          "output_type": "stream",
          "text": [
            "roc_auc 0.5755249023437501\n"
          ],
          "name": "stdout"
        },
        {
          "output_type": "stream",
          "text": [
            "\r 22%|██▏       | 17/78 [00:20<01:13,  1.21s/it]"
          ],
          "name": "stderr"
        },
        {
          "output_type": "stream",
          "text": [
            "roc_auc 0.6359130859375\n"
          ],
          "name": "stdout"
        },
        {
          "output_type": "stream",
          "text": [
            "\r 23%|██▎       | 18/78 [00:21<01:12,  1.21s/it]"
          ],
          "name": "stderr"
        },
        {
          "output_type": "stream",
          "text": [
            "roc_auc 0.6129150390625\n"
          ],
          "name": "stdout"
        },
        {
          "output_type": "stream",
          "text": [
            "\r 24%|██▍       | 19/78 [00:23<01:11,  1.21s/it]"
          ],
          "name": "stderr"
        },
        {
          "output_type": "stream",
          "text": [
            "roc_auc 0.60189208984375\n"
          ],
          "name": "stdout"
        },
        {
          "output_type": "stream",
          "text": [
            "\r 26%|██▌       | 20/78 [00:24<01:10,  1.21s/it]"
          ],
          "name": "stderr"
        },
        {
          "output_type": "stream",
          "text": [
            "roc_auc 0.68028564453125\n"
          ],
          "name": "stdout"
        },
        {
          "output_type": "stream",
          "text": [
            "\r 27%|██▋       | 21/78 [00:25<01:09,  1.22s/it]"
          ],
          "name": "stderr"
        },
        {
          "output_type": "stream",
          "text": [
            "roc_auc 0.6868164062499998\n"
          ],
          "name": "stdout"
        },
        {
          "output_type": "stream",
          "text": [
            "\r 28%|██▊       | 22/78 [00:26<01:08,  1.22s/it]"
          ],
          "name": "stderr"
        },
        {
          "output_type": "stream",
          "text": [
            "roc_auc 0.6598876953125\n"
          ],
          "name": "stdout"
        },
        {
          "output_type": "stream",
          "text": [
            "\r 29%|██▉       | 23/78 [00:27<01:07,  1.22s/it]"
          ],
          "name": "stderr"
        },
        {
          "output_type": "stream",
          "text": [
            "roc_auc 0.55489501953125\n"
          ],
          "name": "stdout"
        },
        {
          "output_type": "stream",
          "text": [
            "\r 31%|███       | 24/78 [00:29<01:06,  1.22s/it]"
          ],
          "name": "stderr"
        },
        {
          "output_type": "stream",
          "text": [
            "roc_auc 0.714990234375\n"
          ],
          "name": "stdout"
        },
        {
          "output_type": "stream",
          "text": [
            "\r 32%|███▏      | 25/78 [00:30<01:04,  1.22s/it]"
          ],
          "name": "stderr"
        },
        {
          "output_type": "stream",
          "text": [
            "roc_auc 0.5594848632812499\n"
          ],
          "name": "stdout"
        },
        {
          "output_type": "stream",
          "text": [
            "\r 33%|███▎      | 26/78 [00:31<01:03,  1.22s/it]"
          ],
          "name": "stderr"
        },
        {
          "output_type": "stream",
          "text": [
            "roc_auc 0.7293579101562498\n"
          ],
          "name": "stdout"
        },
        {
          "output_type": "stream",
          "text": [
            "\r 35%|███▍      | 27/78 [00:32<01:02,  1.22s/it]"
          ],
          "name": "stderr"
        },
        {
          "output_type": "stream",
          "text": [
            "roc_auc 0.70450439453125\n"
          ],
          "name": "stdout"
        },
        {
          "output_type": "stream",
          "text": [
            "\r 36%|███▌      | 28/78 [00:33<01:00,  1.21s/it]"
          ],
          "name": "stderr"
        },
        {
          "output_type": "stream",
          "text": [
            "roc_auc 0.65126953125\n"
          ],
          "name": "stdout"
        },
        {
          "output_type": "stream",
          "text": [
            "\r 37%|███▋      | 29/78 [00:35<00:59,  1.21s/it]"
          ],
          "name": "stderr"
        },
        {
          "output_type": "stream",
          "text": [
            "roc_auc 0.7482666015624999\n"
          ],
          "name": "stdout"
        },
        {
          "output_type": "stream",
          "text": [
            "\r 38%|███▊      | 30/78 [00:36<00:58,  1.21s/it]"
          ],
          "name": "stderr"
        },
        {
          "output_type": "stream",
          "text": [
            "roc_auc 0.68511962890625\n"
          ],
          "name": "stdout"
        },
        {
          "output_type": "stream",
          "text": [
            "\r 40%|███▉      | 31/78 [00:37<00:56,  1.21s/it]"
          ],
          "name": "stderr"
        },
        {
          "output_type": "stream",
          "text": [
            "roc_auc 0.5380859375\n"
          ],
          "name": "stdout"
        },
        {
          "output_type": "stream",
          "text": [
            "\r 41%|████      | 32/78 [00:38<00:55,  1.21s/it]"
          ],
          "name": "stderr"
        },
        {
          "output_type": "stream",
          "text": [
            "roc_auc 0.6956909179687499\n"
          ],
          "name": "stdout"
        },
        {
          "output_type": "stream",
          "text": [
            "\r 42%|████▏     | 33/78 [00:40<00:54,  1.21s/it]"
          ],
          "name": "stderr"
        },
        {
          "output_type": "stream",
          "text": [
            "roc_auc 0.6816162109374999\n"
          ],
          "name": "stdout"
        },
        {
          "output_type": "stream",
          "text": [
            "\r 44%|████▎     | 34/78 [00:41<00:53,  1.21s/it]"
          ],
          "name": "stderr"
        },
        {
          "output_type": "stream",
          "text": [
            "roc_auc 0.702734375\n"
          ],
          "name": "stdout"
        },
        {
          "output_type": "stream",
          "text": [
            "\r 45%|████▍     | 35/78 [00:42<00:52,  1.22s/it]"
          ],
          "name": "stderr"
        },
        {
          "output_type": "stream",
          "text": [
            "roc_auc 0.7470458984375001\n"
          ],
          "name": "stdout"
        },
        {
          "output_type": "stream",
          "text": [
            "\r 46%|████▌     | 36/78 [00:43<00:51,  1.22s/it]"
          ],
          "name": "stderr"
        },
        {
          "output_type": "stream",
          "text": [
            "roc_auc 0.8153564453125\n"
          ],
          "name": "stdout"
        },
        {
          "output_type": "stream",
          "text": [
            "\r 47%|████▋     | 37/78 [00:44<00:50,  1.22s/it]"
          ],
          "name": "stderr"
        },
        {
          "output_type": "stream",
          "text": [
            "roc_auc 0.8132446289062499\n"
          ],
          "name": "stdout"
        },
        {
          "output_type": "stream",
          "text": [
            "\r 49%|████▊     | 38/78 [00:46<00:48,  1.22s/it]"
          ],
          "name": "stderr"
        },
        {
          "output_type": "stream",
          "text": [
            "roc_auc 0.772705078125\n"
          ],
          "name": "stdout"
        },
        {
          "output_type": "stream",
          "text": [
            "\r 50%|█████     | 39/78 [00:47<00:47,  1.22s/it]"
          ],
          "name": "stderr"
        },
        {
          "output_type": "stream",
          "text": [
            "roc_auc 0.5868286132812499\n"
          ],
          "name": "stdout"
        },
        {
          "output_type": "stream",
          "text": [
            "\r 51%|█████▏    | 40/78 [00:48<00:46,  1.23s/it]"
          ],
          "name": "stderr"
        },
        {
          "output_type": "stream",
          "text": [
            "roc_auc 0.453497314453125\n"
          ],
          "name": "stdout"
        },
        {
          "output_type": "stream",
          "text": [
            "\r 53%|█████▎    | 41/78 [00:49<00:45,  1.22s/it]"
          ],
          "name": "stderr"
        },
        {
          "output_type": "stream",
          "text": [
            "roc_auc 0.6816162109375001\n"
          ],
          "name": "stdout"
        },
        {
          "output_type": "stream",
          "text": [
            "\r 54%|█████▍    | 42/78 [00:51<00:43,  1.22s/it]"
          ],
          "name": "stderr"
        },
        {
          "output_type": "stream",
          "text": [
            "roc_auc 0.78736572265625\n"
          ],
          "name": "stdout"
        },
        {
          "output_type": "stream",
          "text": [
            "\r 55%|█████▌    | 43/78 [00:52<00:42,  1.21s/it]"
          ],
          "name": "stderr"
        },
        {
          "output_type": "stream",
          "text": [
            "roc_auc 0.711181640625\n"
          ],
          "name": "stdout"
        },
        {
          "output_type": "stream",
          "text": [
            "\r 56%|█████▋    | 44/78 [00:53<00:41,  1.21s/it]"
          ],
          "name": "stderr"
        },
        {
          "output_type": "stream",
          "text": [
            "roc_auc 0.69798583984375\n"
          ],
          "name": "stdout"
        },
        {
          "output_type": "stream",
          "text": [
            "\r 58%|█████▊    | 45/78 [00:54<00:40,  1.21s/it]"
          ],
          "name": "stderr"
        },
        {
          "output_type": "stream",
          "text": [
            "roc_auc 0.4470947265625\n"
          ],
          "name": "stdout"
        },
        {
          "output_type": "stream",
          "text": [
            "\r 59%|█████▉    | 46/78 [00:55<00:38,  1.21s/it]"
          ],
          "name": "stderr"
        },
        {
          "output_type": "stream",
          "text": [
            "roc_auc 0.7058471679687499\n"
          ],
          "name": "stdout"
        },
        {
          "output_type": "stream",
          "text": [
            "\r 60%|██████    | 47/78 [00:57<00:37,  1.22s/it]"
          ],
          "name": "stderr"
        },
        {
          "output_type": "stream",
          "text": [
            "roc_auc 0.5391235351562501\n"
          ],
          "name": "stdout"
        },
        {
          "output_type": "stream",
          "text": [
            "\r 62%|██████▏   | 48/78 [00:58<00:36,  1.21s/it]"
          ],
          "name": "stderr"
        },
        {
          "output_type": "stream",
          "text": [
            "roc_auc 0.7515502929687501\n"
          ],
          "name": "stdout"
        },
        {
          "output_type": "stream",
          "text": [
            "\r 63%|██████▎   | 49/78 [00:59<00:35,  1.21s/it]"
          ],
          "name": "stderr"
        },
        {
          "output_type": "stream",
          "text": [
            "roc_auc 0.8091796874999999\n"
          ],
          "name": "stdout"
        },
        {
          "output_type": "stream",
          "text": [
            "\r 64%|██████▍   | 50/78 [01:00<00:33,  1.21s/it]"
          ],
          "name": "stderr"
        },
        {
          "output_type": "stream",
          "text": [
            "roc_auc 0.61673583984375\n"
          ],
          "name": "stdout"
        },
        {
          "output_type": "stream",
          "text": [
            "\r 65%|██████▌   | 51/78 [01:01<00:32,  1.21s/it]"
          ],
          "name": "stderr"
        },
        {
          "output_type": "stream",
          "text": [
            "roc_auc 0.79447021484375\n"
          ],
          "name": "stdout"
        },
        {
          "output_type": "stream",
          "text": [
            "\r 67%|██████▋   | 52/78 [01:03<00:31,  1.21s/it]"
          ],
          "name": "stderr"
        },
        {
          "output_type": "stream",
          "text": [
            "roc_auc 0.87080078125\n"
          ],
          "name": "stdout"
        },
        {
          "output_type": "stream",
          "text": [
            "\r 68%|██████▊   | 53/78 [01:04<00:30,  1.22s/it]"
          ],
          "name": "stderr"
        },
        {
          "output_type": "stream",
          "text": [
            "roc_auc 0.6940063476562499\n"
          ],
          "name": "stdout"
        },
        {
          "output_type": "stream",
          "text": [
            "\r 69%|██████▉   | 54/78 [01:05<00:29,  1.21s/it]"
          ],
          "name": "stderr"
        },
        {
          "output_type": "stream",
          "text": [
            "roc_auc 0.9198242187500001\n"
          ],
          "name": "stdout"
        },
        {
          "output_type": "stream",
          "text": [
            "\r 71%|███████   | 55/78 [01:06<00:27,  1.21s/it]"
          ],
          "name": "stderr"
        },
        {
          "output_type": "stream",
          "text": [
            "roc_auc 0.7252685546875001\n"
          ],
          "name": "stdout"
        },
        {
          "output_type": "stream",
          "text": [
            "\r 72%|███████▏  | 56/78 [01:07<00:26,  1.21s/it]"
          ],
          "name": "stderr"
        },
        {
          "output_type": "stream",
          "text": [
            "roc_auc 0.6637451171875\n"
          ],
          "name": "stdout"
        },
        {
          "output_type": "stream",
          "text": [
            "\r 73%|███████▎  | 57/78 [01:09<00:25,  1.21s/it]"
          ],
          "name": "stderr"
        },
        {
          "output_type": "stream",
          "text": [
            "roc_auc 0.8469482421875001\n"
          ],
          "name": "stdout"
        },
        {
          "output_type": "stream",
          "text": [
            "\r 74%|███████▍  | 58/78 [01:10<00:24,  1.21s/it]"
          ],
          "name": "stderr"
        },
        {
          "output_type": "stream",
          "text": [
            "roc_auc 0.7515502929687501\n"
          ],
          "name": "stdout"
        },
        {
          "output_type": "stream",
          "text": [
            "\r 76%|███████▌  | 59/78 [01:11<00:23,  1.21s/it]"
          ],
          "name": "stderr"
        },
        {
          "output_type": "stream",
          "text": [
            "roc_auc 0.77613525390625\n"
          ],
          "name": "stdout"
        },
        {
          "output_type": "stream",
          "text": [
            "\r 77%|███████▋  | 60/78 [01:12<00:21,  1.21s/it]"
          ],
          "name": "stderr"
        },
        {
          "output_type": "stream",
          "text": [
            "roc_auc 0.7957763671874999\n"
          ],
          "name": "stdout"
        },
        {
          "output_type": "stream",
          "text": [
            "\r 78%|███████▊  | 61/78 [01:14<00:20,  1.21s/it]"
          ],
          "name": "stderr"
        },
        {
          "output_type": "stream",
          "text": [
            "roc_auc 0.821630859375\n"
          ],
          "name": "stdout"
        },
        {
          "output_type": "stream",
          "text": [
            "\r 79%|███████▉  | 62/78 [01:15<00:19,  1.21s/it]"
          ],
          "name": "stderr"
        },
        {
          "output_type": "stream",
          "text": [
            "roc_auc 0.316259765625\n"
          ],
          "name": "stdout"
        },
        {
          "output_type": "stream",
          "text": [
            "\r 81%|████████  | 63/78 [01:16<00:18,  1.21s/it]"
          ],
          "name": "stderr"
        },
        {
          "output_type": "stream",
          "text": [
            "roc_auc 0.84173583984375\n"
          ],
          "name": "stdout"
        },
        {
          "output_type": "stream",
          "text": [
            "\r 82%|████████▏ | 64/78 [01:17<00:16,  1.21s/it]"
          ],
          "name": "stderr"
        },
        {
          "output_type": "stream",
          "text": [
            "roc_auc 0.87984619140625\n"
          ],
          "name": "stdout"
        },
        {
          "output_type": "stream",
          "text": [
            "\r 83%|████████▎ | 65/78 [01:18<00:15,  1.21s/it]"
          ],
          "name": "stderr"
        },
        {
          "output_type": "stream",
          "text": [
            "roc_auc 0.75828857421875\n"
          ],
          "name": "stdout"
        },
        {
          "output_type": "stream",
          "text": [
            "\r 85%|████████▍ | 66/78 [01:20<00:14,  1.22s/it]"
          ],
          "name": "stderr"
        },
        {
          "output_type": "stream",
          "text": [
            "roc_auc 0.82413330078125\n"
          ],
          "name": "stdout"
        },
        {
          "output_type": "stream",
          "text": [
            "\r 86%|████████▌ | 67/78 [01:21<00:13,  1.21s/it]"
          ],
          "name": "stderr"
        },
        {
          "output_type": "stream",
          "text": [
            "roc_auc 0.69947509765625\n"
          ],
          "name": "stdout"
        },
        {
          "output_type": "stream",
          "text": [
            "\r 87%|████████▋ | 68/78 [01:22<00:12,  1.21s/it]"
          ],
          "name": "stderr"
        },
        {
          "output_type": "stream",
          "text": [
            "roc_auc 0.6616699218750002\n"
          ],
          "name": "stdout"
        },
        {
          "output_type": "stream",
          "text": [
            "\r 88%|████████▊ | 69/78 [01:23<00:10,  1.21s/it]"
          ],
          "name": "stderr"
        },
        {
          "output_type": "stream",
          "text": [
            "roc_auc 0.6054931640625001\n"
          ],
          "name": "stdout"
        },
        {
          "output_type": "stream",
          "text": [
            "\r 90%|████████▉ | 70/78 [01:24<00:09,  1.22s/it]"
          ],
          "name": "stderr"
        },
        {
          "output_type": "stream",
          "text": [
            "roc_auc 0.613037109375\n"
          ],
          "name": "stdout"
        },
        {
          "output_type": "stream",
          "text": [
            "\r 91%|█████████ | 71/78 [01:26<00:08,  1.21s/it]"
          ],
          "name": "stderr"
        },
        {
          "output_type": "stream",
          "text": [
            "roc_auc 0.6667480468750001\n"
          ],
          "name": "stdout"
        },
        {
          "output_type": "stream",
          "text": [
            "\r 92%|█████████▏| 72/78 [01:27<00:07,  1.22s/it]"
          ],
          "name": "stderr"
        },
        {
          "output_type": "stream",
          "text": [
            "roc_auc 0.8607421875000001\n"
          ],
          "name": "stdout"
        },
        {
          "output_type": "stream",
          "text": [
            "\r 94%|█████████▎| 73/78 [01:28<00:06,  1.21s/it]"
          ],
          "name": "stderr"
        },
        {
          "output_type": "stream",
          "text": [
            "roc_auc 0.86656494140625\n"
          ],
          "name": "stdout"
        },
        {
          "output_type": "stream",
          "text": [
            "\r 95%|█████████▍| 74/78 [01:29<00:04,  1.21s/it]"
          ],
          "name": "stderr"
        },
        {
          "output_type": "stream",
          "text": [
            "roc_auc 0.6539794921875001\n"
          ],
          "name": "stdout"
        },
        {
          "output_type": "stream",
          "text": [
            "\r 96%|█████████▌| 75/78 [01:31<00:03,  1.21s/it]"
          ],
          "name": "stderr"
        },
        {
          "output_type": "stream",
          "text": [
            "roc_auc 0.8968994140625001\n"
          ],
          "name": "stdout"
        },
        {
          "output_type": "stream",
          "text": [
            "\r 97%|█████████▋| 76/78 [01:32<00:02,  1.21s/it]"
          ],
          "name": "stderr"
        },
        {
          "output_type": "stream",
          "text": [
            "roc_auc 0.8164306640625\n"
          ],
          "name": "stdout"
        },
        {
          "output_type": "stream",
          "text": [
            "\r 99%|█████████▊| 77/78 [01:33<00:01,  1.21s/it]"
          ],
          "name": "stderr"
        },
        {
          "output_type": "stream",
          "text": [
            "roc_auc 0.80755615234375\n"
          ],
          "name": "stdout"
        },
        {
          "output_type": "stream",
          "text": [
            "100%|██████████| 78/78 [01:34<00:00,  1.21s/it]\n",
            "100%|██████████| 115/115 [00:25<00:00,  4.45it/s]\n",
            "100%|██████████| 496/496 [00:00<00:00, 1639.95it/s]\n",
            "Epoch 1, train_loss: 0.4378072886894909, train_score: 0.6731441399989981, valid_score: 0.20075913667360165, time: 121.69766092300415\n",
            "  0%|          | 0/78 [00:00<?, ?it/s]"
          ],
          "name": "stderr"
        },
        {
          "output_type": "stream",
          "text": [
            "roc_auc 0.8780761718750001\n"
          ],
          "name": "stdout"
        },
        {
          "output_type": "stream",
          "text": [
            "\r  1%|▏         | 1/78 [00:01<01:36,  1.26s/it]"
          ],
          "name": "stderr"
        },
        {
          "output_type": "stream",
          "text": [
            "roc_auc 0.9208129882812501\n"
          ],
          "name": "stdout"
        },
        {
          "output_type": "stream",
          "text": [
            "\r  3%|▎         | 2/78 [00:02<01:34,  1.25s/it]"
          ],
          "name": "stderr"
        },
        {
          "output_type": "stream",
          "text": [
            "roc_auc 0.548974609375\n"
          ],
          "name": "stdout"
        },
        {
          "output_type": "stream",
          "text": [
            "\r  4%|▍         | 3/78 [00:03<01:33,  1.24s/it]"
          ],
          "name": "stderr"
        },
        {
          "output_type": "stream",
          "text": [
            "roc_auc 0.9467895507812499\n"
          ],
          "name": "stdout"
        },
        {
          "output_type": "stream",
          "text": [
            "\r  5%|▌         | 4/78 [00:04<01:31,  1.23s/it]"
          ],
          "name": "stderr"
        },
        {
          "output_type": "stream",
          "text": [
            "roc_auc 0.6223388671874999\n"
          ],
          "name": "stdout"
        },
        {
          "output_type": "stream",
          "text": [
            "\r  6%|▋         | 5/78 [00:06<01:29,  1.23s/it]"
          ],
          "name": "stderr"
        },
        {
          "output_type": "stream",
          "text": [
            "roc_auc 0.75333251953125\n"
          ],
          "name": "stdout"
        },
        {
          "output_type": "stream",
          "text": [
            "\r  8%|▊         | 6/78 [00:07<01:28,  1.22s/it]"
          ],
          "name": "stderr"
        },
        {
          "output_type": "stream",
          "text": [
            "roc_auc 0.84149169921875\n"
          ],
          "name": "stdout"
        },
        {
          "output_type": "stream",
          "text": [
            "\r  9%|▉         | 7/78 [00:08<01:27,  1.23s/it]"
          ],
          "name": "stderr"
        },
        {
          "output_type": "stream",
          "text": [
            "roc_auc 0.9274658203125\n"
          ],
          "name": "stdout"
        },
        {
          "output_type": "stream",
          "text": [
            "\r 10%|█         | 8/78 [00:09<01:27,  1.25s/it]"
          ],
          "name": "stderr"
        },
        {
          "output_type": "stream",
          "text": [
            "roc_auc 0.8031738281249999\n"
          ],
          "name": "stdout"
        },
        {
          "output_type": "stream",
          "text": [
            "\r 12%|█▏        | 9/78 [00:11<01:26,  1.26s/it]"
          ],
          "name": "stderr"
        },
        {
          "output_type": "stream",
          "text": [
            "roc_auc 0.7841552734375\n"
          ],
          "name": "stdout"
        },
        {
          "output_type": "stream",
          "text": [
            "\r 13%|█▎        | 10/78 [00:12<01:26,  1.27s/it]"
          ],
          "name": "stderr"
        },
        {
          "output_type": "stream",
          "text": [
            "roc_auc 0.7488525390625\n"
          ],
          "name": "stdout"
        },
        {
          "output_type": "stream",
          "text": [
            "\r 14%|█▍        | 11/78 [00:13<01:25,  1.27s/it]"
          ],
          "name": "stderr"
        },
        {
          "output_type": "stream",
          "text": [
            "roc_auc 0.6989501953125\n"
          ],
          "name": "stdout"
        },
        {
          "output_type": "stream",
          "text": [
            "\r 15%|█▌        | 12/78 [00:14<01:23,  1.26s/it]"
          ],
          "name": "stderr"
        },
        {
          "output_type": "stream",
          "text": [
            "roc_auc 0.792236328125\n"
          ],
          "name": "stdout"
        },
        {
          "output_type": "stream",
          "text": [
            "\r 17%|█▋        | 13/78 [00:16<01:21,  1.25s/it]"
          ],
          "name": "stderr"
        },
        {
          "output_type": "stream",
          "text": [
            "roc_auc 0.80548095703125\n"
          ],
          "name": "stdout"
        },
        {
          "output_type": "stream",
          "text": [
            "\r 18%|█▊        | 14/78 [00:17<01:19,  1.24s/it]"
          ],
          "name": "stderr"
        },
        {
          "output_type": "stream",
          "text": [
            "roc_auc 0.9117431640625\n"
          ],
          "name": "stdout"
        },
        {
          "output_type": "stream",
          "text": [
            "\r 19%|█▉        | 15/78 [00:18<01:17,  1.24s/it]"
          ],
          "name": "stderr"
        },
        {
          "output_type": "stream",
          "text": [
            "roc_auc 0.6651733398437499\n"
          ],
          "name": "stdout"
        },
        {
          "output_type": "stream",
          "text": [
            "\r 21%|██        | 16/78 [00:19<01:16,  1.23s/it]"
          ],
          "name": "stderr"
        },
        {
          "output_type": "stream",
          "text": [
            "roc_auc 0.79522705078125\n"
          ],
          "name": "stdout"
        },
        {
          "output_type": "stream",
          "text": [
            "\r 22%|██▏       | 17/78 [00:21<01:15,  1.23s/it]"
          ],
          "name": "stderr"
        },
        {
          "output_type": "stream",
          "text": [
            "roc_auc 0.8157104492187499\n"
          ],
          "name": "stdout"
        },
        {
          "output_type": "stream",
          "text": [
            "\r 23%|██▎       | 18/78 [00:22<01:13,  1.23s/it]"
          ],
          "name": "stderr"
        },
        {
          "output_type": "stream",
          "text": [
            "roc_auc 0.9367919921875\n"
          ],
          "name": "stdout"
        },
        {
          "output_type": "stream",
          "text": [
            "\r 24%|██▍       | 19/78 [00:23<01:12,  1.23s/it]"
          ],
          "name": "stderr"
        },
        {
          "output_type": "stream",
          "text": [
            "roc_auc 0.77022705078125\n"
          ],
          "name": "stdout"
        },
        {
          "output_type": "stream",
          "text": [
            "\r 26%|██▌       | 20/78 [00:24<01:11,  1.23s/it]"
          ],
          "name": "stderr"
        },
        {
          "output_type": "stream",
          "text": [
            "roc_auc 0.61041259765625\n"
          ],
          "name": "stdout"
        },
        {
          "output_type": "stream",
          "text": [
            "\r 27%|██▋       | 21/78 [00:26<01:10,  1.23s/it]"
          ],
          "name": "stderr"
        },
        {
          "output_type": "stream",
          "text": [
            "roc_auc 0.683642578125\n"
          ],
          "name": "stdout"
        },
        {
          "output_type": "stream",
          "text": [
            "\r 28%|██▊       | 22/78 [00:27<01:08,  1.23s/it]"
          ],
          "name": "stderr"
        },
        {
          "output_type": "stream",
          "text": [
            "roc_auc 0.8378295898437501\n"
          ],
          "name": "stdout"
        },
        {
          "output_type": "stream",
          "text": [
            "\r 29%|██▉       | 23/78 [00:28<01:07,  1.23s/it]"
          ],
          "name": "stderr"
        },
        {
          "output_type": "stream",
          "text": [
            "roc_auc 0.5184814453125\n"
          ],
          "name": "stdout"
        },
        {
          "output_type": "stream",
          "text": [
            "\r 31%|███       | 24/78 [00:29<01:05,  1.22s/it]"
          ],
          "name": "stderr"
        },
        {
          "output_type": "stream",
          "text": [
            "roc_auc 0.90584716796875\n"
          ],
          "name": "stdout"
        },
        {
          "output_type": "stream",
          "text": [
            "\r 32%|███▏      | 25/78 [00:30<01:04,  1.22s/it]"
          ],
          "name": "stderr"
        },
        {
          "output_type": "stream",
          "text": [
            "roc_auc 0.78985595703125\n"
          ],
          "name": "stdout"
        },
        {
          "output_type": "stream",
          "text": [
            "\r 33%|███▎      | 26/78 [00:32<01:03,  1.22s/it]"
          ],
          "name": "stderr"
        },
        {
          "output_type": "stream",
          "text": [
            "roc_auc 0.6611450195312499\n"
          ],
          "name": "stdout"
        },
        {
          "output_type": "stream",
          "text": [
            "\r 35%|███▍      | 27/78 [00:33<01:02,  1.23s/it]"
          ],
          "name": "stderr"
        },
        {
          "output_type": "stream",
          "text": [
            "roc_auc 0.8261962890625001\n"
          ],
          "name": "stdout"
        },
        {
          "output_type": "stream",
          "text": [
            "\r 36%|███▌      | 28/78 [00:34<01:00,  1.22s/it]"
          ],
          "name": "stderr"
        },
        {
          "output_type": "stream",
          "text": [
            "roc_auc 0.745166015625\n"
          ],
          "name": "stdout"
        },
        {
          "output_type": "stream",
          "text": [
            "\r 37%|███▋      | 29/78 [00:35<00:59,  1.22s/it]"
          ],
          "name": "stderr"
        },
        {
          "output_type": "stream",
          "text": [
            "roc_auc 0.8242553710937499\n"
          ],
          "name": "stdout"
        },
        {
          "output_type": "stream",
          "text": [
            "\r 38%|███▊      | 30/78 [00:36<00:58,  1.22s/it]"
          ],
          "name": "stderr"
        },
        {
          "output_type": "stream",
          "text": [
            "roc_auc 0.88245849609375\n"
          ],
          "name": "stdout"
        },
        {
          "output_type": "stream",
          "text": [
            "\r 40%|███▉      | 31/78 [00:38<00:57,  1.22s/it]"
          ],
          "name": "stderr"
        },
        {
          "output_type": "stream",
          "text": [
            "roc_auc 0.7377807617187502\n"
          ],
          "name": "stdout"
        },
        {
          "output_type": "stream",
          "text": [
            "\r 41%|████      | 32/78 [00:39<00:56,  1.22s/it]"
          ],
          "name": "stderr"
        },
        {
          "output_type": "stream",
          "text": [
            "roc_auc 0.81947021484375\n"
          ],
          "name": "stdout"
        },
        {
          "output_type": "stream",
          "text": [
            "\r 42%|████▏     | 33/78 [00:40<00:54,  1.22s/it]"
          ],
          "name": "stderr"
        },
        {
          "output_type": "stream",
          "text": [
            "roc_auc 0.6788818359375\n"
          ],
          "name": "stdout"
        },
        {
          "output_type": "stream",
          "text": [
            "\r 44%|████▎     | 34/78 [00:41<00:53,  1.22s/it]"
          ],
          "name": "stderr"
        },
        {
          "output_type": "stream",
          "text": [
            "roc_auc 0.27030029296875\n"
          ],
          "name": "stdout"
        },
        {
          "output_type": "stream",
          "text": [
            "\r 45%|████▍     | 35/78 [00:43<00:52,  1.22s/it]"
          ],
          "name": "stderr"
        },
        {
          "output_type": "stream",
          "text": [
            "roc_auc 0.7552734374999999\n"
          ],
          "name": "stdout"
        },
        {
          "output_type": "stream",
          "text": [
            "\r 46%|████▌     | 36/78 [00:44<00:51,  1.22s/it]"
          ],
          "name": "stderr"
        },
        {
          "output_type": "stream",
          "text": [
            "roc_auc 0.62554931640625\n"
          ],
          "name": "stdout"
        },
        {
          "output_type": "stream",
          "text": [
            "\r 47%|████▋     | 37/78 [00:45<00:50,  1.23s/it]"
          ],
          "name": "stderr"
        },
        {
          "output_type": "stream",
          "text": [
            "roc_auc 0.7503540039062501\n"
          ],
          "name": "stdout"
        },
        {
          "output_type": "stream",
          "text": [
            "\r 49%|████▊     | 38/78 [00:46<00:48,  1.22s/it]"
          ],
          "name": "stderr"
        },
        {
          "output_type": "stream",
          "text": [
            "roc_auc 0.8636352539062501\n"
          ],
          "name": "stdout"
        },
        {
          "output_type": "stream",
          "text": [
            "\r 50%|█████     | 39/78 [00:47<00:47,  1.22s/it]"
          ],
          "name": "stderr"
        },
        {
          "output_type": "stream",
          "text": [
            "roc_auc 0.56417236328125\n"
          ],
          "name": "stdout"
        },
        {
          "output_type": "stream",
          "text": [
            "\r 51%|█████▏    | 40/78 [00:49<00:46,  1.21s/it]"
          ],
          "name": "stderr"
        },
        {
          "output_type": "stream",
          "text": [
            "roc_auc 0.83905029296875\n"
          ],
          "name": "stdout"
        },
        {
          "output_type": "stream",
          "text": [
            "\r 53%|█████▎    | 41/78 [00:50<00:44,  1.21s/it]"
          ],
          "name": "stderr"
        },
        {
          "output_type": "stream",
          "text": [
            "roc_auc 0.83984375\n"
          ],
          "name": "stdout"
        },
        {
          "output_type": "stream",
          "text": [
            "\r 54%|█████▍    | 42/78 [00:51<00:43,  1.21s/it]"
          ],
          "name": "stderr"
        },
        {
          "output_type": "stream",
          "text": [
            "roc_auc 0.8128662109375\n"
          ],
          "name": "stdout"
        },
        {
          "output_type": "stream",
          "text": [
            "\r 55%|█████▌    | 43/78 [00:52<00:42,  1.21s/it]"
          ],
          "name": "stderr"
        },
        {
          "output_type": "stream",
          "text": [
            "roc_auc 0.90767822265625\n"
          ],
          "name": "stdout"
        },
        {
          "output_type": "stream",
          "text": [
            "\r 56%|█████▋    | 44/78 [00:54<00:41,  1.21s/it]"
          ],
          "name": "stderr"
        },
        {
          "output_type": "stream",
          "text": [
            "roc_auc 0.8655517578124999\n"
          ],
          "name": "stdout"
        },
        {
          "output_type": "stream",
          "text": [
            "\r 58%|█████▊    | 45/78 [00:55<00:40,  1.22s/it]"
          ],
          "name": "stderr"
        },
        {
          "output_type": "stream",
          "text": [
            "roc_auc 0.7350341796875\n"
          ],
          "name": "stdout"
        },
        {
          "output_type": "stream",
          "text": [
            "\r 59%|█████▉    | 46/78 [00:56<00:38,  1.22s/it]"
          ],
          "name": "stderr"
        },
        {
          "output_type": "stream",
          "text": [
            "roc_auc 0.67161865234375\n"
          ],
          "name": "stdout"
        },
        {
          "output_type": "stream",
          "text": [
            "\r 60%|██████    | 47/78 [00:57<00:37,  1.22s/it]"
          ],
          "name": "stderr"
        },
        {
          "output_type": "stream",
          "text": [
            "roc_auc 0.92491455078125\n"
          ],
          "name": "stdout"
        },
        {
          "output_type": "stream",
          "text": [
            "\r 62%|██████▏   | 48/78 [00:58<00:36,  1.22s/it]"
          ],
          "name": "stderr"
        },
        {
          "output_type": "stream",
          "text": [
            "roc_auc 0.76961669921875\n"
          ],
          "name": "stdout"
        },
        {
          "output_type": "stream",
          "text": [
            "\r 63%|██████▎   | 49/78 [01:00<00:35,  1.23s/it]"
          ],
          "name": "stderr"
        },
        {
          "output_type": "stream",
          "text": [
            "roc_auc 0.70166015625\n"
          ],
          "name": "stdout"
        },
        {
          "output_type": "stream",
          "text": [
            "\r 64%|██████▍   | 50/78 [01:01<00:34,  1.22s/it]"
          ],
          "name": "stderr"
        },
        {
          "output_type": "stream",
          "text": [
            "roc_auc 0.8818237304687501\n"
          ],
          "name": "stdout"
        },
        {
          "output_type": "stream",
          "text": [
            "\r 65%|██████▌   | 51/78 [01:02<00:32,  1.22s/it]"
          ],
          "name": "stderr"
        },
        {
          "output_type": "stream",
          "text": [
            "roc_auc 0.91788330078125\n"
          ],
          "name": "stdout"
        },
        {
          "output_type": "stream",
          "text": [
            "\r 67%|██████▋   | 52/78 [01:03<00:31,  1.21s/it]"
          ],
          "name": "stderr"
        },
        {
          "output_type": "stream",
          "text": [
            "roc_auc 0.74405517578125\n"
          ],
          "name": "stdout"
        },
        {
          "output_type": "stream",
          "text": [
            "\r 68%|██████▊   | 53/78 [01:05<00:30,  1.22s/it]"
          ],
          "name": "stderr"
        },
        {
          "output_type": "stream",
          "text": [
            "roc_auc 0.74476318359375\n"
          ],
          "name": "stdout"
        },
        {
          "output_type": "stream",
          "text": [
            "\r 69%|██████▉   | 54/78 [01:06<00:29,  1.22s/it]"
          ],
          "name": "stderr"
        },
        {
          "output_type": "stream",
          "text": [
            "roc_auc 0.8498291015624999\n"
          ],
          "name": "stdout"
        },
        {
          "output_type": "stream",
          "text": [
            "\r 71%|███████   | 55/78 [01:07<00:28,  1.22s/it]"
          ],
          "name": "stderr"
        },
        {
          "output_type": "stream",
          "text": [
            "roc_auc 0.85963134765625\n"
          ],
          "name": "stdout"
        },
        {
          "output_type": "stream",
          "text": [
            "\r 72%|███████▏  | 56/78 [01:08<00:26,  1.21s/it]"
          ],
          "name": "stderr"
        },
        {
          "output_type": "stream",
          "text": [
            "roc_auc 0.89493408203125\n"
          ],
          "name": "stdout"
        },
        {
          "output_type": "stream",
          "text": [
            "\r 73%|███████▎  | 57/78 [01:09<00:25,  1.22s/it]"
          ],
          "name": "stderr"
        },
        {
          "output_type": "stream",
          "text": [
            "roc_auc 0.9185546874999999\n"
          ],
          "name": "stdout"
        },
        {
          "output_type": "stream",
          "text": [
            "\r 74%|███████▍  | 58/78 [01:11<00:24,  1.21s/it]"
          ],
          "name": "stderr"
        },
        {
          "output_type": "stream",
          "text": [
            "roc_auc 0.9426147460937501\n"
          ],
          "name": "stdout"
        },
        {
          "output_type": "stream",
          "text": [
            "\r 76%|███████▌  | 59/78 [01:12<00:23,  1.22s/it]"
          ],
          "name": "stderr"
        },
        {
          "output_type": "stream",
          "text": [
            "roc_auc 0.9710693359375\n"
          ],
          "name": "stdout"
        },
        {
          "output_type": "stream",
          "text": [
            "\r 77%|███████▋  | 60/78 [01:13<00:21,  1.22s/it]"
          ],
          "name": "stderr"
        },
        {
          "output_type": "stream",
          "text": [
            "roc_auc 0.8281982421875\n"
          ],
          "name": "stdout"
        },
        {
          "output_type": "stream",
          "text": [
            "\r 78%|███████▊  | 61/78 [01:14<00:20,  1.22s/it]"
          ],
          "name": "stderr"
        },
        {
          "output_type": "stream",
          "text": [
            "roc_auc 0.8581970214843749\n"
          ],
          "name": "stdout"
        },
        {
          "output_type": "stream",
          "text": [
            "\r 79%|███████▉  | 62/78 [01:15<00:19,  1.21s/it]"
          ],
          "name": "stderr"
        },
        {
          "output_type": "stream",
          "text": [
            "roc_auc 0.94755859375\n"
          ],
          "name": "stdout"
        },
        {
          "output_type": "stream",
          "text": [
            "\r 81%|████████  | 63/78 [01:17<00:18,  1.22s/it]"
          ],
          "name": "stderr"
        },
        {
          "output_type": "stream",
          "text": [
            "roc_auc 0.85068359375\n"
          ],
          "name": "stdout"
        },
        {
          "output_type": "stream",
          "text": [
            "\r 82%|████████▏ | 64/78 [01:18<00:17,  1.22s/it]"
          ],
          "name": "stderr"
        },
        {
          "output_type": "stream",
          "text": [
            "roc_auc 0.853076171875\n"
          ],
          "name": "stdout"
        },
        {
          "output_type": "stream",
          "text": [
            "\r 83%|████████▎ | 65/78 [01:19<00:15,  1.22s/it]"
          ],
          "name": "stderr"
        },
        {
          "output_type": "stream",
          "text": [
            "roc_auc 0.75723876953125\n"
          ],
          "name": "stdout"
        },
        {
          "output_type": "stream",
          "text": [
            "\r 85%|████████▍ | 66/78 [01:20<00:14,  1.22s/it]"
          ],
          "name": "stderr"
        },
        {
          "output_type": "stream",
          "text": [
            "roc_auc 0.8824951171875001\n"
          ],
          "name": "stdout"
        },
        {
          "output_type": "stream",
          "text": [
            "\r 86%|████████▌ | 67/78 [01:22<00:13,  1.22s/it]"
          ],
          "name": "stderr"
        },
        {
          "output_type": "stream",
          "text": [
            "roc_auc 0.9320068359375\n"
          ],
          "name": "stdout"
        },
        {
          "output_type": "stream",
          "text": [
            "\r 87%|████████▋ | 68/78 [01:23<00:12,  1.22s/it]"
          ],
          "name": "stderr"
        },
        {
          "output_type": "stream",
          "text": [
            "roc_auc 0.7376464843749999\n"
          ],
          "name": "stdout"
        },
        {
          "output_type": "stream",
          "text": [
            "\r 88%|████████▊ | 69/78 [01:24<00:10,  1.22s/it]"
          ],
          "name": "stderr"
        },
        {
          "output_type": "stream",
          "text": [
            "roc_auc 0.92196044921875\n"
          ],
          "name": "stdout"
        },
        {
          "output_type": "stream",
          "text": [
            "\r 90%|████████▉ | 70/78 [01:25<00:09,  1.22s/it]"
          ],
          "name": "stderr"
        },
        {
          "output_type": "stream",
          "text": [
            "roc_auc 0.93720703125\n"
          ],
          "name": "stdout"
        },
        {
          "output_type": "stream",
          "text": [
            "\r 91%|█████████ | 71/78 [01:26<00:08,  1.22s/it]"
          ],
          "name": "stderr"
        },
        {
          "output_type": "stream",
          "text": [
            "roc_auc 0.7550415039062499\n"
          ],
          "name": "stdout"
        },
        {
          "output_type": "stream",
          "text": [
            "\r 92%|█████████▏| 72/78 [01:28<00:07,  1.22s/it]"
          ],
          "name": "stderr"
        },
        {
          "output_type": "stream",
          "text": [
            "roc_auc 0.8254272460937502\n"
          ],
          "name": "stdout"
        },
        {
          "output_type": "stream",
          "text": [
            "\r 94%|█████████▎| 73/78 [01:29<00:06,  1.22s/it]"
          ],
          "name": "stderr"
        },
        {
          "output_type": "stream",
          "text": [
            "roc_auc 0.8496582031250001\n"
          ],
          "name": "stdout"
        },
        {
          "output_type": "stream",
          "text": [
            "\r 95%|█████████▍| 74/78 [01:30<00:04,  1.21s/it]"
          ],
          "name": "stderr"
        },
        {
          "output_type": "stream",
          "text": [
            "roc_auc 0.8255371093750001\n"
          ],
          "name": "stdout"
        },
        {
          "output_type": "stream",
          "text": [
            "\r 96%|█████████▌| 75/78 [01:31<00:03,  1.21s/it]"
          ],
          "name": "stderr"
        },
        {
          "output_type": "stream",
          "text": [
            "roc_auc 0.8255004882812499\n"
          ],
          "name": "stdout"
        },
        {
          "output_type": "stream",
          "text": [
            "\r 97%|█████████▋| 76/78 [01:32<00:02,  1.21s/it]"
          ],
          "name": "stderr"
        },
        {
          "output_type": "stream",
          "text": [
            "roc_auc 0.6521484375000001\n"
          ],
          "name": "stdout"
        },
        {
          "output_type": "stream",
          "text": [
            "\r 99%|█████████▊| 77/78 [01:34<00:01,  1.22s/it]"
          ],
          "name": "stderr"
        },
        {
          "output_type": "stream",
          "text": [
            "roc_auc 0.92490234375\n"
          ],
          "name": "stdout"
        },
        {
          "output_type": "stream",
          "text": [
            "100%|██████████| 78/78 [01:35<00:00,  1.22s/it]\n",
            "100%|██████████| 115/115 [00:25<00:00,  4.50it/s]\n",
            "100%|██████████| 496/496 [00:00<00:00, 1904.87it/s]\n",
            "Epoch 2, train_loss: 0.37413312991460157, train_score: 0.798399861653646, valid_score: 0.2102699704381525, time: 122.24973034858704\n",
            "  0%|          | 0/78 [00:00<?, ?it/s]"
          ],
          "name": "stderr"
        },
        {
          "output_type": "stream",
          "text": [
            "roc_auc 0.74176025390625\n"
          ],
          "name": "stdout"
        },
        {
          "output_type": "stream",
          "text": [
            "\r  1%|▏         | 1/78 [00:01<01:39,  1.29s/it]"
          ],
          "name": "stderr"
        },
        {
          "output_type": "stream",
          "text": [
            "roc_auc 0.91949462890625\n"
          ],
          "name": "stdout"
        },
        {
          "output_type": "stream",
          "text": [
            "\r  3%|▎         | 2/78 [00:02<01:35,  1.26s/it]"
          ],
          "name": "stderr"
        },
        {
          "output_type": "stream",
          "text": [
            "roc_auc 0.904541015625\n"
          ],
          "name": "stdout"
        },
        {
          "output_type": "stream",
          "text": [
            "\r  4%|▍         | 3/78 [00:03<01:33,  1.25s/it]"
          ],
          "name": "stderr"
        },
        {
          "output_type": "stream",
          "text": [
            "roc_auc 0.71759033203125\n"
          ],
          "name": "stdout"
        },
        {
          "output_type": "stream",
          "text": [
            "\r  5%|▌         | 4/78 [00:04<01:31,  1.23s/it]"
          ],
          "name": "stderr"
        },
        {
          "output_type": "stream",
          "text": [
            "roc_auc 0.81632080078125\n"
          ],
          "name": "stdout"
        },
        {
          "output_type": "stream",
          "text": [
            "\r  6%|▋         | 5/78 [00:06<01:30,  1.24s/it]"
          ],
          "name": "stderr"
        },
        {
          "output_type": "stream",
          "text": [
            "roc_auc 0.76768798828125\n"
          ],
          "name": "stdout"
        },
        {
          "output_type": "stream",
          "text": [
            "\r  8%|▊         | 6/78 [00:07<01:28,  1.23s/it]"
          ],
          "name": "stderr"
        },
        {
          "output_type": "stream",
          "text": [
            "roc_auc 0.85599365234375\n"
          ],
          "name": "stdout"
        },
        {
          "output_type": "stream",
          "text": [
            "\r  9%|▉         | 7/78 [00:08<01:27,  1.24s/it]"
          ],
          "name": "stderr"
        },
        {
          "output_type": "stream",
          "text": [
            "roc_auc 0.75108642578125\n"
          ],
          "name": "stdout"
        },
        {
          "output_type": "stream",
          "text": [
            "\r 10%|█         | 8/78 [00:09<01:27,  1.25s/it]"
          ],
          "name": "stderr"
        },
        {
          "output_type": "stream",
          "text": [
            "roc_auc 0.82637939453125\n"
          ],
          "name": "stdout"
        },
        {
          "output_type": "stream",
          "text": [
            "\r 12%|█▏        | 9/78 [00:11<01:27,  1.27s/it]"
          ],
          "name": "stderr"
        },
        {
          "output_type": "stream",
          "text": [
            "roc_auc 0.8036743164062501\n"
          ],
          "name": "stdout"
        },
        {
          "output_type": "stream",
          "text": [
            "\r 13%|█▎        | 10/78 [00:12<01:25,  1.26s/it]"
          ],
          "name": "stderr"
        },
        {
          "output_type": "stream",
          "text": [
            "roc_auc 0.7100830078125\n"
          ],
          "name": "stdout"
        },
        {
          "output_type": "stream",
          "text": [
            "\r 14%|█▍        | 11/78 [00:13<01:24,  1.26s/it]"
          ],
          "name": "stderr"
        },
        {
          "output_type": "stream",
          "text": [
            "roc_auc 0.7984619140625\n"
          ],
          "name": "stdout"
        },
        {
          "output_type": "stream",
          "text": [
            "\r 15%|█▌        | 12/78 [00:14<01:22,  1.25s/it]"
          ],
          "name": "stderr"
        },
        {
          "output_type": "stream",
          "text": [
            "roc_auc 0.91663818359375\n"
          ],
          "name": "stdout"
        },
        {
          "output_type": "stream",
          "text": [
            "\r 17%|█▋        | 13/78 [00:16<01:21,  1.25s/it]"
          ],
          "name": "stderr"
        },
        {
          "output_type": "stream",
          "text": [
            "roc_auc 0.836376953125\n"
          ],
          "name": "stdout"
        },
        {
          "output_type": "stream",
          "text": [
            "\r 18%|█▊        | 14/78 [00:17<01:19,  1.24s/it]"
          ],
          "name": "stderr"
        },
        {
          "output_type": "stream",
          "text": [
            "roc_auc 0.788525390625\n"
          ],
          "name": "stdout"
        },
        {
          "output_type": "stream",
          "text": [
            "\r 19%|█▉        | 15/78 [00:18<01:18,  1.24s/it]"
          ],
          "name": "stderr"
        },
        {
          "output_type": "stream",
          "text": [
            "roc_auc 0.9125\n"
          ],
          "name": "stdout"
        },
        {
          "output_type": "stream",
          "text": [
            "\r 21%|██        | 16/78 [00:19<01:16,  1.23s/it]"
          ],
          "name": "stderr"
        },
        {
          "output_type": "stream",
          "text": [
            "roc_auc 0.8662353515625\n"
          ],
          "name": "stdout"
        },
        {
          "output_type": "stream",
          "text": [
            "\r 22%|██▏       | 17/78 [00:21<01:15,  1.23s/it]"
          ],
          "name": "stderr"
        },
        {
          "output_type": "stream",
          "text": [
            "roc_auc 0.72152099609375\n"
          ],
          "name": "stdout"
        },
        {
          "output_type": "stream",
          "text": [
            "\r 23%|██▎       | 18/78 [00:22<01:13,  1.22s/it]"
          ],
          "name": "stderr"
        },
        {
          "output_type": "stream",
          "text": [
            "roc_auc 0.89530029296875\n"
          ],
          "name": "stdout"
        },
        {
          "output_type": "stream",
          "text": [
            "\r 24%|██▍       | 19/78 [00:23<01:12,  1.23s/it]"
          ],
          "name": "stderr"
        },
        {
          "output_type": "stream",
          "text": [
            "roc_auc 0.8039062499999999\n"
          ],
          "name": "stdout"
        },
        {
          "output_type": "stream",
          "text": [
            "\r 26%|██▌       | 20/78 [00:24<01:11,  1.23s/it]"
          ],
          "name": "stderr"
        },
        {
          "output_type": "stream",
          "text": [
            "roc_auc 0.7095703125\n"
          ],
          "name": "stdout"
        },
        {
          "output_type": "stream",
          "text": [
            "\r 27%|██▋       | 21/78 [00:26<01:10,  1.24s/it]"
          ],
          "name": "stderr"
        },
        {
          "output_type": "stream",
          "text": [
            "roc_auc 0.7574462890625\n"
          ],
          "name": "stdout"
        },
        {
          "output_type": "stream",
          "text": [
            "\r 28%|██▊       | 22/78 [00:27<01:09,  1.23s/it]"
          ],
          "name": "stderr"
        },
        {
          "output_type": "stream",
          "text": [
            "roc_auc 0.76414794921875\n"
          ],
          "name": "stdout"
        },
        {
          "output_type": "stream",
          "text": [
            "\r 29%|██▉       | 23/78 [00:28<01:08,  1.24s/it]"
          ],
          "name": "stderr"
        },
        {
          "output_type": "stream",
          "text": [
            "roc_auc 0.74197998046875\n"
          ],
          "name": "stdout"
        },
        {
          "output_type": "stream",
          "text": [
            "\r 31%|███       | 24/78 [00:29<01:06,  1.24s/it]"
          ],
          "name": "stderr"
        },
        {
          "output_type": "stream",
          "text": [
            "roc_auc 0.7709838867187501\n"
          ],
          "name": "stdout"
        },
        {
          "output_type": "stream",
          "text": [
            "\r 32%|███▏      | 25/78 [00:30<01:05,  1.24s/it]"
          ],
          "name": "stderr"
        },
        {
          "output_type": "stream",
          "text": [
            "roc_auc 0.8511474609374999\n"
          ],
          "name": "stdout"
        },
        {
          "output_type": "stream",
          "text": [
            "\r 33%|███▎      | 26/78 [00:32<01:04,  1.23s/it]"
          ],
          "name": "stderr"
        },
        {
          "output_type": "stream",
          "text": [
            "roc_auc 0.748681640625\n"
          ],
          "name": "stdout"
        },
        {
          "output_type": "stream",
          "text": [
            "\r 35%|███▍      | 27/78 [00:33<01:02,  1.24s/it]"
          ],
          "name": "stderr"
        },
        {
          "output_type": "stream",
          "text": [
            "roc_auc 0.7492797851562499\n"
          ],
          "name": "stdout"
        },
        {
          "output_type": "stream",
          "text": [
            "\r 36%|███▌      | 28/78 [00:34<01:01,  1.23s/it]"
          ],
          "name": "stderr"
        },
        {
          "output_type": "stream",
          "text": [
            "roc_auc 0.8852050781249999\n"
          ],
          "name": "stdout"
        },
        {
          "output_type": "stream",
          "text": [
            "\r 37%|███▋      | 29/78 [00:35<01:00,  1.23s/it]"
          ],
          "name": "stderr"
        },
        {
          "output_type": "stream",
          "text": [
            "roc_auc 0.7383666992187501\n"
          ],
          "name": "stdout"
        },
        {
          "output_type": "stream",
          "text": [
            "\r 38%|███▊      | 30/78 [00:37<00:58,  1.23s/it]"
          ],
          "name": "stderr"
        },
        {
          "output_type": "stream",
          "text": [
            "roc_auc 0.67493896484375\n"
          ],
          "name": "stdout"
        },
        {
          "output_type": "stream",
          "text": [
            "\r 40%|███▉      | 31/78 [00:38<00:57,  1.23s/it]"
          ],
          "name": "stderr"
        },
        {
          "output_type": "stream",
          "text": [
            "roc_auc 0.595068359375\n"
          ],
          "name": "stdout"
        },
        {
          "output_type": "stream",
          "text": [
            "\r 41%|████      | 32/78 [00:39<00:56,  1.22s/it]"
          ],
          "name": "stderr"
        },
        {
          "output_type": "stream",
          "text": [
            "roc_auc 0.7415283203124999\n"
          ],
          "name": "stdout"
        },
        {
          "output_type": "stream",
          "text": [
            "\r 42%|████▏     | 33/78 [00:40<00:55,  1.23s/it]"
          ],
          "name": "stderr"
        },
        {
          "output_type": "stream",
          "text": [
            "roc_auc 0.7380126953125\n"
          ],
          "name": "stdout"
        },
        {
          "output_type": "stream",
          "text": [
            "\r 44%|████▎     | 34/78 [00:41<00:53,  1.22s/it]"
          ],
          "name": "stderr"
        },
        {
          "output_type": "stream",
          "text": [
            "roc_auc 0.6881103515625\n"
          ],
          "name": "stdout"
        },
        {
          "output_type": "stream",
          "text": [
            "\r 45%|████▍     | 35/78 [00:43<00:52,  1.23s/it]"
          ],
          "name": "stderr"
        },
        {
          "output_type": "stream",
          "text": [
            "roc_auc 0.39193115234375\n"
          ],
          "name": "stdout"
        },
        {
          "output_type": "stream",
          "text": [
            "\r 46%|████▌     | 36/78 [00:44<00:51,  1.22s/it]"
          ],
          "name": "stderr"
        },
        {
          "output_type": "stream",
          "text": [
            "roc_auc 0.79024658203125\n"
          ],
          "name": "stdout"
        },
        {
          "output_type": "stream",
          "text": [
            "\r 47%|████▋     | 37/78 [00:45<00:50,  1.23s/it]"
          ],
          "name": "stderr"
        },
        {
          "output_type": "stream",
          "text": [
            "roc_auc 0.9365478515625\n"
          ],
          "name": "stdout"
        },
        {
          "output_type": "stream",
          "text": [
            "\r 49%|████▊     | 38/78 [00:46<00:49,  1.23s/it]"
          ],
          "name": "stderr"
        },
        {
          "output_type": "stream",
          "text": [
            "roc_auc 0.6850830078125\n"
          ],
          "name": "stdout"
        },
        {
          "output_type": "stream",
          "text": [
            "\r 50%|█████     | 39/78 [00:48<00:47,  1.23s/it]"
          ],
          "name": "stderr"
        },
        {
          "output_type": "stream",
          "text": [
            "roc_auc 0.835888671875\n"
          ],
          "name": "stdout"
        },
        {
          "output_type": "stream",
          "text": [
            "\r 51%|█████▏    | 40/78 [00:49<00:46,  1.23s/it]"
          ],
          "name": "stderr"
        },
        {
          "output_type": "stream",
          "text": [
            "roc_auc 0.8791015625\n"
          ],
          "name": "stdout"
        },
        {
          "output_type": "stream",
          "text": [
            "\r 53%|█████▎    | 41/78 [00:50<00:45,  1.23s/it]"
          ],
          "name": "stderr"
        },
        {
          "output_type": "stream",
          "text": [
            "roc_auc 0.7563232421874999\n"
          ],
          "name": "stdout"
        },
        {
          "output_type": "stream",
          "text": [
            "\r 54%|█████▍    | 42/78 [00:51<00:44,  1.22s/it]"
          ],
          "name": "stderr"
        },
        {
          "output_type": "stream",
          "text": [
            "roc_auc 0.95361328125\n"
          ],
          "name": "stdout"
        },
        {
          "output_type": "stream",
          "text": [
            "\r 55%|█████▌    | 43/78 [00:53<00:42,  1.23s/it]"
          ],
          "name": "stderr"
        },
        {
          "output_type": "stream",
          "text": [
            "roc_auc 0.7466796875000001\n"
          ],
          "name": "stdout"
        },
        {
          "output_type": "stream",
          "text": [
            "\r 56%|█████▋    | 44/78 [00:54<00:41,  1.22s/it]"
          ],
          "name": "stderr"
        },
        {
          "output_type": "stream",
          "text": [
            "roc_auc 0.75413818359375\n"
          ],
          "name": "stdout"
        },
        {
          "output_type": "stream",
          "text": [
            "\r 58%|█████▊    | 45/78 [00:55<00:40,  1.23s/it]"
          ],
          "name": "stderr"
        },
        {
          "output_type": "stream",
          "text": [
            "roc_auc 0.716796875\n"
          ],
          "name": "stdout"
        },
        {
          "output_type": "stream",
          "text": [
            "\r 59%|█████▉    | 46/78 [00:56<00:39,  1.22s/it]"
          ],
          "name": "stderr"
        },
        {
          "output_type": "stream",
          "text": [
            "roc_auc 0.819482421875\n"
          ],
          "name": "stdout"
        },
        {
          "output_type": "stream",
          "text": [
            "\r 60%|██████    | 47/78 [00:57<00:38,  1.23s/it]"
          ],
          "name": "stderr"
        },
        {
          "output_type": "stream",
          "text": [
            "roc_auc 0.75291748046875\n"
          ],
          "name": "stdout"
        },
        {
          "output_type": "stream",
          "text": [
            "\r 62%|██████▏   | 48/78 [00:59<00:36,  1.23s/it]"
          ],
          "name": "stderr"
        },
        {
          "output_type": "stream",
          "text": [
            "roc_auc 0.6943359374999999\n"
          ],
          "name": "stdout"
        },
        {
          "output_type": "stream",
          "text": [
            "\r 63%|██████▎   | 49/78 [01:00<00:35,  1.23s/it]"
          ],
          "name": "stderr"
        },
        {
          "output_type": "stream",
          "text": [
            "roc_auc 0.87724609375\n"
          ],
          "name": "stdout"
        },
        {
          "output_type": "stream",
          "text": [
            "\r 64%|██████▍   | 50/78 [01:01<00:34,  1.23s/it]"
          ],
          "name": "stderr"
        },
        {
          "output_type": "stream",
          "text": [
            "roc_auc 0.9587158203125\n"
          ],
          "name": "stdout"
        },
        {
          "output_type": "stream",
          "text": [
            "\r 65%|██████▌   | 51/78 [01:02<00:33,  1.23s/it]"
          ],
          "name": "stderr"
        },
        {
          "output_type": "stream",
          "text": [
            "roc_auc 0.8494384765624999\n"
          ],
          "name": "stdout"
        },
        {
          "output_type": "stream",
          "text": [
            "\r 67%|██████▋   | 52/78 [01:04<00:31,  1.22s/it]"
          ],
          "name": "stderr"
        },
        {
          "output_type": "stream",
          "text": [
            "roc_auc 0.8371337890625\n"
          ],
          "name": "stdout"
        },
        {
          "output_type": "stream",
          "text": [
            "\r 68%|██████▊   | 53/78 [01:05<00:30,  1.22s/it]"
          ],
          "name": "stderr"
        },
        {
          "output_type": "stream",
          "text": [
            "roc_auc 0.7645996093749999\n"
          ],
          "name": "stdout"
        },
        {
          "output_type": "stream",
          "text": [
            "\r 69%|██████▉   | 54/78 [01:06<00:29,  1.22s/it]"
          ],
          "name": "stderr"
        },
        {
          "output_type": "stream",
          "text": [
            "roc_auc 0.9474853515625\n"
          ],
          "name": "stdout"
        },
        {
          "output_type": "stream",
          "text": [
            "\r 71%|███████   | 55/78 [01:07<00:28,  1.23s/it]"
          ],
          "name": "stderr"
        },
        {
          "output_type": "stream",
          "text": [
            "roc_auc 0.65606689453125\n"
          ],
          "name": "stdout"
        },
        {
          "output_type": "stream",
          "text": [
            "\r 72%|███████▏  | 56/78 [01:08<00:26,  1.22s/it]"
          ],
          "name": "stderr"
        },
        {
          "output_type": "stream",
          "text": [
            "roc_auc 0.640673828125\n"
          ],
          "name": "stdout"
        },
        {
          "output_type": "stream",
          "text": [
            "\r 73%|███████▎  | 57/78 [01:10<00:25,  1.23s/it]"
          ],
          "name": "stderr"
        },
        {
          "output_type": "stream",
          "text": [
            "roc_auc 0.6429443359375\n"
          ],
          "name": "stdout"
        },
        {
          "output_type": "stream",
          "text": [
            "\r 74%|███████▍  | 58/78 [01:11<00:24,  1.22s/it]"
          ],
          "name": "stderr"
        },
        {
          "output_type": "stream",
          "text": [
            "roc_auc 0.7062133789062501\n"
          ],
          "name": "stdout"
        },
        {
          "output_type": "stream",
          "text": [
            "\r 76%|███████▌  | 59/78 [01:12<00:23,  1.22s/it]"
          ],
          "name": "stderr"
        },
        {
          "output_type": "stream",
          "text": [
            "roc_auc 0.7578369140625001\n"
          ],
          "name": "stdout"
        },
        {
          "output_type": "stream",
          "text": [
            "\r 77%|███████▋  | 60/78 [01:13<00:21,  1.22s/it]"
          ],
          "name": "stderr"
        },
        {
          "output_type": "stream",
          "text": [
            "roc_auc 0.7669799804687499\n"
          ],
          "name": "stdout"
        },
        {
          "output_type": "stream",
          "text": [
            "\r 78%|███████▊  | 61/78 [01:15<00:20,  1.22s/it]"
          ],
          "name": "stderr"
        },
        {
          "output_type": "stream",
          "text": [
            "roc_auc 0.7221557617187501\n"
          ],
          "name": "stdout"
        },
        {
          "output_type": "stream",
          "text": [
            "\r 79%|███████▉  | 62/78 [01:16<00:19,  1.22s/it]"
          ],
          "name": "stderr"
        },
        {
          "output_type": "stream",
          "text": [
            "roc_auc 0.7600708007812501\n"
          ],
          "name": "stdout"
        },
        {
          "output_type": "stream",
          "text": [
            "\r 81%|████████  | 63/78 [01:17<00:18,  1.23s/it]"
          ],
          "name": "stderr"
        },
        {
          "output_type": "stream",
          "text": [
            "roc_auc 0.8595458984375\n"
          ],
          "name": "stdout"
        },
        {
          "output_type": "stream",
          "text": [
            "\r 82%|████████▏ | 64/78 [01:18<00:17,  1.22s/it]"
          ],
          "name": "stderr"
        },
        {
          "output_type": "stream",
          "text": [
            "roc_auc 0.656591796875\n"
          ],
          "name": "stdout"
        },
        {
          "output_type": "stream",
          "text": [
            "\r 83%|████████▎ | 65/78 [01:19<00:15,  1.23s/it]"
          ],
          "name": "stderr"
        },
        {
          "output_type": "stream",
          "text": [
            "roc_auc 0.8892578125000001\n"
          ],
          "name": "stdout"
        },
        {
          "output_type": "stream",
          "text": [
            "\r 85%|████████▍ | 66/78 [01:21<00:14,  1.23s/it]"
          ],
          "name": "stderr"
        },
        {
          "output_type": "stream",
          "text": [
            "roc_auc 0.77745361328125\n"
          ],
          "name": "stdout"
        },
        {
          "output_type": "stream",
          "text": [
            "\r 86%|████████▌ | 67/78 [01:22<00:13,  1.23s/it]"
          ],
          "name": "stderr"
        },
        {
          "output_type": "stream",
          "text": [
            "roc_auc 0.73592529296875\n"
          ],
          "name": "stdout"
        },
        {
          "output_type": "stream",
          "text": [
            "\r 87%|████████▋ | 68/78 [01:23<00:12,  1.23s/it]"
          ],
          "name": "stderr"
        },
        {
          "output_type": "stream",
          "text": [
            "roc_auc 0.8810668945312499\n"
          ],
          "name": "stdout"
        },
        {
          "output_type": "stream",
          "text": [
            "\r 88%|████████▊ | 69/78 [01:24<00:11,  1.23s/it]"
          ],
          "name": "stderr"
        },
        {
          "output_type": "stream",
          "text": [
            "roc_auc 0.8005615234375001\n"
          ],
          "name": "stdout"
        },
        {
          "output_type": "stream",
          "text": [
            "\r 90%|████████▉ | 70/78 [01:26<00:09,  1.22s/it]"
          ],
          "name": "stderr"
        },
        {
          "output_type": "stream",
          "text": [
            "roc_auc 0.73311767578125\n"
          ],
          "name": "stdout"
        },
        {
          "output_type": "stream",
          "text": [
            "\r 91%|█████████ | 71/78 [01:27<00:08,  1.22s/it]"
          ],
          "name": "stderr"
        },
        {
          "output_type": "stream",
          "text": [
            "roc_auc 0.59827880859375\n"
          ],
          "name": "stdout"
        },
        {
          "output_type": "stream",
          "text": [
            "\r 92%|█████████▏| 72/78 [01:28<00:07,  1.22s/it]"
          ],
          "name": "stderr"
        },
        {
          "output_type": "stream",
          "text": [
            "roc_auc 0.8785278320312498\n"
          ],
          "name": "stdout"
        },
        {
          "output_type": "stream",
          "text": [
            "\r 94%|█████████▎| 73/78 [01:29<00:06,  1.22s/it]"
          ],
          "name": "stderr"
        },
        {
          "output_type": "stream",
          "text": [
            "roc_auc 0.80849609375\n"
          ],
          "name": "stdout"
        },
        {
          "output_type": "stream",
          "text": [
            "\r 95%|█████████▍| 74/78 [01:30<00:04,  1.22s/it]"
          ],
          "name": "stderr"
        },
        {
          "output_type": "stream",
          "text": [
            "roc_auc 0.8863403320312501\n"
          ],
          "name": "stdout"
        },
        {
          "output_type": "stream",
          "text": [
            "\r 96%|█████████▌| 75/78 [01:32<00:03,  1.22s/it]"
          ],
          "name": "stderr"
        },
        {
          "output_type": "stream",
          "text": [
            "roc_auc 0.7942016601562499\n"
          ],
          "name": "stdout"
        },
        {
          "output_type": "stream",
          "text": [
            "\r 97%|█████████▋| 76/78 [01:33<00:02,  1.22s/it]"
          ],
          "name": "stderr"
        },
        {
          "output_type": "stream",
          "text": [
            "roc_auc 0.8679443359375\n"
          ],
          "name": "stdout"
        },
        {
          "output_type": "stream",
          "text": [
            "\r 99%|█████████▊| 77/78 [01:34<00:01,  1.22s/it]"
          ],
          "name": "stderr"
        },
        {
          "output_type": "stream",
          "text": [
            "roc_auc 0.8221069335937501\n"
          ],
          "name": "stdout"
        },
        {
          "output_type": "stream",
          "text": [
            "100%|██████████| 78/78 [01:35<00:00,  1.23s/it]\n",
            "100%|██████████| 115/115 [00:25<00:00,  4.49it/s]\n",
            "100%|██████████| 496/496 [00:00<00:00, 1815.31it/s]\n",
            "Epoch 3, train_loss: 0.38568351494196146, train_score: 0.7833154922876598, valid_score: 0.21013043332634118, time: 122.60627818107605\n",
            "  0%|          | 0/78 [00:00<?, ?it/s]"
          ],
          "name": "stderr"
        },
        {
          "output_type": "stream",
          "text": [
            "roc_auc 0.75804443359375\n"
          ],
          "name": "stdout"
        },
        {
          "output_type": "stream",
          "text": [
            "\r  1%|▏         | 1/78 [00:01<01:35,  1.24s/it]"
          ],
          "name": "stderr"
        },
        {
          "output_type": "stream",
          "text": [
            "roc_auc 0.65279541015625\n"
          ],
          "name": "stdout"
        },
        {
          "output_type": "stream",
          "text": [
            "\r  3%|▎         | 2/78 [00:02<01:33,  1.23s/it]"
          ],
          "name": "stderr"
        },
        {
          "output_type": "stream",
          "text": [
            "roc_auc 0.80023193359375\n"
          ],
          "name": "stdout"
        },
        {
          "output_type": "stream",
          "text": [
            "\r  4%|▍         | 3/78 [00:03<01:32,  1.23s/it]"
          ],
          "name": "stderr"
        },
        {
          "output_type": "stream",
          "text": [
            "roc_auc 0.9248291015625001\n"
          ],
          "name": "stdout"
        },
        {
          "output_type": "stream",
          "text": [
            "\r  5%|▌         | 4/78 [00:04<01:30,  1.22s/it]"
          ],
          "name": "stderr"
        },
        {
          "output_type": "stream",
          "text": [
            "roc_auc 0.8579956054687501\n"
          ],
          "name": "stdout"
        },
        {
          "output_type": "stream",
          "text": [
            "\r  6%|▋         | 5/78 [00:06<01:29,  1.22s/it]"
          ],
          "name": "stderr"
        },
        {
          "output_type": "stream",
          "text": [
            "roc_auc 0.8895019531250001\n"
          ],
          "name": "stdout"
        },
        {
          "output_type": "stream",
          "text": [
            "\r  8%|▊         | 6/78 [00:07<01:27,  1.22s/it]"
          ],
          "name": "stderr"
        },
        {
          "output_type": "stream",
          "text": [
            "roc_auc 0.8191284179687499\n"
          ],
          "name": "stdout"
        },
        {
          "output_type": "stream",
          "text": [
            "\r  9%|▉         | 7/78 [00:08<01:26,  1.22s/it]"
          ],
          "name": "stderr"
        },
        {
          "output_type": "stream",
          "text": [
            "roc_auc 0.7987548828125001\n"
          ],
          "name": "stdout"
        },
        {
          "output_type": "stream",
          "text": [
            "\r 10%|█         | 8/78 [00:09<01:25,  1.22s/it]"
          ],
          "name": "stderr"
        },
        {
          "output_type": "stream",
          "text": [
            "roc_auc 0.8821166992187501\n"
          ],
          "name": "stdout"
        },
        {
          "output_type": "stream",
          "text": [
            "\r 12%|█▏        | 9/78 [00:10<01:24,  1.22s/it]"
          ],
          "name": "stderr"
        },
        {
          "output_type": "stream",
          "text": [
            "roc_auc 0.91204833984375\n"
          ],
          "name": "stdout"
        },
        {
          "output_type": "stream",
          "text": [
            "\r 13%|█▎        | 10/78 [00:12<01:22,  1.22s/it]"
          ],
          "name": "stderr"
        },
        {
          "output_type": "stream",
          "text": [
            "roc_auc 0.7786865234375001\n"
          ],
          "name": "stdout"
        },
        {
          "output_type": "stream",
          "text": [
            "\r 14%|█▍        | 11/78 [00:13<01:21,  1.22s/it]"
          ],
          "name": "stderr"
        },
        {
          "output_type": "stream",
          "text": [
            "roc_auc 0.92569580078125\n"
          ],
          "name": "stdout"
        },
        {
          "output_type": "stream",
          "text": [
            "\r 15%|█▌        | 12/78 [00:14<01:20,  1.22s/it]"
          ],
          "name": "stderr"
        },
        {
          "output_type": "stream",
          "text": [
            "roc_auc 0.7813110351562499\n"
          ],
          "name": "stdout"
        },
        {
          "output_type": "stream",
          "text": [
            "\r 17%|█▋        | 13/78 [00:15<01:19,  1.22s/it]"
          ],
          "name": "stderr"
        },
        {
          "output_type": "stream",
          "text": [
            "roc_auc 0.7140258789062499\n"
          ],
          "name": "stdout"
        }
      ]
    },
    {
      "cell_type": "markdown",
      "metadata": {
        "colab_type": "text",
        "id": "yFQxlZT--VyT"
      },
      "source": [
        "## 学習モデルを用いて提出ファイル作成"
      ]
    },
    {
      "cell_type": "code",
      "metadata": {
        "colab_type": "code",
        "id": "VD34AvNo_L8H",
        "colab": {}
      },
      "source": [
        "model = KDDModel().to(device)\n",
        "model.load_state_dict(torch.load(MODEL_DIR+f'best_param_{DATE}_{VER}.pt'))"
      ],
      "execution_count": 0,
      "outputs": []
    },
    {
      "cell_type": "code",
      "metadata": {
        "id": "mf66LPuDNxUL",
        "colab_type": "code",
        "colab": {}
      },
      "source": [
        "# # Mutiple GPU使った場合\n",
        "\n",
        "# def fix_model_state_dict(state_dict):\n",
        "#     new_state_dict = OrderedDict()\n",
        "#     for k, v in state_dict.items():\n",
        "#         name = k\n",
        "#         if name.startswith('module.'):\n",
        "#             name = name[7:]  # remove 'module.' of dataparallel\n",
        "#         new_state_dict[name] = v\n",
        "#     return new_state_dict\n",
        "\n",
        "# model = KDDModel().to(device)\n",
        "# model.load_state_dict(fix_model_state_dict(torch.load(MODEL_DIR+f'best_param.pt')))"
      ],
      "execution_count": 0,
      "outputs": []
    },
    {
      "cell_type": "code",
      "metadata": {
        "colab_type": "code",
        "id": "nGVfkoEf_Lpd",
        "colab": {}
      },
      "source": [
        "def make_submit_df(df_test, model):\n",
        "    dataset_test = KDDDataset(df_test, train_mode=False)\n",
        "    test_loader = DataLoader(dataset_test, batch_size=128, shuffle=False, num_workers=0, drop_last=False)\n",
        "    out_list = test_model(test_loader, model)\n",
        "\n",
        "    for i, out in enumerate(out_list):\n",
        "        if i==0:\n",
        "            out_array = out.squeeze()\n",
        "        else:\n",
        "            out_array = torch.cat([out_array, out.squeeze()], dim=-1)\n",
        "\n",
        "    out_array = out_array.cpu().detach().numpy()\n",
        "    df_test['score'] = out_array\n",
        "    \n",
        "    # sort and group by\n",
        "    df_test = df_test.sort_values(by=\"score\", ascending=False)\n",
        "    grouped = df_test.groupby(\"query_id\").head(5)\n",
        "    \n",
        "    submit_df = pd.DataFrame(columns=['query-id','product1','product2','product3','product4','product5'])\n",
        "    for i, q_id in enumerate(tqdm(grouped['query_id'].unique())):\n",
        "        submit_df.loc[i, 'query-id'] = q_id\n",
        "        submit_df.iloc[i, 1:] = grouped.loc[(grouped['query_id']==q_id), 'product_id'].values\n",
        "    submit_df = submit_df.astype(int)\n",
        "    submit_df = submit_df.sort_values(by='query-id')\n",
        "    submit_df = submit_df.reset_index(drop=True)\n",
        "    \n",
        "    return submit_df"
      ],
      "execution_count": 0,
      "outputs": []
    },
    {
      "cell_type": "code",
      "metadata": {
        "colab_type": "code",
        "id": "0JiU01lb_LZ7",
        "colab": {}
      },
      "source": [
        "submit_df = make_submit_df(testA, model)\n",
        "submit_df.to_csv(SUBMIT_DIR+f'submission_{DATE}_{VER}.csv', index=False)"
      ],
      "execution_count": 0,
      "outputs": []
    },
    {
      "cell_type": "code",
      "metadata": {
        "colab_type": "code",
        "id": "wSrMWqt4B_Ez",
        "colab": {}
      },
      "source": [
        ""
      ],
      "execution_count": 0,
      "outputs": []
    }
  ]
}