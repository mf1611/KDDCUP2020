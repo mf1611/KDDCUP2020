{
 "cells": [
  {
   "cell_type": "code",
   "execution_count": 1,
   "metadata": {},
   "outputs": [],
   "source": [
    "import pandas as pd\n",
    "import numpy as np\n",
    "import datetime\n",
    "import random\n",
    "import os\n",
    "import time\n",
    "import gc\n",
    "from glob import glob\n",
    "from tqdm import tqdm_notebook as tqdm\n",
    "import pickle\n",
    "\n",
    "import base64\n",
    "import swifter\n",
    "import gensim\n",
    "\n",
    "from sklearn.metrics import mean_absolute_error\n",
    "import lightgbm as lgb\n",
    "from sklearn.utils import shuffle\n",
    "from sklearn.model_selection import KFold, StratifiedKFold, GroupKFold\n",
    "from sklearn.metrics import mean_squared_error, roc_auc_score\n",
    "import matplotlib.pyplot as plt\n",
    "import japanize_matplotlib\n",
    "import seaborn as sns\n",
    "\n",
    "import torch\n",
    "import torch.nn.functional as F\n",
    "from torch import nn\n",
    "from torch.utils.data import DataLoader, Dataset\n",
    "\n",
    "pd.set_option('display.max_columns', 500)"
   ]
  },
  {
   "cell_type": "code",
   "execution_count": 2,
   "metadata": {},
   "outputs": [
    {
     "name": "stderr",
     "output_type": "stream",
     "text": [
      "Using TensorFlow backend.\n"
     ]
    },
    {
     "name": "stdout",
     "output_type": "stream",
     "text": [
      "2.2.2\n"
     ]
    }
   ],
   "source": [
    "import torch\n",
    "import torch.nn.functional as F\n",
    "from torch import nn\n",
    "from torch.utils import data\n",
    "from torch.utils.data import DataLoader, Dataset\n",
    "\n",
    "import keras\n",
    "from keras.preprocessing.sequence import pad_sequences\n",
    "\n",
    "import networkx as nx\n",
    "import dgl\n",
    "import dgl.function as fn\n",
    "from dgl.nn.pytorch import GraphConv\n",
    "\n",
    "import transformers\n",
    "from transformers import (\n",
    "    BertTokenizer, BertModel, BertForSequenceClassification, BertConfig,\n",
    "    WEIGHTS_NAME, CONFIG_NAME, AdamW, get_linear_schedule_with_warmup, \n",
    "    get_cosine_schedule_with_warmup,DistilBertTokenizer,DistilBertModel\n",
    ")\n",
    "\n",
    "from tqdm import tqdm\n",
    "print(transformers.__version__)"
   ]
  },
  {
   "cell_type": "code",
   "execution_count": 3,
   "metadata": {},
   "outputs": [],
   "source": [
    "DATA_DIR = 'D:/project/ICF_AutoCapsule_disabled/kddcup2020/data/'\n",
    "W2V_DIR = 'D:/project/ICF_AutoCapsule_disabled/kddcup2020/w2v/'\n",
    "BERT_DIR = 'D:/project/ICF_AutoCapsule_disabled/BERT/'"
   ]
  },
  {
   "cell_type": "markdown",
   "metadata": {},
   "source": [
    "### データ読み込み"
   ]
  },
  {
   "cell_type": "code",
   "execution_count": 4,
   "metadata": {},
   "outputs": [
    {
     "name": "stdout",
     "output_type": "stream",
     "text": [
      "(10000, 9)\n"
     ]
    },
    {
     "data": {
      "text/html": [
       "<div>\n",
       "<style scoped>\n",
       "    .dataframe tbody tr th:only-of-type {\n",
       "        vertical-align: middle;\n",
       "    }\n",
       "\n",
       "    .dataframe tbody tr th {\n",
       "        vertical-align: top;\n",
       "    }\n",
       "\n",
       "    .dataframe thead th {\n",
       "        text-align: right;\n",
       "    }\n",
       "</style>\n",
       "<table border=\"1\" class=\"dataframe\">\n",
       "  <thead>\n",
       "    <tr style=\"text-align: right;\">\n",
       "      <th></th>\n",
       "      <th>product_id</th>\n",
       "      <th>image_h</th>\n",
       "      <th>image_w</th>\n",
       "      <th>num_boxes</th>\n",
       "      <th>boxes</th>\n",
       "      <th>features</th>\n",
       "      <th>class_labels</th>\n",
       "      <th>query</th>\n",
       "      <th>query_id</th>\n",
       "    </tr>\n",
       "  </thead>\n",
       "  <tbody>\n",
       "    <tr>\n",
       "      <td>0</td>\n",
       "      <td>102851856</td>\n",
       "      <td>338</td>\n",
       "      <td>209</td>\n",
       "      <td>2</td>\n",
       "      <td>AAAAAAAAQEAAAKlDAABPQwAAb0MAALBBAICmQwAATEM=</td>\n",
       "      <td>AAAAAAAAAAAnNsFAAAAAAOeVGD0AAAAAAAAAAAAAAAAAAA...</td>\n",
       "      <td>HAAAAAAAAAAcAAAAAAAAAA==</td>\n",
       "      <td>treble popular reed</td>\n",
       "      <td>923271</td>\n",
       "    </tr>\n",
       "    <tr>\n",
       "      <td>1</td>\n",
       "      <td>101783080</td>\n",
       "      <td>80</td>\n",
       "      <td>61</td>\n",
       "      <td>1</td>\n",
       "      <td>AACgQAAAoEAAAJZCAABgQg==</td>\n",
       "      <td>AAAAADnKfjyatb8/AAAAALxPBz0MH6E9xwkoPAAAAAAAAA...</td>\n",
       "      <td>HAAAAAAAAAA=</td>\n",
       "      <td>compatible ink cartridges</td>\n",
       "      <td>234031</td>\n",
       "    </tr>\n",
       "    <tr>\n",
       "      <td>2</td>\n",
       "      <td>100492797</td>\n",
       "      <td>750</td>\n",
       "      <td>750</td>\n",
       "      <td>1</td>\n",
       "      <td>AAAsQgCAg0MAgCREAADqQw==</td>\n",
       "      <td>AAAAAAAAAABmUlE/AAAAABvc0jwAAAAAAAAAAAAAAAAAAA...</td>\n",
       "      <td>BwAAAAAAAAA=</td>\n",
       "      <td>check new look facial cream</td>\n",
       "      <td>199926</td>\n",
       "    </tr>\n",
       "    <tr>\n",
       "      <td>3</td>\n",
       "      <td>101708088</td>\n",
       "      <td>480</td>\n",
       "      <td>640</td>\n",
       "      <td>5</td>\n",
       "      <td>AAB6QwCA0kMAANBDAMAeRAAAfEMAAKBAAIDWQwAAVkMAAH...</td>\n",
       "      <td>AAAAAAAAAAAAAAAAAAAAAAXyfz4AAAAAAAAAAAAAAAAAAA...</td>\n",
       "      <td>HAAAAAAAAAAcAAAAAAAAABwAAAAAAAAAHAAAAAAAAAAcAA...</td>\n",
       "      <td>royal commemorative stamp</td>\n",
       "      <td>772725</td>\n",
       "    </tr>\n",
       "    <tr>\n",
       "      <td>4</td>\n",
       "      <td>100316842</td>\n",
       "      <td>800</td>\n",
       "      <td>800</td>\n",
       "      <td>4</td>\n",
       "      <td>AAAKQwCAgEMAADNEAAAHRAAAIkMAwCZEAACqQwDARkQAAE...</td>\n",
       "      <td>AAAAADSdaTwVTdA8AAAAAAAAAAAAAAAAAAAAAAAAAAAAAA...</td>\n",
       "      <td>HAAAAAAAAAAGAAAAAAAAAAYAAAAAAAAAHAAAAAAAAAA=</td>\n",
       "      <td>calendula baby shower gel</td>\n",
       "      <td>362576</td>\n",
       "    </tr>\n",
       "  </tbody>\n",
       "</table>\n",
       "</div>"
      ],
      "text/plain": [
       "   product_id  image_h  image_w  num_boxes  \\\n",
       "0   102851856      338      209          2   \n",
       "1   101783080       80       61          1   \n",
       "2   100492797      750      750          1   \n",
       "3   101708088      480      640          5   \n",
       "4   100316842      800      800          4   \n",
       "\n",
       "                                               boxes  \\\n",
       "0       AAAAAAAAQEAAAKlDAABPQwAAb0MAALBBAICmQwAATEM=   \n",
       "1                           AACgQAAAoEAAAJZCAABgQg==   \n",
       "2                           AAAsQgCAg0MAgCREAADqQw==   \n",
       "3  AAB6QwCA0kMAANBDAMAeRAAAfEMAAKBAAIDWQwAAVkMAAH...   \n",
       "4  AAAKQwCAgEMAADNEAAAHRAAAIkMAwCZEAACqQwDARkQAAE...   \n",
       "\n",
       "                                            features  \\\n",
       "0  AAAAAAAAAAAnNsFAAAAAAOeVGD0AAAAAAAAAAAAAAAAAAA...   \n",
       "1  AAAAADnKfjyatb8/AAAAALxPBz0MH6E9xwkoPAAAAAAAAA...   \n",
       "2  AAAAAAAAAABmUlE/AAAAABvc0jwAAAAAAAAAAAAAAAAAAA...   \n",
       "3  AAAAAAAAAAAAAAAAAAAAAAXyfz4AAAAAAAAAAAAAAAAAAA...   \n",
       "4  AAAAADSdaTwVTdA8AAAAAAAAAAAAAAAAAAAAAAAAAAAAAA...   \n",
       "\n",
       "                                        class_labels  \\\n",
       "0                           HAAAAAAAAAAcAAAAAAAAAA==   \n",
       "1                                       HAAAAAAAAAA=   \n",
       "2                                       BwAAAAAAAAA=   \n",
       "3  HAAAAAAAAAAcAAAAAAAAABwAAAAAAAAAHAAAAAAAAAAcAA...   \n",
       "4       HAAAAAAAAAAGAAAAAAAAAAYAAAAAAAAAHAAAAAAAAAA=   \n",
       "\n",
       "                         query  query_id  \n",
       "0          treble popular reed    923271  \n",
       "1    compatible ink cartridges    234031  \n",
       "2  check new look facial cream    199926  \n",
       "3    royal commemorative stamp    772725  \n",
       "4    calendula baby shower gel    362576  "
      ]
     },
     "execution_count": 4,
     "metadata": {},
     "output_type": "execute_result"
    }
   ],
   "source": [
    "train = pd.read_csv(DATA_DIR+'train/train.sample.tsv', sep='\\t')\n",
    "print(train.shape)\n",
    "train.head()"
   ]
  },
  {
   "cell_type": "code",
   "execution_count": 5,
   "metadata": {},
   "outputs": [
    {
     "name": "stdout",
     "output_type": "stream",
     "text": [
      "(14720, 9)\n"
     ]
    },
    {
     "data": {
      "text/html": [
       "<div>\n",
       "<style scoped>\n",
       "    .dataframe tbody tr th:only-of-type {\n",
       "        vertical-align: middle;\n",
       "    }\n",
       "\n",
       "    .dataframe tbody tr th {\n",
       "        vertical-align: top;\n",
       "    }\n",
       "\n",
       "    .dataframe thead th {\n",
       "        text-align: right;\n",
       "    }\n",
       "</style>\n",
       "<table border=\"1\" class=\"dataframe\">\n",
       "  <thead>\n",
       "    <tr style=\"text-align: right;\">\n",
       "      <th></th>\n",
       "      <th>product_id</th>\n",
       "      <th>image_h</th>\n",
       "      <th>image_w</th>\n",
       "      <th>num_boxes</th>\n",
       "      <th>boxes</th>\n",
       "      <th>features</th>\n",
       "      <th>class_labels</th>\n",
       "      <th>query</th>\n",
       "      <th>query_id</th>\n",
       "    </tr>\n",
       "  </thead>\n",
       "  <tbody>\n",
       "    <tr>\n",
       "      <td>0</td>\n",
       "      <td>103047314</td>\n",
       "      <td>800</td>\n",
       "      <td>800</td>\n",
       "      <td>2</td>\n",
       "      <td>AACoQgAA5EIAAKdDAIDuQwCAq0MAAJBCAMA3RABAHkQ=</td>\n",
       "      <td>AAAAAAAAAAAAAAAAAAAAAAAAAAAAAAAAAAAAAAAAAAAAAA...</td>\n",
       "      <td>BAAAAAAAAAAEAAAAAAAAAA==</td>\n",
       "      <td>breathable and comfortable children's shoes</td>\n",
       "      <td>0</td>\n",
       "    </tr>\n",
       "    <tr>\n",
       "      <td>1</td>\n",
       "      <td>103030678</td>\n",
       "      <td>800</td>\n",
       "      <td>800</td>\n",
       "      <td>9</td>\n",
       "      <td>AIDRQwAAoEAAwEJEAABpQwAAA0MAgMlDAABHRAAAIkQAgL...</td>\n",
       "      <td>AAAAAAAAAACdFBI7AAAAAAAAAABu+j0+AAAAAAAAAAAAAA...</td>\n",
       "      <td>BAAAAAAAAAAEAAAAAAAAAAQAAAAAAAAAHQAAAAAAAAAEAA...</td>\n",
       "      <td>breathable and comfortable children's shoes</td>\n",
       "      <td>0</td>\n",
       "    </tr>\n",
       "    <tr>\n",
       "      <td>2</td>\n",
       "      <td>103031217</td>\n",
       "      <td>488</td>\n",
       "      <td>750</td>\n",
       "      <td>2</td>\n",
       "      <td>AABGQwAANEIAgNNDAADsQwAAUEIAALVDAADRQwCALEQ=</td>\n",
       "      <td>AAAAAAAAAAAAAAAAAAAAAAAAAAAAAAAAAAAAAAAAAAAAAA...</td>\n",
       "      <td>BAAAAAAAAAAEAAAAAAAAAA==</td>\n",
       "      <td>breathable and comfortable children's shoes</td>\n",
       "      <td>0</td>\n",
       "    </tr>\n",
       "    <tr>\n",
       "      <td>3</td>\n",
       "      <td>103026621</td>\n",
       "      <td>929</td>\n",
       "      <td>800</td>\n",
       "      <td>10</td>\n",
       "      <td>AACtQwCAA0QAgPxDAIAoRAAAekMAALdDAACwQwCA30MAgK...</td>\n",
       "      <td>AAAAAAAAAAAAAAAAAAAAAAAAAAAAAAAAAAAAAAAAAAAAAA...</td>\n",
       "      <td>HAAAAAAAAAAdAAAAAAAAAAAAAAAAAAAACQAAAAAAAAAJAA...</td>\n",
       "      <td>breathable and comfortable children's shoes</td>\n",
       "      <td>0</td>\n",
       "    </tr>\n",
       "    <tr>\n",
       "      <td>4</td>\n",
       "      <td>103017048</td>\n",
       "      <td>800</td>\n",
       "      <td>800</td>\n",
       "      <td>2</td>\n",
       "      <td>AAA+QwCAi0MAgAtEAMA0RAAAqEMAAHhCAMA1RABADUQ=</td>\n",
       "      <td>AAAAAAAAAADIb2s9AAAAAAAAAAAAAAAAAAAAAAAAAAAAAA...</td>\n",
       "      <td>BAAAAAAAAAAEAAAAAAAAAA==</td>\n",
       "      <td>breathable and comfortable children's shoes</td>\n",
       "      <td>0</td>\n",
       "    </tr>\n",
       "  </tbody>\n",
       "</table>\n",
       "</div>"
      ],
      "text/plain": [
       "   product_id  image_h  image_w  num_boxes  \\\n",
       "0   103047314      800      800          2   \n",
       "1   103030678      800      800          9   \n",
       "2   103031217      488      750          2   \n",
       "3   103026621      929      800         10   \n",
       "4   103017048      800      800          2   \n",
       "\n",
       "                                               boxes  \\\n",
       "0       AACoQgAA5EIAAKdDAIDuQwCAq0MAAJBCAMA3RABAHkQ=   \n",
       "1  AIDRQwAAoEAAwEJEAABpQwAAA0MAgMlDAABHRAAAIkQAgL...   \n",
       "2       AABGQwAANEIAgNNDAADsQwAAUEIAALVDAADRQwCALEQ=   \n",
       "3  AACtQwCAA0QAgPxDAIAoRAAAekMAALdDAACwQwCA30MAgK...   \n",
       "4       AAA+QwCAi0MAgAtEAMA0RAAAqEMAAHhCAMA1RABADUQ=   \n",
       "\n",
       "                                            features  \\\n",
       "0  AAAAAAAAAAAAAAAAAAAAAAAAAAAAAAAAAAAAAAAAAAAAAA...   \n",
       "1  AAAAAAAAAACdFBI7AAAAAAAAAABu+j0+AAAAAAAAAAAAAA...   \n",
       "2  AAAAAAAAAAAAAAAAAAAAAAAAAAAAAAAAAAAAAAAAAAAAAA...   \n",
       "3  AAAAAAAAAAAAAAAAAAAAAAAAAAAAAAAAAAAAAAAAAAAAAA...   \n",
       "4  AAAAAAAAAADIb2s9AAAAAAAAAAAAAAAAAAAAAAAAAAAAAA...   \n",
       "\n",
       "                                        class_labels  \\\n",
       "0                           BAAAAAAAAAAEAAAAAAAAAA==   \n",
       "1  BAAAAAAAAAAEAAAAAAAAAAQAAAAAAAAAHQAAAAAAAAAEAA...   \n",
       "2                           BAAAAAAAAAAEAAAAAAAAAA==   \n",
       "3  HAAAAAAAAAAdAAAAAAAAAAAAAAAAAAAACQAAAAAAAAAJAA...   \n",
       "4                           BAAAAAAAAAAEAAAAAAAAAA==   \n",
       "\n",
       "                                         query  query_id  \n",
       "0  breathable and comfortable children's shoes         0  \n",
       "1  breathable and comfortable children's shoes         0  \n",
       "2  breathable and comfortable children's shoes         0  \n",
       "3  breathable and comfortable children's shoes         0  \n",
       "4  breathable and comfortable children's shoes         0  "
      ]
     },
     "execution_count": 5,
     "metadata": {},
     "output_type": "execute_result"
    }
   ],
   "source": [
    "valid = pd.read_csv(DATA_DIR+'valid/valid.tsv', sep='\\t')\n",
    "print(valid.shape)\n",
    "valid.head()"
   ]
  },
  {
   "cell_type": "code",
   "execution_count": 6,
   "metadata": {},
   "outputs": [
    {
     "name": "stdout",
     "output_type": "stream",
     "text": [
      "(28830, 9)\n"
     ]
    },
    {
     "data": {
      "text/html": [
       "<div>\n",
       "<style scoped>\n",
       "    .dataframe tbody tr th:only-of-type {\n",
       "        vertical-align: middle;\n",
       "    }\n",
       "\n",
       "    .dataframe tbody tr th {\n",
       "        vertical-align: top;\n",
       "    }\n",
       "\n",
       "    .dataframe thead th {\n",
       "        text-align: right;\n",
       "    }\n",
       "</style>\n",
       "<table border=\"1\" class=\"dataframe\">\n",
       "  <thead>\n",
       "    <tr style=\"text-align: right;\">\n",
       "      <th></th>\n",
       "      <th>product_id</th>\n",
       "      <th>image_h</th>\n",
       "      <th>image_w</th>\n",
       "      <th>num_boxes</th>\n",
       "      <th>boxes</th>\n",
       "      <th>features</th>\n",
       "      <th>class_labels</th>\n",
       "      <th>query</th>\n",
       "      <th>query_id</th>\n",
       "    </tr>\n",
       "  </thead>\n",
       "  <tbody>\n",
       "    <tr>\n",
       "      <td>0</td>\n",
       "      <td>103052445</td>\n",
       "      <td>798</td>\n",
       "      <td>798</td>\n",
       "      <td>1</td>\n",
       "      <td>AIC3QwAAF0MAABxEAMAtRA==</td>\n",
       "      <td>AAAAAAAAAABwKQE9AAAAAAAAAAAAAAAAAAAAAAAAAAAAAA...</td>\n",
       "      <td>BAAAAAAAAAA=</td>\n",
       "      <td>straw heavy-bottomed sandals</td>\n",
       "      <td>0</td>\n",
       "    </tr>\n",
       "    <tr>\n",
       "      <td>1</td>\n",
       "      <td>103044513</td>\n",
       "      <td>800</td>\n",
       "      <td>800</td>\n",
       "      <td>1</td>\n",
       "      <td>AABqQwAAzEIAADJEAMAgRA==</td>\n",
       "      <td>AAAAAAAAAAAAAAAAAAAAAAAAAAAAAAAAAAAAAAAAAAAAAA...</td>\n",
       "      <td>BAAAAAAAAAA=</td>\n",
       "      <td>straw heavy-bottomed sandals</td>\n",
       "      <td>0</td>\n",
       "    </tr>\n",
       "    <tr>\n",
       "      <td>2</td>\n",
       "      <td>103035030</td>\n",
       "      <td>800</td>\n",
       "      <td>800</td>\n",
       "      <td>8</td>\n",
       "      <td>AAAAQwAAAEEAgNRDAICGQwAAUEEAAPBBAACUQgAA3EIAAI...</td>\n",
       "      <td>AAAAAAAAAABFkBg+AAAAAM5daTwAAAAAAAAAAAAAAAAAAA...</td>\n",
       "      <td>AAAAAAAAAAAFAAAAAAAAAAIAAAAAAAAAAwAAAAAAAAAEAA...</td>\n",
       "      <td>straw heavy-bottomed sandals</td>\n",
       "      <td>0</td>\n",
       "    </tr>\n",
       "    <tr>\n",
       "      <td>3</td>\n",
       "      <td>103036197</td>\n",
       "      <td>800</td>\n",
       "      <td>800</td>\n",
       "      <td>3</td>\n",
       "      <td>AAAmQwAAwEEAwC1EAICqQwAAJ0MAAFJDAAA1RADAAkQAAE...</td>\n",
       "      <td>AAAAAAAAAAD2rhE+AAAAAAAAAADbLAw+AAAAANGzLD4AAA...</td>\n",
       "      <td>BAAAAAAAAAAEAAAAAAAAAAQAAAAAAAAA</td>\n",
       "      <td>straw heavy-bottomed sandals</td>\n",
       "      <td>0</td>\n",
       "    </tr>\n",
       "    <tr>\n",
       "      <td>4</td>\n",
       "      <td>103055323</td>\n",
       "      <td>800</td>\n",
       "      <td>800</td>\n",
       "      <td>1</td>\n",
       "      <td>AABUQwAA+EEAgChEAEBCRA==</td>\n",
       "      <td>AAAAAKzRGTs0osc+kJpVPAAAAAAAAAAAAAAAAAAAAAAAAA...</td>\n",
       "      <td>BAAAAAAAAAA=</td>\n",
       "      <td>straw heavy-bottomed sandals</td>\n",
       "      <td>0</td>\n",
       "    </tr>\n",
       "  </tbody>\n",
       "</table>\n",
       "</div>"
      ],
      "text/plain": [
       "   product_id  image_h  image_w  num_boxes  \\\n",
       "0   103052445      798      798          1   \n",
       "1   103044513      800      800          1   \n",
       "2   103035030      800      800          8   \n",
       "3   103036197      800      800          3   \n",
       "4   103055323      800      800          1   \n",
       "\n",
       "                                               boxes  \\\n",
       "0                           AIC3QwAAF0MAABxEAMAtRA==   \n",
       "1                           AABqQwAAzEIAADJEAMAgRA==   \n",
       "2  AAAAQwAAAEEAgNRDAICGQwAAUEEAAPBBAACUQgAA3EIAAI...   \n",
       "3  AAAmQwAAwEEAwC1EAICqQwAAJ0MAAFJDAAA1RADAAkQAAE...   \n",
       "4                           AABUQwAA+EEAgChEAEBCRA==   \n",
       "\n",
       "                                            features  \\\n",
       "0  AAAAAAAAAABwKQE9AAAAAAAAAAAAAAAAAAAAAAAAAAAAAA...   \n",
       "1  AAAAAAAAAAAAAAAAAAAAAAAAAAAAAAAAAAAAAAAAAAAAAA...   \n",
       "2  AAAAAAAAAABFkBg+AAAAAM5daTwAAAAAAAAAAAAAAAAAAA...   \n",
       "3  AAAAAAAAAAD2rhE+AAAAAAAAAADbLAw+AAAAANGzLD4AAA...   \n",
       "4  AAAAAKzRGTs0osc+kJpVPAAAAAAAAAAAAAAAAAAAAAAAAA...   \n",
       "\n",
       "                                        class_labels  \\\n",
       "0                                       BAAAAAAAAAA=   \n",
       "1                                       BAAAAAAAAAA=   \n",
       "2  AAAAAAAAAAAFAAAAAAAAAAIAAAAAAAAAAwAAAAAAAAAEAA...   \n",
       "3                   BAAAAAAAAAAEAAAAAAAAAAQAAAAAAAAA   \n",
       "4                                       BAAAAAAAAAA=   \n",
       "\n",
       "                          query  query_id  \n",
       "0  straw heavy-bottomed sandals         0  \n",
       "1  straw heavy-bottomed sandals         0  \n",
       "2  straw heavy-bottomed sandals         0  \n",
       "3  straw heavy-bottomed sandals         0  \n",
       "4  straw heavy-bottomed sandals         0  "
      ]
     },
     "execution_count": 6,
     "metadata": {},
     "output_type": "execute_result"
    }
   ],
   "source": [
    "testA = pd.read_csv(DATA_DIR+'testA/testA.tsv', sep='\\t')\n",
    "print(testA.shape)\n",
    "testA.head()"
   ]
  },
  {
   "cell_type": "markdown",
   "metadata": {},
   "source": [
    "### データのデコード"
   ]
  },
  {
   "cell_type": "code",
   "execution_count": 7,
   "metadata": {},
   "outputs": [],
   "source": [
    "def transform_boxes(df_row):\n",
    "    return np.frombuffer(base64.b64decode(df_row.boxes), dtype=np.float32).reshape(df_row.num_boxes, 4)\n",
    "\n",
    "def transform_features(df_row):\n",
    "    return np.frombuffer(base64.b64decode(df_row.features), dtype=np.float32).reshape(df_row.num_boxes, 2048)\n",
    "\n",
    "def transform_class_labels(df_row):\n",
    "    return np.frombuffer(base64.b64decode(df_row.class_labels), dtype=np.int64).reshape(df_row.num_boxes)\n",
    "\n",
    "def transform_df(df):\n",
    "    df.boxes = df.swifter.apply(transform_boxes, axis=1)\n",
    "    df.features = df.swifter.apply(transform_features, axis=1)\n",
    "    df.class_labels = df.swifter.apply(transform_class_labels, axis=1)\n",
    "    return df"
   ]
  },
  {
   "cell_type": "code",
   "execution_count": 8,
   "metadata": {},
   "outputs": [
    {
     "data": {
      "application/vnd.jupyter.widget-view+json": {
       "model_id": "c84790f9530141169df209d67be215b1",
       "version_major": 2,
       "version_minor": 0
      },
      "text/plain": [
       "HBox(children=(IntProgress(value=0, description='Pandas Apply', max=10000, style=ProgressStyle(description_wid…"
      ]
     },
     "metadata": {},
     "output_type": "display_data"
    },
    {
     "name": "stdout",
     "output_type": "stream",
     "text": [
      "\n"
     ]
    },
    {
     "data": {
      "application/vnd.jupyter.widget-view+json": {
       "model_id": "8088937bcf8c486ab2588854a27cee16",
       "version_major": 2,
       "version_minor": 0
      },
      "text/plain": [
       "HBox(children=(IntProgress(value=0, description='Pandas Apply', max=10000, style=ProgressStyle(description_wid…"
      ]
     },
     "metadata": {},
     "output_type": "display_data"
    },
    {
     "name": "stdout",
     "output_type": "stream",
     "text": [
      "\n"
     ]
    },
    {
     "data": {
      "application/vnd.jupyter.widget-view+json": {
       "model_id": "243c35da394743d89cba01028a9ce3b4",
       "version_major": 2,
       "version_minor": 0
      },
      "text/plain": [
       "HBox(children=(IntProgress(value=0, description='Pandas Apply', max=10000, style=ProgressStyle(description_wid…"
      ]
     },
     "metadata": {},
     "output_type": "display_data"
    },
    {
     "name": "stdout",
     "output_type": "stream",
     "text": [
      "\n"
     ]
    },
    {
     "data": {
      "application/vnd.jupyter.widget-view+json": {
       "model_id": "998bd14364b9457885e2e9c793682fba",
       "version_major": 2,
       "version_minor": 0
      },
      "text/plain": [
       "HBox(children=(IntProgress(value=0, description='Pandas Apply', max=14720, style=ProgressStyle(description_wid…"
      ]
     },
     "metadata": {},
     "output_type": "display_data"
    },
    {
     "name": "stdout",
     "output_type": "stream",
     "text": [
      "\n"
     ]
    },
    {
     "data": {
      "application/vnd.jupyter.widget-view+json": {
       "model_id": "851fe7c93ceb4509a60b28618710a04b",
       "version_major": 2,
       "version_minor": 0
      },
      "text/plain": [
       "HBox(children=(IntProgress(value=0, description='Pandas Apply', max=14720, style=ProgressStyle(description_wid…"
      ]
     },
     "metadata": {},
     "output_type": "display_data"
    },
    {
     "name": "stdout",
     "output_type": "stream",
     "text": [
      "\n"
     ]
    },
    {
     "data": {
      "application/vnd.jupyter.widget-view+json": {
       "model_id": "37979ba067734493adbfc51c7ed978f3",
       "version_major": 2,
       "version_minor": 0
      },
      "text/plain": [
       "HBox(children=(IntProgress(value=0, description='Pandas Apply', max=14720, style=ProgressStyle(description_wid…"
      ]
     },
     "metadata": {},
     "output_type": "display_data"
    },
    {
     "name": "stdout",
     "output_type": "stream",
     "text": [
      "\n"
     ]
    },
    {
     "data": {
      "application/vnd.jupyter.widget-view+json": {
       "model_id": "cc60a086f05144c6911bf134268630ee",
       "version_major": 2,
       "version_minor": 0
      },
      "text/plain": [
       "HBox(children=(IntProgress(value=0, description='Pandas Apply', max=28830, style=ProgressStyle(description_wid…"
      ]
     },
     "metadata": {},
     "output_type": "display_data"
    },
    {
     "name": "stdout",
     "output_type": "stream",
     "text": [
      "\n"
     ]
    },
    {
     "data": {
      "application/vnd.jupyter.widget-view+json": {
       "model_id": "b776f24581e1415790cf1766465cbb93",
       "version_major": 2,
       "version_minor": 0
      },
      "text/plain": [
       "HBox(children=(IntProgress(value=0, description='Pandas Apply', max=28830, style=ProgressStyle(description_wid…"
      ]
     },
     "metadata": {},
     "output_type": "display_data"
    },
    {
     "name": "stdout",
     "output_type": "stream",
     "text": [
      "\n"
     ]
    },
    {
     "data": {
      "application/vnd.jupyter.widget-view+json": {
       "model_id": "44d5f874a0544de1ae3eaaa3017c00ab",
       "version_major": 2,
       "version_minor": 0
      },
      "text/plain": [
       "HBox(children=(IntProgress(value=0, description='Pandas Apply', max=28830, style=ProgressStyle(description_wid…"
      ]
     },
     "metadata": {},
     "output_type": "display_data"
    },
    {
     "name": "stdout",
     "output_type": "stream",
     "text": [
      "\n"
     ]
    }
   ],
   "source": [
    "train = transform_df(train)\n",
    "valid = transform_df(valid)\n",
    "testA = transform_df(testA)"
   ]
  },
  {
   "cell_type": "markdown",
   "metadata": {},
   "source": [
    "### 特徴量作成"
   ]
  },
  {
   "cell_type": "markdown",
   "metadata": {},
   "source": [
    "- boxの面積"
   ]
  },
  {
   "cell_type": "code",
   "execution_count": 9,
   "metadata": {},
   "outputs": [],
   "source": [
    "# boxの面積\n",
    "train['box_area_normalized'] = train.apply(lambda x: np.array([(xi[3]-xi[1])/x.image_w * (xi[2]-xi[0])/x.image_h for xi in x.boxes]), axis=1)\n",
    "valid['box_area_normalized'] = valid.apply(lambda x: np.array([(xi[3]-xi[1])/x.image_w * (xi[2]-xi[0])/x.image_h for xi in x.boxes]), axis=1)\n",
    "testA['box_area_normalized'] = testA.apply(lambda x: np.array([(xi[3]-xi[1])/x.image_w * (xi[2]-xi[0])/x.image_h for xi in x.boxes]), axis=1)"
   ]
  },
  {
   "cell_type": "markdown",
   "metadata": {},
   "source": [
    "- boxのクラスラベルのword2vec"
   ]
  },
  {
   "cell_type": "code",
   "execution_count": 10,
   "metadata": {},
   "outputs": [
    {
     "data": {
      "application/vnd.jupyter.widget-view+json": {
       "model_id": "332a42916da0419987c1f9e973043abb",
       "version_major": 2,
       "version_minor": 0
      },
      "text/plain": [
       "HBox(children=(IntProgress(value=0, description='Pandas Apply', max=10000, style=ProgressStyle(description_wid…"
      ]
     },
     "metadata": {},
     "output_type": "display_data"
    },
    {
     "name": "stdout",
     "output_type": "stream",
     "text": [
      "\n"
     ]
    },
    {
     "data": {
      "application/vnd.jupyter.widget-view+json": {
       "model_id": "9263cb21219e4198bcfdc731ce10e251",
       "version_major": 2,
       "version_minor": 0
      },
      "text/plain": [
       "HBox(children=(IntProgress(value=0, description='Pandas Apply', max=14720, style=ProgressStyle(description_wid…"
      ]
     },
     "metadata": {},
     "output_type": "display_data"
    },
    {
     "name": "stdout",
     "output_type": "stream",
     "text": [
      "\n"
     ]
    },
    {
     "data": {
      "application/vnd.jupyter.widget-view+json": {
       "model_id": "d7d345cbae864d5f952627cf9743c4d4",
       "version_major": 2,
       "version_minor": 0
      },
      "text/plain": [
       "HBox(children=(IntProgress(value=0, description='Pandas Apply', max=28830, style=ProgressStyle(description_wid…"
      ]
     },
     "metadata": {},
     "output_type": "display_data"
    },
    {
     "name": "stdout",
     "output_type": "stream",
     "text": [
      "\n"
     ]
    }
   ],
   "source": [
    "class_label_dict = {\n",
    "    0:'top clothes (coat, jacket, shirt, etc.)',\n",
    "    1:'skirt & dress',\n",
    "    2:'bottom clothes (trousers, pants, etc.)',\n",
    "    3:'luggage, leather goods',\n",
    "    4:'shoes',\n",
    "    5:'accessories (jewelry, clothing accessories, belts, hats, scarves, etc.)',\n",
    "    6:'snacks, nuts, liquor and tea',\n",
    "    7:'makeup, perfume, beauty tools and essential oils',\n",
    "    8:'bottle drink',\n",
    "    9:'furniture',\n",
    "    10:'stationery',\n",
    "    11:'household electrical appliances',\n",
    "    12:'home decoration',\n",
    "    13:'household fabric',\n",
    "    14:'kitchenware',\n",
    "    15:'home / personal cleaning tools',\n",
    "    16:'storage supplies',\n",
    "    17:'motorcycle, motorcycle accessories, vehicles, bicycle and riding equipment',\n",
    "    18:'outdoor product',\n",
    "    19:'lighting',\n",
    "    20:'toys',\n",
    "    21:'underwear',\n",
    "    22:'digital supplies',\n",
    "    23:'bed linens',\n",
    "    24:'baby products',\n",
    "    25:'personal care',\n",
    "    26:'sporting goods',\n",
    "    27:'clothes (accessories, baby clothing, etc.)',\n",
    "    28:'others',\n",
    "    29:'human face',\n",
    "    30:'arm',\n",
    "    31:'hair',\n",
    "    32:'hand',\n",
    "}\n",
    "\n",
    "train.class_labels = train.class_labels.swifter.apply(lambda x: (' ').join([class_label_dict[xi] for xi in x]))\n",
    "valid.class_labels = valid.class_labels.swifter.apply(lambda x: (' ').join([class_label_dict[xi] for xi in x]))\n",
    "testA.class_labels = testA.class_labels.swifter.apply(lambda x: (' ').join([class_label_dict[xi] for xi in x]))"
   ]
  },
  {
   "cell_type": "code",
   "execution_count": 11,
   "metadata": {},
   "outputs": [],
   "source": [
    "def get_coefs(word, *arr):\n",
    "    return word, np.asarray(arr, dtype='float32')\n",
    "\n",
    "def load_embeddings(path):\n",
    "    with open(path, encoding='utf-8') as f:\n",
    "        return dict(get_coefs(*line.strip().split(' ')) for line in tqdm(f))\n",
    "\n",
    "def build_matrix(word_index, path):\n",
    "    embedding_index = load_embeddings(path)\n",
    "    embedding_matrix = np.zeros((len(word_index) + 1, 300))\n",
    "    unknown_words = []\n",
    "    \n",
    "    for word, i in word_index.items():  # word_indexのwordに対応するembがあれば、embを代入する\n",
    "        try:\n",
    "            embedding_matrix[i] = embedding_index[word]\n",
    "        except KeyError:\n",
    "            unknown_words.append(word)\n",
    "    return embedding_matrix, unknown_words\n",
    "\n",
    "\n",
    "def load_word_embed(word_embed_glove=W2V_DIR+\"glove.840B.300d.txt\", \n",
    "                    word_embed_crawl=W2V_DIR+\"crawl-300d-2M.vec\",\n",
    "                    save_filename=W2V_DIR+\"word_embedding_matrix_testA\",\n",
    "                    word_index=None):\n",
    "    \n",
    "    # Tokneizerの学習\n",
    "    Tokenizer = keras.preprocessing.text.Tokenizer(filters='', lower=False)\n",
    "    Tokenizer.fit_on_texts(list(train['query'])+list(valid['query'])+list(testA['query'])\n",
    "                           +list(train['class_labels'])+list(valid['class_labels'])+list(testA['class_labels']))\n",
    "    \n",
    "    if os.path.exists(save_filename + \".npy\"):\n",
    "        embedding_matrix = np.load(save_filename + \".npy\").astype(\"float32\")\n",
    "    else:\n",
    "        \n",
    "        if word_index is None:\n",
    "            word_index = Tokenizer.word_index\n",
    "        \n",
    "        glove_matrix, unknown_words_glove = build_matrix(word_index, word_embed_glove)\n",
    "        print('n unknown words (glove): ', len(unknown_words_glove))\n",
    "        \n",
    "        crawl_matrix, unknown_words_crawl = build_matrix(word_index, word_embed_crawl)\n",
    "        print('n unknown words (crawl): ', len(unknown_words_crawl))\n",
    "        \n",
    "        embedding_matrix = crawl_matrix + glove_matrix  \n",
    "        embedding_matrix.shape\n",
    "\n",
    "        del crawl_matrix\n",
    "        del glove_matrix\n",
    "        gc.collect()\n",
    "        \n",
    "    return embedding_matrix, Tokenizer\n",
    "\n",
    "\n",
    "def calc_mean_w2v(class_labels):\n",
    "    class_labels_index = tokenizer_w2v.texts_to_sequences([class_labels])\n",
    "    try:\n",
    "        return np.mean(embedding_matrix[class_labels_index], axis=0)\n",
    "    except KeyError:\n",
    "        print('Error')\n",
    "        return np.zeros(300)"
   ]
  },
  {
   "cell_type": "code",
   "execution_count": 12,
   "metadata": {},
   "outputs": [
    {
     "name": "stderr",
     "output_type": "stream",
     "text": [
      "2196018it [02:52, 12719.71it/s]\n"
     ]
    },
    {
     "name": "stdout",
     "output_type": "stream",
     "text": [
      "n unknown words (glove):  200\n"
     ]
    },
    {
     "name": "stderr",
     "output_type": "stream",
     "text": [
      "2000001it [02:38, 12628.40it/s]\n"
     ]
    },
    {
     "name": "stdout",
     "output_type": "stream",
     "text": [
      "n unknown words (crawl):  206\n"
     ]
    }
   ],
   "source": [
    "# about 5 minites\n",
    "embedding_matrix, tokenizer_w2v = load_word_embed()"
   ]
  },
  {
   "cell_type": "code",
   "execution_count": 13,
   "metadata": {},
   "outputs": [
    {
     "data": {
      "application/vnd.jupyter.widget-view+json": {
       "model_id": "c0a2ab4897514237a4525bf2d2805509",
       "version_major": 2,
       "version_minor": 0
      },
      "text/plain": [
       "HBox(children=(IntProgress(value=0, description='Pandas Apply', max=10000, style=ProgressStyle(description_wid…"
      ]
     },
     "metadata": {},
     "output_type": "display_data"
    },
    {
     "name": "stdout",
     "output_type": "stream",
     "text": [
      "\n"
     ]
    },
    {
     "data": {
      "application/vnd.jupyter.widget-view+json": {
       "model_id": "ab2d6209260f4335912429147e965dfa",
       "version_major": 2,
       "version_minor": 0
      },
      "text/plain": [
       "HBox(children=(IntProgress(value=0, description='Pandas Apply', max=14720, style=ProgressStyle(description_wid…"
      ]
     },
     "metadata": {},
     "output_type": "display_data"
    },
    {
     "name": "stdout",
     "output_type": "stream",
     "text": [
      "\n"
     ]
    },
    {
     "data": {
      "application/vnd.jupyter.widget-view+json": {
       "model_id": "c88a05cc7de34b2bab246c2136e3cdfc",
       "version_major": 2,
       "version_minor": 0
      },
      "text/plain": [
       "HBox(children=(IntProgress(value=0, description='Pandas Apply', max=28830, style=ProgressStyle(description_wid…"
      ]
     },
     "metadata": {},
     "output_type": "display_data"
    },
    {
     "name": "stdout",
     "output_type": "stream",
     "text": [
      "\n"
     ]
    }
   ],
   "source": [
    "train['class_labels_vec'] = train['class_labels'].swifter.apply(calc_mean_w2v)\n",
    "valid['class_labels_vec'] = valid['class_labels'].swifter.apply(calc_mean_w2v)\n",
    "testA['class_labels_vec'] = testA['class_labels'].swifter.apply(calc_mean_w2v)"
   ]
  },
  {
   "cell_type": "markdown",
   "metadata": {},
   "source": [
    "- 隣接行列作成"
   ]
  },
  {
   "cell_type": "code",
   "execution_count": 14,
   "metadata": {},
   "outputs": [],
   "source": [
    "from numba import jit\n",
    "\n",
    "@jit\n",
    "def get_adj_mat(X, Y, adj_mat):\n",
    "    n_box = adj_mat.shape[0]\n",
    "    if n_box!=1:\n",
    "        for i in range(n_box):\n",
    "            for j in range(i+1, n_box):\n",
    "                d = np.sqrt((X[i] - X[j])**2 + (Y[i] - Y[j])**2)\n",
    "                adj_mat[i, j] = 1/(d+1e-7)\n",
    "                adj_mat[j, i] = 1/(d+1e-7)\n",
    "                \n",
    "    return adj_mat\n",
    "\n",
    "def get_adj_mat_row(x):\n",
    "    n_box = x.num_boxes\n",
    "    adj_mat = np.zeros((n_box, n_box))\n",
    "    return get_adj_mat(x.center_normalized[:,0], x.center_normalized[:,1], adj_mat)"
   ]
  },
  {
   "cell_type": "code",
   "execution_count": 15,
   "metadata": {},
   "outputs": [],
   "source": [
    "# top/left/bottom/right\n",
    "train['center_normalized'] = train.apply(lambda x: np.array([[(xi[3]-xi[1])/x.image_w, (xi[2]-xi[0])/x.image_h] for xi in x.boxes]), axis=1)\n",
    "valid['center_normalized'] = valid.apply(lambda x: np.array([[(xi[3]-xi[1])/x.image_w, (xi[2]-xi[0])/x.image_h] for xi in x.boxes]), axis=1)\n",
    "testA['center_normalized'] = testA.apply(lambda x: np.array([[(xi[3]-xi[1])/x.image_w, (xi[2]-xi[0])/x.image_h] for xi in x.boxes]), axis=1)"
   ]
  },
  {
   "cell_type": "code",
   "execution_count": 16,
   "metadata": {},
   "outputs": [
    {
     "data": {
      "application/vnd.jupyter.widget-view+json": {
       "model_id": "6a519c0745c04cf0a916d33f7754746c",
       "version_major": 2,
       "version_minor": 0
      },
      "text/plain": [
       "HBox(children=(IntProgress(value=0, description='Pandas Apply', max=10000, style=ProgressStyle(description_wid…"
      ]
     },
     "metadata": {},
     "output_type": "display_data"
    },
    {
     "name": "stdout",
     "output_type": "stream",
     "text": [
      "\n"
     ]
    },
    {
     "data": {
      "application/vnd.jupyter.widget-view+json": {
       "model_id": "8f51c068cd8c4bffaabd7f64ab003ad6",
       "version_major": 2,
       "version_minor": 0
      },
      "text/plain": [
       "HBox(children=(IntProgress(value=0, description='Pandas Apply', max=14720, style=ProgressStyle(description_wid…"
      ]
     },
     "metadata": {},
     "output_type": "display_data"
    },
    {
     "name": "stdout",
     "output_type": "stream",
     "text": [
      "\n"
     ]
    },
    {
     "data": {
      "application/vnd.jupyter.widget-view+json": {
       "model_id": "e18ac6c51a104bcfa2ff5b73e84cda45",
       "version_major": 2,
       "version_minor": 0
      },
      "text/plain": [
       "HBox(children=(IntProgress(value=0, description='Pandas Apply', max=28830, style=ProgressStyle(description_wid…"
      ]
     },
     "metadata": {},
     "output_type": "display_data"
    },
    {
     "name": "stdout",
     "output_type": "stream",
     "text": [
      "\n"
     ]
    }
   ],
   "source": [
    "train['adj_mat'] = train.swifter.apply(lambda x: get_adj_mat_row(x), axis=1)\n",
    "valid['adj_mat'] = valid.swifter.apply(lambda x: get_adj_mat_row(x), axis=1)\n",
    "testA['adj_mat'] = testA.swifter.apply(lambda x: get_adj_mat_row(x), axis=1)"
   ]
  },
  {
   "cell_type": "markdown",
   "metadata": {},
   "source": [
    "### Negative Sample生成\n",
    "- ここでは、簡単のため、queryだけランダムにシャッフルしたデータフレームを作成し、concatする\n",
    "- ラベルとして、元データはlabel=1, ランダムシャッフルはlabel=0とする"
   ]
  },
  {
   "cell_type": "code",
   "execution_count": 17,
   "metadata": {},
   "outputs": [
    {
     "name": "stdout",
     "output_type": "stream",
     "text": [
      "(20000, 14)\n"
     ]
    }
   ],
   "source": [
    "train['label'] = 1\n",
    "\n",
    "train_neg = train.copy(deep=True)\n",
    "train_neg['label'] = 0\n",
    "train_neg['query'] = train_neg['query'].sample(frac=1, random_state=42)\n",
    "\n",
    "train = pd.concat([train, train_neg], axis=0)\n",
    "train = train.reset_index(drop=True)\n",
    "print(train.shape)"
   ]
  },
  {
   "cell_type": "markdown",
   "metadata": {},
   "source": [
    "## Model"
   ]
  },
  {
   "cell_type": "markdown",
   "metadata": {},
   "source": [
    "- 初期設定"
   ]
  },
  {
   "cell_type": "code",
   "execution_count": 18,
   "metadata": {},
   "outputs": [],
   "source": [
    "def seed_everything(seed: int):\n",
    "    random.seed(seed)\n",
    "    os.environ[\"PYTHONHASHSEED\"] = str(seed)\n",
    "    np.random.seed(seed)\n",
    "    torch.manual_seed(seed)\n",
    "    torch.cuda.manual_seed(seed)\n",
    "    torch.backends.cudnn.deterministic = True\n",
    "\n",
    "seed_everything(1234)"
   ]
  },
  {
   "cell_type": "code",
   "execution_count": 19,
   "metadata": {},
   "outputs": [
    {
     "name": "stdout",
     "output_type": "stream",
     "text": [
      "cuda\n"
     ]
    }
   ],
   "source": [
    "device = 'cuda' if torch.cuda.is_available() else 'cpu'\n",
    "#device = 'cpu'\n",
    "print(device)"
   ]
  },
  {
   "cell_type": "markdown",
   "metadata": {},
   "source": [
    "### DataLoader"
   ]
  },
  {
   "cell_type": "code",
   "execution_count": 20,
   "metadata": {},
   "outputs": [],
   "source": [
    "MAX_LEN = 512\n",
    "\n",
    "class KDDDataset(Dataset):\n",
    "\n",
    "    def __init__(self, df, train_mode=True, transform=None):\n",
    "        self.df = df\n",
    "        self.bert_tokenizer = BertTokenizer.from_pretrained(BERT_DIR+'bert-base-uncased')\n",
    "        self.w2v_tokenizer = tokenizer_w2v\n",
    "        #self.transform = transform\n",
    "        \n",
    "        \n",
    "    def __len__(self):\n",
    "        return len(self.df)\n",
    "\n",
    "    def __getitem__(self, idx):\n",
    "        row = self.df.iloc[idx]\n",
    "        \n",
    "        ######################\n",
    "        # query side\n",
    "        ######################\n",
    "        query = row['query']\n",
    "        inputs_query = self.bert_tokenizer.encode_plus(\n",
    "            query,\n",
    "            add_special_tokens=True,\n",
    "            max_length=MAX_LEN,\n",
    "        )\n",
    "        \n",
    "        ids_query = inputs_query[\"input_ids\"]\n",
    "        token_type_ids_query = inputs_query[\"token_type_ids\"]\n",
    "        mask_query = inputs_query[\"attention_mask\"]\n",
    "        \n",
    "        padding_len = MAX_LEN - len(ids_query)\n",
    "        ids_query = ids_query + ([0]*padding_len)\n",
    "        token_type_ids_query = token_type_ids_query + ([0]*padding_len)\n",
    "        mask_query = mask_query + ([0]*padding_len)\n",
    "        \n",
    "        \n",
    "        ######################\n",
    "        # image side\n",
    "        ######################\n",
    "        adj_mat = row['adj_mat']\n",
    "        features = row['features']\n",
    "        box_area = row['box_area_normalized']\n",
    "        features = np.concatenate([features, box_area.reshape(-1,1)], axis=1)\n",
    "        \n",
    "        g = dgl.DGLGraph(nx.from_numpy_matrix(adj_mat))\n",
    "        g.ndata['h'] = torch.tensor(features, dtype=torch.float)\n",
    "        \n",
    "        # class_labelsのword2vec\n",
    "        class_labels_vec = row['class_labels_vec']\n",
    "        \n",
    "        \n",
    "        # positive, negative label\n",
    "        labels = row['label']\n",
    "        \n",
    "        \n",
    "        return g, {\n",
    "            'ids_query': torch.tensor(ids_query, dtype=torch.long),\n",
    "            'mask_query': torch.tensor(mask_query, dtype=torch.long),\n",
    "            'token_type_ids_query': torch.tensor(token_type_ids_query, dtype=torch.long),\n",
    "            'class_labels_vec': torch.tensor(class_labels_vec, dtype=torch.float),\n",
    "            'label': torch.tensor(labels, dtype=torch.long),\n",
    "        }         "
   ]
  },
  {
   "cell_type": "code",
   "execution_count": 21,
   "metadata": {},
   "outputs": [],
   "source": [
    "def collate(samples):\n",
    "    # input samples は、ペアのリスト\n",
    "    #  [(graph, {features}),...], バッチサイズの長さのリスト\n",
    "    # グラフは、隣接行列を対角につなげて1つのバッチにする\n",
    "    # 他のfeatureは、(バッチサイズ, 次元数)のtensor\n",
    "    \n",
    "    graphs, features_dict = map(list, zip(*samples))\n",
    "    \n",
    "    batched_graph = dgl.batch(graphs)\n",
    "    \n",
    "    batched_features = {}\n",
    "    labels = []\n",
    "    for i, feat in enumerate(features_dict):\n",
    "        if i==0:\n",
    "            for (key, val) in feat.items():\n",
    "                if key!='label':\n",
    "                    batched_features[key] = val.view(1,-1)\n",
    "                else:\n",
    "                    labels.append(val.item())\n",
    "        else:\n",
    "            for (key, val) in feat.items():\n",
    "                if key!='label':\n",
    "                    batched_features[key] = torch.cat([batched_features[key],  val.view(1,-1)], dim=0)\n",
    "                else:\n",
    "                    labels.append(val.item())\n",
    "    \n",
    "    batched_features['label'] = torch.tensor(labels, dtype=torch.long)\n",
    "    \n",
    "    return batched_graph, batched_features"
   ]
  },
  {
   "cell_type": "code",
   "execution_count": 22,
   "metadata": {
    "scrolled": true
   },
   "outputs": [],
   "source": [
    "# # dataloaderの挙動確認\n",
    "\n",
    "# dataset_train = KDDDataset(train, train_mode=True)\n",
    "# train_loader = DataLoader(dataset_train, batch_size=128, shuffle=True, num_workers=0, drop_last=True, collate_fn=collate)\n",
    "\n",
    "# for i, (graph, features) in enumerate(train_loader):\n",
    "#     if i<1:\n",
    "#         print(graph)\n",
    "#         print(features['ids_query'].shape)\n",
    "#         print(features['mask_query'].shape)\n",
    "#         print(features['token_type_ids_query'].shape)\n",
    "#         print(features['class_labels_vec'].shape)\n",
    "#         print(features['label'].shape)\n",
    "\n",
    "#     else:\n",
    "#         break"
   ]
  },
  {
   "cell_type": "markdown",
   "metadata": {},
   "source": [
    "### QueryModel"
   ]
  },
  {
   "cell_type": "code",
   "execution_count": 23,
   "metadata": {},
   "outputs": [],
   "source": [
    "class QueryModel(nn.Module):\n",
    "    def __init__(self):\n",
    "        super(QueryModel, self).__init__()\n",
    "        self.model_name = 'QueryModel'\n",
    "        self.bert_model = BertModel.from_pretrained(BERT_DIR+'/bert-base-uncased/')\n",
    "        \n",
    "        self.fc_bert = nn.Linear(768, 256)\n",
    "        self.fc = nn.Linear(256, 128)\n",
    "\n",
    "    def forward(self, ids, token_type_ids_query, mask_query):\n",
    "        layers, pool_out = self.bert_model(input_ids=ids, token_type_ids=token_type_ids_query, attention_mask=mask_query)\n",
    "        \n",
    "        out = F.avg_pool1d(layers.transpose(1,2), kernel_size=layers.size()[1]).squeeze()\n",
    "        out = self.fc_bert(out)        \n",
    "        out = F.dropout(out, p=0.2, training=self.training)\n",
    "        out = F.relu(out)\n",
    "        \n",
    "        return out "
   ]
  },
  {
   "cell_type": "markdown",
   "metadata": {},
   "source": [
    "### ImageModel"
   ]
  },
  {
   "cell_type": "code",
   "execution_count": 24,
   "metadata": {},
   "outputs": [],
   "source": [
    "class ImageModel(nn.Module):\n",
    "    def __init__(self):\n",
    "        super(ImageModel, self).__init__()\n",
    "        self.gcn1 = GraphConv(2048+1, 256)\n",
    "        self.gcn2 = GraphConv(256, 128)\n",
    "        self.fc = nn.Linear(128, 128)\n",
    "        \n",
    "        self.fc_emb = nn.Linear(300, 64)\n",
    "\n",
    "    def forward(self, g, class_labels_vec):\n",
    "        h = g.ndata['h']#.to(device)\n",
    "        h = F.relu(self.gcn1(g, h))\n",
    "        h = F.relu(self.gcn2(g, h))\n",
    "        g.ndata['h'] = h\n",
    "        \n",
    "        # Calculate graph representation by averaging all the node representations.\n",
    "        x = dgl.mean_nodes(g, 'h')\n",
    "        x = self.fc(x)\n",
    "        \n",
    "        # box_labels\n",
    "        x_emb = self.fc_emb(class_labels_vec)\n",
    "        x = torch.cat([x, x_emb], dim=-1)\n",
    "        x = F.dropout(x, p=0.2, training=self.training)\n",
    "        x = F.relu(out)\n",
    "        \n",
    "        return x"
   ]
  },
  {
   "cell_type": "markdown",
   "metadata": {},
   "source": [
    "### Training"
   ]
  },
  {
   "cell_type": "code",
   "execution_count": 27,
   "metadata": {},
   "outputs": [],
   "source": [
    "def train_model(train_loader, model_image, model_query, optimizer, criterion): #, scheduler):\n",
    "    model_image.train()\n",
    "    model_query.train()\n",
    "    avg_loss = 0.\n",
    "    for idx, (graph, features) in enumerate(tqdm(train_loader)):\n",
    "        ids_query = features['ids_query']#.to(device)\n",
    "        mask_query = features['mask_query']#.to(device)\n",
    "        token_type_ids_query = features['token_type_ids_query']#.to(device)\n",
    "        class_labels_vec = features['class_labels_vec']#.to(device)\n",
    "        labels = features['label']#.to(device)\n",
    "\n",
    "        out_query = model_query(ids_query, token_type_ids_query, mask_query)\n",
    "        out_image = model_image(graph, class_labels_vec)\n",
    "        out = torch.bmm(out_query.unsqueeze(2), out_query.unsqueeze(1))\n",
    "        \n",
    "        loss = criterion(out, labels)\n",
    "        loss.backward()\n",
    "        optimizer.step()\n",
    "        optimizer.zero_grad()\n",
    "        \n",
    "        avg_loss += loss.item() / len(train_loader)\n",
    "        del ids_query,mask_query,token_type_ids_query,class_labels_vec,label,out_query,out_image,out,loss\n",
    "\n",
    "    torch.cuda.empty_cache()\n",
    "    gc.collect()\n",
    "    return avg_loss\n",
    "\n",
    "\n",
    "def valid_model(valid_loader, model_image, model_query):\n",
    "    model_image.eval()\n",
    "    model_query.eval()\n",
    "    avg_loss = 0.\n",
    "       \n",
    "    with torch.no_grad():\n",
    "        for idx, (graph, features) in enumerate(tqdm(valid_loader)):\n",
    "            ids_query = features['ids_query'].to(device)\n",
    "            mask_query = features['mask_query'].to(device)\n",
    "            token_type_ids_query = features['token_type_ids_query'].to(device)\n",
    "            class_labels_vec = features['class_labels_vec'].to(device)\n",
    "            labels = features['label'].to(device)\n",
    "\n",
    "            out_query = model_query(ids_query, token_type_ids_query, mask_query)\n",
    "            out_image = model_image(graph, class_labels_vec)\n",
    "\n",
    "            loss = criterion(out_query, out_image, labels)\n",
    "            \n",
    "            avg_loss += loss.item() / len(valid_loader)\n",
    "            del ids_query,mask_query,token_type_ids_query,class_labels_vec,label,out_query,out_image,out,loss\n",
    "        \n",
    "    torch.cuda.empty_cache()\n",
    "    gc.collect()\n",
    "    return avg_loss"
   ]
  },
  {
   "cell_type": "code",
   "execution_count": 28,
   "metadata": {},
   "outputs": [
    {
     "name": "stderr",
     "output_type": "stream",
     "text": [
      "\r",
      "  0%|                                                                                          | 0/156 [00:00<?, ?it/s]"
     ]
    },
    {
     "ename": "RuntimeError",
     "evalue": "[enforce fail at ..\\c10\\core\\CPUAllocator.cpp:72] data. DefaultCPUAllocator: not enough memory: you tried to allocate 1610612736 bytes. Buy new RAM!\n",
     "output_type": "error",
     "traceback": [
      "\u001b[1;31m---------------------------------------------------------------------------\u001b[0m",
      "\u001b[1;31mRuntimeError\u001b[0m                              Traceback (most recent call last)",
      "\u001b[1;32m<ipython-input-28-97c04b96988c>\u001b[0m in \u001b[0;36m<module>\u001b[1;34m\u001b[0m\n\u001b[0;32m     25\u001b[0m     \u001b[1;31m#scheduler = get_cosine_schedule_with_warmup(optimizer, num_warmup_steps=config.warmup, num_training_steps=config.epochs*len(train_loader))\u001b[0m\u001b[1;33m\u001b[0m\u001b[1;33m\u001b[0m\u001b[1;33m\u001b[0m\u001b[0m\n\u001b[0;32m     26\u001b[0m \u001b[1;33m\u001b[0m\u001b[0m\n\u001b[1;32m---> 27\u001b[1;33m     \u001b[0mloss_train\u001b[0m \u001b[1;33m=\u001b[0m \u001b[0mtrain_model\u001b[0m\u001b[1;33m(\u001b[0m\u001b[0mtrain_loader\u001b[0m\u001b[1;33m,\u001b[0m \u001b[0mmodel_image\u001b[0m\u001b[1;33m,\u001b[0m \u001b[0mmodel_query\u001b[0m\u001b[1;33m,\u001b[0m \u001b[0moptimizer\u001b[0m\u001b[1;33m,\u001b[0m \u001b[0mcriterion\u001b[0m\u001b[1;33m)\u001b[0m\u001b[1;31m#, scheduler)\u001b[0m\u001b[1;33m\u001b[0m\u001b[1;33m\u001b[0m\u001b[0m\n\u001b[0m\u001b[0;32m     28\u001b[0m     \u001b[0mloss_valid\u001b[0m \u001b[1;33m=\u001b[0m \u001b[0mvalid_model\u001b[0m\u001b[1;33m(\u001b[0m\u001b[0mvalid_loader\u001b[0m\u001b[1;33m,\u001b[0m \u001b[0mmodel_image\u001b[0m\u001b[1;33m,\u001b[0m \u001b[0mmodel_query\u001b[0m\u001b[1;33m)\u001b[0m\u001b[1;33m\u001b[0m\u001b[1;33m\u001b[0m\u001b[0m\n\u001b[0;32m     29\u001b[0m \u001b[1;33m\u001b[0m\u001b[0m\n",
      "\u001b[1;32m<ipython-input-27-859b68e6f55e>\u001b[0m in \u001b[0;36mtrain_model\u001b[1;34m(train_loader, model_image, model_query, optimizer, criterion)\u001b[0m\n\u001b[0;32m     10\u001b[0m         \u001b[0mlabels\u001b[0m \u001b[1;33m=\u001b[0m \u001b[0mfeatures\u001b[0m\u001b[1;33m[\u001b[0m\u001b[1;34m'label'\u001b[0m\u001b[1;33m]\u001b[0m\u001b[1;31m#.to(device)\u001b[0m\u001b[1;33m\u001b[0m\u001b[1;33m\u001b[0m\u001b[0m\n\u001b[0;32m     11\u001b[0m \u001b[1;33m\u001b[0m\u001b[0m\n\u001b[1;32m---> 12\u001b[1;33m         \u001b[0mout_query\u001b[0m \u001b[1;33m=\u001b[0m \u001b[0mmodel_query\u001b[0m\u001b[1;33m(\u001b[0m\u001b[0mids_query\u001b[0m\u001b[1;33m,\u001b[0m \u001b[0mtoken_type_ids_query\u001b[0m\u001b[1;33m,\u001b[0m \u001b[0mmask_query\u001b[0m\u001b[1;33m)\u001b[0m\u001b[1;33m\u001b[0m\u001b[1;33m\u001b[0m\u001b[0m\n\u001b[0m\u001b[0;32m     13\u001b[0m         \u001b[0mout_image\u001b[0m \u001b[1;33m=\u001b[0m \u001b[0mmodel_image\u001b[0m\u001b[1;33m(\u001b[0m\u001b[0mgraph\u001b[0m\u001b[1;33m,\u001b[0m \u001b[0mclass_labels_vec\u001b[0m\u001b[1;33m)\u001b[0m\u001b[1;33m\u001b[0m\u001b[1;33m\u001b[0m\u001b[0m\n\u001b[0;32m     14\u001b[0m         \u001b[0mout\u001b[0m \u001b[1;33m=\u001b[0m \u001b[0mtorch\u001b[0m\u001b[1;33m.\u001b[0m\u001b[0mbmm\u001b[0m\u001b[1;33m(\u001b[0m\u001b[0mout_query\u001b[0m\u001b[1;33m.\u001b[0m\u001b[0munsqueeze\u001b[0m\u001b[1;33m(\u001b[0m\u001b[1;36m2\u001b[0m\u001b[1;33m)\u001b[0m\u001b[1;33m,\u001b[0m \u001b[0mout_query\u001b[0m\u001b[1;33m.\u001b[0m\u001b[0munsqueeze\u001b[0m\u001b[1;33m(\u001b[0m\u001b[1;36m1\u001b[0m\u001b[1;33m)\u001b[0m\u001b[1;33m)\u001b[0m\u001b[1;33m\u001b[0m\u001b[1;33m\u001b[0m\u001b[0m\n",
      "\u001b[1;32m~\\AppData\\Local\\Programs\\Python\\Python36\\lib\\site-packages\\torch\\nn\\modules\\module.py\u001b[0m in \u001b[0;36m__call__\u001b[1;34m(self, *input, **kwargs)\u001b[0m\n\u001b[0;32m    545\u001b[0m             \u001b[0mresult\u001b[0m \u001b[1;33m=\u001b[0m \u001b[0mself\u001b[0m\u001b[1;33m.\u001b[0m\u001b[0m_slow_forward\u001b[0m\u001b[1;33m(\u001b[0m\u001b[1;33m*\u001b[0m\u001b[0minput\u001b[0m\u001b[1;33m,\u001b[0m \u001b[1;33m**\u001b[0m\u001b[0mkwargs\u001b[0m\u001b[1;33m)\u001b[0m\u001b[1;33m\u001b[0m\u001b[1;33m\u001b[0m\u001b[0m\n\u001b[0;32m    546\u001b[0m         \u001b[1;32melse\u001b[0m\u001b[1;33m:\u001b[0m\u001b[1;33m\u001b[0m\u001b[1;33m\u001b[0m\u001b[0m\n\u001b[1;32m--> 547\u001b[1;33m             \u001b[0mresult\u001b[0m \u001b[1;33m=\u001b[0m \u001b[0mself\u001b[0m\u001b[1;33m.\u001b[0m\u001b[0mforward\u001b[0m\u001b[1;33m(\u001b[0m\u001b[1;33m*\u001b[0m\u001b[0minput\u001b[0m\u001b[1;33m,\u001b[0m \u001b[1;33m**\u001b[0m\u001b[0mkwargs\u001b[0m\u001b[1;33m)\u001b[0m\u001b[1;33m\u001b[0m\u001b[1;33m\u001b[0m\u001b[0m\n\u001b[0m\u001b[0;32m    548\u001b[0m         \u001b[1;32mfor\u001b[0m \u001b[0mhook\u001b[0m \u001b[1;32min\u001b[0m \u001b[0mself\u001b[0m\u001b[1;33m.\u001b[0m\u001b[0m_forward_hooks\u001b[0m\u001b[1;33m.\u001b[0m\u001b[0mvalues\u001b[0m\u001b[1;33m(\u001b[0m\u001b[1;33m)\u001b[0m\u001b[1;33m:\u001b[0m\u001b[1;33m\u001b[0m\u001b[1;33m\u001b[0m\u001b[0m\n\u001b[0;32m    549\u001b[0m             \u001b[0mhook_result\u001b[0m \u001b[1;33m=\u001b[0m \u001b[0mhook\u001b[0m\u001b[1;33m(\u001b[0m\u001b[0mself\u001b[0m\u001b[1;33m,\u001b[0m \u001b[0minput\u001b[0m\u001b[1;33m,\u001b[0m \u001b[0mresult\u001b[0m\u001b[1;33m)\u001b[0m\u001b[1;33m\u001b[0m\u001b[1;33m\u001b[0m\u001b[0m\n",
      "\u001b[1;32m<ipython-input-23-daa09deb040c>\u001b[0m in \u001b[0;36mforward\u001b[1;34m(self, ids, token_type_ids_query, mask_query)\u001b[0m\n\u001b[0;32m      9\u001b[0m \u001b[1;33m\u001b[0m\u001b[0m\n\u001b[0;32m     10\u001b[0m     \u001b[1;32mdef\u001b[0m \u001b[0mforward\u001b[0m\u001b[1;33m(\u001b[0m\u001b[0mself\u001b[0m\u001b[1;33m,\u001b[0m \u001b[0mids\u001b[0m\u001b[1;33m,\u001b[0m \u001b[0mtoken_type_ids_query\u001b[0m\u001b[1;33m,\u001b[0m \u001b[0mmask_query\u001b[0m\u001b[1;33m)\u001b[0m\u001b[1;33m:\u001b[0m\u001b[1;33m\u001b[0m\u001b[1;33m\u001b[0m\u001b[0m\n\u001b[1;32m---> 11\u001b[1;33m         \u001b[0mlayers\u001b[0m\u001b[1;33m,\u001b[0m \u001b[0mpool_out\u001b[0m \u001b[1;33m=\u001b[0m \u001b[0mself\u001b[0m\u001b[1;33m.\u001b[0m\u001b[0mbert_model\u001b[0m\u001b[1;33m(\u001b[0m\u001b[0minput_ids\u001b[0m\u001b[1;33m=\u001b[0m\u001b[0mids\u001b[0m\u001b[1;33m,\u001b[0m \u001b[0mtoken_type_ids\u001b[0m\u001b[1;33m=\u001b[0m\u001b[0mtoken_type_ids_query\u001b[0m\u001b[1;33m,\u001b[0m \u001b[0mattention_mask\u001b[0m\u001b[1;33m=\u001b[0m\u001b[0mmask_query\u001b[0m\u001b[1;33m)\u001b[0m\u001b[1;33m\u001b[0m\u001b[1;33m\u001b[0m\u001b[0m\n\u001b[0m\u001b[0;32m     12\u001b[0m \u001b[1;33m\u001b[0m\u001b[0m\n\u001b[0;32m     13\u001b[0m         \u001b[0mout\u001b[0m \u001b[1;33m=\u001b[0m \u001b[0mF\u001b[0m\u001b[1;33m.\u001b[0m\u001b[0mavg_pool1d\u001b[0m\u001b[1;33m(\u001b[0m\u001b[0mlayers\u001b[0m\u001b[1;33m.\u001b[0m\u001b[0mtranspose\u001b[0m\u001b[1;33m(\u001b[0m\u001b[1;36m1\u001b[0m\u001b[1;33m,\u001b[0m\u001b[1;36m2\u001b[0m\u001b[1;33m)\u001b[0m\u001b[1;33m,\u001b[0m \u001b[0mkernel_size\u001b[0m\u001b[1;33m=\u001b[0m\u001b[0mlayers\u001b[0m\u001b[1;33m.\u001b[0m\u001b[0msize\u001b[0m\u001b[1;33m(\u001b[0m\u001b[1;33m)\u001b[0m\u001b[1;33m[\u001b[0m\u001b[1;36m1\u001b[0m\u001b[1;33m]\u001b[0m\u001b[1;33m)\u001b[0m\u001b[1;33m.\u001b[0m\u001b[0msqueeze\u001b[0m\u001b[1;33m(\u001b[0m\u001b[1;33m)\u001b[0m\u001b[1;33m\u001b[0m\u001b[1;33m\u001b[0m\u001b[0m\n",
      "\u001b[1;32m~\\AppData\\Local\\Programs\\Python\\Python36\\lib\\site-packages\\torch\\nn\\modules\\module.py\u001b[0m in \u001b[0;36m__call__\u001b[1;34m(self, *input, **kwargs)\u001b[0m\n\u001b[0;32m    545\u001b[0m             \u001b[0mresult\u001b[0m \u001b[1;33m=\u001b[0m \u001b[0mself\u001b[0m\u001b[1;33m.\u001b[0m\u001b[0m_slow_forward\u001b[0m\u001b[1;33m(\u001b[0m\u001b[1;33m*\u001b[0m\u001b[0minput\u001b[0m\u001b[1;33m,\u001b[0m \u001b[1;33m**\u001b[0m\u001b[0mkwargs\u001b[0m\u001b[1;33m)\u001b[0m\u001b[1;33m\u001b[0m\u001b[1;33m\u001b[0m\u001b[0m\n\u001b[0;32m    546\u001b[0m         \u001b[1;32melse\u001b[0m\u001b[1;33m:\u001b[0m\u001b[1;33m\u001b[0m\u001b[1;33m\u001b[0m\u001b[0m\n\u001b[1;32m--> 547\u001b[1;33m             \u001b[0mresult\u001b[0m \u001b[1;33m=\u001b[0m \u001b[0mself\u001b[0m\u001b[1;33m.\u001b[0m\u001b[0mforward\u001b[0m\u001b[1;33m(\u001b[0m\u001b[1;33m*\u001b[0m\u001b[0minput\u001b[0m\u001b[1;33m,\u001b[0m \u001b[1;33m**\u001b[0m\u001b[0mkwargs\u001b[0m\u001b[1;33m)\u001b[0m\u001b[1;33m\u001b[0m\u001b[1;33m\u001b[0m\u001b[0m\n\u001b[0m\u001b[0;32m    548\u001b[0m         \u001b[1;32mfor\u001b[0m \u001b[0mhook\u001b[0m \u001b[1;32min\u001b[0m \u001b[0mself\u001b[0m\u001b[1;33m.\u001b[0m\u001b[0m_forward_hooks\u001b[0m\u001b[1;33m.\u001b[0m\u001b[0mvalues\u001b[0m\u001b[1;33m(\u001b[0m\u001b[1;33m)\u001b[0m\u001b[1;33m:\u001b[0m\u001b[1;33m\u001b[0m\u001b[1;33m\u001b[0m\u001b[0m\n\u001b[0;32m    549\u001b[0m             \u001b[0mhook_result\u001b[0m \u001b[1;33m=\u001b[0m \u001b[0mhook\u001b[0m\u001b[1;33m(\u001b[0m\u001b[0mself\u001b[0m\u001b[1;33m,\u001b[0m \u001b[0minput\u001b[0m\u001b[1;33m,\u001b[0m \u001b[0mresult\u001b[0m\u001b[1;33m)\u001b[0m\u001b[1;33m\u001b[0m\u001b[1;33m\u001b[0m\u001b[0m\n",
      "\u001b[1;32m~\\AppData\\Local\\Programs\\Python\\Python36\\lib\\site-packages\\transformers\\modeling_bert.py\u001b[0m in \u001b[0;36mforward\u001b[1;34m(self, input_ids, attention_mask, token_type_ids, position_ids, head_mask, inputs_embeds, encoder_hidden_states, encoder_attention_mask)\u001b[0m\n\u001b[0;32m    738\u001b[0m                                        \u001b[0mhead_mask\u001b[0m\u001b[1;33m=\u001b[0m\u001b[0mhead_mask\u001b[0m\u001b[1;33m,\u001b[0m\u001b[1;33m\u001b[0m\u001b[1;33m\u001b[0m\u001b[0m\n\u001b[0;32m    739\u001b[0m                                        \u001b[0mencoder_hidden_states\u001b[0m\u001b[1;33m=\u001b[0m\u001b[0mencoder_hidden_states\u001b[0m\u001b[1;33m,\u001b[0m\u001b[1;33m\u001b[0m\u001b[1;33m\u001b[0m\u001b[0m\n\u001b[1;32m--> 740\u001b[1;33m                                        encoder_attention_mask=encoder_extended_attention_mask)\n\u001b[0m\u001b[0;32m    741\u001b[0m         \u001b[0msequence_output\u001b[0m \u001b[1;33m=\u001b[0m \u001b[0mencoder_outputs\u001b[0m\u001b[1;33m[\u001b[0m\u001b[1;36m0\u001b[0m\u001b[1;33m]\u001b[0m\u001b[1;33m\u001b[0m\u001b[1;33m\u001b[0m\u001b[0m\n\u001b[0;32m    742\u001b[0m         \u001b[0mpooled_output\u001b[0m \u001b[1;33m=\u001b[0m \u001b[0mself\u001b[0m\u001b[1;33m.\u001b[0m\u001b[0mpooler\u001b[0m\u001b[1;33m(\u001b[0m\u001b[0msequence_output\u001b[0m\u001b[1;33m)\u001b[0m\u001b[1;33m\u001b[0m\u001b[1;33m\u001b[0m\u001b[0m\n",
      "\u001b[1;32m~\\AppData\\Local\\Programs\\Python\\Python36\\lib\\site-packages\\torch\\nn\\modules\\module.py\u001b[0m in \u001b[0;36m__call__\u001b[1;34m(self, *input, **kwargs)\u001b[0m\n\u001b[0;32m    545\u001b[0m             \u001b[0mresult\u001b[0m \u001b[1;33m=\u001b[0m \u001b[0mself\u001b[0m\u001b[1;33m.\u001b[0m\u001b[0m_slow_forward\u001b[0m\u001b[1;33m(\u001b[0m\u001b[1;33m*\u001b[0m\u001b[0minput\u001b[0m\u001b[1;33m,\u001b[0m \u001b[1;33m**\u001b[0m\u001b[0mkwargs\u001b[0m\u001b[1;33m)\u001b[0m\u001b[1;33m\u001b[0m\u001b[1;33m\u001b[0m\u001b[0m\n\u001b[0;32m    546\u001b[0m         \u001b[1;32melse\u001b[0m\u001b[1;33m:\u001b[0m\u001b[1;33m\u001b[0m\u001b[1;33m\u001b[0m\u001b[0m\n\u001b[1;32m--> 547\u001b[1;33m             \u001b[0mresult\u001b[0m \u001b[1;33m=\u001b[0m \u001b[0mself\u001b[0m\u001b[1;33m.\u001b[0m\u001b[0mforward\u001b[0m\u001b[1;33m(\u001b[0m\u001b[1;33m*\u001b[0m\u001b[0minput\u001b[0m\u001b[1;33m,\u001b[0m \u001b[1;33m**\u001b[0m\u001b[0mkwargs\u001b[0m\u001b[1;33m)\u001b[0m\u001b[1;33m\u001b[0m\u001b[1;33m\u001b[0m\u001b[0m\n\u001b[0m\u001b[0;32m    548\u001b[0m         \u001b[1;32mfor\u001b[0m \u001b[0mhook\u001b[0m \u001b[1;32min\u001b[0m \u001b[0mself\u001b[0m\u001b[1;33m.\u001b[0m\u001b[0m_forward_hooks\u001b[0m\u001b[1;33m.\u001b[0m\u001b[0mvalues\u001b[0m\u001b[1;33m(\u001b[0m\u001b[1;33m)\u001b[0m\u001b[1;33m:\u001b[0m\u001b[1;33m\u001b[0m\u001b[1;33m\u001b[0m\u001b[0m\n\u001b[0;32m    549\u001b[0m             \u001b[0mhook_result\u001b[0m \u001b[1;33m=\u001b[0m \u001b[0mhook\u001b[0m\u001b[1;33m(\u001b[0m\u001b[0mself\u001b[0m\u001b[1;33m,\u001b[0m \u001b[0minput\u001b[0m\u001b[1;33m,\u001b[0m \u001b[0mresult\u001b[0m\u001b[1;33m)\u001b[0m\u001b[1;33m\u001b[0m\u001b[1;33m\u001b[0m\u001b[0m\n",
      "\u001b[1;32m~\\AppData\\Local\\Programs\\Python\\Python36\\lib\\site-packages\\transformers\\modeling_bert.py\u001b[0m in \u001b[0;36mforward\u001b[1;34m(self, hidden_states, attention_mask, head_mask, encoder_hidden_states, encoder_attention_mask)\u001b[0m\n\u001b[0;32m    384\u001b[0m                 \u001b[0mall_hidden_states\u001b[0m \u001b[1;33m=\u001b[0m \u001b[0mall_hidden_states\u001b[0m \u001b[1;33m+\u001b[0m \u001b[1;33m(\u001b[0m\u001b[0mhidden_states\u001b[0m\u001b[1;33m,\u001b[0m\u001b[1;33m)\u001b[0m\u001b[1;33m\u001b[0m\u001b[1;33m\u001b[0m\u001b[0m\n\u001b[0;32m    385\u001b[0m \u001b[1;33m\u001b[0m\u001b[0m\n\u001b[1;32m--> 386\u001b[1;33m             \u001b[0mlayer_outputs\u001b[0m \u001b[1;33m=\u001b[0m \u001b[0mlayer_module\u001b[0m\u001b[1;33m(\u001b[0m\u001b[0mhidden_states\u001b[0m\u001b[1;33m,\u001b[0m \u001b[0mattention_mask\u001b[0m\u001b[1;33m,\u001b[0m \u001b[0mhead_mask\u001b[0m\u001b[1;33m[\u001b[0m\u001b[0mi\u001b[0m\u001b[1;33m]\u001b[0m\u001b[1;33m,\u001b[0m \u001b[0mencoder_hidden_states\u001b[0m\u001b[1;33m,\u001b[0m \u001b[0mencoder_attention_mask\u001b[0m\u001b[1;33m)\u001b[0m\u001b[1;33m\u001b[0m\u001b[1;33m\u001b[0m\u001b[0m\n\u001b[0m\u001b[0;32m    387\u001b[0m             \u001b[0mhidden_states\u001b[0m \u001b[1;33m=\u001b[0m \u001b[0mlayer_outputs\u001b[0m\u001b[1;33m[\u001b[0m\u001b[1;36m0\u001b[0m\u001b[1;33m]\u001b[0m\u001b[1;33m\u001b[0m\u001b[1;33m\u001b[0m\u001b[0m\n\u001b[0;32m    388\u001b[0m \u001b[1;33m\u001b[0m\u001b[0m\n",
      "\u001b[1;32m~\\AppData\\Local\\Programs\\Python\\Python36\\lib\\site-packages\\torch\\nn\\modules\\module.py\u001b[0m in \u001b[0;36m__call__\u001b[1;34m(self, *input, **kwargs)\u001b[0m\n\u001b[0;32m    545\u001b[0m             \u001b[0mresult\u001b[0m \u001b[1;33m=\u001b[0m \u001b[0mself\u001b[0m\u001b[1;33m.\u001b[0m\u001b[0m_slow_forward\u001b[0m\u001b[1;33m(\u001b[0m\u001b[1;33m*\u001b[0m\u001b[0minput\u001b[0m\u001b[1;33m,\u001b[0m \u001b[1;33m**\u001b[0m\u001b[0mkwargs\u001b[0m\u001b[1;33m)\u001b[0m\u001b[1;33m\u001b[0m\u001b[1;33m\u001b[0m\u001b[0m\n\u001b[0;32m    546\u001b[0m         \u001b[1;32melse\u001b[0m\u001b[1;33m:\u001b[0m\u001b[1;33m\u001b[0m\u001b[1;33m\u001b[0m\u001b[0m\n\u001b[1;32m--> 547\u001b[1;33m             \u001b[0mresult\u001b[0m \u001b[1;33m=\u001b[0m \u001b[0mself\u001b[0m\u001b[1;33m.\u001b[0m\u001b[0mforward\u001b[0m\u001b[1;33m(\u001b[0m\u001b[1;33m*\u001b[0m\u001b[0minput\u001b[0m\u001b[1;33m,\u001b[0m \u001b[1;33m**\u001b[0m\u001b[0mkwargs\u001b[0m\u001b[1;33m)\u001b[0m\u001b[1;33m\u001b[0m\u001b[1;33m\u001b[0m\u001b[0m\n\u001b[0m\u001b[0;32m    548\u001b[0m         \u001b[1;32mfor\u001b[0m \u001b[0mhook\u001b[0m \u001b[1;32min\u001b[0m \u001b[0mself\u001b[0m\u001b[1;33m.\u001b[0m\u001b[0m_forward_hooks\u001b[0m\u001b[1;33m.\u001b[0m\u001b[0mvalues\u001b[0m\u001b[1;33m(\u001b[0m\u001b[1;33m)\u001b[0m\u001b[1;33m:\u001b[0m\u001b[1;33m\u001b[0m\u001b[1;33m\u001b[0m\u001b[0m\n\u001b[0;32m    549\u001b[0m             \u001b[0mhook_result\u001b[0m \u001b[1;33m=\u001b[0m \u001b[0mhook\u001b[0m\u001b[1;33m(\u001b[0m\u001b[0mself\u001b[0m\u001b[1;33m,\u001b[0m \u001b[0minput\u001b[0m\u001b[1;33m,\u001b[0m \u001b[0mresult\u001b[0m\u001b[1;33m)\u001b[0m\u001b[1;33m\u001b[0m\u001b[1;33m\u001b[0m\u001b[0m\n",
      "\u001b[1;32m~\\AppData\\Local\\Programs\\Python\\Python36\\lib\\site-packages\\transformers\\modeling_bert.py\u001b[0m in \u001b[0;36mforward\u001b[1;34m(self, hidden_states, attention_mask, head_mask, encoder_hidden_states, encoder_attention_mask)\u001b[0m\n\u001b[0;32m    355\u001b[0m \u001b[1;33m\u001b[0m\u001b[0m\n\u001b[0;32m    356\u001b[0m     \u001b[1;32mdef\u001b[0m \u001b[0mforward\u001b[0m\u001b[1;33m(\u001b[0m\u001b[0mself\u001b[0m\u001b[1;33m,\u001b[0m \u001b[0mhidden_states\u001b[0m\u001b[1;33m,\u001b[0m \u001b[0mattention_mask\u001b[0m\u001b[1;33m=\u001b[0m\u001b[1;32mNone\u001b[0m\u001b[1;33m,\u001b[0m \u001b[0mhead_mask\u001b[0m\u001b[1;33m=\u001b[0m\u001b[1;32mNone\u001b[0m\u001b[1;33m,\u001b[0m \u001b[0mencoder_hidden_states\u001b[0m\u001b[1;33m=\u001b[0m\u001b[1;32mNone\u001b[0m\u001b[1;33m,\u001b[0m \u001b[0mencoder_attention_mask\u001b[0m\u001b[1;33m=\u001b[0m\u001b[1;32mNone\u001b[0m\u001b[1;33m)\u001b[0m\u001b[1;33m:\u001b[0m\u001b[1;33m\u001b[0m\u001b[1;33m\u001b[0m\u001b[0m\n\u001b[1;32m--> 357\u001b[1;33m         \u001b[0mself_attention_outputs\u001b[0m \u001b[1;33m=\u001b[0m \u001b[0mself\u001b[0m\u001b[1;33m.\u001b[0m\u001b[0mattention\u001b[0m\u001b[1;33m(\u001b[0m\u001b[0mhidden_states\u001b[0m\u001b[1;33m,\u001b[0m \u001b[0mattention_mask\u001b[0m\u001b[1;33m,\u001b[0m \u001b[0mhead_mask\u001b[0m\u001b[1;33m)\u001b[0m\u001b[1;33m\u001b[0m\u001b[1;33m\u001b[0m\u001b[0m\n\u001b[0m\u001b[0;32m    358\u001b[0m         \u001b[0mattention_output\u001b[0m \u001b[1;33m=\u001b[0m \u001b[0mself_attention_outputs\u001b[0m\u001b[1;33m[\u001b[0m\u001b[1;36m0\u001b[0m\u001b[1;33m]\u001b[0m\u001b[1;33m\u001b[0m\u001b[1;33m\u001b[0m\u001b[0m\n\u001b[0;32m    359\u001b[0m         \u001b[0moutputs\u001b[0m \u001b[1;33m=\u001b[0m \u001b[0mself_attention_outputs\u001b[0m\u001b[1;33m[\u001b[0m\u001b[1;36m1\u001b[0m\u001b[1;33m:\u001b[0m\u001b[1;33m]\u001b[0m  \u001b[1;31m# add self attentions if we output attention weights\u001b[0m\u001b[1;33m\u001b[0m\u001b[1;33m\u001b[0m\u001b[0m\n",
      "\u001b[1;32m~\\AppData\\Local\\Programs\\Python\\Python36\\lib\\site-packages\\torch\\nn\\modules\\module.py\u001b[0m in \u001b[0;36m__call__\u001b[1;34m(self, *input, **kwargs)\u001b[0m\n\u001b[0;32m    545\u001b[0m             \u001b[0mresult\u001b[0m \u001b[1;33m=\u001b[0m \u001b[0mself\u001b[0m\u001b[1;33m.\u001b[0m\u001b[0m_slow_forward\u001b[0m\u001b[1;33m(\u001b[0m\u001b[1;33m*\u001b[0m\u001b[0minput\u001b[0m\u001b[1;33m,\u001b[0m \u001b[1;33m**\u001b[0m\u001b[0mkwargs\u001b[0m\u001b[1;33m)\u001b[0m\u001b[1;33m\u001b[0m\u001b[1;33m\u001b[0m\u001b[0m\n\u001b[0;32m    546\u001b[0m         \u001b[1;32melse\u001b[0m\u001b[1;33m:\u001b[0m\u001b[1;33m\u001b[0m\u001b[1;33m\u001b[0m\u001b[0m\n\u001b[1;32m--> 547\u001b[1;33m             \u001b[0mresult\u001b[0m \u001b[1;33m=\u001b[0m \u001b[0mself\u001b[0m\u001b[1;33m.\u001b[0m\u001b[0mforward\u001b[0m\u001b[1;33m(\u001b[0m\u001b[1;33m*\u001b[0m\u001b[0minput\u001b[0m\u001b[1;33m,\u001b[0m \u001b[1;33m**\u001b[0m\u001b[0mkwargs\u001b[0m\u001b[1;33m)\u001b[0m\u001b[1;33m\u001b[0m\u001b[1;33m\u001b[0m\u001b[0m\n\u001b[0m\u001b[0;32m    548\u001b[0m         \u001b[1;32mfor\u001b[0m \u001b[0mhook\u001b[0m \u001b[1;32min\u001b[0m \u001b[0mself\u001b[0m\u001b[1;33m.\u001b[0m\u001b[0m_forward_hooks\u001b[0m\u001b[1;33m.\u001b[0m\u001b[0mvalues\u001b[0m\u001b[1;33m(\u001b[0m\u001b[1;33m)\u001b[0m\u001b[1;33m:\u001b[0m\u001b[1;33m\u001b[0m\u001b[1;33m\u001b[0m\u001b[0m\n\u001b[0;32m    549\u001b[0m             \u001b[0mhook_result\u001b[0m \u001b[1;33m=\u001b[0m \u001b[0mhook\u001b[0m\u001b[1;33m(\u001b[0m\u001b[0mself\u001b[0m\u001b[1;33m,\u001b[0m \u001b[0minput\u001b[0m\u001b[1;33m,\u001b[0m \u001b[0mresult\u001b[0m\u001b[1;33m)\u001b[0m\u001b[1;33m\u001b[0m\u001b[1;33m\u001b[0m\u001b[0m\n",
      "\u001b[1;32m~\\AppData\\Local\\Programs\\Python\\Python36\\lib\\site-packages\\transformers\\modeling_bert.py\u001b[0m in \u001b[0;36mforward\u001b[1;34m(self, hidden_states, attention_mask, head_mask, encoder_hidden_states, encoder_attention_mask)\u001b[0m\n\u001b[0;32m    309\u001b[0m \u001b[1;33m\u001b[0m\u001b[0m\n\u001b[0;32m    310\u001b[0m     \u001b[1;32mdef\u001b[0m \u001b[0mforward\u001b[0m\u001b[1;33m(\u001b[0m\u001b[0mself\u001b[0m\u001b[1;33m,\u001b[0m \u001b[0mhidden_states\u001b[0m\u001b[1;33m,\u001b[0m \u001b[0mattention_mask\u001b[0m\u001b[1;33m=\u001b[0m\u001b[1;32mNone\u001b[0m\u001b[1;33m,\u001b[0m \u001b[0mhead_mask\u001b[0m\u001b[1;33m=\u001b[0m\u001b[1;32mNone\u001b[0m\u001b[1;33m,\u001b[0m \u001b[0mencoder_hidden_states\u001b[0m\u001b[1;33m=\u001b[0m\u001b[1;32mNone\u001b[0m\u001b[1;33m,\u001b[0m \u001b[0mencoder_attention_mask\u001b[0m\u001b[1;33m=\u001b[0m\u001b[1;32mNone\u001b[0m\u001b[1;33m)\u001b[0m\u001b[1;33m:\u001b[0m\u001b[1;33m\u001b[0m\u001b[1;33m\u001b[0m\u001b[0m\n\u001b[1;32m--> 311\u001b[1;33m         \u001b[0mself_outputs\u001b[0m \u001b[1;33m=\u001b[0m \u001b[0mself\u001b[0m\u001b[1;33m.\u001b[0m\u001b[0mself\u001b[0m\u001b[1;33m(\u001b[0m\u001b[0mhidden_states\u001b[0m\u001b[1;33m,\u001b[0m \u001b[0mattention_mask\u001b[0m\u001b[1;33m,\u001b[0m \u001b[0mhead_mask\u001b[0m\u001b[1;33m,\u001b[0m \u001b[0mencoder_hidden_states\u001b[0m\u001b[1;33m,\u001b[0m \u001b[0mencoder_attention_mask\u001b[0m\u001b[1;33m)\u001b[0m\u001b[1;33m\u001b[0m\u001b[1;33m\u001b[0m\u001b[0m\n\u001b[0m\u001b[0;32m    312\u001b[0m         \u001b[0mattention_output\u001b[0m \u001b[1;33m=\u001b[0m \u001b[0mself\u001b[0m\u001b[1;33m.\u001b[0m\u001b[0moutput\u001b[0m\u001b[1;33m(\u001b[0m\u001b[0mself_outputs\u001b[0m\u001b[1;33m[\u001b[0m\u001b[1;36m0\u001b[0m\u001b[1;33m]\u001b[0m\u001b[1;33m,\u001b[0m \u001b[0mhidden_states\u001b[0m\u001b[1;33m)\u001b[0m\u001b[1;33m\u001b[0m\u001b[1;33m\u001b[0m\u001b[0m\n\u001b[0;32m    313\u001b[0m         \u001b[0moutputs\u001b[0m \u001b[1;33m=\u001b[0m \u001b[1;33m(\u001b[0m\u001b[0mattention_output\u001b[0m\u001b[1;33m,\u001b[0m\u001b[1;33m)\u001b[0m \u001b[1;33m+\u001b[0m \u001b[0mself_outputs\u001b[0m\u001b[1;33m[\u001b[0m\u001b[1;36m1\u001b[0m\u001b[1;33m:\u001b[0m\u001b[1;33m]\u001b[0m  \u001b[1;31m# add attentions if we output them\u001b[0m\u001b[1;33m\u001b[0m\u001b[1;33m\u001b[0m\u001b[0m\n",
      "\u001b[1;32m~\\AppData\\Local\\Programs\\Python\\Python36\\lib\\site-packages\\torch\\nn\\modules\\module.py\u001b[0m in \u001b[0;36m__call__\u001b[1;34m(self, *input, **kwargs)\u001b[0m\n\u001b[0;32m    545\u001b[0m             \u001b[0mresult\u001b[0m \u001b[1;33m=\u001b[0m \u001b[0mself\u001b[0m\u001b[1;33m.\u001b[0m\u001b[0m_slow_forward\u001b[0m\u001b[1;33m(\u001b[0m\u001b[1;33m*\u001b[0m\u001b[0minput\u001b[0m\u001b[1;33m,\u001b[0m \u001b[1;33m**\u001b[0m\u001b[0mkwargs\u001b[0m\u001b[1;33m)\u001b[0m\u001b[1;33m\u001b[0m\u001b[1;33m\u001b[0m\u001b[0m\n\u001b[0;32m    546\u001b[0m         \u001b[1;32melse\u001b[0m\u001b[1;33m:\u001b[0m\u001b[1;33m\u001b[0m\u001b[1;33m\u001b[0m\u001b[0m\n\u001b[1;32m--> 547\u001b[1;33m             \u001b[0mresult\u001b[0m \u001b[1;33m=\u001b[0m \u001b[0mself\u001b[0m\u001b[1;33m.\u001b[0m\u001b[0mforward\u001b[0m\u001b[1;33m(\u001b[0m\u001b[1;33m*\u001b[0m\u001b[0minput\u001b[0m\u001b[1;33m,\u001b[0m \u001b[1;33m**\u001b[0m\u001b[0mkwargs\u001b[0m\u001b[1;33m)\u001b[0m\u001b[1;33m\u001b[0m\u001b[1;33m\u001b[0m\u001b[0m\n\u001b[0m\u001b[0;32m    548\u001b[0m         \u001b[1;32mfor\u001b[0m \u001b[0mhook\u001b[0m \u001b[1;32min\u001b[0m \u001b[0mself\u001b[0m\u001b[1;33m.\u001b[0m\u001b[0m_forward_hooks\u001b[0m\u001b[1;33m.\u001b[0m\u001b[0mvalues\u001b[0m\u001b[1;33m(\u001b[0m\u001b[1;33m)\u001b[0m\u001b[1;33m:\u001b[0m\u001b[1;33m\u001b[0m\u001b[1;33m\u001b[0m\u001b[0m\n\u001b[0;32m    549\u001b[0m             \u001b[0mhook_result\u001b[0m \u001b[1;33m=\u001b[0m \u001b[0mhook\u001b[0m\u001b[1;33m(\u001b[0m\u001b[0mself\u001b[0m\u001b[1;33m,\u001b[0m \u001b[0minput\u001b[0m\u001b[1;33m,\u001b[0m \u001b[0mresult\u001b[0m\u001b[1;33m)\u001b[0m\u001b[1;33m\u001b[0m\u001b[1;33m\u001b[0m\u001b[0m\n",
      "\u001b[1;32m~\\AppData\\Local\\Programs\\Python\\Python36\\lib\\site-packages\\transformers\\modeling_bert.py\u001b[0m in \u001b[0;36mforward\u001b[1;34m(self, hidden_states, attention_mask, head_mask, encoder_hidden_states, encoder_attention_mask)\u001b[0m\n\u001b[0;32m    237\u001b[0m \u001b[1;33m\u001b[0m\u001b[0m\n\u001b[0;32m    238\u001b[0m         \u001b[1;31m# Take the dot product between \"query\" and \"key\" to get the raw attention scores.\u001b[0m\u001b[1;33m\u001b[0m\u001b[1;33m\u001b[0m\u001b[1;33m\u001b[0m\u001b[0m\n\u001b[1;32m--> 239\u001b[1;33m         \u001b[0mattention_scores\u001b[0m \u001b[1;33m=\u001b[0m \u001b[0mtorch\u001b[0m\u001b[1;33m.\u001b[0m\u001b[0mmatmul\u001b[0m\u001b[1;33m(\u001b[0m\u001b[0mquery_layer\u001b[0m\u001b[1;33m,\u001b[0m \u001b[0mkey_layer\u001b[0m\u001b[1;33m.\u001b[0m\u001b[0mtranspose\u001b[0m\u001b[1;33m(\u001b[0m\u001b[1;33m-\u001b[0m\u001b[1;36m1\u001b[0m\u001b[1;33m,\u001b[0m \u001b[1;33m-\u001b[0m\u001b[1;36m2\u001b[0m\u001b[1;33m)\u001b[0m\u001b[1;33m)\u001b[0m\u001b[1;33m\u001b[0m\u001b[1;33m\u001b[0m\u001b[0m\n\u001b[0m\u001b[0;32m    240\u001b[0m         \u001b[0mattention_scores\u001b[0m \u001b[1;33m=\u001b[0m \u001b[0mattention_scores\u001b[0m \u001b[1;33m/\u001b[0m \u001b[0mmath\u001b[0m\u001b[1;33m.\u001b[0m\u001b[0msqrt\u001b[0m\u001b[1;33m(\u001b[0m\u001b[0mself\u001b[0m\u001b[1;33m.\u001b[0m\u001b[0mattention_head_size\u001b[0m\u001b[1;33m)\u001b[0m\u001b[1;33m\u001b[0m\u001b[1;33m\u001b[0m\u001b[0m\n\u001b[0;32m    241\u001b[0m         \u001b[1;32mif\u001b[0m \u001b[0mattention_mask\u001b[0m \u001b[1;32mis\u001b[0m \u001b[1;32mnot\u001b[0m \u001b[1;32mNone\u001b[0m\u001b[1;33m:\u001b[0m\u001b[1;33m\u001b[0m\u001b[1;33m\u001b[0m\u001b[0m\n",
      "\u001b[1;31mRuntimeError\u001b[0m: [enforce fail at ..\\c10\\core\\CPUAllocator.cpp:72] data. DefaultCPUAllocator: not enough memory: you tried to allocate 1610612736 bytes. Buy new RAM!\n"
     ]
    }
   ],
   "source": [
    "model_query = QueryModel()#.to(device)\n",
    "model_image = ImageModel()#.to(device)\n",
    "\n",
    "#     optimizer = torch.optim.Adam(model.parameters())\n",
    "optimizer = torch.optim.Adam([\n",
    "                    {'params': model_image.parameters()},\n",
    "                    {'params': model_query.parameters()}\n",
    "                ])\n",
    "\n",
    "criterion = nn.BCEWithLogitsLoss()\n",
    "\n",
    "\n",
    "loss_list_epoch_train = []\n",
    "loss_list_epoch_valid = []\n",
    "loss_best = 100\n",
    "for epoch in range(20):\n",
    "\n",
    "    torch.cuda.empty_cache()\n",
    "    start_time   = time.time()\n",
    "\n",
    "    dataset_train = KDDDataset(train, train_mode=True)\n",
    "    dataset_valid = KDDDataset(valid, train_mode=True)\n",
    "    train_loader = DataLoader(dataset_train, batch_size=128, shuffle=True, num_workers=0, drop_last=True, collate_fn=collate)\n",
    "    valid_loader = DataLoader(dataset_valid, batch_size=128, shuffle=True, num_workers=0, drop_last=True, collate_fn=collate)\n",
    "    #scheduler = get_cosine_schedule_with_warmup(optimizer, num_warmup_steps=config.warmup, num_training_steps=config.epochs*len(train_loader))\n",
    "\n",
    "    loss_train = train_model(train_loader, model_image, model_query, optimizer, criterion)#, scheduler)\n",
    "    loss_valid = valid_model(valid_loader, model_image, model_query)\n",
    "\n",
    "    loss_list_epoch_train.append(loss_train)\n",
    "    loss_list_epoch_valid.append(loss_valid)\n",
    "\n",
    "    print(f'Epoch {(epoch+1)}, train_loss: {loss_train}, valid_loss: {loss_valid}, time: {(time.time()-start_time)}')\n",
    "\n",
    "\n",
    "    # Eearly Stopping\n",
    "    if loss_valid < loss_best:\n",
    "        loss_best = loss_valid\n",
    "        best_param_query = model_query.state_dict()\n",
    "        best_param_image = model_image.state_dict()\n",
    "        torch.save(best_param_query, f'best_param_query.pt')\n",
    "        torch.save(best_param_image, f'best_param_image.pt')\n",
    "        patience = 0\n",
    "    else:\n",
    "        patience += 1\n",
    "        if patience >= 3:\n",
    "            del train_loader, valid_loader, loss_train, loss_valid\n",
    "            torch.cuda.empty_cache()\n",
    "            gc.collect()\n",
    "            break\n",
    "\n",
    "    del train_loader, valid_loader, loss_train, loss_valid\n",
    "    torch.cuda.empty_cache()\n",
    "    gc.collect()"
   ]
  },
  {
   "cell_type": "code",
   "execution_count": null,
   "metadata": {},
   "outputs": [],
   "source": []
  },
  {
   "cell_type": "code",
   "execution_count": null,
   "metadata": {},
   "outputs": [],
   "source": []
  }
 ],
 "metadata": {
  "kernelspec": {
   "display_name": "Python 3.6.8 64-bit",
   "language": "python",
   "name": "python36864bite017e2c7b8524cad8f7db9cbae74c9c3"
  },
  "language_info": {
   "codemirror_mode": {
    "name": "ipython",
    "version": 3
   },
   "file_extension": ".py",
   "mimetype": "text/x-python",
   "name": "python",
   "nbconvert_exporter": "python",
   "pygments_lexer": "ipython3",
   "version": "3.6.8"
  }
 },
 "nbformat": 4,
 "nbformat_minor": 2
}
