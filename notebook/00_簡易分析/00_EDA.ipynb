{
 "cells": [
  {
   "cell_type": "code",
   "execution_count": 19,
   "metadata": {},
   "outputs": [],
   "source": [
    "import pandas as pd\n",
    "import numpy as np\n",
    "import datetime\n",
    "import os\n",
    "import gc\n",
    "from glob import glob\n",
    "from tqdm import tqdm_notebook as tqdm\n",
    "import pickle\n",
    "\n",
    "import base64\n",
    "import swifter\n",
    "import gensim\n",
    "\n",
    "from sklearn.metrics import mean_absolute_error\n",
    "import lightgbm as lgb\n",
    "from sklearn.model_selection import StratifiedKFold\n",
    "from sklearn.metrics import mean_squared_error, roc_auc_score\n",
    "import matplotlib.pyplot as plt\n",
    "import japanize_matplotlib\n",
    "import seaborn as sns\n",
    "\n",
    "pd.set_option('display.max_columns', 1200)"
   ]
  },
  {
   "cell_type": "code",
   "execution_count": 20,
   "metadata": {},
   "outputs": [],
   "source": [
    "DATA_DIR = 'D:/project/ICF_AutoCapsule_disabled/kddcup2020/input/'\n",
    "W2V_DIR = 'D:/project/ICF_AutoCapsule_disabled/kddcup2020/w2v/'"
   ]
  },
  {
   "cell_type": "code",
   "execution_count": 21,
   "metadata": {},
   "outputs": [
    {
     "name": "stdout",
     "output_type": "stream",
     "text": [
      "(10000, 9)\n"
     ]
    },
    {
     "data": {
      "text/html": [
       "<div>\n",
       "<style scoped>\n",
       "    .dataframe tbody tr th:only-of-type {\n",
       "        vertical-align: middle;\n",
       "    }\n",
       "\n",
       "    .dataframe tbody tr th {\n",
       "        vertical-align: top;\n",
       "    }\n",
       "\n",
       "    .dataframe thead th {\n",
       "        text-align: right;\n",
       "    }\n",
       "</style>\n",
       "<table border=\"1\" class=\"dataframe\">\n",
       "  <thead>\n",
       "    <tr style=\"text-align: right;\">\n",
       "      <th></th>\n",
       "      <th>product_id</th>\n",
       "      <th>image_h</th>\n",
       "      <th>image_w</th>\n",
       "      <th>num_boxes</th>\n",
       "      <th>boxes</th>\n",
       "      <th>features</th>\n",
       "      <th>class_labels</th>\n",
       "      <th>query</th>\n",
       "      <th>query_id</th>\n",
       "    </tr>\n",
       "  </thead>\n",
       "  <tbody>\n",
       "    <tr>\n",
       "      <td>0</td>\n",
       "      <td>102851856</td>\n",
       "      <td>338</td>\n",
       "      <td>209</td>\n",
       "      <td>2</td>\n",
       "      <td>AAAAAAAAQEAAAKlDAABPQwAAb0MAALBBAICmQwAATEM=</td>\n",
       "      <td>AAAAAAAAAAAnNsFAAAAAAOeVGD0AAAAAAAAAAAAAAAAAAA...</td>\n",
       "      <td>HAAAAAAAAAAcAAAAAAAAAA==</td>\n",
       "      <td>treble popular reed</td>\n",
       "      <td>923271</td>\n",
       "    </tr>\n",
       "    <tr>\n",
       "      <td>1</td>\n",
       "      <td>101783080</td>\n",
       "      <td>80</td>\n",
       "      <td>61</td>\n",
       "      <td>1</td>\n",
       "      <td>AACgQAAAoEAAAJZCAABgQg==</td>\n",
       "      <td>AAAAADnKfjyatb8/AAAAALxPBz0MH6E9xwkoPAAAAAAAAA...</td>\n",
       "      <td>HAAAAAAAAAA=</td>\n",
       "      <td>compatible ink cartridges</td>\n",
       "      <td>234031</td>\n",
       "    </tr>\n",
       "    <tr>\n",
       "      <td>2</td>\n",
       "      <td>100492797</td>\n",
       "      <td>750</td>\n",
       "      <td>750</td>\n",
       "      <td>1</td>\n",
       "      <td>AAAsQgCAg0MAgCREAADqQw==</td>\n",
       "      <td>AAAAAAAAAABmUlE/AAAAABvc0jwAAAAAAAAAAAAAAAAAAA...</td>\n",
       "      <td>BwAAAAAAAAA=</td>\n",
       "      <td>check new look facial cream</td>\n",
       "      <td>199926</td>\n",
       "    </tr>\n",
       "    <tr>\n",
       "      <td>3</td>\n",
       "      <td>101708088</td>\n",
       "      <td>480</td>\n",
       "      <td>640</td>\n",
       "      <td>5</td>\n",
       "      <td>AAB6QwCA0kMAANBDAMAeRAAAfEMAAKBAAIDWQwAAVkMAAH...</td>\n",
       "      <td>AAAAAAAAAAAAAAAAAAAAAAXyfz4AAAAAAAAAAAAAAAAAAA...</td>\n",
       "      <td>HAAAAAAAAAAcAAAAAAAAABwAAAAAAAAAHAAAAAAAAAAcAA...</td>\n",
       "      <td>royal commemorative stamp</td>\n",
       "      <td>772725</td>\n",
       "    </tr>\n",
       "    <tr>\n",
       "      <td>4</td>\n",
       "      <td>100316842</td>\n",
       "      <td>800</td>\n",
       "      <td>800</td>\n",
       "      <td>4</td>\n",
       "      <td>AAAKQwCAgEMAADNEAAAHRAAAIkMAwCZEAACqQwDARkQAAE...</td>\n",
       "      <td>AAAAADSdaTwVTdA8AAAAAAAAAAAAAAAAAAAAAAAAAAAAAA...</td>\n",
       "      <td>HAAAAAAAAAAGAAAAAAAAAAYAAAAAAAAAHAAAAAAAAAA=</td>\n",
       "      <td>calendula baby shower gel</td>\n",
       "      <td>362576</td>\n",
       "    </tr>\n",
       "  </tbody>\n",
       "</table>\n",
       "</div>"
      ],
      "text/plain": [
       "   product_id  image_h  image_w  num_boxes  \\\n",
       "0   102851856      338      209          2   \n",
       "1   101783080       80       61          1   \n",
       "2   100492797      750      750          1   \n",
       "3   101708088      480      640          5   \n",
       "4   100316842      800      800          4   \n",
       "\n",
       "                                               boxes  \\\n",
       "0       AAAAAAAAQEAAAKlDAABPQwAAb0MAALBBAICmQwAATEM=   \n",
       "1                           AACgQAAAoEAAAJZCAABgQg==   \n",
       "2                           AAAsQgCAg0MAgCREAADqQw==   \n",
       "3  AAB6QwCA0kMAANBDAMAeRAAAfEMAAKBAAIDWQwAAVkMAAH...   \n",
       "4  AAAKQwCAgEMAADNEAAAHRAAAIkMAwCZEAACqQwDARkQAAE...   \n",
       "\n",
       "                                            features  \\\n",
       "0  AAAAAAAAAAAnNsFAAAAAAOeVGD0AAAAAAAAAAAAAAAAAAA...   \n",
       "1  AAAAADnKfjyatb8/AAAAALxPBz0MH6E9xwkoPAAAAAAAAA...   \n",
       "2  AAAAAAAAAABmUlE/AAAAABvc0jwAAAAAAAAAAAAAAAAAAA...   \n",
       "3  AAAAAAAAAAAAAAAAAAAAAAXyfz4AAAAAAAAAAAAAAAAAAA...   \n",
       "4  AAAAADSdaTwVTdA8AAAAAAAAAAAAAAAAAAAAAAAAAAAAAA...   \n",
       "\n",
       "                                        class_labels  \\\n",
       "0                           HAAAAAAAAAAcAAAAAAAAAA==   \n",
       "1                                       HAAAAAAAAAA=   \n",
       "2                                       BwAAAAAAAAA=   \n",
       "3  HAAAAAAAAAAcAAAAAAAAABwAAAAAAAAAHAAAAAAAAAAcAA...   \n",
       "4       HAAAAAAAAAAGAAAAAAAAAAYAAAAAAAAAHAAAAAAAAAA=   \n",
       "\n",
       "                         query  query_id  \n",
       "0          treble popular reed    923271  \n",
       "1    compatible ink cartridges    234031  \n",
       "2  check new look facial cream    199926  \n",
       "3    royal commemorative stamp    772725  \n",
       "4    calendula baby shower gel    362576  "
      ]
     },
     "execution_count": 21,
     "metadata": {},
     "output_type": "execute_result"
    }
   ],
   "source": [
    "train = pd.read_csv(DATA_DIR+'multimodal_train_sampleset/train.sample.tsv', sep='\\t')\n",
    "print(train.shape)\n",
    "train.head()"
   ]
  },
  {
   "cell_type": "code",
   "execution_count": 22,
   "metadata": {},
   "outputs": [],
   "source": [
    "def transform_boxes(df_row):\n",
    "    return np.frombuffer(base64.b64decode(df_row.boxes), dtype=np.float32).reshape(df_row.num_boxes, 4)\n",
    "\n",
    "def transform_features(df_row):\n",
    "    return np.frombuffer(base64.b64decode(df_row.features), dtype=np.float32).reshape(df_row.num_boxes, 2048)\n",
    "\n",
    "def transform_class_labels(df_row):\n",
    "    return np.frombuffer(base64.b64decode(df_row.class_labels), dtype=np.int64).reshape(df_row.num_boxes)"
   ]
  },
  {
   "cell_type": "code",
   "execution_count": 23,
   "metadata": {
    "scrolled": true
   },
   "outputs": [
    {
     "data": {
      "application/vnd.jupyter.widget-view+json": {
       "model_id": "9b7c1d632477419b93a7bbd744b7bfb5",
       "version_major": 2,
       "version_minor": 0
      },
      "text/plain": [
       "HBox(children=(IntProgress(value=0, description='Pandas Apply', max=10000, style=ProgressStyle(description_wid…"
      ]
     },
     "metadata": {},
     "output_type": "display_data"
    },
    {
     "name": "stdout",
     "output_type": "stream",
     "text": [
      "\n"
     ]
    }
   ],
   "source": [
    "train.boxes = train.swifter.apply(transform_boxes, axis=1)"
   ]
  },
  {
   "cell_type": "code",
   "execution_count": 24,
   "metadata": {
    "scrolled": true
   },
   "outputs": [
    {
     "data": {
      "application/vnd.jupyter.widget-view+json": {
       "model_id": "98cb25ddb9204b48938667451b33f1ea",
       "version_major": 2,
       "version_minor": 0
      },
      "text/plain": [
       "HBox(children=(IntProgress(value=0, description='Pandas Apply', max=10000, style=ProgressStyle(description_wid…"
      ]
     },
     "metadata": {},
     "output_type": "display_data"
    },
    {
     "name": "stdout",
     "output_type": "stream",
     "text": [
      "\n"
     ]
    }
   ],
   "source": [
    "train.features = train.swifter.apply(transform_features, axis=1)"
   ]
  },
  {
   "cell_type": "code",
   "execution_count": 25,
   "metadata": {},
   "outputs": [
    {
     "data": {
      "application/vnd.jupyter.widget-view+json": {
       "model_id": "121ade18550445e1859c76bf1302510d",
       "version_major": 2,
       "version_minor": 0
      },
      "text/plain": [
       "HBox(children=(IntProgress(value=0, description='Pandas Apply', max=10000, style=ProgressStyle(description_wid…"
      ]
     },
     "metadata": {},
     "output_type": "display_data"
    },
    {
     "name": "stdout",
     "output_type": "stream",
     "text": [
      "\n"
     ]
    }
   ],
   "source": [
    "train.class_labels = train.swifter.apply(transform_class_labels, axis=1)"
   ]
  },
  {
   "cell_type": "code",
   "execution_count": 26,
   "metadata": {},
   "outputs": [
    {
     "data": {
      "text/html": [
       "<div>\n",
       "<style scoped>\n",
       "    .dataframe tbody tr th:only-of-type {\n",
       "        vertical-align: middle;\n",
       "    }\n",
       "\n",
       "    .dataframe tbody tr th {\n",
       "        vertical-align: top;\n",
       "    }\n",
       "\n",
       "    .dataframe thead th {\n",
       "        text-align: right;\n",
       "    }\n",
       "</style>\n",
       "<table border=\"1\" class=\"dataframe\">\n",
       "  <thead>\n",
       "    <tr style=\"text-align: right;\">\n",
       "      <th></th>\n",
       "      <th>product_id</th>\n",
       "      <th>image_h</th>\n",
       "      <th>image_w</th>\n",
       "      <th>num_boxes</th>\n",
       "      <th>boxes</th>\n",
       "      <th>features</th>\n",
       "      <th>class_labels</th>\n",
       "      <th>query</th>\n",
       "      <th>query_id</th>\n",
       "    </tr>\n",
       "  </thead>\n",
       "  <tbody>\n",
       "    <tr>\n",
       "      <td>0</td>\n",
       "      <td>102851856</td>\n",
       "      <td>338</td>\n",
       "      <td>209</td>\n",
       "      <td>2</td>\n",
       "      <td>[[0.0, 3.0, 338.0, 207.0], [239.0, 22.0, 333.0...</td>\n",
       "      <td>[[0.0, 0.0, 6.0378604, 0.0, 0.037252333, 0.0, ...</td>\n",
       "      <td>[28, 28]</td>\n",
       "      <td>treble popular reed</td>\n",
       "      <td>923271</td>\n",
       "    </tr>\n",
       "    <tr>\n",
       "      <td>1</td>\n",
       "      <td>101783080</td>\n",
       "      <td>80</td>\n",
       "      <td>61</td>\n",
       "      <td>1</td>\n",
       "      <td>[[5.0, 5.0, 75.0, 56.0]]</td>\n",
       "      <td>[[0.0, 0.015551143, 1.4977295, 0.0, 0.03303502...</td>\n",
       "      <td>[28]</td>\n",
       "      <td>compatible ink cartridges</td>\n",
       "      <td>234031</td>\n",
       "    </tr>\n",
       "    <tr>\n",
       "      <td>2</td>\n",
       "      <td>100492797</td>\n",
       "      <td>750</td>\n",
       "      <td>750</td>\n",
       "      <td>1</td>\n",
       "      <td>[[43.0, 263.0, 658.0, 468.0]]</td>\n",
       "      <td>[[0.0, 0.0, 0.81766355, 0.0, 0.02573972, 0.0, ...</td>\n",
       "      <td>[7]</td>\n",
       "      <td>check new look facial cream</td>\n",
       "      <td>199926</td>\n",
       "    </tr>\n",
       "    <tr>\n",
       "      <td>3</td>\n",
       "      <td>101708088</td>\n",
       "      <td>480</td>\n",
       "      <td>640</td>\n",
       "      <td>5</td>\n",
       "      <td>[[250.0, 421.0, 416.0, 635.0], [252.0, 5.0, 42...</td>\n",
       "      <td>[[0.0, 0.0, 0.0, 0.0, 0.24994667, 0.0, 0.0, 0....</td>\n",
       "      <td>[28, 28, 28, 28, 28]</td>\n",
       "      <td>royal commemorative stamp</td>\n",
       "      <td>772725</td>\n",
       "    </tr>\n",
       "    <tr>\n",
       "      <td>4</td>\n",
       "      <td>100316842</td>\n",
       "      <td>800</td>\n",
       "      <td>800</td>\n",
       "      <td>4</td>\n",
       "      <td>[[138.0, 257.0, 716.0, 540.0], [162.0, 667.0, ...</td>\n",
       "      <td>[[0.0, 0.014258672, 0.02542738, 0.0, 0.0, 0.0,...</td>\n",
       "      <td>[28, 6, 6, 28]</td>\n",
       "      <td>calendula baby shower gel</td>\n",
       "      <td>362576</td>\n",
       "    </tr>\n",
       "  </tbody>\n",
       "</table>\n",
       "</div>"
      ],
      "text/plain": [
       "   product_id  image_h  image_w  num_boxes  \\\n",
       "0   102851856      338      209          2   \n",
       "1   101783080       80       61          1   \n",
       "2   100492797      750      750          1   \n",
       "3   101708088      480      640          5   \n",
       "4   100316842      800      800          4   \n",
       "\n",
       "                                               boxes  \\\n",
       "0  [[0.0, 3.0, 338.0, 207.0], [239.0, 22.0, 333.0...   \n",
       "1                           [[5.0, 5.0, 75.0, 56.0]]   \n",
       "2                      [[43.0, 263.0, 658.0, 468.0]]   \n",
       "3  [[250.0, 421.0, 416.0, 635.0], [252.0, 5.0, 42...   \n",
       "4  [[138.0, 257.0, 716.0, 540.0], [162.0, 667.0, ...   \n",
       "\n",
       "                                            features          class_labels  \\\n",
       "0  [[0.0, 0.0, 6.0378604, 0.0, 0.037252333, 0.0, ...              [28, 28]   \n",
       "1  [[0.0, 0.015551143, 1.4977295, 0.0, 0.03303502...                  [28]   \n",
       "2  [[0.0, 0.0, 0.81766355, 0.0, 0.02573972, 0.0, ...                   [7]   \n",
       "3  [[0.0, 0.0, 0.0, 0.0, 0.24994667, 0.0, 0.0, 0....  [28, 28, 28, 28, 28]   \n",
       "4  [[0.0, 0.014258672, 0.02542738, 0.0, 0.0, 0.0,...        [28, 6, 6, 28]   \n",
       "\n",
       "                         query  query_id  \n",
       "0          treble popular reed    923271  \n",
       "1    compatible ink cartridges    234031  \n",
       "2  check new look facial cream    199926  \n",
       "3    royal commemorative stamp    772725  \n",
       "4    calendula baby shower gel    362576  "
      ]
     },
     "execution_count": 26,
     "metadata": {},
     "output_type": "execute_result"
    }
   ],
   "source": [
    "train.head()"
   ]
  },
  {
   "cell_type": "markdown",
   "metadata": {},
   "source": [
    "### 観察"
   ]
  },
  {
   "cell_type": "code",
   "execution_count": 30,
   "metadata": {},
   "outputs": [],
   "source": [
    "dict_label = {\n",
    "    0:'top clothes (coat, jacket, shirt, etc.)',\n",
    "    1:'skirt & dress',\n",
    "    2:'bottom clothes (trousers, pants, etc.)',\n",
    "    3:'luggage, leather goods',\n",
    "    4:'shoes',\n",
    "    5:'accessories (jewelry, clothing accessories, belts, hats, scarves, etc.)',\n",
    "    6:'snacks, nuts, liquor and tea',\n",
    "    7:'makeup, perfume, beauty tools and essential oils',\n",
    "    8:'bottle drink',\n",
    "    9:'furniture',\n",
    "    10:'stationery',\n",
    "    11:'household electrical appliances',\n",
    "    12:'home decoration',\n",
    "    13:'household fabric',\n",
    "    14:'kitchenware',\n",
    "    15:'home / personal cleaning tools',\n",
    "    16:'storage supplies',\n",
    "    17:'motorcycle, motorcycle accessories, vehicles, bicycle and riding equipment',\n",
    "    18:'outdoor product',\n",
    "    19:'lighting',\n",
    "    20:'toys',\n",
    "    21:'underwear',\n",
    "    22:'digital supplies',\n",
    "    23:'bed linens',\n",
    "    24:'baby products',\n",
    "    25:'personal care',\n",
    "    26:'sporting goods',\n",
    "    27:'clothes (accessories, baby clothing, etc.)',\n",
    "    28:'others',\n",
    "    29:'human face',\n",
    "    30:'arm',\n",
    "    31:'hair',\n",
    "    32:'hand',\n",
    "}"
   ]
  },
  {
   "cell_type": "code",
   "execution_count": 28,
   "metadata": {},
   "outputs": [
    {
     "data": {
      "application/vnd.jupyter.widget-view+json": {
       "model_id": "bcf0bb0b15a64bfdb471e16c65bbac24",
       "version_major": 2,
       "version_minor": 0
      },
      "text/plain": [
       "HBox(children=(IntProgress(value=0, description='Pandas Apply', max=10000, style=ProgressStyle(description_wid…"
      ]
     },
     "metadata": {},
     "output_type": "display_data"
    },
    {
     "name": "stdout",
     "output_type": "stream",
     "text": [
      "\n"
     ]
    }
   ],
   "source": [
    "train['class_labels'] = train['class_labels'].swifter.apply(lambda x: [dict_label[xi] for xi in x])"
   ]
  },
  {
   "cell_type": "code",
   "execution_count": 31,
   "metadata": {},
   "outputs": [
    {
     "data": {
      "text/html": [
       "<div>\n",
       "<style scoped>\n",
       "    .dataframe tbody tr th:only-of-type {\n",
       "        vertical-align: middle;\n",
       "    }\n",
       "\n",
       "    .dataframe tbody tr th {\n",
       "        vertical-align: top;\n",
       "    }\n",
       "\n",
       "    .dataframe thead th {\n",
       "        text-align: right;\n",
       "    }\n",
       "</style>\n",
       "<table border=\"1\" class=\"dataframe\">\n",
       "  <thead>\n",
       "    <tr style=\"text-align: right;\">\n",
       "      <th></th>\n",
       "      <th>class_labels</th>\n",
       "      <th>query</th>\n",
       "    </tr>\n",
       "  </thead>\n",
       "  <tbody>\n",
       "    <tr>\n",
       "      <td>0</td>\n",
       "      <td>[others, others]</td>\n",
       "      <td>treble popular reed</td>\n",
       "    </tr>\n",
       "    <tr>\n",
       "      <td>1</td>\n",
       "      <td>[others]</td>\n",
       "      <td>compatible ink cartridges</td>\n",
       "    </tr>\n",
       "    <tr>\n",
       "      <td>2</td>\n",
       "      <td>[makeup, perfume, beauty tools and essential o...</td>\n",
       "      <td>check new look facial cream</td>\n",
       "    </tr>\n",
       "    <tr>\n",
       "      <td>3</td>\n",
       "      <td>[others, others, others, others, others]</td>\n",
       "      <td>royal commemorative stamp</td>\n",
       "    </tr>\n",
       "    <tr>\n",
       "      <td>4</td>\n",
       "      <td>[others, snacks, nuts, liquor and tea, snacks,...</td>\n",
       "      <td>calendula baby shower gel</td>\n",
       "    </tr>\n",
       "    <tr>\n",
       "      <td>...</td>\n",
       "      <td>...</td>\n",
       "      <td>...</td>\n",
       "    </tr>\n",
       "    <tr>\n",
       "      <td>9995</td>\n",
       "      <td>[bottle drink, accessories (jewelry, clothing ...</td>\n",
       "      <td>uv for men and women glasses</td>\n",
       "    </tr>\n",
       "    <tr>\n",
       "      <td>9996</td>\n",
       "      <td>[others, others, others, others, others]</td>\n",
       "      <td>pull universal shower accessories</td>\n",
       "    </tr>\n",
       "    <tr>\n",
       "      <td>9997</td>\n",
       "      <td>[toys, others, others, toys, toys, others, oth...</td>\n",
       "      <td>silicone accessories storage box</td>\n",
       "    </tr>\n",
       "    <tr>\n",
       "      <td>9998</td>\n",
       "      <td>[others, others]</td>\n",
       "      <td>applicable motor</td>\n",
       "    </tr>\n",
       "    <tr>\n",
       "      <td>9999</td>\n",
       "      <td>[others]</td>\n",
       "      <td>restaurant colander</td>\n",
       "    </tr>\n",
       "  </tbody>\n",
       "</table>\n",
       "<p>10000 rows × 2 columns</p>\n",
       "</div>"
      ],
      "text/plain": [
       "                                           class_labels  \\\n",
       "0                                      [others, others]   \n",
       "1                                              [others]   \n",
       "2     [makeup, perfume, beauty tools and essential o...   \n",
       "3              [others, others, others, others, others]   \n",
       "4     [others, snacks, nuts, liquor and tea, snacks,...   \n",
       "...                                                 ...   \n",
       "9995  [bottle drink, accessories (jewelry, clothing ...   \n",
       "9996           [others, others, others, others, others]   \n",
       "9997  [toys, others, others, toys, toys, others, oth...   \n",
       "9998                                   [others, others]   \n",
       "9999                                           [others]   \n",
       "\n",
       "                                  query  \n",
       "0                   treble popular reed  \n",
       "1             compatible ink cartridges  \n",
       "2           check new look facial cream  \n",
       "3             royal commemorative stamp  \n",
       "4             calendula baby shower gel  \n",
       "...                                 ...  \n",
       "9995       uv for men and women glasses  \n",
       "9996  pull universal shower accessories  \n",
       "9997   silicone accessories storage box  \n",
       "9998                   applicable motor  \n",
       "9999                restaurant colander  \n",
       "\n",
       "[10000 rows x 2 columns]"
      ]
     },
     "execution_count": 31,
     "metadata": {},
     "output_type": "execute_result"
    }
   ],
   "source": [
    "train[['class_labels', 'query']]"
   ]
  },
  {
   "cell_type": "code",
   "execution_count": 32,
   "metadata": {},
   "outputs": [],
   "source": [
    "train[['class_labels', 'query']].to_csv('train_sample_class_labels_query.csv', index=False)"
   ]
  },
  {
   "cell_type": "code",
   "execution_count": null,
   "metadata": {},
   "outputs": [],
   "source": []
  },
  {
   "cell_type": "code",
   "execution_count": 12,
   "metadata": {},
   "outputs": [],
   "source": [
    "tmp = pd.DataFrame()\n",
    "tmp['query'] = train['query'].unique()"
   ]
  },
  {
   "cell_type": "code",
   "execution_count": 14,
   "metadata": {},
   "outputs": [],
   "source": [
    "tmp.to_csv('query_train_sample.csv', index=False, header=False)"
   ]
  },
  {
   "cell_type": "code",
   "execution_count": null,
   "metadata": {},
   "outputs": [],
   "source": []
  },
  {
   "cell_type": "code",
   "execution_count": 33,
   "metadata": {},
   "outputs": [
    {
     "data": {
      "text/plain": [
       "<matplotlib.axes._subplots.AxesSubplot at 0x1f7505435c0>"
      ]
     },
     "execution_count": 33,
     "metadata": {},
     "output_type": "execute_result"
    },
    {
     "data": {
      "image/png": "[encoded data removed]",
      "text/plain": [
       "<Figure size 432x288 with 1 Axes>"
      ]
     },
     "metadata": {
      "needs_background": "light"
     },
     "output_type": "display_data"
    }
   ],
   "source": [
    "sns.distplot(train.num_boxes)"
   ]
  },
  {
   "cell_type": "code",
   "execution_count": null,
   "metadata": {},
   "outputs": [],
   "source": []
  },
  {
   "cell_type": "code",
   "execution_count": null,
   "metadata": {},
   "outputs": [],
   "source": []
  },
  {
   "cell_type": "code",
   "execution_count": 9,
   "metadata": {},
   "outputs": [
    {
     "ename": "TypeError",
     "evalue": "apply() missing 1 required positional argument: 'func'",
     "output_type": "error",
     "traceback": [
      "\u001b[1;31m---------------------------------------------------------------------------\u001b[0m",
      "\u001b[1;31mTypeError\u001b[0m                                 Traceback (most recent call last)",
      "\u001b[1;32m<ipython-input-9-963104320d62>\u001b[0m in \u001b[0;36m<module>\u001b[1;34m\u001b[0m\n\u001b[1;32m----> 1\u001b[1;33m \u001b[0mtrain\u001b[0m\u001b[1;33m.\u001b[0m\u001b[0mclass_labels\u001b[0m\u001b[1;33m.\u001b[0m\u001b[0mapply\u001b[0m\u001b[1;33m(\u001b[0m\u001b[1;33m)\u001b[0m\u001b[1;33m\u001b[0m\u001b[1;33m\u001b[0m\u001b[0m\n\u001b[0m",
      "\u001b[1;31mTypeError\u001b[0m: apply() missing 1 required positional argument: 'func'"
     ]
    }
   ],
   "source": [
    "train.class_labels.apply()"
   ]
  },
  {
   "cell_type": "code",
   "execution_count": null,
   "metadata": {},
   "outputs": [],
   "source": []
  },
  {
   "cell_type": "code",
   "execution_count": 13,
   "metadata": {},
   "outputs": [],
   "source": [
    "# Load Google's pre-trained Word2Vec model.\n",
    "model = gensim.models.KeyedVectors.load_word2vec_format(W2V_DIR+'GoogleNews-vectors-negative300.bin', binary=True)"
   ]
  },
  {
   "cell_type": "code",
   "execution_count": 15,
   "metadata": {
    "scrolled": true
   },
   "outputs": [
    {
     "data": {
      "text/plain": [
       "[('Treble', 0.6862679719924927),\n",
       " ('trebles', 0.6359702348709106),\n",
       " ('hat_trick', 0.5606434345245361),\n",
       " ('hattrick', 0.5108587145805359),\n",
       " ('hatrick', 0.49698448181152344),\n",
       " ('Weatherbys_Insurance', 0.4789239168167114),\n",
       " ('bagged_brace', 0.4738086462020874),\n",
       " ('quickfire_treble', 0.473459392786026),\n",
       " ('quickfire_hat_trick', 0.46957069635391235),\n",
       " ('shade_cosily', 0.46697622537612915)]"
      ]
     },
     "execution_count": 15,
     "metadata": {},
     "output_type": "execute_result"
    }
   ],
   "source": [
    "model.most_similar('treble')"
   ]
  },
  {
   "cell_type": "code",
   "execution_count": null,
   "metadata": {},
   "outputs": [],
   "source": []
  },
  {
   "cell_type": "code",
   "execution_count": null,
   "metadata": {},
   "outputs": [],
   "source": []
  },
  {
   "cell_type": "code",
   "execution_count": 7,
   "metadata": {},
   "outputs": [
    {
     "data": {
      "text/plain": [
       "array([[  0.,   3., 338., 207.],\n",
       "       [239.,  22., 333., 204.]], dtype=float32)"
      ]
     },
     "execution_count": 7,
     "metadata": {},
     "output_type": "execute_result"
    }
   ],
   "source": [
    "np.frombuffer(base64.b64decode(train['boxes'].iloc[0]), dtype=np.float32).reshape(train['num_boxes'].iloc[0], 4)"
   ]
  },
  {
   "cell_type": "code",
   "execution_count": 9,
   "metadata": {},
   "outputs": [
    {
     "data": {
      "text/plain": [
       "array([[0.        , 0.        , 6.0378604 , ..., 0.        , 0.01251774,\n",
       "        0.        ],\n",
       "       [0.        , 0.        , 3.4509077 , ..., 0.        , 0.        ,\n",
       "        0.        ]], dtype=float32)"
      ]
     },
     "execution_count": 9,
     "metadata": {},
     "output_type": "execute_result"
    }
   ],
   "source": [
    "np.frombuffer(base64.b64decode(train['features'].iloc[0]), dtype=np.float32).reshape(train['num_boxes'].iloc[0], 2048)"
   ]
  },
  {
   "cell_type": "code",
   "execution_count": 12,
   "metadata": {},
   "outputs": [
    {
     "data": {
      "text/plain": [
       "array([28, 28], dtype=int64)"
      ]
     },
     "execution_count": 12,
     "metadata": {},
     "output_type": "execute_result"
    }
   ],
   "source": [
    "np.frombuffer(base64.b64decode(train['class_labels'].iloc[0]), dtype=np.int64).reshape(train['num_boxes'].iloc[0])"
   ]
  },
  {
   "cell_type": "code",
   "execution_count": null,
   "metadata": {},
   "outputs": [],
   "source": []
  }
 ],
 "metadata": {
  "kernelspec": {
   "display_name": "Python 3",
   "language": "python",
   "name": "python3"
  },
  "language_info": {
   "codemirror_mode": {
    "name": "ipython",
    "version": 3
   },
   "file_extension": ".py",
   "mimetype": "text/x-python",
   "name": "python",
   "nbconvert_exporter": "python",
   "pygments_lexer": "ipython3",
   "version": "3.6.8"
  }
 },
 "nbformat": 4,
 "nbformat_minor": 2
}
