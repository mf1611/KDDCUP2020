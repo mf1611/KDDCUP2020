{
 "cells": [
  {
   "cell_type": "code",
   "execution_count": 1,
   "metadata": {},
   "outputs": [
    {
     "name": "stderr",
     "output_type": "stream",
     "text": [
      "Using TensorFlow backend.\n"
     ]
    }
   ],
   "source": [
    "import pandas as pd\n",
    "import numpy as np\n",
    "import datetime\n",
    "import random\n",
    "import os\n",
    "import time\n",
    "import gc\n",
    "from glob import glob\n",
    "from tqdm import tqdm_notebook as tqdm\n",
    "import pickle\n",
    "\n",
    "import base64\n",
    "import swifter\n",
    "import gensim\n",
    "\n",
    "from sklearn.metrics import mean_absolute_error\n",
    "import lightgbm as lgb\n",
    "from sklearn.utils import shuffle\n",
    "from sklearn.model_selection import KFold, StratifiedKFold, GroupKFold\n",
    "from sklearn.metrics import mean_squared_error, roc_auc_score\n",
    "import matplotlib.pyplot as plt\n",
    "import japanize_matplotlib\n",
    "import seaborn as sns\n",
    "\n",
    "import torch\n",
    "import torch.nn.functional as F\n",
    "from torch import nn\n",
    "from torch.utils.data import DataLoader, Dataset\n",
    "from keras.preprocessing.sequence import pad_sequences\n",
    "\n",
    "# import category_encoders as ce\n",
    "\n",
    "pd.set_option('display.max_columns', 1200)"
   ]
  },
  {
   "cell_type": "code",
   "execution_count": 2,
   "metadata": {},
   "outputs": [],
   "source": [
    "DATA_DIR = 'D:/project/ICF_AutoCapsule_disabled/kddcup2020/input/'\n",
    "W2V_DIR = 'D:/project/ICF_AutoCapsule_disabled/kddcup2020/w2v/'"
   ]
  },
  {
   "cell_type": "code",
   "execution_count": 3,
   "metadata": {},
   "outputs": [
    {
     "name": "stdout",
     "output_type": "stream",
     "text": [
      "(10000, 9)\n"
     ]
    },
    {
     "data": {
      "text/html": [
       "<div>\n",
       "<style scoped>\n",
       "    .dataframe tbody tr th:only-of-type {\n",
       "        vertical-align: middle;\n",
       "    }\n",
       "\n",
       "    .dataframe tbody tr th {\n",
       "        vertical-align: top;\n",
       "    }\n",
       "\n",
       "    .dataframe thead th {\n",
       "        text-align: right;\n",
       "    }\n",
       "</style>\n",
       "<table border=\"1\" class=\"dataframe\">\n",
       "  <thead>\n",
       "    <tr style=\"text-align: right;\">\n",
       "      <th></th>\n",
       "      <th>product_id</th>\n",
       "      <th>image_h</th>\n",
       "      <th>image_w</th>\n",
       "      <th>num_boxes</th>\n",
       "      <th>boxes</th>\n",
       "      <th>features</th>\n",
       "      <th>class_labels</th>\n",
       "      <th>query</th>\n",
       "      <th>query_id</th>\n",
       "    </tr>\n",
       "  </thead>\n",
       "  <tbody>\n",
       "    <tr>\n",
       "      <td>0</td>\n",
       "      <td>102851856</td>\n",
       "      <td>338</td>\n",
       "      <td>209</td>\n",
       "      <td>2</td>\n",
       "      <td>AAAAAAAAQEAAAKlDAABPQwAAb0MAALBBAICmQwAATEM=</td>\n",
       "      <td>AAAAAAAAAAAnNsFAAAAAAOeVGD0AAAAAAAAAAAAAAAAAAA...</td>\n",
       "      <td>HAAAAAAAAAAcAAAAAAAAAA==</td>\n",
       "      <td>treble popular reed</td>\n",
       "      <td>923271</td>\n",
       "    </tr>\n",
       "    <tr>\n",
       "      <td>1</td>\n",
       "      <td>101783080</td>\n",
       "      <td>80</td>\n",
       "      <td>61</td>\n",
       "      <td>1</td>\n",
       "      <td>AACgQAAAoEAAAJZCAABgQg==</td>\n",
       "      <td>AAAAADnKfjyatb8/AAAAALxPBz0MH6E9xwkoPAAAAAAAAA...</td>\n",
       "      <td>HAAAAAAAAAA=</td>\n",
       "      <td>compatible ink cartridges</td>\n",
       "      <td>234031</td>\n",
       "    </tr>\n",
       "    <tr>\n",
       "      <td>2</td>\n",
       "      <td>100492797</td>\n",
       "      <td>750</td>\n",
       "      <td>750</td>\n",
       "      <td>1</td>\n",
       "      <td>AAAsQgCAg0MAgCREAADqQw==</td>\n",
       "      <td>AAAAAAAAAABmUlE/AAAAABvc0jwAAAAAAAAAAAAAAAAAAA...</td>\n",
       "      <td>BwAAAAAAAAA=</td>\n",
       "      <td>check new look facial cream</td>\n",
       "      <td>199926</td>\n",
       "    </tr>\n",
       "    <tr>\n",
       "      <td>3</td>\n",
       "      <td>101708088</td>\n",
       "      <td>480</td>\n",
       "      <td>640</td>\n",
       "      <td>5</td>\n",
       "      <td>AAB6QwCA0kMAANBDAMAeRAAAfEMAAKBAAIDWQwAAVkMAAH...</td>\n",
       "      <td>AAAAAAAAAAAAAAAAAAAAAAXyfz4AAAAAAAAAAAAAAAAAAA...</td>\n",
       "      <td>HAAAAAAAAAAcAAAAAAAAABwAAAAAAAAAHAAAAAAAAAAcAA...</td>\n",
       "      <td>royal commemorative stamp</td>\n",
       "      <td>772725</td>\n",
       "    </tr>\n",
       "    <tr>\n",
       "      <td>4</td>\n",
       "      <td>100316842</td>\n",
       "      <td>800</td>\n",
       "      <td>800</td>\n",
       "      <td>4</td>\n",
       "      <td>AAAKQwCAgEMAADNEAAAHRAAAIkMAwCZEAACqQwDARkQAAE...</td>\n",
       "      <td>AAAAADSdaTwVTdA8AAAAAAAAAAAAAAAAAAAAAAAAAAAAAA...</td>\n",
       "      <td>HAAAAAAAAAAGAAAAAAAAAAYAAAAAAAAAHAAAAAAAAAA=</td>\n",
       "      <td>calendula baby shower gel</td>\n",
       "      <td>362576</td>\n",
       "    </tr>\n",
       "  </tbody>\n",
       "</table>\n",
       "</div>"
      ],
      "text/plain": [
       "   product_id  image_h  image_w  num_boxes  \\\n",
       "0   102851856      338      209          2   \n",
       "1   101783080       80       61          1   \n",
       "2   100492797      750      750          1   \n",
       "3   101708088      480      640          5   \n",
       "4   100316842      800      800          4   \n",
       "\n",
       "                                               boxes  \\\n",
       "0       AAAAAAAAQEAAAKlDAABPQwAAb0MAALBBAICmQwAATEM=   \n",
       "1                           AACgQAAAoEAAAJZCAABgQg==   \n",
       "2                           AAAsQgCAg0MAgCREAADqQw==   \n",
       "3  AAB6QwCA0kMAANBDAMAeRAAAfEMAAKBAAIDWQwAAVkMAAH...   \n",
       "4  AAAKQwCAgEMAADNEAAAHRAAAIkMAwCZEAACqQwDARkQAAE...   \n",
       "\n",
       "                                            features  \\\n",
       "0  AAAAAAAAAAAnNsFAAAAAAOeVGD0AAAAAAAAAAAAAAAAAAA...   \n",
       "1  AAAAADnKfjyatb8/AAAAALxPBz0MH6E9xwkoPAAAAAAAAA...   \n",
       "2  AAAAAAAAAABmUlE/AAAAABvc0jwAAAAAAAAAAAAAAAAAAA...   \n",
       "3  AAAAAAAAAAAAAAAAAAAAAAXyfz4AAAAAAAAAAAAAAAAAAA...   \n",
       "4  AAAAADSdaTwVTdA8AAAAAAAAAAAAAAAAAAAAAAAAAAAAAA...   \n",
       "\n",
       "                                        class_labels  \\\n",
       "0                           HAAAAAAAAAAcAAAAAAAAAA==   \n",
       "1                                       HAAAAAAAAAA=   \n",
       "2                                       BwAAAAAAAAA=   \n",
       "3  HAAAAAAAAAAcAAAAAAAAABwAAAAAAAAAHAAAAAAAAAAcAA...   \n",
       "4       HAAAAAAAAAAGAAAAAAAAAAYAAAAAAAAAHAAAAAAAAAA=   \n",
       "\n",
       "                         query  query_id  \n",
       "0          treble popular reed    923271  \n",
       "1    compatible ink cartridges    234031  \n",
       "2  check new look facial cream    199926  \n",
       "3    royal commemorative stamp    772725  \n",
       "4    calendula baby shower gel    362576  "
      ]
     },
     "execution_count": 3,
     "metadata": {},
     "output_type": "execute_result"
    }
   ],
   "source": [
    "train = pd.read_csv(DATA_DIR+'multimodal_train_sampleset/train.sample.tsv', sep='\\t')\n",
    "print(train.shape)\n",
    "train.head()Jupyter Notebook\n",
    "Untitled\n",
    "(unsaved changes)\n",
    "Current Kernel Logo\n",
    "Python 3 \n",
    "File\n",
    "Edit\n",
    "View\n",
    "Insert\n",
    "Cell\n",
    "Kernel\n",
    "Widgets\n",
    "Help\n",
    "\n",
    "import pandas as pd\n",
    "import numpy as np\n",
    "import datetime\n",
    "import random\n",
    "import os\n",
    "import time\n",
    "import gc\n",
    "from glob import glob\n",
    "from tqdm import tqdm_notebook as tqdm\n",
    "import pickle\n",
    "​\n",
    "import base64\n",
    "import swifter\n",
    "import gensim\n",
    "​\n",
    "from sklearn.metrics import mean_absolute_error\n",
    "import lightgbm as lgb\n",
    "from sklearn.utils import shuffle\n",
    "from sklearn.model_selection import KFold, StratifiedKFold, GroupKFold\n",
    "from sklearn.metrics import mean_squared_error, roc_auc_score\n",
    "import matplotlib.pyplot as plt\n",
    "import japanize_matplotlib\n",
    "import seaborn as sns\n",
    "​\n",
    "import torch\n",
    "import torch.nn.functional as F\n",
    "from torch import nn\n",
    "from torch.utils.data import DataLoader, Dataset\n",
    "from keras.preprocessing.sequence import pad_sequences\n",
    "​\n",
    "pd.set_option('display.max_columns', 1200)\n",
    "DATA_DIR = '~/mnt/data/'\n"
   ]
  },
  {
   "cell_type": "code",
   "execution_count": 4,
   "metadata": {
    "scrolled": true
   },
   "outputs": [
    {
     "name": "stdout",
     "output_type": "stream",
     "text": [
      "(14720, 9)\n"
     ]
    },
    {
     "data": {
      "text/html": [
       "<div>\n",
       "<style scoped>\n",
       "    .dataframe tbody tr th:only-of-type {\n",
       "        vertical-align: middle;\n",
       "    }\n",
       "\n",
       "    .dataframe tbody tr th {\n",
       "        vertical-align: top;\n",
       "    }\n",
       "\n",
       "    .dataframe thead th {\n",
       "        text-align: right;\n",
       "    }\n",
       "</style>\n",
       "<table border=\"1\" class=\"dataframe\">\n",
       "  <thead>\n",
       "    <tr style=\"text-align: right;\">\n",
       "      <th></th>\n",
       "      <th>product_id</th>\n",
       "      <th>image_h</th>\n",
       "      <th>image_w</th>\n",
       "      <th>num_boxes</th>\n",
       "      <th>boxes</th>\n",
       "      <th>features</th>\n",
       "      <th>class_labels</th>\n",
       "      <th>query</th>\n",
       "      <th>query_id</th>\n",
       "    </tr>\n",
       "  </thead>\n",
       "  <tbody>\n",
       "    <tr>\n",
       "      <td>0</td>\n",
       "      <td>103047314</td>\n",
       "      <td>800</td>\n",
       "      <td>800</td>\n",
       "      <td>2</td>\n",
       "      <td>AACoQgAA5EIAAKdDAIDuQwCAq0MAAJBCAMA3RABAHkQ=</td>\n",
       "      <td>AAAAAAAAAAAAAAAAAAAAAAAAAAAAAAAAAAAAAAAAAAAAAA...</td>\n",
       "      <td>BAAAAAAAAAAEAAAAAAAAAA==</td>\n",
       "      <td>breathable and comfortable children's shoes</td>\n",
       "      <td>0</td>\n",
       "    </tr>\n",
       "    <tr>\n",
       "      <td>1</td>\n",
       "      <td>103030678</td>\n",
       "      <td>800</td>\n",
       "      <td>800</td>\n",
       "      <td>9</td>\n",
       "      <td>AIDRQwAAoEAAwEJEAABpQwAAA0MAgMlDAABHRAAAIkQAgL...</td>\n",
       "      <td>AAAAAAAAAACdFBI7AAAAAAAAAABu+j0+AAAAAAAAAAAAAA...</td>\n",
       "      <td>BAAAAAAAAAAEAAAAAAAAAAQAAAAAAAAAHQAAAAAAAAAEAA...</td>\n",
       "      <td>breathable and comfortable children's shoes</td>\n",
       "      <td>0</td>\n",
       "    </tr>\n",
       "    <tr>\n",
       "      <td>2</td>\n",
       "      <td>103031217</td>\n",
       "      <td>488</td>\n",
       "      <td>750</td>\n",
       "      <td>2</td>\n",
       "      <td>AABGQwAANEIAgNNDAADsQwAAUEIAALVDAADRQwCALEQ=</td>\n",
       "      <td>AAAAAAAAAAAAAAAAAAAAAAAAAAAAAAAAAAAAAAAAAAAAAA...</td>\n",
       "      <td>BAAAAAAAAAAEAAAAAAAAAA==</td>\n",
       "      <td>breathable and comfortable children's shoes</td>\n",
       "      <td>0</td>\n",
       "    </tr>\n",
       "    <tr>\n",
       "      <td>3</td>\n",
       "      <td>103026621</td>\n",
       "      <td>929</td>\n",
       "      <td>800</td>\n",
       "      <td>10</td>\n",
       "      <td>AACtQwCAA0QAgPxDAIAoRAAAekMAALdDAACwQwCA30MAgK...</td>\n",
       "      <td>AAAAAAAAAAAAAAAAAAAAAAAAAAAAAAAAAAAAAAAAAAAAAA...</td>\n",
       "      <td>HAAAAAAAAAAdAAAAAAAAAAAAAAAAAAAACQAAAAAAAAAJAA...</td>\n",
       "      <td>breathable and comfortable children's shoes</td>\n",
       "      <td>0</td>\n",
       "    </tr>\n",
       "    <tr>\n",
       "      <td>4</td>\n",
       "      <td>103017048</td>\n",
       "      <td>800</td>\n",
       "      <td>800</td>\n",
       "      <td>2</td>\n",
       "      <td>AAA+QwCAi0MAgAtEAMA0RAAAqEMAAHhCAMA1RABADUQ=</td>\n",
       "      <td>AAAAAAAAAADIb2s9AAAAAAAAAAAAAAAAAAAAAAAAAAAAAA...</td>\n",
       "      <td>BAAAAAAAAAAEAAAAAAAAAA==</td>\n",
       "      <td>breathable and comfortable children's shoes</td>\n",
       "      <td>0</td>\n",
       "    </tr>\n",
       "  </tbody>\n",
       "</table>\n",
       "</div>"
      ],
      "text/plain": [
       "   product_id  image_h  image_w  num_boxes  \\\n",
       "0   103047314      800      800          2   \n",
       "1   103030678      800      800          9   \n",
       "2   103031217      488      750          2   \n",
       "3   103026621      929      800         10   \n",
       "4   103017048      800      800          2   \n",
       "\n",
       "                                               boxes  \\\n",
       "0       AACoQgAA5EIAAKdDAIDuQwCAq0MAAJBCAMA3RABAHkQ=   \n",
       "1  AIDRQwAAoEAAwEJEAABpQwAAA0MAgMlDAABHRAAAIkQAgL...   \n",
       "2       AABGQwAANEIAgNNDAADsQwAAUEIAALVDAADRQwCALEQ=   \n",
       "3  AACtQwCAA0QAgPxDAIAoRAAAekMAALdDAACwQwCA30MAgK...   \n",
       "4       AAA+QwCAi0MAgAtEAMA0RAAAqEMAAHhCAMA1RABADUQ=   \n",
       "\n",
       "                                            features  \\\n",
       "0  AAAAAAAAAAAAAAAAAAAAAAAAAAAAAAAAAAAAAAAAAAAAAA...   \n",
       "1  AAAAAAAAAACdFBI7AAAAAAAAAABu+j0+AAAAAAAAAAAAAA...   \n",
       "2  AAAAAAAAAAAAAAAAAAAAAAAAAAAAAAAAAAAAAAAAAAAAAA...   \n",
       "3  AAAAAAAAAAAAAAAAAAAAAAAAAAAAAAAAAAAAAAAAAAAAAA...   \n",
       "4  AAAAAAAAAADIb2s9AAAAAAAAAAAAAAAAAAAAAAAAAAAAAA...   \n",
       "\n",
       "                                        class_labels  \\\n",
       "0                           BAAAAAAAAAAEAAAAAAAAAA==   \n",
       "1  BAAAAAAAAAAEAAAAAAAAAAQAAAAAAAAAHQAAAAAAAAAEAA...   \n",
       "2                           BAAAAAAAAAAEAAAAAAAAAA==   \n",
       "3  HAAAAAAAAAAdAAAAAAAAAAAAAAAAAAAACQAAAAAAAAAJAA...   \n",
       "4                           BAAAAAAAAAAEAAAAAAAAAA==   \n",
       "\n",
       "                                         query  query_id  \n",
       "0  breathable and comfortable children's shoes         0  \n",
       "1  breathable and comfortable children's shoes         0  \n",
       "2  breathable and comfortable children's shoes         0  \n",
       "3  breathable and comfortable children's shoes         0  \n",
       "4  breathable and comfortable children's shoes         0  "
      ]
     },
     "execution_count": 4,
     "metadata": {},
     "output_type": "execute_result"
    }
   ],
   "source": [
    "valid = pd.read_csv(DATA_DIR+'multimodal_valid/valid.tsv', sep='\\t')\n",
    "print(valid.shape)\n",
    "valid.head()"
   ]
  },
  {
   "cell_type": "code",
   "execution_count": 5,
   "metadata": {},
   "outputs": [],
   "source": [
    "def transform_boxes(df_row):\n",
    "    return np.frombuffer(base64.b64decode(df_row.boxes), dtype=np.float32).reshape(df_row.num_boxes, 4)\n",
    "\n",
    "def transform_features(df_row):\n",
    "    return np.frombuffer(base64.b64decode(df_row.features), dtype=np.float32).reshape(df_row.num_boxes, 2048)\n",
    "\n",
    "def transform_class_labels(df_row):\n",
    "    return np.frombuffer(base64.b64decode(df_row.class_labels), dtype=np.int64).reshape(df_row.num_boxes)"
   ]
  },
  {
   "cell_type": "code",
   "execution_count": 6,
   "metadata": {
    "scrolled": true
   },
   "outputs": [
    {
     "data": {
      "application/vnd.jupyter.widget-view+json": {
       "model_id": "9ff178e1dc164282a791b31e05926e62",
       "version_major": 2,
       "version_minor": 0
      },
      "text/plain": [
       "HBox(children=(IntProgress(value=0, description='Pandas Apply', max=10000, style=ProgressStyle(description_wid…"
      ]
     },
     "metadata": {},
     "output_type": "display_data"
    },
    {
     "name": "stdout",
     "output_type": "stream",
     "text": [
      "\n"
     ]
    },
    {
     "data": {
      "application/vnd.jupyter.widget-view+json": {
       "model_id": "174480efb6c3491ba19ed243126a7268",
       "version_major": 2,
       "version_minor": 0
      },
      "text/plain": [
       "HBox(children=(IntProgress(value=0, description='Pandas Apply', max=10000, style=ProgressStyle(description_wid…"
      ]
     },
     "metadata": {},
     "output_type": "display_data"
    },
    {
     "name": "stdout",
     "output_type": "stream",
     "text": [
      "\n"
     ]
    },
    {
     "data": {
      "application/vnd.jupyter.widget-view+json": {
       "model_id": "ab16baed3ee84d1baf96fcff086b6b89",
       "version_major": 2,
       "version_minor": 0
      },
      "text/plain": [
       "HBox(children=(IntProgress(value=0, description='Pandas Apply', max=10000, style=ProgressStyle(description_wid…"
      ]
     },
     "metadata": {},
     "output_type": "display_data"
    },
    {
     "name": "stdout",
     "output_type": "stream",
     "text": [
      "\n"
     ]
    }
   ],
   "source": [
    "train.boxes = train.swifter.apply(transform_boxes, axis=1)\n",
    "train.features = train.swifter.apply(transform_features, axis=1)\n",
    "train.class_labels = train.swifter.apply(transform_class_labels, axis=1)"
   ]
  },
  {
   "cell_type": "code",
   "execution_count": 7,
   "metadata": {},
   "outputs": [
    {
     "data": {
      "application/vnd.jupyter.widget-view+json": {
       "model_id": "750003afc3ff476eb126b6d290bd0898",
       "version_major": 2,
       "version_minor": 0
      },
      "text/plain": [
       "HBox(children=(IntProgress(value=0, description='Pandas Apply', max=14720, style=ProgressStyle(description_wid…"
      ]
     },
     "metadata": {},
     "output_type": "display_data"
    },
    {
     "name": "stdout",
     "output_type": "stream",
     "text": [
      "\n"
     ]
    },
    {
     "data": {
      "application/vnd.jupyter.widget-view+json": {
       "model_id": "a081eb8e4ce84853abcaf7550b7ad7cd",
       "version_major": 2,
       "version_minor": 0
      },
      "text/plain": [
       "HBox(children=(IntProgress(value=0, description='Pandas Apply', max=14720, style=ProgressStyle(description_wid…"
      ]
     },
     "metadata": {},
     "output_type": "display_data"
    },
    {
     "name": "stdout",
     "output_type": "stream",
     "text": [
      "\n"
     ]
    },
    {
     "data": {
      "application/vnd.jupyter.widget-view+json": {
       "model_id": "91bd6bc5039449e19a631861847542ae",
       "version_major": 2,
       "version_minor": 0
      },
      "text/plain": [
       "HBox(children=(IntProgress(value=0, description='Pandas Apply', max=14720, style=ProgressStyle(description_wid…"
      ]
     },
     "metadata": {},
     "output_type": "display_data"
    },
    {
     "name": "stdout",
     "output_type": "stream",
     "text": [
      "\n"
     ]
    }
   ],
   "source": [
    "valid.boxes = valid.swifter.apply(transform_boxes, axis=1)\n",
    "valid.features = valid.swifter.apply(transform_features, axis=1)\n",
    "valid.class_labels = valid.swifter.apply(transform_class_labels, axis=1)"
   ]
  },
  {
   "cell_type": "code",
   "execution_count": 8,
   "metadata": {},
   "outputs": [
    {
     "data": {
      "text/html": [
       "<div>\n",
       "<style scoped>\n",
       "    .dataframe tbody tr th:only-of-type {\n",
       "        vertical-align: middle;\n",
       "    }\n",
       "\n",
       "    .dataframe tbody tr th {\n",
       "        vertical-align: top;\n",
       "    }\n",
       "\n",
       "    .dataframe thead th {\n",
       "        text-align: right;\n",
       "    }\n",
       "</style>\n",
       "<table border=\"1\" class=\"dataframe\">\n",
       "  <thead>\n",
       "    <tr style=\"text-align: right;\">\n",
       "      <th></th>\n",
       "      <th>product_id</th>\n",
       "      <th>image_h</th>\n",
       "      <th>image_w</th>\n",
       "      <th>num_boxes</th>\n",
       "      <th>boxes</th>\n",
       "      <th>features</th>\n",
       "      <th>class_labels</th>\n",
       "      <th>query</th>\n",
       "      <th>query_id</th>\n",
       "    </tr>\n",
       "  </thead>\n",
       "  <tbody>\n",
       "    <tr>\n",
       "      <td>0</td>\n",
       "      <td>102851856</td>\n",
       "      <td>338</td>\n",
       "      <td>209</td>\n",
       "      <td>2</td>\n",
       "      <td>[[0.0, 3.0, 338.0, 207.0], [239.0, 22.0, 333.0...</td>\n",
       "      <td>[[0.0, 0.0, 6.0378604, 0.0, 0.037252333, 0.0, ...</td>\n",
       "      <td>[28, 28]</td>\n",
       "      <td>treble popular reed</td>\n",
       "      <td>923271</td>\n",
       "    </tr>\n",
       "    <tr>\n",
       "      <td>1</td>\n",
       "      <td>101783080</td>\n",
       "      <td>80</td>\n",
       "      <td>61</td>\n",
       "      <td>1</td>\n",
       "      <td>[[5.0, 5.0, 75.0, 56.0]]</td>\n",
       "      <td>[[0.0, 0.015551143, 1.4977295, 0.0, 0.03303502...</td>\n",
       "      <td>[28]</td>\n",
       "      <td>compatible ink cartridges</td>\n",
       "      <td>234031</td>\n",
       "    </tr>\n",
       "    <tr>\n",
       "      <td>2</td>\n",
       "      <td>100492797</td>\n",
       "      <td>750</td>\n",
       "      <td>750</td>\n",
       "      <td>1</td>\n",
       "      <td>[[43.0, 263.0, 658.0, 468.0]]</td>\n",
       "      <td>[[0.0, 0.0, 0.81766355, 0.0, 0.02573972, 0.0, ...</td>\n",
       "      <td>[7]</td>\n",
       "      <td>check new look facial cream</td>\n",
       "      <td>199926</td>\n",
       "    </tr>\n",
       "    <tr>\n",
       "      <td>3</td>\n",
       "      <td>101708088</td>\n",
       "      <td>480</td>\n",
       "      <td>640</td>\n",
       "      <td>5</td>\n",
       "      <td>[[250.0, 421.0, 416.0, 635.0], [252.0, 5.0, 42...</td>\n",
       "      <td>[[0.0, 0.0, 0.0, 0.0, 0.24994667, 0.0, 0.0, 0....</td>\n",
       "      <td>[28, 28, 28, 28, 28]</td>\n",
       "      <td>royal commemorative stamp</td>\n",
       "      <td>772725</td>\n",
       "    </tr>\n",
       "    <tr>\n",
       "      <td>4</td>\n",
       "      <td>100316842</td>\n",
       "      <td>800</td>\n",
       "      <td>800</td>\n",
       "      <td>4</td>\n",
       "      <td>[[138.0, 257.0, 716.0, 540.0], [162.0, 667.0, ...</td>\n",
       "      <td>[[0.0, 0.014258672, 0.02542738, 0.0, 0.0, 0.0,...</td>\n",
       "      <td>[28, 6, 6, 28]</td>\n",
       "      <td>calendula baby shower gel</td>\n",
       "      <td>362576</td>\n",
       "    </tr>\n",
       "  </tbody>\n",
       "</table>\n",
       "</div>"
      ],
      "text/plain": [
       "   product_id  image_h  image_w  num_boxes  \\\n",
       "0   102851856      338      209          2   \n",
       "1   101783080       80       61          1   \n",
       "2   100492797      750      750          1   \n",
       "3   101708088      480      640          5   \n",
       "4   100316842      800      800          4   \n",
       "\n",
       "                                               boxes  \\\n",
       "0  [[0.0, 3.0, 338.0, 207.0], [239.0, 22.0, 333.0...   \n",
       "1                           [[5.0, 5.0, 75.0, 56.0]]   \n",
       "2                      [[43.0, 263.0, 658.0, 468.0]]   \n",
       "3  [[250.0, 421.0, 416.0, 635.0], [252.0, 5.0, 42...   \n",
       "4  [[138.0, 257.0, 716.0, 540.0], [162.0, 667.0, ...   \n",
       "\n",
       "                                            features          class_labels  \\\n",
       "0  [[0.0, 0.0, 6.0378604, 0.0, 0.037252333, 0.0, ...              [28, 28]   \n",
       "1  [[0.0, 0.015551143, 1.4977295, 0.0, 0.03303502...                  [28]   \n",
       "2  [[0.0, 0.0, 0.81766355, 0.0, 0.02573972, 0.0, ...                   [7]   \n",
       "3  [[0.0, 0.0, 0.0, 0.0, 0.24994667, 0.0, 0.0, 0....  [28, 28, 28, 28, 28]   \n",
       "4  [[0.0, 0.014258672, 0.02542738, 0.0, 0.0, 0.0,...        [28, 6, 6, 28]   \n",
       "\n",
       "                         query  query_id  \n",
       "0          treble popular reed    923271  \n",
       "1    compatible ink cartridges    234031  \n",
       "2  check new look facial cream    199926  \n",
       "3    royal commemorative stamp    772725  \n",
       "4    calendula baby shower gel    362576  "
      ]
     },
     "execution_count": 8,
     "metadata": {},
     "output_type": "execute_result"
    }
   ],
   "source": [
    "train.head()"
   ]
  },
  {
   "cell_type": "code",
   "execution_count": 9,
   "metadata": {
    "scrolled": true
   },
   "outputs": [
    {
     "data": {
      "text/html": [
       "<div>\n",
       "<style scoped>\n",
       "    .dataframe tbody tr th:only-of-type {\n",
       "        vertical-align: middle;\n",
       "    }\n",
       "\n",
       "    .dataframe tbody tr th {\n",
       "        vertical-align: top;\n",
       "    }\n",
       "\n",
       "    .dataframe thead th {\n",
       "        text-align: right;\n",
       "    }\n",
       "</style>\n",
       "<table border=\"1\" class=\"dataframe\">\n",
       "  <thead>\n",
       "    <tr style=\"text-align: right;\">\n",
       "      <th></th>\n",
       "      <th>product_id</th>\n",
       "      <th>image_h</th>\n",
       "      <th>image_w</th>\n",
       "      <th>num_boxes</th>\n",
       "      <th>boxes</th>\n",
       "      <th>features</th>\n",
       "      <th>class_labels</th>\n",
       "      <th>query</th>\n",
       "      <th>query_id</th>\n",
       "    </tr>\n",
       "  </thead>\n",
       "  <tbody>\n",
       "    <tr>\n",
       "      <td>9995</td>\n",
       "      <td>100567061</td>\n",
       "      <td>800</td>\n",
       "      <td>800</td>\n",
       "      <td>3</td>\n",
       "      <td>[[343.0, 46.0, 557.0, 165.0], [255.0, 246.0, 4...</td>\n",
       "      <td>[[0.0, 0.0, 0.04133281, 0.0, 0.0, 0.256621, 0....</td>\n",
       "      <td>[8, 5, 5]</td>\n",
       "      <td>uv for men and women glasses</td>\n",
       "      <td>618985</td>\n",
       "    </tr>\n",
       "    <tr>\n",
       "      <td>9996</td>\n",
       "      <td>101549782</td>\n",
       "      <td>800</td>\n",
       "      <td>800</td>\n",
       "      <td>5</td>\n",
       "      <td>[[173.0, 5.0, 555.0, 400.0], [109.0, 385.0, 22...</td>\n",
       "      <td>[[0.0, 0.0, 0.32368466, 0.0, 0.057625342, 0.0,...</td>\n",
       "      <td>[28, 28, 28, 28, 28]</td>\n",
       "      <td>pull universal shower accessories</td>\n",
       "      <td>1292191</td>\n",
       "    </tr>\n",
       "    <tr>\n",
       "      <td>9997</td>\n",
       "      <td>100297341</td>\n",
       "      <td>800</td>\n",
       "      <td>800</td>\n",
       "      <td>11</td>\n",
       "      <td>[[160.0, 135.0, 795.0, 682.0], [346.0, 271.0, ...</td>\n",
       "      <td>[[0.010029581, 0.06795592, 1.4334337, 0.013566...</td>\n",
       "      <td>[20, 28, 28, 20, 20, 28, 28, 28, 28, 28, 28]</td>\n",
       "      <td>silicone accessories storage box</td>\n",
       "      <td>1068367</td>\n",
       "    </tr>\n",
       "    <tr>\n",
       "      <td>9998</td>\n",
       "      <td>102303485</td>\n",
       "      <td>800</td>\n",
       "      <td>800</td>\n",
       "      <td>2</td>\n",
       "      <td>[[479.0, 245.0, 677.0, 530.0], [319.0, 85.0, 6...</td>\n",
       "      <td>[[0.0, 0.0, 0.74862194, 0.0, 0.7302371, 0.0, 0...</td>\n",
       "      <td>[28, 28]</td>\n",
       "      <td>applicable motor</td>\n",
       "      <td>1263055</td>\n",
       "    </tr>\n",
       "    <tr>\n",
       "      <td>9999</td>\n",
       "      <td>101749116</td>\n",
       "      <td>756</td>\n",
       "      <td>1008</td>\n",
       "      <td>1</td>\n",
       "      <td>[[26.0, 28.0, 732.0, 1008.0]]</td>\n",
       "      <td>[[0.0, 0.0, 0.6832453, 0.0, 0.06689272, 0.0037...</td>\n",
       "      <td>[28]</td>\n",
       "      <td>restaurant colander</td>\n",
       "      <td>662058</td>\n",
       "    </tr>\n",
       "  </tbody>\n",
       "</table>\n",
       "</div>"
      ],
      "text/plain": [
       "      product_id  image_h  image_w  num_boxes  \\\n",
       "9995   100567061      800      800          3   \n",
       "9996   101549782      800      800          5   \n",
       "9997   100297341      800      800         11   \n",
       "9998   102303485      800      800          2   \n",
       "9999   101749116      756     1008          1   \n",
       "\n",
       "                                                  boxes  \\\n",
       "9995  [[343.0, 46.0, 557.0, 165.0], [255.0, 246.0, 4...   \n",
       "9996  [[173.0, 5.0, 555.0, 400.0], [109.0, 385.0, 22...   \n",
       "9997  [[160.0, 135.0, 795.0, 682.0], [346.0, 271.0, ...   \n",
       "9998  [[479.0, 245.0, 677.0, 530.0], [319.0, 85.0, 6...   \n",
       "9999                      [[26.0, 28.0, 732.0, 1008.0]]   \n",
       "\n",
       "                                               features  \\\n",
       "9995  [[0.0, 0.0, 0.04133281, 0.0, 0.0, 0.256621, 0....   \n",
       "9996  [[0.0, 0.0, 0.32368466, 0.0, 0.057625342, 0.0,...   \n",
       "9997  [[0.010029581, 0.06795592, 1.4334337, 0.013566...   \n",
       "9998  [[0.0, 0.0, 0.74862194, 0.0, 0.7302371, 0.0, 0...   \n",
       "9999  [[0.0, 0.0, 0.6832453, 0.0, 0.06689272, 0.0037...   \n",
       "\n",
       "                                      class_labels  \\\n",
       "9995                                     [8, 5, 5]   \n",
       "9996                          [28, 28, 28, 28, 28]   \n",
       "9997  [20, 28, 28, 20, 20, 28, 28, 28, 28, 28, 28]   \n",
       "9998                                      [28, 28]   \n",
       "9999                                          [28]   \n",
       "\n",
       "                                  query  query_id  \n",
       "9995       uv for men and women glasses    618985  \n",
       "9996  pull universal shower accessories   1292191  \n",
       "9997   silicone accessories storage box   1068367  \n",
       "9998                   applicable motor   1263055  \n",
       "9999                restaurant colander    662058  "
      ]
     },
     "execution_count": 9,
     "metadata": {},
     "output_type": "execute_result"
    }
   ],
   "source": [
    "train.tail()"
   ]
  },
  {
   "cell_type": "code",
   "execution_count": 10,
   "metadata": {
    "scrolled": true
   },
   "outputs": [
    {
     "data": {
      "text/html": [
       "<div>\n",
       "<style scoped>\n",
       "    .dataframe tbody tr th:only-of-type {\n",
       "        vertical-align: middle;\n",
       "    }\n",
       "\n",
       "    .dataframe tbody tr th {\n",
       "        vertical-align: top;\n",
       "    }\n",
       "\n",
       "    .dataframe thead th {\n",
       "        text-align: right;\n",
       "    }\n",
       "</style>\n",
       "<table border=\"1\" class=\"dataframe\">\n",
       "  <thead>\n",
       "    <tr style=\"text-align: right;\">\n",
       "      <th></th>\n",
       "      <th>product_id</th>\n",
       "      <th>image_h</th>\n",
       "      <th>image_w</th>\n",
       "      <th>num_boxes</th>\n",
       "      <th>boxes</th>\n",
       "      <th>features</th>\n",
       "      <th>class_labels</th>\n",
       "      <th>query</th>\n",
       "      <th>query_id</th>\n",
       "    </tr>\n",
       "  </thead>\n",
       "  <tbody>\n",
       "    <tr>\n",
       "      <td>14700</td>\n",
       "      <td>103040723</td>\n",
       "      <td>800</td>\n",
       "      <td>800</td>\n",
       "      <td>3</td>\n",
       "      <td>[[42.0, 145.0, 746.0, 628.0], [5.0, 334.0, 90....</td>\n",
       "      <td>[[0.0, 0.0, 0.048357625, 0.0, 0.0, 0.0, 0.0710...</td>\n",
       "      <td>[0, 29, 2]</td>\n",
       "      <td>men's high collar sweater</td>\n",
       "      <td>500</td>\n",
       "    </tr>\n",
       "    <tr>\n",
       "      <td>14701</td>\n",
       "      <td>103060709</td>\n",
       "      <td>394</td>\n",
       "      <td>394</td>\n",
       "      <td>1</td>\n",
       "      <td>[[8.0, 31.0, 372.0, 371.0]]</td>\n",
       "      <td>[[0.0, 0.0, 0.6290011, 0.0, 0.06375528, 0.1264...</td>\n",
       "      <td>[0]</td>\n",
       "      <td>men's high collar sweater</td>\n",
       "      <td>500</td>\n",
       "    </tr>\n",
       "    <tr>\n",
       "      <td>14702</td>\n",
       "      <td>103009291</td>\n",
       "      <td>1000</td>\n",
       "      <td>1000</td>\n",
       "      <td>1</td>\n",
       "      <td>[[0.0, 3.0, 993.0, 998.0]]</td>\n",
       "      <td>[[0.0, 0.0, 3.933092, 0.0, 0.05122487, 0.0, 0....</td>\n",
       "      <td>[0]</td>\n",
       "      <td>men's high collar sweater</td>\n",
       "      <td>500</td>\n",
       "    </tr>\n",
       "    <tr>\n",
       "      <td>14703</td>\n",
       "      <td>103029329</td>\n",
       "      <td>1000</td>\n",
       "      <td>1000</td>\n",
       "      <td>2</td>\n",
       "      <td>[[58.0, 306.0, 657.0, 712.0], [448.0, 341.0, 9...</td>\n",
       "      <td>[[0.0, 0.0, 4.269327, 0.0, 0.0, 0.0, 0.0, 0.0,...</td>\n",
       "      <td>[0, 2]</td>\n",
       "      <td>men's high collar sweater</td>\n",
       "      <td>500</td>\n",
       "    </tr>\n",
       "    <tr>\n",
       "      <td>14704</td>\n",
       "      <td>103022067</td>\n",
       "      <td>829</td>\n",
       "      <td>690</td>\n",
       "      <td>3</td>\n",
       "      <td>[[230.0, 334.0, 387.0, 431.0], [290.0, 178.0, ...</td>\n",
       "      <td>[[0.0, 0.0, 0.7738576, 0.0, 0.3267151, 0.01661...</td>\n",
       "      <td>[3, 0, 2]</td>\n",
       "      <td>men's high collar sweater</td>\n",
       "      <td>500</td>\n",
       "    </tr>\n",
       "    <tr>\n",
       "      <td>14705</td>\n",
       "      <td>103057030</td>\n",
       "      <td>800</td>\n",
       "      <td>800</td>\n",
       "      <td>2</td>\n",
       "      <td>[[5.0, 311.0, 95.0, 479.0], [55.0, 175.0, 783....</td>\n",
       "      <td>[[0.0, 0.0, 1.316205, 0.0, 0.0, 0.0, 0.0, 0.0,...</td>\n",
       "      <td>[29, 0]</td>\n",
       "      <td>men's high collar sweater</td>\n",
       "      <td>500</td>\n",
       "    </tr>\n",
       "    <tr>\n",
       "      <td>14706</td>\n",
       "      <td>103042318</td>\n",
       "      <td>800</td>\n",
       "      <td>800</td>\n",
       "      <td>1</td>\n",
       "      <td>[[43.0, 0.0, 800.0, 609.0]]</td>\n",
       "      <td>[[0.0, 0.0, 4.088087, 0.004948093, 0.0, 0.0, 0...</td>\n",
       "      <td>[0]</td>\n",
       "      <td>men's high collar sweater</td>\n",
       "      <td>500</td>\n",
       "    </tr>\n",
       "    <tr>\n",
       "      <td>14707</td>\n",
       "      <td>103035563</td>\n",
       "      <td>1000</td>\n",
       "      <td>750</td>\n",
       "      <td>5</td>\n",
       "      <td>[[159.0, 373.0, 242.0, 420.0], [13.0, 253.0, 1...</td>\n",
       "      <td>[[0.0, 0.0, 0.09739708, 0.0, 0.0, 0.0, 0.0, 0....</td>\n",
       "      <td>[5, 5, 1, 4, 29]</td>\n",
       "      <td>men's high collar sweater</td>\n",
       "      <td>500</td>\n",
       "    </tr>\n",
       "    <tr>\n",
       "      <td>14708</td>\n",
       "      <td>103044806</td>\n",
       "      <td>800</td>\n",
       "      <td>800</td>\n",
       "      <td>3</td>\n",
       "      <td>[[679.0, 132.0, 753.0, 210.0], [15.0, 254.0, 1...</td>\n",
       "      <td>[[0.0, 0.0, 0.16328086, 0.0, 0.0, 0.0, 0.0, 0....</td>\n",
       "      <td>[3, 29, 0]</td>\n",
       "      <td>men's high collar sweater</td>\n",
       "      <td>500</td>\n",
       "    </tr>\n",
       "    <tr>\n",
       "      <td>14709</td>\n",
       "      <td>103007689</td>\n",
       "      <td>531</td>\n",
       "      <td>800</td>\n",
       "      <td>2</td>\n",
       "      <td>[[99.0, 418.0, 527.0, 613.0], [68.0, 465.0, 15...</td>\n",
       "      <td>[[0.0, 0.0, 0.079813905, 0.0, 0.0, 0.0, 0.0748...</td>\n",
       "      <td>[1, 5]</td>\n",
       "      <td>men's high collar sweater</td>\n",
       "      <td>500</td>\n",
       "    </tr>\n",
       "    <tr>\n",
       "      <td>14710</td>\n",
       "      <td>103031711</td>\n",
       "      <td>790</td>\n",
       "      <td>750</td>\n",
       "      <td>2</td>\n",
       "      <td>[[56.0, 177.0, 613.0, 629.0], [385.0, 204.0, 6...</td>\n",
       "      <td>[[0.0, 0.0, 0.6627404, 0.0, 0.0, 0.0, 0.0, 0.0...</td>\n",
       "      <td>[0, 2]</td>\n",
       "      <td>men's high collar sweater</td>\n",
       "      <td>500</td>\n",
       "    </tr>\n",
       "    <tr>\n",
       "      <td>14711</td>\n",
       "      <td>103006515</td>\n",
       "      <td>800</td>\n",
       "      <td>800</td>\n",
       "      <td>4</td>\n",
       "      <td>[[126.0, 611.0, 305.0, 747.0], [310.0, 611.0, ...</td>\n",
       "      <td>[[0.0, 0.0, 0.15703629, 0.0, 0.05535736, 0.0, ...</td>\n",
       "      <td>[0, 0, 0, 0]</td>\n",
       "      <td>men's high collar sweater</td>\n",
       "      <td>500</td>\n",
       "    </tr>\n",
       "    <tr>\n",
       "      <td>14712</td>\n",
       "      <td>103006399</td>\n",
       "      <td>800</td>\n",
       "      <td>800</td>\n",
       "      <td>4</td>\n",
       "      <td>[[0.0, 96.0, 725.0, 696.0], [594.0, 144.0, 685...</td>\n",
       "      <td>[[0.0, 0.0, 0.03628961, 0.0, 0.0, 0.0, 0.02078...</td>\n",
       "      <td>[0, 5, 5, 3]</td>\n",
       "      <td>men's high collar sweater</td>\n",
       "      <td>500</td>\n",
       "    </tr>\n",
       "    <tr>\n",
       "      <td>14713</td>\n",
       "      <td>103016766</td>\n",
       "      <td>1125</td>\n",
       "      <td>750</td>\n",
       "      <td>2</td>\n",
       "      <td>[[100.0, 358.0, 367.0, 541.0], [149.0, 57.0, 1...</td>\n",
       "      <td>[[0.013466604, 0.0, 0.0, 0.0, 0.0, 0.16966183,...</td>\n",
       "      <td>[29, 0]</td>\n",
       "      <td>men's high collar sweater</td>\n",
       "      <td>500</td>\n",
       "    </tr>\n",
       "    <tr>\n",
       "      <td>14714</td>\n",
       "      <td>103011884</td>\n",
       "      <td>800</td>\n",
       "      <td>800</td>\n",
       "      <td>5</td>\n",
       "      <td>[[155.0, 2.0, 250.0, 144.0], [15.0, 226.0, 786...</td>\n",
       "      <td>[[0.0, 0.0, 1.5989691, 0.0, 0.0, 0.0, 0.0, 0.0...</td>\n",
       "      <td>[28, 0, 5, 28, 3]</td>\n",
       "      <td>men's high collar sweater</td>\n",
       "      <td>500</td>\n",
       "    </tr>\n",
       "    <tr>\n",
       "      <td>14715</td>\n",
       "      <td>103044330</td>\n",
       "      <td>800</td>\n",
       "      <td>800</td>\n",
       "      <td>5</td>\n",
       "      <td>[[195.0, 39.0, 333.0, 191.0], [29.0, 195.0, 77...</td>\n",
       "      <td>[[0.0, 0.0, 0.027551055, 0.0, 0.32401124, 0.0,...</td>\n",
       "      <td>[22, 0, 28, 28, 5]</td>\n",
       "      <td>men's high collar sweater</td>\n",
       "      <td>500</td>\n",
       "    </tr>\n",
       "    <tr>\n",
       "      <td>14716</td>\n",
       "      <td>103016765</td>\n",
       "      <td>1000</td>\n",
       "      <td>750</td>\n",
       "      <td>3</td>\n",
       "      <td>[[124.0, 113.0, 995.0, 600.0], [28.0, 379.0, 1...</td>\n",
       "      <td>[[0.0, 0.0, 4.595919, 0.0, 0.0, 0.03517687, 0....</td>\n",
       "      <td>[1, 29, 28]</td>\n",
       "      <td>men's high collar sweater</td>\n",
       "      <td>500</td>\n",
       "    </tr>\n",
       "    <tr>\n",
       "      <td>14717</td>\n",
       "      <td>103013406</td>\n",
       "      <td>1125</td>\n",
       "      <td>750</td>\n",
       "      <td>3</td>\n",
       "      <td>[[210.0, 0.0, 1117.0, 750.0], [235.0, 302.0, 7...</td>\n",
       "      <td>[[0.017800761, 0.0, 0.050141126, 0.0, 0.0, 0.0...</td>\n",
       "      <td>[0, 5, 29]</td>\n",
       "      <td>men's high collar sweater</td>\n",
       "      <td>500</td>\n",
       "    </tr>\n",
       "    <tr>\n",
       "      <td>14718</td>\n",
       "      <td>103012098</td>\n",
       "      <td>1000</td>\n",
       "      <td>1000</td>\n",
       "      <td>6</td>\n",
       "      <td>[[135.0, 888.0, 211.0, 996.0], [713.0, 542.0, ...</td>\n",
       "      <td>[[0.0, 0.0, 0.0, 0.0, 0.0, 0.0, 0.0, 0.0, 0.0,...</td>\n",
       "      <td>[28, 4, 2, 0, 28, 4]</td>\n",
       "      <td>men's high collar sweater</td>\n",
       "      <td>500</td>\n",
       "    </tr>\n",
       "    <tr>\n",
       "      <td>14719</td>\n",
       "      <td>103017846</td>\n",
       "      <td>800</td>\n",
       "      <td>800</td>\n",
       "      <td>3</td>\n",
       "      <td>[[5.0, 351.0, 135.0, 454.0], [115.0, 245.0, 79...</td>\n",
       "      <td>[[0.0, 0.0, 2.8108034, 0.0, 0.0, 0.029381203, ...</td>\n",
       "      <td>[29, 0, 5]</td>\n",
       "      <td>men's high collar sweater</td>\n",
       "      <td>500</td>\n",
       "    </tr>\n",
       "  </tbody>\n",
       "</table>\n",
       "</div>"
      ],
      "text/plain": [
       "       product_id  image_h  image_w  num_boxes  \\\n",
       "14700   103040723      800      800          3   \n",
       "14701   103060709      394      394          1   \n",
       "14702   103009291     1000     1000          1   \n",
       "14703   103029329     1000     1000          2   \n",
       "14704   103022067      829      690          3   \n",
       "14705   103057030      800      800          2   \n",
       "14706   103042318      800      800          1   \n",
       "14707   103035563     1000      750          5   \n",
       "14708   103044806      800      800          3   \n",
       "14709   103007689      531      800          2   \n",
       "14710   103031711      790      750          2   \n",
       "14711   103006515      800      800          4   \n",
       "14712   103006399      800      800          4   \n",
       "14713   103016766     1125      750          2   \n",
       "14714   103011884      800      800          5   \n",
       "14715   103044330      800      800          5   \n",
       "14716   103016765     1000      750          3   \n",
       "14717   103013406     1125      750          3   \n",
       "14718   103012098     1000     1000          6   \n",
       "14719   103017846      800      800          3   \n",
       "\n",
       "                                                   boxes  \\\n",
       "14700  [[42.0, 145.0, 746.0, 628.0], [5.0, 334.0, 90....   \n",
       "14701                        [[8.0, 31.0, 372.0, 371.0]]   \n",
       "14702                         [[0.0, 3.0, 993.0, 998.0]]   \n",
       "14703  [[58.0, 306.0, 657.0, 712.0], [448.0, 341.0, 9...   \n",
       "14704  [[230.0, 334.0, 387.0, 431.0], [290.0, 178.0, ...   \n",
       "14705  [[5.0, 311.0, 95.0, 479.0], [55.0, 175.0, 783....   \n",
       "14706                        [[43.0, 0.0, 800.0, 609.0]]   \n",
       "14707  [[159.0, 373.0, 242.0, 420.0], [13.0, 253.0, 1...   \n",
       "14708  [[679.0, 132.0, 753.0, 210.0], [15.0, 254.0, 1...   \n",
       "14709  [[99.0, 418.0, 527.0, 613.0], [68.0, 465.0, 15...   \n",
       "14710  [[56.0, 177.0, 613.0, 629.0], [385.0, 204.0, 6...   \n",
       "14711  [[126.0, 611.0, 305.0, 747.0], [310.0, 611.0, ...   \n",
       "14712  [[0.0, 96.0, 725.0, 696.0], [594.0, 144.0, 685...   \n",
       "14713  [[100.0, 358.0, 367.0, 541.0], [149.0, 57.0, 1...   \n",
       "14714  [[155.0, 2.0, 250.0, 144.0], [15.0, 226.0, 786...   \n",
       "14715  [[195.0, 39.0, 333.0, 191.0], [29.0, 195.0, 77...   \n",
       "14716  [[124.0, 113.0, 995.0, 600.0], [28.0, 379.0, 1...   \n",
       "14717  [[210.0, 0.0, 1117.0, 750.0], [235.0, 302.0, 7...   \n",
       "14718  [[135.0, 888.0, 211.0, 996.0], [713.0, 542.0, ...   \n",
       "14719  [[5.0, 351.0, 135.0, 454.0], [115.0, 245.0, 79...   \n",
       "\n",
       "                                                features  \\\n",
       "14700  [[0.0, 0.0, 0.048357625, 0.0, 0.0, 0.0, 0.0710...   \n",
       "14701  [[0.0, 0.0, 0.6290011, 0.0, 0.06375528, 0.1264...   \n",
       "14702  [[0.0, 0.0, 3.933092, 0.0, 0.05122487, 0.0, 0....   \n",
       "14703  [[0.0, 0.0, 4.269327, 0.0, 0.0, 0.0, 0.0, 0.0,...   \n",
       "14704  [[0.0, 0.0, 0.7738576, 0.0, 0.3267151, 0.01661...   \n",
       "14705  [[0.0, 0.0, 1.316205, 0.0, 0.0, 0.0, 0.0, 0.0,...   \n",
       "14706  [[0.0, 0.0, 4.088087, 0.004948093, 0.0, 0.0, 0...   \n",
       "14707  [[0.0, 0.0, 0.09739708, 0.0, 0.0, 0.0, 0.0, 0....   \n",
       "14708  [[0.0, 0.0, 0.16328086, 0.0, 0.0, 0.0, 0.0, 0....   \n",
       "14709  [[0.0, 0.0, 0.079813905, 0.0, 0.0, 0.0, 0.0748...   \n",
       "14710  [[0.0, 0.0, 0.6627404, 0.0, 0.0, 0.0, 0.0, 0.0...   \n",
       "14711  [[0.0, 0.0, 0.15703629, 0.0, 0.05535736, 0.0, ...   \n",
       "14712  [[0.0, 0.0, 0.03628961, 0.0, 0.0, 0.0, 0.02078...   \n",
       "14713  [[0.013466604, 0.0, 0.0, 0.0, 0.0, 0.16966183,...   \n",
       "14714  [[0.0, 0.0, 1.5989691, 0.0, 0.0, 0.0, 0.0, 0.0...   \n",
       "14715  [[0.0, 0.0, 0.027551055, 0.0, 0.32401124, 0.0,...   \n",
       "14716  [[0.0, 0.0, 4.595919, 0.0, 0.0, 0.03517687, 0....   \n",
       "14717  [[0.017800761, 0.0, 0.050141126, 0.0, 0.0, 0.0...   \n",
       "14718  [[0.0, 0.0, 0.0, 0.0, 0.0, 0.0, 0.0, 0.0, 0.0,...   \n",
       "14719  [[0.0, 0.0, 2.8108034, 0.0, 0.0, 0.029381203, ...   \n",
       "\n",
       "               class_labels                      query  query_id  \n",
       "14700            [0, 29, 2]  men's high collar sweater       500  \n",
       "14701                   [0]  men's high collar sweater       500  \n",
       "14702                   [0]  men's high collar sweater       500  \n",
       "14703                [0, 2]  men's high collar sweater       500  \n",
       "14704             [3, 0, 2]  men's high collar sweater       500  \n",
       "14705               [29, 0]  men's high collar sweater       500  \n",
       "14706                   [0]  men's high collar sweater       500  \n",
       "14707      [5, 5, 1, 4, 29]  men's high collar sweater       500  \n",
       "14708            [3, 29, 0]  men's high collar sweater       500  \n",
       "14709                [1, 5]  men's high collar sweater       500  \n",
       "14710                [0, 2]  men's high collar sweater       500  \n",
       "14711          [0, 0, 0, 0]  men's high collar sweater       500  \n",
       "14712          [0, 5, 5, 3]  men's high collar sweater       500  \n",
       "14713               [29, 0]  men's high collar sweater       500  \n",
       "14714     [28, 0, 5, 28, 3]  men's high collar sweater       500  \n",
       "14715    [22, 0, 28, 28, 5]  men's high collar sweater       500  \n",
       "14716           [1, 29, 28]  men's high collar sweater       500  \n",
       "14717            [0, 5, 29]  men's high collar sweater       500  \n",
       "14718  [28, 4, 2, 0, 28, 4]  men's high collar sweater       500  \n",
       "14719            [29, 0, 5]  men's high collar sweater       500  "
      ]
     },
     "execution_count": 10,
     "metadata": {},
     "output_type": "execute_result"
    }
   ],
   "source": [
    "valid.tail(20)"
   ]
  },
  {
   "cell_type": "code",
   "execution_count": 11,
   "metadata": {
    "scrolled": true
   },
   "outputs": [
    {
     "name": "stdout",
     "output_type": "stream",
     "text": [
      "496\n"
     ]
    },
    {
     "data": {
      "text/plain": [
       "495    30\n",
       "266    30\n",
       "282    30\n",
       "290    30\n",
       "298    30\n",
       "       ..\n",
       "415    17\n",
       "448    17\n",
       "323    17\n",
       "351    15\n",
       "425     9\n",
       "Name: query_id, Length: 496, dtype: int64"
      ]
     },
     "execution_count": 11,
     "metadata": {},
     "output_type": "execute_result"
    }
   ],
   "source": [
    "print(valid.query_id.nunique())\n",
    "valid.query_id.value_counts(dropna=False)"
   ]
  },
  {
   "cell_type": "code",
   "execution_count": null,
   "metadata": {},
   "outputs": [],
   "source": []
  },
  {
   "cell_type": "code",
   "execution_count": 12,
   "metadata": {
    "scrolled": false
   },
   "outputs": [
    {
     "data": {
      "text/plain": [
       "<matplotlib.axes._subplots.AxesSubplot at 0x1b439a5e048>"
      ]
     },
     "execution_count": 12,
     "metadata": {},
     "output_type": "execute_result"
    },
    {
     "data": {
      "image/png": "[encoded data removed]",
      "text/plain": [
       "<Figure size 432x288 with 1 Axes>"
      ]
     },
     "metadata": {
      "needs_background": "light"
     },
     "output_type": "display_data"
    }
   ],
   "source": [
    "sns.distplot(train.num_boxes)"
   ]
  },
  {
   "cell_type": "code",
   "execution_count": 13,
   "metadata": {
    "scrolled": true
   },
   "outputs": [
    {
     "data": {
      "text/plain": [
       "<matplotlib.axes._subplots.AxesSubplot at 0x1b4396f0e10>"
      ]
     },
     "execution_count": 13,
     "metadata": {},
     "output_type": "execute_result"
    },
    {
     "data": {
      "image/png": "[encoded data removed]",
      "text/plain": [
       "<Figure size 432x288 with 1 Axes>"
      ]
     },
     "metadata": {
      "needs_background": "light"
     },
     "output_type": "display_data"
    }
   ],
   "source": [
    "sns.distplot(valid.num_boxes)"
   ]
  },
  {
   "cell_type": "code",
   "execution_count": 14,
   "metadata": {},
   "outputs": [
    {
     "data": {
      "text/plain": [
       "51"
      ]
     },
     "execution_count": 14,
     "metadata": {},
     "output_type": "execute_result"
    }
   ],
   "source": [
    "train.num_boxes.max()"
   ]
  },
  {
   "cell_type": "code",
   "execution_count": 15,
   "metadata": {},
   "outputs": [
    {
     "data": {
      "text/plain": [
       "30"
      ]
     },
     "execution_count": 15,
     "metadata": {},
     "output_type": "execute_result"
    }
   ],
   "source": [
    "valid.num_boxes.max()"
   ]
  },
  {
   "cell_type": "code",
   "execution_count": 16,
   "metadata": {
    "scrolled": true
   },
   "outputs": [
    {
     "data": {
      "text/plain": [
       "<matplotlib.axes._subplots.AxesSubplot at 0x1b44fe0ae10>"
      ]
     },
     "execution_count": 16,
     "metadata": {},
     "output_type": "execute_result"
    },
    {
     "data": {
      "image/png": "[encoded data removed]",
      "text/plain": [
       "<Figure size 432x288 with 1 Axes>"
      ]
     },
     "metadata": {
      "needs_background": "light"
     },
     "output_type": "display_data"
    }
   ],
   "source": [
    "sns.distplot(np.concatenate(train.class_labels))"
   ]
  },
  {
   "cell_type": "code",
   "execution_count": 17,
   "metadata": {},
   "outputs": [
    {
     "data": {
      "text/plain": [
       "<matplotlib.axes._subplots.AxesSubplot at 0x1b44fda8c50>"
      ]
     },
     "execution_count": 17,
     "metadata": {},
     "output_type": "execute_result"
    },
    {
     "data": {
      "image/png": "[encoded data removed]",
      "text/plain": [
       "<Figure size 432x288 with 1 Axes>"
      ]
     },
     "metadata": {
      "needs_background": "light"
     },
     "output_type": "display_data"
    }
   ],
   "source": [
    "sns.distplot(np.concatenate(valid.class_labels))"
   ]
  },
  {
   "cell_type": "code",
   "execution_count": 18,
   "metadata": {},
   "outputs": [
    {
     "data": {
      "text/plain": [
       "120067     249\n",
       "75032       67\n",
       "1169145     21\n",
       "310736      13\n",
       "833386      10\n",
       "          ... \n",
       "795153       1\n",
       "1243666      1\n",
       "154134       1\n",
       "285592       1\n",
       "387633       1\n",
       "Name: query_id, Length: 9050, dtype: int64"
      ]
     },
     "execution_count": 18,
     "metadata": {},
     "output_type": "execute_result"
    }
   ],
   "source": [
    "train['query_id'].value_counts(dropna=True)"
   ]
  },
  {
   "cell_type": "code",
   "execution_count": 19,
   "metadata": {},
   "outputs": [
    {
     "data": {
      "text/plain": [
       "495    30\n",
       "266    30\n",
       "282    30\n",
       "290    30\n",
       "298    30\n",
       "       ..\n",
       "415    17\n",
       "448    17\n",
       "323    17\n",
       "351    15\n",
       "425     9\n",
       "Name: query_id, Length: 496, dtype: int64"
      ]
     },
     "execution_count": 19,
     "metadata": {},
     "output_type": "execute_result"
    }
   ],
   "source": [
    "valid['query_id'].value_counts(dropna=True)"
   ]
  },
  {
   "cell_type": "markdown",
   "metadata": {},
   "source": [
    "### class_label"
   ]
  },
  {
   "cell_type": "code",
   "execution_count": 20,
   "metadata": {},
   "outputs": [
    {
     "data": {
      "text/plain": [
       "array([28, 28], dtype=int64)"
      ]
     },
     "execution_count": 20,
     "metadata": {},
     "output_type": "execute_result"
    }
   ],
   "source": [
    "train.class_labels.iloc[0]"
   ]
  },
  {
   "cell_type": "code",
   "execution_count": 21,
   "metadata": {},
   "outputs": [
    {
     "data": {
      "text/plain": [
       "array([28, 28], dtype=int64)"
      ]
     },
     "execution_count": 21,
     "metadata": {},
     "output_type": "execute_result"
    }
   ],
   "source": [
    "train.class_labels.iloc[0][:10]"
   ]
  },
  {
   "cell_type": "code",
   "execution_count": 22,
   "metadata": {
    "scrolled": true
   },
   "outputs": [],
   "source": [
    "# from sklearn import preprocessing as pp\n",
    "\n",
    "# lb = pp.LabelBinarizer()\n",
    "# lb.fit(np.array(range(1,34)))"
   ]
  },
  {
   "cell_type": "code",
   "execution_count": 23,
   "metadata": {
    "scrolled": true
   },
   "outputs": [],
   "source": [
    "# lb.transform(np.array([1,2,3]))"
   ]
  },
  {
   "cell_type": "code",
   "execution_count": 24,
   "metadata": {},
   "outputs": [],
   "source": [
    "# train.class_labels = train.class_labels.swifter.apply(lambda x: lb.transform(x))\n",
    "# valid.class_labels = valid.class_labels.swifter.apply(lambda x: lb.transform(x))"
   ]
  },
  {
   "cell_type": "code",
   "execution_count": 25,
   "metadata": {},
   "outputs": [],
   "source": [
    "# train.head()"
   ]
  },
  {
   "cell_type": "code",
   "execution_count": null,
   "metadata": {},
   "outputs": [],
   "source": []
  },
  {
   "cell_type": "markdown",
   "metadata": {},
   "source": [
    "### boxの大きさ\n",
    "- [top, left, bottom, right]"
   ]
  },
  {
   "cell_type": "code",
   "execution_count": 26,
   "metadata": {
    "scrolled": true
   },
   "outputs": [],
   "source": [
    "train['box_area'] = train.boxes.apply(lambda x: np.array([(xi[2]-xi[0])*(xi[3]-xi[1]) for xi in x]))\n",
    "valid['box_area'] = valid.boxes.apply(lambda x: np.array([(xi[2]-xi[0])*(xi[3]-xi[1]) for xi in x]))"
   ]
  },
  {
   "cell_type": "code",
   "execution_count": 27,
   "metadata": {
    "scrolled": true
   },
   "outputs": [
    {
     "data": {
      "text/html": [
       "<div>\n",
       "<style scoped>\n",
       "    .dataframe tbody tr th:only-of-type {\n",
       "        vertical-align: middle;\n",
       "    }\n",
       "\n",
       "    .dataframe tbody tr th {\n",
       "        vertical-align: top;\n",
       "    }\n",
       "\n",
       "    .dataframe thead th {\n",
       "        text-align: right;\n",
       "    }\n",
       "</style>\n",
       "<table border=\"1\" class=\"dataframe\">\n",
       "  <thead>\n",
       "    <tr style=\"text-align: right;\">\n",
       "      <th></th>\n",
       "      <th>product_id</th>\n",
       "      <th>image_h</th>\n",
       "      <th>image_w</th>\n",
       "      <th>num_boxes</th>\n",
       "      <th>boxes</th>\n",
       "      <th>features</th>\n",
       "      <th>class_labels</th>\n",
       "      <th>query</th>\n",
       "      <th>query_id</th>\n",
       "      <th>box_area</th>\n",
       "    </tr>\n",
       "  </thead>\n",
       "  <tbody>\n",
       "    <tr>\n",
       "      <td>0</td>\n",
       "      <td>102851856</td>\n",
       "      <td>338</td>\n",
       "      <td>209</td>\n",
       "      <td>2</td>\n",
       "      <td>[[0.0, 3.0, 338.0, 207.0], [239.0, 22.0, 333.0...</td>\n",
       "      <td>[[0.0, 0.0, 6.0378604, 0.0, 0.037252333, 0.0, ...</td>\n",
       "      <td>[28, 28]</td>\n",
       "      <td>treble popular reed</td>\n",
       "      <td>923271</td>\n",
       "      <td>[68952.0, 17108.0]</td>\n",
       "    </tr>\n",
       "    <tr>\n",
       "      <td>1</td>\n",
       "      <td>101783080</td>\n",
       "      <td>80</td>\n",
       "      <td>61</td>\n",
       "      <td>1</td>\n",
       "      <td>[[5.0, 5.0, 75.0, 56.0]]</td>\n",
       "      <td>[[0.0, 0.015551143, 1.4977295, 0.0, 0.03303502...</td>\n",
       "      <td>[28]</td>\n",
       "      <td>compatible ink cartridges</td>\n",
       "      <td>234031</td>\n",
       "      <td>[3570.0]</td>\n",
       "    </tr>\n",
       "    <tr>\n",
       "      <td>2</td>\n",
       "      <td>100492797</td>\n",
       "      <td>750</td>\n",
       "      <td>750</td>\n",
       "      <td>1</td>\n",
       "      <td>[[43.0, 263.0, 658.0, 468.0]]</td>\n",
       "      <td>[[0.0, 0.0, 0.81766355, 0.0, 0.02573972, 0.0, ...</td>\n",
       "      <td>[7]</td>\n",
       "      <td>check new look facial cream</td>\n",
       "      <td>199926</td>\n",
       "      <td>[126075.0]</td>\n",
       "    </tr>\n",
       "    <tr>\n",
       "      <td>3</td>\n",
       "      <td>101708088</td>\n",
       "      <td>480</td>\n",
       "      <td>640</td>\n",
       "      <td>5</td>\n",
       "      <td>[[250.0, 421.0, 416.0, 635.0], [252.0, 5.0, 42...</td>\n",
       "      <td>[[0.0, 0.0, 0.0, 0.0, 0.24994667, 0.0, 0.0, 0....</td>\n",
       "      <td>[28, 28, 28, 28, 28]</td>\n",
       "      <td>royal commemorative stamp</td>\n",
       "      <td>772725</td>\n",
       "      <td>[35524.0, 36993.0, 40936.0, 5472.0, 39078.0]</td>\n",
       "    </tr>\n",
       "    <tr>\n",
       "      <td>4</td>\n",
       "      <td>100316842</td>\n",
       "      <td>800</td>\n",
       "      <td>800</td>\n",
       "      <td>4</td>\n",
       "      <td>[[138.0, 257.0, 716.0, 540.0], [162.0, 667.0, ...</td>\n",
       "      <td>[[0.0, 0.014258672, 0.02542738, 0.0, 0.0, 0.0,...</td>\n",
       "      <td>[28, 6, 6, 28]</td>\n",
       "      <td>calendula baby shower gel</td>\n",
       "      <td>362576</td>\n",
       "      <td>[163574.0, 22784.0, 20988.0, 138230.0]</td>\n",
       "    </tr>\n",
       "  </tbody>\n",
       "</table>\n",
       "</div>"
      ],
      "text/plain": [
       "   product_id  image_h  image_w  num_boxes  \\\n",
       "0   102851856      338      209          2   \n",
       "1   101783080       80       61          1   \n",
       "2   100492797      750      750          1   \n",
       "3   101708088      480      640          5   \n",
       "4   100316842      800      800          4   \n",
       "\n",
       "                                               boxes  \\\n",
       "0  [[0.0, 3.0, 338.0, 207.0], [239.0, 22.0, 333.0...   \n",
       "1                           [[5.0, 5.0, 75.0, 56.0]]   \n",
       "2                      [[43.0, 263.0, 658.0, 468.0]]   \n",
       "3  [[250.0, 421.0, 416.0, 635.0], [252.0, 5.0, 42...   \n",
       "4  [[138.0, 257.0, 716.0, 540.0], [162.0, 667.0, ...   \n",
       "\n",
       "                                            features          class_labels  \\\n",
       "0  [[0.0, 0.0, 6.0378604, 0.0, 0.037252333, 0.0, ...              [28, 28]   \n",
       "1  [[0.0, 0.015551143, 1.4977295, 0.0, 0.03303502...                  [28]   \n",
       "2  [[0.0, 0.0, 0.81766355, 0.0, 0.02573972, 0.0, ...                   [7]   \n",
       "3  [[0.0, 0.0, 0.0, 0.0, 0.24994667, 0.0, 0.0, 0....  [28, 28, 28, 28, 28]   \n",
       "4  [[0.0, 0.014258672, 0.02542738, 0.0, 0.0, 0.0,...        [28, 6, 6, 28]   \n",
       "\n",
       "                         query  query_id  \\\n",
       "0          treble popular reed    923271   \n",
       "1    compatible ink cartridges    234031   \n",
       "2  check new look facial cream    199926   \n",
       "3    royal commemorative stamp    772725   \n",
       "4    calendula baby shower gel    362576   \n",
       "\n",
       "                                       box_area  \n",
       "0                            [68952.0, 17108.0]  \n",
       "1                                      [3570.0]  \n",
       "2                                    [126075.0]  \n",
       "3  [35524.0, 36993.0, 40936.0, 5472.0, 39078.0]  \n",
       "4        [163574.0, 22784.0, 20988.0, 138230.0]  "
      ]
     },
     "execution_count": 27,
     "metadata": {},
     "output_type": "execute_result"
    }
   ],
   "source": [
    "train.head()"
   ]
  },
  {
   "cell_type": "code",
   "execution_count": 28,
   "metadata": {},
   "outputs": [
    {
     "data": {
      "text/plain": [
       "array([163574.,  22784.,  20988., 138230.], dtype=float32)"
      ]
     },
     "execution_count": 28,
     "metadata": {},
     "output_type": "execute_result"
    }
   ],
   "source": [
    "train.box_area.iloc[4]"
   ]
  },
  {
   "cell_type": "code",
   "execution_count": 29,
   "metadata": {},
   "outputs": [
    {
     "data": {
      "text/plain": [
       "array([0, 3, 1, 2], dtype=int64)"
      ]
     },
     "execution_count": 29,
     "metadata": {},
     "output_type": "execute_result"
    }
   ],
   "source": [
    "np.argsort(train.box_area.iloc[4])[::-1]  # 降順"
   ]
  },
  {
   "cell_type": "code",
   "execution_count": 30,
   "metadata": {},
   "outputs": [
    {
     "data": {
      "text/plain": [
       "array([[0.        , 0.01425867, 0.02542738, ..., 0.        , 0.        ,\n",
       "        0.        ],\n",
       "       [0.        , 0.        , 0.0172948 , ..., 0.        , 0.        ,\n",
       "        0.        ],\n",
       "       [0.        , 0.        , 0.6604856 , ..., 0.        , 0.        ,\n",
       "        0.        ],\n",
       "       [0.        , 0.        , 0.        , ..., 0.        , 0.        ,\n",
       "        0.        ]], dtype=float32)"
      ]
     },
     "execution_count": 30,
     "metadata": {},
     "output_type": "execute_result"
    }
   ],
   "source": [
    "train.features.iloc[4]"
   ]
  },
  {
   "cell_type": "code",
   "execution_count": 31,
   "metadata": {},
   "outputs": [
    {
     "data": {
      "text/plain": [
       "array([[0.        , 0.01425867, 0.02542738, ..., 0.        , 0.        ,\n",
       "        0.        ],\n",
       "       [0.        , 0.        , 0.        , ..., 0.        , 0.        ,\n",
       "        0.        ],\n",
       "       [0.        , 0.        , 0.0172948 , ..., 0.        , 0.        ,\n",
       "        0.        ],\n",
       "       [0.        , 0.        , 0.6604856 , ..., 0.        , 0.        ,\n",
       "        0.        ]], dtype=float32)"
      ]
     },
     "execution_count": 31,
     "metadata": {},
     "output_type": "execute_result"
    }
   ],
   "source": [
    "train.features.iloc[4][np.argsort(train.box_area.iloc[4])[::-1], :]"
   ]
  },
  {
   "cell_type": "code",
   "execution_count": 32,
   "metadata": {},
   "outputs": [
    {
     "data": {
      "text/plain": [
       "array([0.        , 0.01425867, 0.02542738, ..., 0.        , 0.        ,\n",
       "       0.        ], dtype=float32)"
      ]
     },
     "execution_count": 32,
     "metadata": {},
     "output_type": "execute_result"
    }
   ],
   "source": [
    "train.features.iloc[4][np.argsort(train.box_area.iloc[4])[::-1], :].reshape(-1,)"
   ]
  },
  {
   "cell_type": "code",
   "execution_count": null,
   "metadata": {},
   "outputs": [],
   "source": []
  },
  {
   "cell_type": "markdown",
   "metadata": {},
   "source": [
    "### 1画像に1ラベルなにかつける\n",
    "- metric learningのラベルにしたい\n",
    "- 同一ラベルは近く、異なるラベルは離れるようにするため\n",
    "\n",
    "\n",
    "- 今はbox_areaが最大のラベルを割り当てることにする"
   ]
  },
  {
   "cell_type": "code",
   "execution_count": null,
   "metadata": {},
   "outputs": [],
   "source": []
  },
  {
   "cell_type": "code",
   "execution_count": null,
   "metadata": {},
   "outputs": [],
   "source": []
  },
  {
   "cell_type": "code",
   "execution_count": null,
   "metadata": {},
   "outputs": [],
   "source": []
  },
  {
   "cell_type": "code",
   "execution_count": null,
   "metadata": {},
   "outputs": [],
   "source": []
  },
  {
   "cell_type": "markdown",
   "metadata": {},
   "source": [
    "## word2vec"
   ]
  },
  {
   "cell_type": "code",
   "execution_count": 33,
   "metadata": {},
   "outputs": [],
   "source": [
    "from nltk.corpus import stopwords\n",
    "stopWords = stopwords.words('english')"
   ]
  },
  {
   "cell_type": "code",
   "execution_count": 34,
   "metadata": {},
   "outputs": [
    {
     "data": {
      "application/vnd.jupyter.widget-view+json": {
       "model_id": "9ac02fa735c842d2b7c730057aa15260",
       "version_major": 2,
       "version_minor": 0
      },
      "text/plain": [
       "HBox(children=(IntProgress(value=0, description='Pandas Apply', max=10000, style=ProgressStyle(description_wid…"
      ]
     },
     "metadata": {},
     "output_type": "display_data"
    },
    {
     "name": "stdout",
     "output_type": "stream",
     "text": [
      "\n"
     ]
    },
    {
     "data": {
      "application/vnd.jupyter.widget-view+json": {
       "model_id": "8d79f8cb4bb4401eb4f5b453678862b5",
       "version_major": 2,
       "version_minor": 0
      },
      "text/plain": [
       "HBox(children=(IntProgress(value=0, description='Pandas Apply', max=14720, style=ProgressStyle(description_wid…"
      ]
     },
     "metadata": {},
     "output_type": "display_data"
    },
    {
     "name": "stdout",
     "output_type": "stream",
     "text": [
      "\n"
     ]
    }
   ],
   "source": [
    "train['query'] = train['query'].swifter.apply(lambda x: [w for w in x.split(' ') if w not in stopWords])\n",
    "valid['query'] = valid['query'].swifter.apply(lambda x: [w for w in x.split(' ') if w not in stopWords])"
   ]
  },
  {
   "cell_type": "code",
   "execution_count": 35,
   "metadata": {},
   "outputs": [
    {
     "data": {
      "text/html": [
       "<div>\n",
       "<style scoped>\n",
       "    .dataframe tbody tr th:only-of-type {\n",
       "        vertical-align: middle;\n",
       "    }\n",
       "\n",
       "    .dataframe tbody tr th {\n",
       "        vertical-align: top;\n",
       "    }\n",
       "\n",
       "    .dataframe thead th {\n",
       "        text-align: right;\n",
       "    }\n",
       "</style>\n",
       "<table border=\"1\" class=\"dataframe\">\n",
       "  <thead>\n",
       "    <tr style=\"text-align: right;\">\n",
       "      <th></th>\n",
       "      <th>product_id</th>\n",
       "      <th>image_h</th>\n",
       "      <th>image_w</th>\n",
       "      <th>num_boxes</th>\n",
       "      <th>boxes</th>\n",
       "      <th>features</th>\n",
       "      <th>class_labels</th>\n",
       "      <th>query</th>\n",
       "      <th>query_id</th>\n",
       "      <th>box_area</th>\n",
       "    </tr>\n",
       "  </thead>\n",
       "  <tbody>\n",
       "    <tr>\n",
       "      <td>0</td>\n",
       "      <td>102851856</td>\n",
       "      <td>338</td>\n",
       "      <td>209</td>\n",
       "      <td>2</td>\n",
       "      <td>[[0.0, 3.0, 338.0, 207.0], [239.0, 22.0, 333.0...</td>\n",
       "      <td>[[0.0, 0.0, 6.0378604, 0.0, 0.037252333, 0.0, ...</td>\n",
       "      <td>[28, 28]</td>\n",
       "      <td>[treble, popular, reed]</td>\n",
       "      <td>923271</td>\n",
       "      <td>[68952.0, 17108.0]</td>\n",
       "    </tr>\n",
       "    <tr>\n",
       "      <td>1</td>\n",
       "      <td>101783080</td>\n",
       "      <td>80</td>\n",
       "      <td>61</td>\n",
       "      <td>1</td>\n",
       "      <td>[[5.0, 5.0, 75.0, 56.0]]</td>\n",
       "      <td>[[0.0, 0.015551143, 1.4977295, 0.0, 0.03303502...</td>\n",
       "      <td>[28]</td>\n",
       "      <td>[compatible, ink, cartridges]</td>\n",
       "      <td>234031</td>\n",
       "      <td>[3570.0]</td>\n",
       "    </tr>\n",
       "    <tr>\n",
       "      <td>2</td>\n",
       "      <td>100492797</td>\n",
       "      <td>750</td>\n",
       "      <td>750</td>\n",
       "      <td>1</td>\n",
       "      <td>[[43.0, 263.0, 658.0, 468.0]]</td>\n",
       "      <td>[[0.0, 0.0, 0.81766355, 0.0, 0.02573972, 0.0, ...</td>\n",
       "      <td>[7]</td>\n",
       "      <td>[check, new, look, facial, cream]</td>\n",
       "      <td>199926</td>\n",
       "      <td>[126075.0]</td>\n",
       "    </tr>\n",
       "    <tr>\n",
       "      <td>3</td>\n",
       "      <td>101708088</td>\n",
       "      <td>480</td>\n",
       "      <td>640</td>\n",
       "      <td>5</td>\n",
       "      <td>[[250.0, 421.0, 416.0, 635.0], [252.0, 5.0, 42...</td>\n",
       "      <td>[[0.0, 0.0, 0.0, 0.0, 0.24994667, 0.0, 0.0, 0....</td>\n",
       "      <td>[28, 28, 28, 28, 28]</td>\n",
       "      <td>[royal, commemorative, stamp]</td>\n",
       "      <td>772725</td>\n",
       "      <td>[35524.0, 36993.0, 40936.0, 5472.0, 39078.0]</td>\n",
       "    </tr>\n",
       "    <tr>\n",
       "      <td>4</td>\n",
       "      <td>100316842</td>\n",
       "      <td>800</td>\n",
       "      <td>800</td>\n",
       "      <td>4</td>\n",
       "      <td>[[138.0, 257.0, 716.0, 540.0], [162.0, 667.0, ...</td>\n",
       "      <td>[[0.0, 0.014258672, 0.02542738, 0.0, 0.0, 0.0,...</td>\n",
       "      <td>[28, 6, 6, 28]</td>\n",
       "      <td>[calendula, baby, shower, gel]</td>\n",
       "      <td>362576</td>\n",
       "      <td>[163574.0, 22784.0, 20988.0, 138230.0]</td>\n",
       "    </tr>\n",
       "  </tbody>\n",
       "</table>\n",
       "</div>"
      ],
      "text/plain": [
       "   product_id  image_h  image_w  num_boxes  \\\n",
       "0   102851856      338      209          2   \n",
       "1   101783080       80       61          1   \n",
       "2   100492797      750      750          1   \n",
       "3   101708088      480      640          5   \n",
       "4   100316842      800      800          4   \n",
       "\n",
       "                                               boxes  \\\n",
       "0  [[0.0, 3.0, 338.0, 207.0], [239.0, 22.0, 333.0...   \n",
       "1                           [[5.0, 5.0, 75.0, 56.0]]   \n",
       "2                      [[43.0, 263.0, 658.0, 468.0]]   \n",
       "3  [[250.0, 421.0, 416.0, 635.0], [252.0, 5.0, 42...   \n",
       "4  [[138.0, 257.0, 716.0, 540.0], [162.0, 667.0, ...   \n",
       "\n",
       "                                            features          class_labels  \\\n",
       "0  [[0.0, 0.0, 6.0378604, 0.0, 0.037252333, 0.0, ...              [28, 28]   \n",
       "1  [[0.0, 0.015551143, 1.4977295, 0.0, 0.03303502...                  [28]   \n",
       "2  [[0.0, 0.0, 0.81766355, 0.0, 0.02573972, 0.0, ...                   [7]   \n",
       "3  [[0.0, 0.0, 0.0, 0.0, 0.24994667, 0.0, 0.0, 0....  [28, 28, 28, 28, 28]   \n",
       "4  [[0.0, 0.014258672, 0.02542738, 0.0, 0.0, 0.0,...        [28, 6, 6, 28]   \n",
       "\n",
       "                               query  query_id  \\\n",
       "0            [treble, popular, reed]    923271   \n",
       "1      [compatible, ink, cartridges]    234031   \n",
       "2  [check, new, look, facial, cream]    199926   \n",
       "3      [royal, commemorative, stamp]    772725   \n",
       "4     [calendula, baby, shower, gel]    362576   \n",
       "\n",
       "                                       box_area  \n",
       "0                            [68952.0, 17108.0]  \n",
       "1                                      [3570.0]  \n",
       "2                                    [126075.0]  \n",
       "3  [35524.0, 36993.0, 40936.0, 5472.0, 39078.0]  \n",
       "4        [163574.0, 22784.0, 20988.0, 138230.0]  "
      ]
     },
     "execution_count": 35,
     "metadata": {},
     "output_type": "execute_result"
    }
   ],
   "source": [
    "train.head()"
   ]
  },
  {
   "cell_type": "code",
   "execution_count": null,
   "metadata": {},
   "outputs": [],
   "source": []
  },
  {
   "cell_type": "code",
   "execution_count": 36,
   "metadata": {},
   "outputs": [],
   "source": [
    "# Load Google's pre-trained Word2Vec model.\n",
    "# model_w2v = gensim.models.KeyedVectors.load_word2vec_format(W2V_DIR+'GoogleNews-vectors-negative300.bin', binary=True)"
   ]
  },
  {
   "cell_type": "code",
   "execution_count": 37,
   "metadata": {},
   "outputs": [],
   "source": [
    "from gensim.scripts.glove2word2vec import glove2word2vec\n",
    "# _ = glove2word2vec(W2V_DIR+'glove.6B/glove.6B.300d.txt', W2V_DIR+'glove.6B/glove.6B.300d_w2v.txt')\n",
    "\n",
    "model_w2v = gensim.models.KeyedVectors.load_word2vec_format(W2V_DIR+'glove.6B/glove.6B.300d_w2v.txt')"
   ]
  },
  {
   "cell_type": "code",
   "execution_count": 38,
   "metadata": {
    "scrolled": true
   },
   "outputs": [
    {
     "data": {
      "text/plain": [
       "array([ 0.01089  , -0.64106  , -0.19863  , -0.23696  , -0.47266  ,\n",
       "        0.32067  , -0.44031  ,  0.019803 , -0.21814  ,  0.59546  ,\n",
       "        0.26734  ,  0.53944  , -0.66176  ,  0.18678  , -0.41743  ,\n",
       "       -0.4818   ,  0.16942  , -0.64982  ,  0.41209  , -0.25478  ,\n",
       "       -0.96255  , -0.57953  , -0.23118  ,  0.54267  , -0.80079  ,\n",
       "       -0.6732   , -0.094272 ,  0.18689  ,  0.3882   , -0.56279  ,\n",
       "        0.53548  , -0.49303  ,  0.15239  , -0.018012 ,  0.74254  ,\n",
       "        0.3777   , -0.3247   , -0.38282  ,  0.17707  ,  0.098162 ,\n",
       "       -0.14701  ,  0.33079  , -0.52109  , -1.1775   ,  0.22824  ,\n",
       "       -0.053804 , -0.52793  , -0.43674  , -0.23883  , -0.49577  ,\n",
       "       -0.41427  , -0.082529 ,  0.38079  , -0.13115  ,  0.012661 ,\n",
       "       -0.058927 , -0.205    , -0.38402  , -0.14487  ,  0.090708 ,\n",
       "       -0.0026042, -0.68542  , -0.58049  , -0.21262  , -0.65491  ,\n",
       "       -0.066237 ,  0.41332  , -0.62144  , -1.124    ,  0.27328  ,\n",
       "        0.37292  ,  0.019297 , -0.64647  , -0.50676  ,  0.09212  ,\n",
       "        0.37582  , -0.17346  ,  0.34734  , -0.55628  , -0.19497  ,\n",
       "        0.19323  ,  0.079846 , -0.22538  , -0.32079  , -0.41867  ,\n",
       "        0.58166  ,  0.7887   ,  0.087747 , -0.39035  , -0.021331 ,\n",
       "        0.12582  , -0.45532  ,  0.10876  ,  0.88739  ,  0.58888  ,\n",
       "        0.10174  ,  0.83905  ,  0.22975  ,  0.50027  ,  0.23092  ,\n",
       "        0.46766  ,  0.10004  ,  0.050123 , -0.12394  , -0.11166  ,\n",
       "        0.02543  , -0.11312  , -0.61586  , -0.44738  ,  0.11064  ,\n",
       "       -0.45272  ,  0.31142  ,  0.42327  , -0.011908 , -0.66859  ,\n",
       "        0.22095  ,  0.19537  , -0.42676  ,  0.13792  , -0.28126  ,\n",
       "       -0.23514  , -0.4067   ,  0.27695  , -0.081423 ,  0.06729  ,\n",
       "        0.12497  ,  0.073524 , -0.59689  , -0.070209 ,  0.089775 ,\n",
       "        0.31807  , -0.36733  , -0.43205  ,  0.016566 ,  0.18062  ,\n",
       "        0.21232  ,  0.0070308,  0.80163  ,  0.51702  , -0.15254  ,\n",
       "       -0.14097  ,  0.025267 ,  0.047901 , -0.2623   ,  0.21624  ,\n",
       "        0.13631  , -0.20696  , -0.74026  ,  0.80009  ,  0.15029  ,\n",
       "       -0.47098  ,  0.73464  ,  0.76641  ,  0.2069   , -0.010079 ,\n",
       "       -0.5753   , -0.37996  ,  0.096721 ,  0.20868  ,  0.55109  ,\n",
       "       -0.4023   , -0.32747  , -0.36577  ,  0.35917  , -0.43636  ,\n",
       "        0.022444 , -0.93138  , -0.32635  , -0.18981  , -0.36245  ,\n",
       "       -0.45259  , -0.71727  ,  0.036966 ,  0.071148 , -0.10841  ,\n",
       "       -0.56914  ,  0.44906  , -0.10807  , -0.30318  , -0.48204  ,\n",
       "       -0.29941  , -0.37974  , -0.14137  , -0.2902   ,  0.34242  ,\n",
       "       -0.098634 ,  0.64229  ,  0.67315  , -0.27771  , -0.32515  ,\n",
       "        0.65909  ,  0.23792  ,  0.053736 , -0.15286  ,  0.14024  ,\n",
       "       -0.16704  , -0.85142  , -0.18653  , -0.58331  , -0.44252  ,\n",
       "       -0.58553  ,  0.17374  ,  0.37233  ,  0.076761 ,  0.28706  ,\n",
       "       -0.048572 ,  0.73556  , -0.22621  , -0.70411  ,  0.32712  ,\n",
       "        0.19489  , -0.53155  , -0.90434  ,  0.19757  , -0.20636  ,\n",
       "        0.26062  ,  0.22253  , -0.59428  , -0.13804  , -0.0045327,\n",
       "        0.34527  , -0.2196   ,  0.33864  , -0.35881  ,  0.033837 ,\n",
       "       -0.55646  , -0.14256  , -0.36356  ,  0.46921  , -0.41836  ,\n",
       "        0.39964  ,  0.39321  ,  0.14849  , -0.20106  ,  0.089472 ,\n",
       "        0.2576   , -0.16517  ,  0.23871  ,  0.64283  ,  0.54318  ,\n",
       "        0.24862  ,  0.25938  , -0.91542  , -0.57928  ,  0.32447  ,\n",
       "        0.38522  , -0.17975  , -0.38881  ,  0.22186  , -0.81661  ,\n",
       "        0.42208  ,  0.38981  , -0.33298  ,  0.32223  , -0.67233  ,\n",
       "        0.23331  , -0.1612   ,  0.40155  , -0.75566  , -0.23863  ,\n",
       "       -0.29301  ,  0.84725  ,  0.17013  , -0.2091   , -0.58737  ,\n",
       "        0.35929  , -0.36588  ,  0.36183  , -0.094858 ,  0.09464  ,\n",
       "       -0.2175   ,  0.0091213, -0.35596  ,  0.37503  , -0.60434  ,\n",
       "       -0.14005  ,  0.80678  , -0.53763  , -0.20024  ,  0.11227  ,\n",
       "       -0.1662   ,  0.21946  , -0.29888  ,  0.31359  ,  0.68229  ,\n",
       "       -0.2086   ,  0.1041   , -0.10169  , -0.31898  , -0.11484  ,\n",
       "       -0.17403  , -0.0088692, -0.68101  ,  0.21267  , -0.21687  ,\n",
       "       -0.78151  , -0.011674 , -0.09469  ,  0.77887  , -0.21144  ],\n",
       "      dtype=float32)"
      ]
     },
     "execution_count": 38,
     "metadata": {},
     "output_type": "execute_result"
    }
   ],
   "source": [
    "model_w2v['short-sleeved']"
   ]
  },
  {
   "cell_type": "code",
   "execution_count": 39,
   "metadata": {},
   "outputs": [],
   "source": [
    "def calc_mean_w2v(words_list):\n",
    "    words_list = filter(lambda x: x in model_w2v.vocab, words_list)\n",
    "    words_list = [w for w in words_list]\n",
    "    #print(words_list)\n",
    "    try:\n",
    "        return np.mean(model_w2v[words_list], axis=0)\n",
    "    except:\n",
    "        return np.ones(300)"
   ]
  },
  {
   "cell_type": "code",
   "execution_count": 40,
   "metadata": {
    "scrolled": true
   },
   "outputs": [
    {
     "data": {
      "application/vnd.jupyter.widget-view+json": {
       "model_id": "63856f1a36524e59b44a1266f7b6fba4",
       "version_major": 2,
       "version_minor": 0
      },
      "text/plain": [
       "HBox(children=(IntProgress(value=0, description='Pandas Apply', max=10000, style=ProgressStyle(description_wid…"
      ]
     },
     "metadata": {},
     "output_type": "display_data"
    },
    {
     "name": "stdout",
     "output_type": "stream",
     "text": [
      "\n"
     ]
    },
    {
     "data": {
      "application/vnd.jupyter.widget-view+json": {
       "model_id": "7105bc829a674640b8aea8d2f62ca7db",
       "version_major": 2,
       "version_minor": 0
      },
      "text/plain": [
       "HBox(children=(IntProgress(value=0, description='Pandas Apply', max=14720, style=ProgressStyle(description_wid…"
      ]
     },
     "metadata": {},
     "output_type": "display_data"
    },
    {
     "name": "stdout",
     "output_type": "stream",
     "text": [
      "\n"
     ]
    }
   ],
   "source": [
    "train['query'] = train['query'].swifter.apply(calc_mean_w2v)\n",
    "valid['query'] = valid['query'].swifter.apply(calc_mean_w2v)"
   ]
  },
  {
   "cell_type": "code",
   "execution_count": null,
   "metadata": {},
   "outputs": [],
   "source": []
  },
  {
   "cell_type": "markdown",
   "metadata": {},
   "source": [
    "### 初期設定"
   ]
  },
  {
   "cell_type": "code",
   "execution_count": 41,
   "metadata": {},
   "outputs": [],
   "source": [
    "def seed_everything(seed: int):\n",
    "    random.seed(seed)\n",
    "    os.environ[\"PYTHONHASHSEED\"] = str(seed)\n",
    "    np.random.seed(seed)\n",
    "    torch.manual_seed(seed)\n",
    "    torch.cuda.manual_seed(seed)\n",
    "    torch.backends.cudnn.deterministic = True\n",
    "\n",
    "seed_everything(1234)"
   ]
  },
  {
   "cell_type": "code",
   "execution_count": 42,
   "metadata": {},
   "outputs": [
    {
     "name": "stdout",
     "output_type": "stream",
     "text": [
      "cuda\n"
     ]
    }
   ],
   "source": [
    "device = 'cuda' if torch.cuda.is_available() else 'cpu'\n",
    "#device = 'cpu'\n",
    "print(device)"
   ]
  },
  {
   "cell_type": "markdown",
   "metadata": {},
   "source": [
    "### DataLoader"
   ]
  },
  {
   "cell_type": "code",
   "execution_count": 43,
   "metadata": {},
   "outputs": [],
   "source": [
    "MAX_LEN = 10\n",
    "\n",
    "class KDDDataset(Dataset):\n",
    "\n",
    "    def __init__(self, df, train_mode=True, transform=None):\n",
    "        self.df = df\n",
    "        #self.transform = transform\n",
    "        \n",
    "        \n",
    "    def __len__(self):\n",
    "        return len(self.df)\n",
    "\n",
    "    def __getitem__(self, idx):\n",
    "        row = self.df.iloc[idx]\n",
    "        \n",
    "        # box_areaの大きい順にソート\n",
    "        box_order = np.argsort(row.box_area)[::-1]\n",
    "        faetures_ordered = row.features[box_order, :][:MAX_LEN]\n",
    "        class_labels_ordered = row.class_labels[box_order][:MAX_LEN]\n",
    "        \n",
    "        features = pad_sequences([faetures_ordered.reshape(-1,)], maxlen=MAX_LEN*2048, padding='post')\n",
    "        class_labels = pad_sequences([class_labels_ordered.reshape(-1,)], maxlen=MAX_LEN, value=33, padding='post')\n",
    "        #features = np.concatenate([features, class_labels], axis=0)\n",
    "        \n",
    "        \n",
    "        # queryのw2vの平均\n",
    "#         query_vec = np.mean(model_w2v[row['query']], axis=0)\n",
    "        query_vec = row['query']\n",
    "        \n",
    "        return {\n",
    "                'features': torch.tensor(features, dtype=torch.float).squeeze(),\n",
    "                'class_labels': torch.tensor(class_labels, dtype=torch.long).squeeze(),\n",
    "                'query_vec': torch.tensor(query_vec, dtype=torch.float).squeeze(),\n",
    "        }"
   ]
  },
  {
   "cell_type": "code",
   "execution_count": 44,
   "metadata": {},
   "outputs": [],
   "source": [
    "def get_train_valid_loaders(df, batch_size=4, val_batch_size=4, ifold=0):\n",
    "\n",
    "    df = shuffle(df, random_state=1234)\n",
    "    \n",
    "    folds = GroupKFold(n_splits=5).split(X=df.query_id, groups=df.query_id)\n",
    "    for fold, (tr_idx, val_idx) in enumerate(folds):\n",
    "        if fold == ifold:\n",
    "            df_tr = df.iloc[tr_idx]\n",
    "            df_val = df.iloc[val_idx]\n",
    "            break\n",
    "\n",
    "    print('train', df_tr.shape)\n",
    "    print('valid', df_val.shape)\n",
    "\n",
    "    dataset_train = KDDDataset(df_tr, train_mode=True)\n",
    "    train_loader = DataLoader(dataset_train, batch_size=batch_size, shuffle=True, num_workers=0, drop_last=True)\n",
    "\n",
    "    dataset_valid = KDDDataset(df_val, train_mode=False)\n",
    "    valid_loader = DataLoader(dataset_valid, batch_size=val_batch_size, shuffle=False, num_workers=0, drop_last=False)\n",
    "\n",
    "    return train_loader, valid_loader\n",
    "\n",
    "\n",
    "# test_dataの場合（queryだけ与えられる場合は、別途書く）\n",
    "def get_test_loaders(df, batch_size=1):\n",
    "\n",
    "    dataset_test = KDDDataset(df, train_mode=False)\n",
    "    test_loader = DataLoader(dataset_test, batch_size=batch_size, shuffle=True, num_workers=0, drop_last=True)\n",
    "\n",
    "    return test_loader"
   ]
  },
  {
   "cell_type": "markdown",
   "metadata": {},
   "source": [
    "### Model\n",
    "- imageを処理するモデル\n",
    "    - featuresを処理する層\n",
    "    - class_labelsをembeddingする層\n",
    "- queryを処理するモデル"
   ]
  },
  {
   "cell_type": "code",
   "execution_count": 45,
   "metadata": {},
   "outputs": [],
   "source": [
    "DIM_FEATURES = 128"
   ]
  },
  {
   "cell_type": "code",
   "execution_count": 46,
   "metadata": {},
   "outputs": [],
   "source": [
    "class Model_Image(nn.Module):\n",
    "    def __init__(self):\n",
    "        super(Model_Image, self).__init__()\n",
    "        self.model_name = 'Model_images_01'\n",
    "        \n",
    "        self.fc_features = nn.Linear(MAX_LEN*2048, 512)\n",
    "        self.emb_class_labels = nn.Embedding(34, 8)\n",
    "        self.fc_concat = nn.Linear(512+8, DIM_FEATURES)\n",
    "        \n",
    "\n",
    "    def forward(self, features, class_labels):\n",
    "\n",
    "        out_features = F.relu(self.fc_features(features))\n",
    "        out_class_labels = F.relu(self.emb_class_labels(class_labels))        \n",
    "        out_class_labels = out_class_labels[:,0,:].squeeze()\n",
    "        \n",
    "        out_features = torch.cat([out_features, out_class_labels], dim=-1)\n",
    "        out_features = F.dropout(out_features, p=0.2, training=self.training)\n",
    "        \n",
    "        out_features = F.relu(self.fc_concat(out_features))\n",
    "\n",
    "        return out_features"
   ]
  },
  {
   "cell_type": "code",
   "execution_count": 47,
   "metadata": {},
   "outputs": [],
   "source": [
    "class Model_Query(nn.Module):\n",
    "    def __init__(self):\n",
    "        super(Model_Query, self).__init__()\n",
    "        self.model_name = 'Model_query_01'\n",
    "        \n",
    "        self.fc_query = nn.Linear(300, DIM_FEATURES)\n",
    "\n",
    "    def forward(self, query_vec):\n",
    "        \n",
    "        out_query = F.relu(self.fc_query(query_vec))\n",
    "\n",
    "        return out_query #.unsqueeze(2))"
   ]
  },
  {
   "cell_type": "markdown",
   "metadata": {},
   "source": [
    "### Loss function"
   ]
  },
  {
   "cell_type": "code",
   "execution_count": 48,
   "metadata": {},
   "outputs": [],
   "source": [
    "from pytorch_metric_learning import losses"
   ]
  },
  {
   "cell_type": "code",
   "execution_count": null,
   "metadata": {},
   "outputs": [],
   "source": []
  },
  {
   "cell_type": "markdown",
   "metadata": {},
   "source": [
    "### Training"
   ]
  },
  {
   "cell_type": "code",
   "execution_count": 49,
   "metadata": {},
   "outputs": [],
   "source": [
    "def train_model(train_loader, model_image, model_query, optimizer, criterion): #, scheduler):\n",
    "    model_image.train()\n",
    "    model_query.train()\n",
    "    avg_loss = 0.\n",
    "    for idx, batch in enumerate(tqdm(train_loader)):\n",
    "        features = batch['features'].to(device)\n",
    "        class_labels = batch['class_labels'].to(device)\n",
    "        query_vec = batch['query_vec'].to(device)\n",
    "        \n",
    "        out_image = model_image(features, class_labels)\n",
    "        out_query = model_query(query_vec)\n",
    "        out = torch.bmm(out_image.unsqueeze(1), out_query.unsqueeze(2))\n",
    "        loss = criterion(out, class_labels[:,0])        \n",
    "        loss.backward()\n",
    "        optimizer.step()\n",
    "        optimizer.zero_grad()\n",
    "        \n",
    "        avg_loss += loss.item() / len(train_loader)\n",
    "        del features, class_labels, query_vec, out_image, out_query, out, loss\n",
    "\n",
    "    torch.cuda.empty_cache()\n",
    "    gc.collect()\n",
    "    return avg_loss\n",
    "\n",
    "\n",
    "def valid_model(valid_loader, model_image, model_query):\n",
    "    model_image.eval()\n",
    "    model_query.eval()\n",
    "    avg_loss = 0.\n",
    "       \n",
    "    with torch.no_grad():\n",
    "        for idx, batch in enumerate(tqdm(valid_loader)):\n",
    "            features = batch['features'].to(device)\n",
    "            class_labels = batch['class_labels'].to(device)\n",
    "            query_vec = batch['query_vec'].to(device)\n",
    "            \n",
    "            out_image = model_image(features, class_labels)\n",
    "            out_query = model_query(query_vec)\n",
    "            out = torch.bmm(out_image.unsqueeze(1), out_query.unsqueeze(2))\n",
    "            loss = criterion(out, class_labels[:,0])\n",
    "            \n",
    "            avg_loss += loss.item() / len(valid_loader)\n",
    "            del features, class_labels, query_vec, out_image, out_query, out, loss\n",
    "        \n",
    "    torch.cuda.empty_cache()\n",
    "    gc.collect()\n",
    "    return avg_loss\n",
    "\n",
    "\n",
    "def test_model(test_loader, model_image, model_query):\n",
    "    model_image.eval()\n",
    "    model_query.eval()\n",
    "    \n",
    "    out_list = []   \n",
    "    with torch.no_grad():\n",
    "        for idx, batch in enumerate(tqdm(test_loader)):\n",
    "            features = batch['features'].to(device)\n",
    "            class_labels = batch['class_labels'].to(device)\n",
    "            query_vec = batch['query_vec'].to(device)\n",
    "            \n",
    "            out_image = model_image(features, class_labels)\n",
    "            out_query = model_query(query_vec)\n",
    "            out = torch.bmm(out_image.unsqueeze(1), out_query.unsqueeze(2))\n",
    "            out_list.append(out)\n",
    "            del features, class_labels, query_vec, out_image, out_query, out\n",
    "        \n",
    "    torch.cuda.empty_cache()\n",
    "    gc.collect()\n",
    "    return out_list"
   ]
  },
  {
   "cell_type": "code",
   "execution_count": 54,
   "metadata": {
    "scrolled": true
   },
   "outputs": [
    {
     "name": "stdout",
     "output_type": "stream",
     "text": [
      "---1-Fold---\n",
      "train (8000, 10)\n",
      "valid (2000, 10)\n"
     ]
    },
    {
     "data": {
      "application/vnd.jupyter.widget-view+json": {
       "model_id": "0d95525f07a0425ea86e0b7827405cf7",
       "version_major": 2,
       "version_minor": 0
      },
      "text/plain": [
       "HBox(children=(IntProgress(value=0, max=62), HTML(value='')))"
      ]
     },
     "metadata": {},
     "output_type": "display_data"
    },
    {
     "name": "stdout",
     "output_type": "stream",
     "text": [
      "\n"
     ]
    },
    {
     "data": {
      "application/vnd.jupyter.widget-view+json": {
       "model_id": "3202940ea0774013bcd69e86710a716d",
       "version_major": 2,
       "version_minor": 0
      },
      "text/plain": [
       "HBox(children=(IntProgress(value=0, max=16), HTML(value='')))"
      ]
     },
     "metadata": {},
     "output_type": "display_data"
    },
    {
     "name": "stdout",
     "output_type": "stream",
     "text": [
      "\n",
      "Epoch 1, train_loss: 0.10000000389352919, valid_loss: 0.10000000335276127, time: 9.894969701766968\n",
      "train (8000, 10)\n",
      "valid (2000, 10)\n"
     ]
    },
    {
     "data": {
      "application/vnd.jupyter.widget-view+json": {
       "model_id": "34ce7f3fdec34bcc9e5c26ac1ba684cb",
       "version_major": 2,
       "version_minor": 0
      },
      "text/plain": [
       "HBox(children=(IntProgress(value=0, max=62), HTML(value='')))"
      ]
     },
     "metadata": {},
     "output_type": "display_data"
    },
    {
     "name": "stdout",
     "output_type": "stream",
     "text": [
      "\n"
     ]
    },
    {
     "data": {
      "application/vnd.jupyter.widget-view+json": {
       "model_id": "8cbe03e5bc004b9c842e51c55676f7a1",
       "version_major": 2,
       "version_minor": 0
      },
      "text/plain": [
       "HBox(children=(IntProgress(value=0, max=16), HTML(value='')))"
      ]
     },
     "metadata": {},
     "output_type": "display_data"
    },
    {
     "name": "stdout",
     "output_type": "stream",
     "text": [
      "\n",
      "Epoch 2, train_loss: 0.15625030919909477, valid_loss: 0.3554464355111122, time: 9.798334121704102\n",
      "train (8000, 10)\n",
      "valid (2000, 10)\n"
     ]
    },
    {
     "data": {
      "application/vnd.jupyter.widget-view+json": {
       "model_id": "5ead34b0910741539e02f3545b3903b7",
       "version_major": 2,
       "version_minor": 0
      },
      "text/plain": [
       "HBox(children=(IntProgress(value=0, max=62), HTML(value='')))"
      ]
     },
     "metadata": {},
     "output_type": "display_data"
    },
    {
     "name": "stdout",
     "output_type": "stream",
     "text": [
      "\n"
     ]
    },
    {
     "data": {
      "application/vnd.jupyter.widget-view+json": {
       "model_id": "b99efe52c529476ba38cc05436e9118f",
       "version_major": 2,
       "version_minor": 0
      },
      "text/plain": [
       "HBox(children=(IntProgress(value=0, max=16), HTML(value='')))"
      ]
     },
     "metadata": {},
     "output_type": "display_data"
    },
    {
     "name": "stdout",
     "output_type": "stream",
     "text": [
      "\n",
      "Epoch 3, train_loss: 0.2836550253052865, valid_loss: 0.44021568074822426, time: 9.592749834060669\n",
      "train (8000, 10)\n",
      "valid (2000, 10)\n"
     ]
    },
    {
     "data": {
      "application/vnd.jupyter.widget-view+json": {
       "model_id": "b4bb84e851b44b7788639de133430892",
       "version_major": 2,
       "version_minor": 0
      },
      "text/plain": [
       "HBox(children=(IntProgress(value=0, max=62), HTML(value='')))"
      ]
     },
     "metadata": {},
     "output_type": "display_data"
    },
    {
     "name": "stdout",
     "output_type": "stream",
     "text": [
      "\n"
     ]
    },
    {
     "data": {
      "application/vnd.jupyter.widget-view+json": {
       "model_id": "c19aed58bb134900ba294f79a45d02b9",
       "version_major": 2,
       "version_minor": 0
      },
      "text/plain": [
       "HBox(children=(IntProgress(value=0, max=16), HTML(value='')))"
      ]
     },
     "metadata": {},
     "output_type": "display_data"
    },
    {
     "name": "stdout",
     "output_type": "stream",
     "text": [
      "\n",
      "Epoch 4, train_loss: 0.35061202126164587, valid_loss: 0.4367715250700712, time: 9.546502828598022\n",
      "train (8000, 10)\n",
      "valid (2000, 10)\n"
     ]
    },
    {
     "data": {
      "application/vnd.jupyter.widget-view+json": {
       "model_id": "df8d4d2054334c5faef8e7700568be1b",
       "version_major": 2,
       "version_minor": 0
      },
      "text/plain": [
       "HBox(children=(IntProgress(value=0, max=62), HTML(value='')))"
      ]
     },
     "metadata": {},
     "output_type": "display_data"
    },
    {
     "name": "stdout",
     "output_type": "stream",
     "text": [
      "\n"
     ]
    },
    {
     "data": {
      "application/vnd.jupyter.widget-view+json": {
       "model_id": "959b792d34eb4bf8a12037cd09a36deb",
       "version_major": 2,
       "version_minor": 0
      },
      "text/plain": [
       "HBox(children=(IntProgress(value=0, max=16), HTML(value='')))"
      ]
     },
     "metadata": {},
     "output_type": "display_data"
    },
    {
     "name": "stdout",
     "output_type": "stream",
     "text": [
      "\n",
      "Epoch 5, train_loss: 0.33713036631384197, valid_loss: 0.3818342871963978, time: 9.97608470916748\n",
      "train (8000, 10)\n",
      "valid (2000, 10)\n"
     ]
    },
    {
     "data": {
      "application/vnd.jupyter.widget-view+json": {
       "model_id": "9627a762435b44699cf3ea15a588698d",
       "version_major": 2,
       "version_minor": 0
      },
      "text/plain": [
       "HBox(children=(IntProgress(value=0, max=62), HTML(value='')))"
      ]
     },
     "metadata": {},
     "output_type": "display_data"
    },
    {
     "name": "stdout",
     "output_type": "stream",
     "text": [
      "\n"
     ]
    },
    {
     "data": {
      "application/vnd.jupyter.widget-view+json": {
       "model_id": "6eb3489ffc884327bb91e0635c841c39",
       "version_major": 2,
       "version_minor": 0
      },
      "text/plain": [
       "HBox(children=(IntProgress(value=0, max=16), HTML(value='')))"
      ]
     },
     "metadata": {},
     "output_type": "display_data"
    },
    {
     "name": "stdout",
     "output_type": "stream",
     "text": [
      "\n",
      "Epoch 6, train_loss: 0.33764447319892155, valid_loss: 0.144479526206851, time: 9.968189001083374\n",
      "train (8000, 10)\n",
      "valid (2000, 10)\n"
     ]
    },
    {
     "data": {
      "application/vnd.jupyter.widget-view+json": {
       "model_id": "f8df9c3197f4491f90fefeec0512ec19",
       "version_major": 2,
       "version_minor": 0
      },
      "text/plain": [
       "HBox(children=(IntProgress(value=0, max=62), HTML(value='')))"
      ]
     },
     "metadata": {},
     "output_type": "display_data"
    },
    {
     "name": "stdout",
     "output_type": "stream",
     "text": [
      "\n"
     ]
    },
    {
     "data": {
      "application/vnd.jupyter.widget-view+json": {
       "model_id": "75288fef33524b82968781cac6db7f5d",
       "version_major": 2,
       "version_minor": 0
      },
      "text/plain": [
       "HBox(children=(IntProgress(value=0, max=16), HTML(value='')))"
      ]
     },
     "metadata": {},
     "output_type": "display_data"
    },
    {
     "name": "stdout",
     "output_type": "stream",
     "text": [
      "\n",
      "Epoch 7, train_loss: 0.3304624259471893, valid_loss: 0.40463938750326633, time: 10.05180311203003\n",
      "train (8000, 10)\n",
      "valid (2000, 10)\n"
     ]
    },
    {
     "data": {
      "application/vnd.jupyter.widget-view+json": {
       "model_id": "5b5e48ed49d743d5bf2708c115c5c1ad",
       "version_major": 2,
       "version_minor": 0
      },
      "text/plain": [
       "HBox(children=(IntProgress(value=0, max=62), HTML(value='')))"
      ]
     },
     "metadata": {},
     "output_type": "display_data"
    },
    {
     "name": "stdout",
     "output_type": "stream",
     "text": [
      "\n"
     ]
    },
    {
     "data": {
      "application/vnd.jupyter.widget-view+json": {
       "model_id": "72cc848e206749f2b03c890be81d478f",
       "version_major": 2,
       "version_minor": 0
      },
      "text/plain": [
       "HBox(children=(IntProgress(value=0, max=16), HTML(value='')))"
      ]
     },
     "metadata": {},
     "output_type": "display_data"
    },
    {
     "name": "stdout",
     "output_type": "stream",
     "text": [
      "\n",
      "Epoch 8, train_loss: 0.35015420134990444, valid_loss: 0.407564977183938, time: 9.945722341537476\n",
      "train (8000, 10)\n",
      "valid (2000, 10)\n"
     ]
    },
    {
     "data": {
      "application/vnd.jupyter.widget-view+json": {
       "model_id": "aec90795ad184c43893ee02588e316ee",
       "version_major": 2,
       "version_minor": 0
      },
      "text/plain": [
       "HBox(children=(IntProgress(value=0, max=62), HTML(value='')))"
      ]
     },
     "metadata": {},
     "output_type": "display_data"
    },
    {
     "name": "stdout",
     "output_type": "stream",
     "text": [
      "\n"
     ]
    },
    {
     "data": {
      "application/vnd.jupyter.widget-view+json": {
       "model_id": "10610c796aaa4dbebc3085d2a4327653",
       "version_major": 2,
       "version_minor": 0
      },
      "text/plain": [
       "HBox(children=(IntProgress(value=0, max=16), HTML(value='')))"
      ]
     },
     "metadata": {},
     "output_type": "display_data"
    },
    {
     "name": "stdout",
     "output_type": "stream",
     "text": [
      "\n",
      "Epoch 9, train_loss: 0.31613971653484524, valid_loss: 0.3922626730054617, time: 9.89113998413086\n",
      "train (8000, 10)\n",
      "valid (2000, 10)\n"
     ]
    },
    {
     "data": {
      "application/vnd.jupyter.widget-view+json": {
       "model_id": "0ff3a79ec859445ebf5abfb3cad044c6",
       "version_major": 2,
       "version_minor": 0
      },
      "text/plain": [
       "HBox(children=(IntProgress(value=0, max=62), HTML(value='')))"
      ]
     },
     "metadata": {},
     "output_type": "display_data"
    },
    {
     "name": "stdout",
     "output_type": "stream",
     "text": [
      "\n"
     ]
    },
    {
     "data": {
      "application/vnd.jupyter.widget-view+json": {
       "model_id": "dce823f5e6844d61bab70ca3eab6c885",
       "version_major": 2,
       "version_minor": 0
      },
      "text/plain": [
       "HBox(children=(IntProgress(value=0, max=16), HTML(value='')))"
      ]
     },
     "metadata": {},
     "output_type": "display_data"
    },
    {
     "name": "stdout",
     "output_type": "stream",
     "text": [
      "\n",
      "Epoch 10, train_loss: 0.3586899171913825, valid_loss: 0.41762810945510864, time: 9.728135824203491\n",
      "train (8000, 10)\n",
      "valid (2000, 10)\n"
     ]
    },
    {
     "data": {
      "application/vnd.jupyter.widget-view+json": {
       "model_id": "7ab83297e4a4409cb4df2904536813a2",
       "version_major": 2,
       "version_minor": 0
      },
      "text/plain": [
       "HBox(children=(IntProgress(value=0, max=62), HTML(value='')))"
      ]
     },
     "metadata": {},
     "output_type": "display_data"
    },
    {
     "name": "stdout",
     "output_type": "stream",
     "text": [
      "\n"
     ]
    },
    {
     "data": {
      "application/vnd.jupyter.widget-view+json": {
       "model_id": "62a7679f1a7f4df29db58156ba6ddcf8",
       "version_major": 2,
       "version_minor": 0
      },
      "text/plain": [
       "HBox(children=(IntProgress(value=0, max=16), HTML(value='')))"
      ]
     },
     "metadata": {},
     "output_type": "display_data"
    },
    {
     "name": "stdout",
     "output_type": "stream",
     "text": [
      "\n",
      "Epoch 11, train_loss: 0.28601512120616057, valid_loss: 0.3694971352815628, time: 9.698105573654175\n",
      "train (8000, 10)\n",
      "valid (2000, 10)\n"
     ]
    },
    {
     "data": {
      "application/vnd.jupyter.widget-view+json": {
       "model_id": "eba6a3db7cf94478976e2eebd11d6452",
       "version_major": 2,
       "version_minor": 0
      },
      "text/plain": [
       "HBox(children=(IntProgress(value=0, max=62), HTML(value='')))"
      ]
     },
     "metadata": {},
     "output_type": "display_data"
    },
    {
     "name": "stdout",
     "output_type": "stream",
     "text": [
      "\n"
     ]
    },
    {
     "data": {
      "application/vnd.jupyter.widget-view+json": {
       "model_id": "6c23abb083b44903b4f101cab37966df",
       "version_major": 2,
       "version_minor": 0
      },
      "text/plain": [
       "HBox(children=(IntProgress(value=0, max=16), HTML(value='')))"
      ]
     },
     "metadata": {},
     "output_type": "display_data"
    },
    {
     "name": "stdout",
     "output_type": "stream",
     "text": [
      "\n",
      "Epoch 12, train_loss: 0.34578361770799093, valid_loss: 0.3838961608707905, time: 9.808138608932495\n",
      "train (8000, 10)\n",
      "valid (2000, 10)\n"
     ]
    },
    {
     "data": {
      "application/vnd.jupyter.widget-view+json": {
       "model_id": "fdc219998ccc489ba0622d811a763f18",
       "version_major": 2,
       "version_minor": 0
      },
      "text/plain": [
       "HBox(children=(IntProgress(value=0, max=62), HTML(value='')))"
      ]
     },
     "metadata": {},
     "output_type": "display_data"
    },
    {
     "name": "stdout",
     "output_type": "stream",
     "text": [
      "\n"
     ]
    },
    {
     "data": {
      "application/vnd.jupyter.widget-view+json": {
       "model_id": "9e963b9b0b8a403297bbfc6bd1c90b66",
       "version_major": 2,
       "version_minor": 0
      },
      "text/plain": [
       "HBox(children=(IntProgress(value=0, max=16), HTML(value='')))"
      ]
     },
     "metadata": {},
     "output_type": "display_data"
    },
    {
     "name": "stdout",
     "output_type": "stream",
     "text": [
      "\n",
      "Epoch 13, train_loss: 0.3453690594723148, valid_loss: 0.34345562383532524, time: 9.674414873123169\n",
      "train (8000, 10)\n",
      "valid (2000, 10)\n"
     ]
    },
    {
     "data": {
      "application/vnd.jupyter.widget-view+json": {
       "model_id": "c43600206a354dd0adfcfa1cf59ef16d",
       "version_major": 2,
       "version_minor": 0
      },
      "text/plain": [
       "HBox(children=(IntProgress(value=0, max=62), HTML(value='')))"
      ]
     },
     "metadata": {},
     "output_type": "display_data"
    },
    {
     "name": "stdout",
     "output_type": "stream",
     "text": [
      "\n"
     ]
    },
    {
     "data": {
      "application/vnd.jupyter.widget-view+json": {
       "model_id": "ff2dc55feb3a485d81815aa0fc640729",
       "version_major": 2,
       "version_minor": 0
      },
      "text/plain": [
       "HBox(children=(IntProgress(value=0, max=16), HTML(value='')))"
      ]
     },
     "metadata": {},
     "output_type": "display_data"
    },
    {
     "name": "stdout",
     "output_type": "stream",
     "text": [
      "\n",
      "Epoch 14, train_loss: 0.25352799255521075, valid_loss: 0.19952130131423473, time: 9.588632822036743\n",
      "train (8000, 10)\n",
      "valid (2000, 10)\n"
     ]
    },
    {
     "data": {
      "application/vnd.jupyter.widget-view+json": {
       "model_id": "48ac0eb33381463ca1b9ba9b9208a51f",
       "version_major": 2,
       "version_minor": 0
      },
      "text/plain": [
       "HBox(children=(IntProgress(value=0, max=62), HTML(value='')))"
      ]
     },
     "metadata": {},
     "output_type": "display_data"
    },
    {
     "name": "stdout",
     "output_type": "stream",
     "text": [
      "\n"
     ]
    },
    {
     "data": {
      "application/vnd.jupyter.widget-view+json": {
       "model_id": "8b23633da4894bc29fac76649599a215",
       "version_major": 2,
       "version_minor": 0
      },
      "text/plain": [
       "HBox(children=(IntProgress(value=0, max=16), HTML(value='')))"
      ]
     },
     "metadata": {},
     "output_type": "display_data"
    },
    {
     "name": "stdout",
     "output_type": "stream",
     "text": [
      "\n",
      "Epoch 15, train_loss: 0.29596766180569123, valid_loss: 0.3922129813581705, time: 9.577325105667114\n",
      "train (8000, 10)\n",
      "valid (2000, 10)\n"
     ]
    },
    {
     "data": {
      "application/vnd.jupyter.widget-view+json": {
       "model_id": "a206bc25053e4849b21461e8b729a90b",
       "version_major": 2,
       "version_minor": 0
      },
      "text/plain": [
       "HBox(children=(IntProgress(value=0, max=62), HTML(value='')))"
      ]
     },
     "metadata": {},
     "output_type": "display_data"
    },
    {
     "name": "stdout",
     "output_type": "stream",
     "text": [
      "\n"
     ]
    },
    {
     "data": {
      "application/vnd.jupyter.widget-view+json": {
       "model_id": "32a196c062e24491997095ddeb0d6dd9",
       "version_major": 2,
       "version_minor": 0
      },
      "text/plain": [
       "HBox(children=(IntProgress(value=0, max=16), HTML(value='')))"
      ]
     },
     "metadata": {},
     "output_type": "display_data"
    },
    {
     "name": "stdout",
     "output_type": "stream",
     "text": [
      "\n",
      "Epoch 16, train_loss: 0.3314846037856995, valid_loss: 0.3798914924263954, time: 9.615152835845947\n",
      "train (8000, 10)\n",
      "valid (2000, 10)\n"
     ]
    },
    {
     "data": {
      "application/vnd.jupyter.widget-view+json": {
       "model_id": "fa9b8739e1de44278b1afe22f7d182a6",
       "version_major": 2,
       "version_minor": 0
      },
      "text/plain": [
       "HBox(children=(IntProgress(value=0, max=62), HTML(value='')))"
      ]
     },
     "metadata": {},
     "output_type": "display_data"
    },
    {
     "name": "stdout",
     "output_type": "stream",
     "text": [
      "\n"
     ]
    },
    {
     "data": {
      "application/vnd.jupyter.widget-view+json": {
       "model_id": "3ae4846b375347caa6b5939af3ca035f",
       "version_major": 2,
       "version_minor": 0
      },
      "text/plain": [
       "HBox(children=(IntProgress(value=0, max=16), HTML(value='')))"
      ]
     },
     "metadata": {},
     "output_type": "display_data"
    },
    {
     "name": "stdout",
     "output_type": "stream",
     "text": [
      "\n",
      "Epoch 17, train_loss: 0.35153806113427677, valid_loss: 0.3717260845005512, time: 9.719721794128418\n",
      "train (8000, 10)\n",
      "valid (2000, 10)\n"
     ]
    },
    {
     "data": {
      "application/vnd.jupyter.widget-view+json": {
       "model_id": "e70f14239f824d0383359f41ae3e64ab",
       "version_major": 2,
       "version_minor": 0
      },
      "text/plain": [
       "HBox(children=(IntProgress(value=0, max=62), HTML(value='')))"
      ]
     },
     "metadata": {},
     "output_type": "display_data"
    },
    {
     "name": "stdout",
     "output_type": "stream",
     "text": [
      "\n"
     ]
    },
    {
     "data": {
      "application/vnd.jupyter.widget-view+json": {
       "model_id": "2e60fcb554ae497d8dcbeed1497b8806",
       "version_major": 2,
       "version_minor": 0
      },
      "text/plain": [
       "HBox(children=(IntProgress(value=0, max=16), HTML(value='')))"
      ]
     },
     "metadata": {},
     "output_type": "display_data"
    },
    {
     "name": "stdout",
     "output_type": "stream",
     "text": [
      "\n",
      "Epoch 18, train_loss: 0.34990084171295155, valid_loss: 0.3883987106382847, time: 9.600741863250732\n",
      "train (8000, 10)\n",
      "valid (2000, 10)\n"
     ]
    },
    {
     "data": {
      "application/vnd.jupyter.widget-view+json": {
       "model_id": "0b3352b626ce4a609f11b16682772536",
       "version_major": 2,
       "version_minor": 0
      },
      "text/plain": [
       "HBox(children=(IntProgress(value=0, max=62), HTML(value='')))"
      ]
     },
     "metadata": {},
     "output_type": "display_data"
    },
    {
     "name": "stdout",
     "output_type": "stream",
     "text": [
      "\n"
     ]
    },
    {
     "data": {
      "application/vnd.jupyter.widget-view+json": {
       "model_id": "9796ad7d3f7b4589af493b68f0c8b23f",
       "version_major": 2,
       "version_minor": 0
      },
      "text/plain": [
       "HBox(children=(IntProgress(value=0, max=16), HTML(value='')))"
      ]
     },
     "metadata": {},
     "output_type": "display_data"
    },
    {
     "name": "stdout",
     "output_type": "stream",
     "text": [
      "\n",
      "Epoch 19, train_loss: 0.3301114101083048, valid_loss: 0.3104279153048992, time: 9.495662212371826\n",
      "train (8000, 10)\n",
      "valid (2000, 10)\n"
     ]
    },
    {
     "data": {
      "application/vnd.jupyter.widget-view+json": {
       "model_id": "529701feb33b433fa4dec0ce5a72a411",
       "version_major": 2,
       "version_minor": 0
      },
      "text/plain": [
       "HBox(children=(IntProgress(value=0, max=62), HTML(value='')))"
      ]
     },
     "metadata": {},
     "output_type": "display_data"
    },
    {
     "name": "stdout",
     "output_type": "stream",
     "text": [
      "\n"
     ]
    },
    {
     "data": {
      "application/vnd.jupyter.widget-view+json": {
       "model_id": "dc893cfd539842bb8f4bf85fe35c0bc3",
       "version_major": 2,
       "version_minor": 0
      },
      "text/plain": [
       "HBox(children=(IntProgress(value=0, max=16), HTML(value='')))"
      ]
     },
     "metadata": {},
     "output_type": "display_data"
    },
    {
     "name": "stdout",
     "output_type": "stream",
     "text": [
      "\n",
      "Epoch 20, train_loss: 0.3428069093535022, valid_loss: 0.3981676585972309, time: 9.515504598617554\n",
      "---2-Fold---\n",
      "train (8000, 10)\n",
      "valid (2000, 10)\n"
     ]
    },
    {
     "data": {
      "application/vnd.jupyter.widget-view+json": {
       "model_id": "4d07df28f72c4c589077801327714775",
       "version_major": 2,
       "version_minor": 0
      },
      "text/plain": [
       "HBox(children=(IntProgress(value=0, max=62), HTML(value='')))"
      ]
     },
     "metadata": {},
     "output_type": "display_data"
    },
    {
     "name": "stdout",
     "output_type": "stream",
     "text": [
      "\n"
     ]
    },
    {
     "data": {
      "application/vnd.jupyter.widget-view+json": {
       "model_id": "d8d96376dee1477890cc1f819e39392a",
       "version_major": 2,
       "version_minor": 0
      },
      "text/plain": [
       "HBox(children=(IntProgress(value=0, max=16), HTML(value='')))"
      ]
     },
     "metadata": {},
     "output_type": "display_data"
    },
    {
     "name": "stdout",
     "output_type": "stream",
     "text": [
      "\n",
      "Epoch 1, train_loss: 0.10283458028589523, valid_loss: 0.13652641233056784, time: 9.499303817749023\n",
      "train (8000, 10)\n",
      "valid (2000, 10)\n"
     ]
    },
    {
     "data": {
      "application/vnd.jupyter.widget-view+json": {
       "model_id": "3ec4b8d92e524a7c9c003b1f60df1ab4",
       "version_major": 2,
       "version_minor": 0
      },
      "text/plain": [
       "HBox(children=(IntProgress(value=0, max=62), HTML(value='')))"
      ]
     },
     "metadata": {},
     "output_type": "display_data"
    },
    {
     "name": "stdout",
     "output_type": "stream",
     "text": [
      "\n"
     ]
    },
    {
     "data": {
      "application/vnd.jupyter.widget-view+json": {
       "model_id": "e8b61b4ea8684fdcbd2165dd5e16e2a3",
       "version_major": 2,
       "version_minor": 0
      },
      "text/plain": [
       "HBox(children=(IntProgress(value=0, max=16), HTML(value='')))"
      ]
     },
     "metadata": {},
     "output_type": "display_data"
    },
    {
     "name": "stdout",
     "output_type": "stream",
     "text": [
      "\n",
      "Epoch 2, train_loss: 0.17164768783315537, valid_loss: 0.3387175723910332, time: 9.497533082962036\n",
      "train (8000, 10)\n",
      "valid (2000, 10)\n"
     ]
    },
    {
     "data": {
      "application/vnd.jupyter.widget-view+json": {
       "model_id": "1bcbdf3ecf354154b4ef1c96cd7dc8b0",
       "version_major": 2,
       "version_minor": 0
      },
      "text/plain": [
       "HBox(children=(IntProgress(value=0, max=62), HTML(value='')))"
      ]
     },
     "metadata": {},
     "output_type": "display_data"
    },
    {
     "name": "stdout",
     "output_type": "stream",
     "text": [
      "\n"
     ]
    },
    {
     "data": {
      "application/vnd.jupyter.widget-view+json": {
       "model_id": "dffe381f2a3b41a6bb50322dbed35e69",
       "version_major": 2,
       "version_minor": 0
      },
      "text/plain": [
       "HBox(children=(IntProgress(value=0, max=16), HTML(value='')))"
      ]
     },
     "metadata": {},
     "output_type": "display_data"
    },
    {
     "name": "stdout",
     "output_type": "stream",
     "text": [
      "\n",
      "Epoch 3, train_loss: 0.26848799374795734, valid_loss: 0.37411487475037575, time: 9.496043682098389\n",
      "train (8000, 10)\n",
      "valid (2000, 10)\n"
     ]
    },
    {
     "data": {
      "application/vnd.jupyter.widget-view+json": {
       "model_id": "b8035ba29e914ee3ac5d6f8ee7ff2287",
       "version_major": 2,
       "version_minor": 0
      },
      "text/plain": [
       "HBox(children=(IntProgress(value=0, max=62), HTML(value='')))"
      ]
     },
     "metadata": {},
     "output_type": "display_data"
    },
    {
     "name": "stdout",
     "output_type": "stream",
     "text": [
      "\n"
     ]
    },
    {
     "data": {
      "application/vnd.jupyter.widget-view+json": {
       "model_id": "3deadb36f1cf45e48db0b3d7984edd31",
       "version_major": 2,
       "version_minor": 0
      },
      "text/plain": [
       "HBox(children=(IntProgress(value=0, max=16), HTML(value='')))"
      ]
     },
     "metadata": {},
     "output_type": "display_data"
    },
    {
     "name": "stdout",
     "output_type": "stream",
     "text": [
      "\n",
      "Epoch 4, train_loss: 0.3374542632410603, valid_loss: 0.3537289425730705, time: 9.440994262695312\n",
      "train (8000, 10)\n",
      "valid (2000, 10)\n"
     ]
    },
    {
     "data": {
      "application/vnd.jupyter.widget-view+json": {
       "model_id": "a4f9697742694a34ae6eb6d09ecc464b",
       "version_major": 2,
       "version_minor": 0
      },
      "text/plain": [
       "HBox(children=(IntProgress(value=0, max=62), HTML(value='')))"
      ]
     },
     "metadata": {},
     "output_type": "display_data"
    },
    {
     "name": "stdout",
     "output_type": "stream",
     "text": [
      "\n"
     ]
    },
    {
     "data": {
      "application/vnd.jupyter.widget-view+json": {
       "model_id": "5b08f0874caa4545aa13d765567650c9",
       "version_major": 2,
       "version_minor": 0
      },
      "text/plain": [
       "HBox(children=(IntProgress(value=0, max=16), HTML(value='')))"
      ]
     },
     "metadata": {},
     "output_type": "display_data"
    },
    {
     "name": "stdout",
     "output_type": "stream",
     "text": [
      "\n",
      "Epoch 5, train_loss: 0.30491350134534223, valid_loss: 0.3905343133956194, time: 9.469789981842041\n",
      "train (8000, 10)\n",
      "valid (2000, 10)\n"
     ]
    },
    {
     "data": {
      "application/vnd.jupyter.widget-view+json": {
       "model_id": "da085ff727e14734a51ef730707b45e4",
       "version_major": 2,
       "version_minor": 0
      },
      "text/plain": [
       "HBox(children=(IntProgress(value=0, max=62), HTML(value='')))"
      ]
     },
     "metadata": {},
     "output_type": "display_data"
    },
    {
     "name": "stdout",
     "output_type": "stream",
     "text": [
      "\n"
     ]
    },
    {
     "data": {
      "application/vnd.jupyter.widget-view+json": {
       "model_id": "65b34f6434cb4703bb054bf49138270c",
       "version_major": 2,
       "version_minor": 0
      },
      "text/plain": [
       "HBox(children=(IntProgress(value=0, max=16), HTML(value='')))"
      ]
     },
     "metadata": {},
     "output_type": "display_data"
    },
    {
     "name": "stdout",
     "output_type": "stream",
     "text": [
      "\n",
      "Epoch 6, train_loss: 0.34017963443071597, valid_loss: 0.39895270206034184, time: 9.490236759185791\n",
      "train (8000, 10)\n",
      "valid (2000, 10)\n"
     ]
    },
    {
     "data": {
      "application/vnd.jupyter.widget-view+json": {
       "model_id": "2c43021a03484b76ae0b198e73e05330",
       "version_major": 2,
       "version_minor": 0
      },
      "text/plain": [
       "HBox(children=(IntProgress(value=0, max=62), HTML(value='')))"
      ]
     },
     "metadata": {},
     "output_type": "display_data"
    },
    {
     "name": "stdout",
     "output_type": "stream",
     "text": [
      "\n"
     ]
    },
    {
     "data": {
      "application/vnd.jupyter.widget-view+json": {
       "model_id": "955fb5c5c9624551bafe5dfb27b53bbf",
       "version_major": 2,
       "version_minor": 0
      },
      "text/plain": [
       "HBox(children=(IntProgress(value=0, max=16), HTML(value='')))"
      ]
     },
     "metadata": {},
     "output_type": "display_data"
    },
    {
     "name": "stdout",
     "output_type": "stream",
     "text": [
      "\n",
      "Epoch 7, train_loss: 0.35308204615308403, valid_loss: 0.40200325101614, time: 9.491901397705078\n",
      "train (8000, 10)\n",
      "valid (2000, 10)\n"
     ]
    },
    {
     "data": {
      "application/vnd.jupyter.widget-view+json": {
       "model_id": "806760163d20424b8ba416067c9682b0",
       "version_major": 2,
       "version_minor": 0
      },
      "text/plain": [
       "HBox(children=(IntProgress(value=0, max=62), HTML(value='')))"
      ]
     },
     "metadata": {},
     "output_type": "display_data"
    },
    {
     "name": "stdout",
     "output_type": "stream",
     "text": [
      "\n"
     ]
    },
    {
     "data": {
      "application/vnd.jupyter.widget-view+json": {
       "model_id": "752cd1857ea042ddb27346bbcc5c5539",
       "version_major": 2,
       "version_minor": 0
      },
      "text/plain": [
       "HBox(children=(IntProgress(value=0, max=16), HTML(value='')))"
      ]
     },
     "metadata": {},
     "output_type": "display_data"
    },
    {
     "name": "stdout",
     "output_type": "stream",
     "text": [
      "\n",
      "Epoch 8, train_loss: 0.35571167401729087, valid_loss: 0.3567076288163662, time: 9.56797170639038\n",
      "train (8000, 10)\n",
      "valid (2000, 10)\n"
     ]
    },
    {
     "data": {
      "application/vnd.jupyter.widget-view+json": {
       "model_id": "8788be8aef3b49c99b0b8d60cf2532d3",
       "version_major": 2,
       "version_minor": 0
      },
      "text/plain": [
       "HBox(children=(IntProgress(value=0, max=62), HTML(value='')))"
      ]
     },
     "metadata": {},
     "output_type": "display_data"
    },
    {
     "name": "stdout",
     "output_type": "stream",
     "text": [
      "\n"
     ]
    },
    {
     "data": {
      "application/vnd.jupyter.widget-view+json": {
       "model_id": "239fe6498cdc4b67bada712e75bb5c32",
       "version_major": 2,
       "version_minor": 0
      },
      "text/plain": [
       "HBox(children=(IntProgress(value=0, max=16), HTML(value='')))"
      ]
     },
     "metadata": {},
     "output_type": "display_data"
    },
    {
     "name": "stdout",
     "output_type": "stream",
     "text": [
      "\n",
      "Epoch 9, train_loss: 0.3554535416826126, valid_loss: 0.4057129379361868, time: 9.526089906692505\n",
      "train (8000, 10)\n",
      "valid (2000, 10)\n"
     ]
    },
    {
     "data": {
      "application/vnd.jupyter.widget-view+json": {
       "model_id": "cce703da33a740ccb169759ac9f6deed",
       "version_major": 2,
       "version_minor": 0
      },
      "text/plain": [
       "HBox(children=(IntProgress(value=0, max=62), HTML(value='')))"
      ]
     },
     "metadata": {},
     "output_type": "display_data"
    },
    {
     "name": "stdout",
     "output_type": "stream",
     "text": [
      "\n"
     ]
    },
    {
     "data": {
      "application/vnd.jupyter.widget-view+json": {
       "model_id": "3d7b34776c1b4698a00a970cece4c52b",
       "version_major": 2,
       "version_minor": 0
      },
      "text/plain": [
       "HBox(children=(IntProgress(value=0, max=16), HTML(value='')))"
      ]
     },
     "metadata": {},
     "output_type": "display_data"
    },
    {
     "name": "stdout",
     "output_type": "stream",
     "text": [
      "\n",
      "Epoch 10, train_loss: 0.35954900133994316, valid_loss: 0.35431715473532677, time: 9.45869255065918\n",
      "train (8000, 10)\n",
      "valid (2000, 10)\n"
     ]
    },
    {
     "data": {
      "application/vnd.jupyter.widget-view+json": {
       "model_id": "d4fb0afe426a4278831565aed0f4df03",
       "version_major": 2,
       "version_minor": 0
      },
      "text/plain": [
       "HBox(children=(IntProgress(value=0, max=62), HTML(value='')))"
      ]
     },
     "metadata": {},
     "output_type": "display_data"
    },
    {
     "name": "stdout",
     "output_type": "stream",
     "text": [
      "\n"
     ]
    },
    {
     "data": {
      "application/vnd.jupyter.widget-view+json": {
       "model_id": "53857469b1694d9a9831e015539342a1",
       "version_major": 2,
       "version_minor": 0
      },
      "text/plain": [
       "HBox(children=(IntProgress(value=0, max=16), HTML(value='')))"
      ]
     },
     "metadata": {},
     "output_type": "display_data"
    },
    {
     "name": "stdout",
     "output_type": "stream",
     "text": [
      "\n",
      "Epoch 11, train_loss: 0.3362245838488302, valid_loss: 0.36760167591273785, time: 9.5061674118042\n",
      "train (8000, 10)\n",
      "valid (2000, 10)\n"
     ]
    },
    {
     "data": {
      "application/vnd.jupyter.widget-view+json": {
       "model_id": "d3a990e3771e41eabc7642ae26f405f0",
       "version_major": 2,
       "version_minor": 0
      },
      "text/plain": [
       "HBox(children=(IntProgress(value=0, max=62), HTML(value='')))"
      ]
     },
     "metadata": {},
     "output_type": "display_data"
    },
    {
     "name": "stdout",
     "output_type": "stream",
     "text": [
      "\n"
     ]
    },
    {
     "data": {
      "application/vnd.jupyter.widget-view+json": {
       "model_id": "297a533a1f484f4a869fb96c08c69904",
       "version_major": 2,
       "version_minor": 0
      },
      "text/plain": [
       "HBox(children=(IntProgress(value=0, max=16), HTML(value='')))"
      ]
     },
     "metadata": {},
     "output_type": "display_data"
    },
    {
     "name": "stdout",
     "output_type": "stream",
     "text": [
      "\n",
      "Epoch 12, train_loss: 0.35531186288402933, valid_loss: 0.3788834325969219, time: 9.49630880355835\n",
      "train (8000, 10)\n",
      "valid (2000, 10)\n"
     ]
    },
    {
     "data": {
      "application/vnd.jupyter.widget-view+json": {
       "model_id": "93cb20a7ebd64637b26074eb01713425",
       "version_major": 2,
       "version_minor": 0
      },
      "text/plain": [
       "HBox(children=(IntProgress(value=0, max=62), HTML(value='')))"
      ]
     },
     "metadata": {},
     "output_type": "display_data"
    },
    {
     "name": "stdout",
     "output_type": "stream",
     "text": [
      "\n"
     ]
    },
    {
     "data": {
      "application/vnd.jupyter.widget-view+json": {
       "model_id": "8f9ba879ed46427e9a73800d88291aa3",
       "version_major": 2,
       "version_minor": 0
      },
      "text/plain": [
       "HBox(children=(IntProgress(value=0, max=16), HTML(value='')))"
      ]
     },
     "metadata": {},
     "output_type": "display_data"
    },
    {
     "name": "stdout",
     "output_type": "stream",
     "text": [
      "\n",
      "Epoch 13, train_loss: 0.351066421116552, valid_loss: 0.349977221339941, time: 9.470595121383667\n",
      "train (8000, 10)\n",
      "valid (2000, 10)\n"
     ]
    },
    {
     "data": {
      "application/vnd.jupyter.widget-view+json": {
       "model_id": "39d95e9a03d1495f8f6bbcc73b8acbf1",
       "version_major": 2,
       "version_minor": 0
      },
      "text/plain": [
       "HBox(children=(IntProgress(value=0, max=62), HTML(value='')))"
      ]
     },
     "metadata": {},
     "output_type": "display_data"
    },
    {
     "name": "stdout",
     "output_type": "stream",
     "text": [
      "\n"
     ]
    },
    {
     "data": {
      "application/vnd.jupyter.widget-view+json": {
       "model_id": "96cec7fc245f4d72ab48f31af2856fdc",
       "version_major": 2,
       "version_minor": 0
      },
      "text/plain": [
       "HBox(children=(IntProgress(value=0, max=16), HTML(value='')))"
      ]
     },
     "metadata": {},
     "output_type": "display_data"
    },
    {
     "name": "stdout",
     "output_type": "stream",
     "text": [
      "\n",
      "Epoch 14, train_loss: 0.35288641000947635, valid_loss: 0.41131073981523514, time: 9.49416732788086\n",
      "train (8000, 10)\n",
      "valid (2000, 10)\n"
     ]
    },
    {
     "data": {
      "application/vnd.jupyter.widget-view+json": {
       "model_id": "cc128fb779dc43589afa9d2bd9f46a27",
       "version_major": 2,
       "version_minor": 0
      },
      "text/plain": [
       "HBox(children=(IntProgress(value=0, max=62), HTML(value='')))"
      ]
     },
     "metadata": {},
     "output_type": "display_data"
    },
    {
     "name": "stdout",
     "output_type": "stream",
     "text": [
      "\n"
     ]
    },
    {
     "data": {
      "application/vnd.jupyter.widget-view+json": {
       "model_id": "d9d67de934fe40d0aa5abedbe06a0a77",
       "version_major": 2,
       "version_minor": 0
      },
      "text/plain": [
       "HBox(children=(IntProgress(value=0, max=16), HTML(value='')))"
      ]
     },
     "metadata": {},
     "output_type": "display_data"
    },
    {
     "name": "stdout",
     "output_type": "stream",
     "text": [
      "\n",
      "Epoch 15, train_loss: 0.35911897449724123, valid_loss: 0.35936612635850906, time: 9.484270334243774\n",
      "train (8000, 10)\n",
      "valid (2000, 10)\n"
     ]
    },
    {
     "data": {
      "application/vnd.jupyter.widget-view+json": {
       "model_id": "8cda65ac48674a26861e98f899d667da",
       "version_major": 2,
       "version_minor": 0
      },
      "text/plain": [
       "HBox(children=(IntProgress(value=0, max=62), HTML(value='')))"
      ]
     },
     "metadata": {},
     "output_type": "display_data"
    },
    {
     "name": "stdout",
     "output_type": "stream",
     "text": [
      "\n"
     ]
    },
    {
     "data": {
      "application/vnd.jupyter.widget-view+json": {
       "model_id": "9df2645be38e4ce1bf1eb183238fed0b",
       "version_major": 2,
       "version_minor": 0
      },
      "text/plain": [
       "HBox(children=(IntProgress(value=0, max=16), HTML(value='')))"
      ]
     },
     "metadata": {},
     "output_type": "display_data"
    },
    {
     "name": "stdout",
     "output_type": "stream",
     "text": [
      "\n",
      "Epoch 16, train_loss: 0.356497480984657, valid_loss: 0.3699544910341501, time: 9.463443994522095\n",
      "train (8000, 10)\n",
      "valid (2000, 10)\n"
     ]
    },
    {
     "data": {
      "application/vnd.jupyter.widget-view+json": {
       "model_id": "5caa50e6f12a48e1916e6cfbc9d26c49",
       "version_major": 2,
       "version_minor": 0
      },
      "text/plain": [
       "HBox(children=(IntProgress(value=0, max=62), HTML(value='')))"
      ]
     },
     "metadata": {},
     "output_type": "display_data"
    },
    {
     "name": "stdout",
     "output_type": "stream",
     "text": [
      "\n"
     ]
    },
    {
     "data": {
      "application/vnd.jupyter.widget-view+json": {
       "model_id": "c0f8d24a63de478dab86dbc0b4cc1931",
       "version_major": 2,
       "version_minor": 0
      },
      "text/plain": [
       "HBox(children=(IntProgress(value=0, max=16), HTML(value='')))"
      ]
     },
     "metadata": {},
     "output_type": "display_data"
    },
    {
     "name": "stdout",
     "output_type": "stream",
     "text": [
      "\n",
      "Epoch 17, train_loss: 0.3218978451144311, valid_loss: 0.3720988351851702, time: 9.501855850219727\n",
      "train (8000, 10)\n",
      "valid (2000, 10)\n"
     ]
    },
    {
     "data": {
      "application/vnd.jupyter.widget-view+json": {
       "model_id": "56426473fb4c47acbfc44740ca051c5b",
       "version_major": 2,
       "version_minor": 0
      },
      "text/plain": [
       "HBox(children=(IntProgress(value=0, max=62), HTML(value='')))"
      ]
     },
     "metadata": {},
     "output_type": "display_data"
    },
    {
     "name": "stdout",
     "output_type": "stream",
     "text": [
      "\n"
     ]
    },
    {
     "data": {
      "application/vnd.jupyter.widget-view+json": {
       "model_id": "b678abf681c740079375872c9dee0ce8",
       "version_major": 2,
       "version_minor": 0
      },
      "text/plain": [
       "HBox(children=(IntProgress(value=0, max=16), HTML(value='')))"
      ]
     },
     "metadata": {},
     "output_type": "display_data"
    },
    {
     "name": "stdout",
     "output_type": "stream",
     "text": [
      "\n",
      "Epoch 18, train_loss: 0.362872276094652, valid_loss: 0.36030145175755024, time: 9.48055100440979\n",
      "train (8000, 10)\n",
      "valid (2000, 10)\n"
     ]
    },
    {
     "data": {
      "application/vnd.jupyter.widget-view+json": {
       "model_id": "40a4c956b6a44161860f0d5bea61fd38",
       "version_major": 2,
       "version_minor": 0
      },
      "text/plain": [
       "HBox(children=(IntProgress(value=0, max=62), HTML(value='')))"
      ]
     },
     "metadata": {},
     "output_type": "display_data"
    },
    {
     "name": "stdout",
     "output_type": "stream",
     "text": [
      "\n"
     ]
    },
    {
     "data": {
      "application/vnd.jupyter.widget-view+json": {
       "model_id": "ae9d70e94fcc4d16be41eeb050262785",
       "version_major": 2,
       "version_minor": 0
      },
      "text/plain": [
       "HBox(children=(IntProgress(value=0, max=16), HTML(value='')))"
      ]
     },
     "metadata": {},
     "output_type": "display_data"
    },
    {
     "name": "stdout",
     "output_type": "stream",
     "text": [
      "\n",
      "Epoch 19, train_loss: 0.3206416560757544, valid_loss: 0.38110988214612007, time: 9.500051498413086\n",
      "train (8000, 10)\n",
      "valid (2000, 10)\n"
     ]
    },
    {
     "data": {
      "application/vnd.jupyter.widget-view+json": {
       "model_id": "5ac6113983444ed2bb38159433c5e864",
       "version_major": 2,
       "version_minor": 0
      },
      "text/plain": [
       "HBox(children=(IntProgress(value=0, max=62), HTML(value='')))"
      ]
     },
     "metadata": {},
     "output_type": "display_data"
    },
    {
     "name": "stdout",
     "output_type": "stream",
     "text": [
      "\n"
     ]
    },
    {
     "data": {
      "application/vnd.jupyter.widget-view+json": {
       "model_id": "4ca58fd6c28f4ff993e68e375fbe8053",
       "version_major": 2,
       "version_minor": 0
      },
      "text/plain": [
       "HBox(children=(IntProgress(value=0, max=16), HTML(value='')))"
      ]
     },
     "metadata": {},
     "output_type": "display_data"
    },
    {
     "name": "stdout",
     "output_type": "stream",
     "text": [
      "\n",
      "Epoch 20, train_loss: 0.36672791261826787, valid_loss: 0.3850659541785717, time: 9.47359037399292\n",
      "---3-Fold---\n",
      "train (8000, 10)\n",
      "valid (2000, 10)\n"
     ]
    },
    {
     "data": {
      "application/vnd.jupyter.widget-view+json": {
       "model_id": "9108c83a1b28493caddacba18418f4f0",
       "version_major": 2,
       "version_minor": 0
      },
      "text/plain": [
       "HBox(children=(IntProgress(value=0, max=62), HTML(value='')))"
      ]
     },
     "metadata": {},
     "output_type": "display_data"
    },
    {
     "name": "stdout",
     "output_type": "stream",
     "text": [
      "\n"
     ]
    },
    {
     "data": {
      "application/vnd.jupyter.widget-view+json": {
       "model_id": "c9b59fdca6724d2e9bf6c6f03148a244",
       "version_major": 2,
       "version_minor": 0
      },
      "text/plain": [
       "HBox(children=(IntProgress(value=0, max=16), HTML(value='')))"
      ]
     },
     "metadata": {},
     "output_type": "display_data"
    },
    {
     "name": "stdout",
     "output_type": "stream",
     "text": [
      "\n",
      "Epoch 1, train_loss: 0.10339258707338764, valid_loss: 0.18174493871629238, time: 9.498628616333008\n",
      "train (8000, 10)\n",
      "valid (2000, 10)\n"
     ]
    },
    {
     "data": {
      "application/vnd.jupyter.widget-view+json": {
       "model_id": "d0e210a30b244e63804448d9611aac98",
       "version_major": 2,
       "version_minor": 0
      },
      "text/plain": [
       "HBox(children=(IntProgress(value=0, max=62), HTML(value='')))"
      ]
     },
     "metadata": {},
     "output_type": "display_data"
    },
    {
     "name": "stdout",
     "output_type": "stream",
     "text": [
      "\n"
     ]
    },
    {
     "data": {
      "application/vnd.jupyter.widget-view+json": {
       "model_id": "6a30cdb9a2b54a089f349d010f4c9472",
       "version_major": 2,
       "version_minor": 0
      },
      "text/plain": [
       "HBox(children=(IntProgress(value=0, max=16), HTML(value='')))"
      ]
     },
     "metadata": {},
     "output_type": "display_data"
    },
    {
     "name": "stdout",
     "output_type": "stream",
     "text": [
      "\n",
      "Epoch 2, train_loss: 0.20228972958941613, valid_loss: 0.3984614070504904, time: 9.53191590309143\n",
      "train (8000, 10)\n",
      "valid (2000, 10)\n"
     ]
    },
    {
     "data": {
      "application/vnd.jupyter.widget-view+json": {
       "model_id": "2ddeb13905e04dac9eb48265ef2cc64e",
       "version_major": 2,
       "version_minor": 0
      },
      "text/plain": [
       "HBox(children=(IntProgress(value=0, max=62), HTML(value='')))"
      ]
     },
     "metadata": {},
     "output_type": "display_data"
    },
    {
     "name": "stdout",
     "output_type": "stream",
     "text": [
      "\n"
     ]
    },
    {
     "data": {
      "application/vnd.jupyter.widget-view+json": {
       "model_id": "51116695973a4a83ad74e9d10e4c363c",
       "version_major": 2,
       "version_minor": 0
      },
      "text/plain": [
       "HBox(children=(IntProgress(value=0, max=16), HTML(value='')))"
      ]
     },
     "metadata": {},
     "output_type": "display_data"
    },
    {
     "name": "stdout",
     "output_type": "stream",
     "text": [
      "\n",
      "Epoch 3, train_loss: 0.33704149482711665, valid_loss: 0.4011239893734455, time: 9.486079692840576\n",
      "train (8000, 10)\n",
      "valid (2000, 10)\n"
     ]
    },
    {
     "data": {
      "application/vnd.jupyter.widget-view+json": {
       "model_id": "952d0b2098754f2a9b5a7629c065d8d7",
       "version_major": 2,
       "version_minor": 0
      },
      "text/plain": [
       "HBox(children=(IntProgress(value=0, max=62), HTML(value='')))"
      ]
     },
     "metadata": {},
     "output_type": "display_data"
    },
    {
     "name": "stdout",
     "output_type": "stream",
     "text": [
      "\n"
     ]
    },
    {
     "data": {
      "application/vnd.jupyter.widget-view+json": {
       "model_id": "ee30cafa11904545a3fe792f0ae5c376",
       "version_major": 2,
       "version_minor": 0
      },
      "text/plain": [
       "HBox(children=(IntProgress(value=0, max=16), HTML(value='')))"
      ]
     },
     "metadata": {},
     "output_type": "display_data"
    },
    {
     "name": "stdout",
     "output_type": "stream",
     "text": [
      "\n",
      "Epoch 4, train_loss: 0.3472884268529953, valid_loss: 0.2819454185664654, time: 9.507444381713867\n",
      "train (8000, 10)\n",
      "valid (2000, 10)\n"
     ]
    },
    {
     "data": {
      "application/vnd.jupyter.widget-view+json": {
       "model_id": "945ec23b832a4361a064bae24004f374",
       "version_major": 2,
       "version_minor": 0
      },
      "text/plain": [
       "HBox(children=(IntProgress(value=0, max=62), HTML(value='')))"
      ]
     },
     "metadata": {},
     "output_type": "display_data"
    },
    {
     "name": "stdout",
     "output_type": "stream",
     "text": [
      "\n"
     ]
    },
    {
     "data": {
      "application/vnd.jupyter.widget-view+json": {
       "model_id": "ec20c2e6d6504d809f37f13b00fa3b6d",
       "version_major": 2,
       "version_minor": 0
      },
      "text/plain": [
       "HBox(children=(IntProgress(value=0, max=16), HTML(value='')))"
      ]
     },
     "metadata": {},
     "output_type": "display_data"
    },
    {
     "name": "stdout",
     "output_type": "stream",
     "text": [
      "\n",
      "Epoch 5, train_loss: 0.30026575814812423, valid_loss: 0.4431758876889944, time: 9.493910789489746\n",
      "train (8000, 10)\n",
      "valid (2000, 10)\n"
     ]
    },
    {
     "data": {
      "application/vnd.jupyter.widget-view+json": {
       "model_id": "5f9033a9179e438b9e25c4e207c654b9",
       "version_major": 2,
       "version_minor": 0
      },
      "text/plain": [
       "HBox(children=(IntProgress(value=0, max=62), HTML(value='')))"
      ]
     },
     "metadata": {},
     "output_type": "display_data"
    },
    {
     "name": "stdout",
     "output_type": "stream",
     "text": [
      "\n"
     ]
    },
    {
     "data": {
      "application/vnd.jupyter.widget-view+json": {
       "model_id": "e8d2c8ec466340668d21f81e396f9aff",
       "version_major": 2,
       "version_minor": 0
      },
      "text/plain": [
       "HBox(children=(IntProgress(value=0, max=16), HTML(value='')))"
      ]
     },
     "metadata": {},
     "output_type": "display_data"
    },
    {
     "name": "stdout",
     "output_type": "stream",
     "text": [
      "\n",
      "Epoch 6, train_loss: 0.3098650942406347, valid_loss: 0.38640132173895836, time: 9.467121124267578\n",
      "train (8000, 10)\n",
      "valid (2000, 10)\n"
     ]
    },
    {
     "data": {
      "application/vnd.jupyter.widget-view+json": {
       "model_id": "7b21067571064f2f91e79aa6313776b0",
       "version_major": 2,
       "version_minor": 0
      },
      "text/plain": [
       "HBox(children=(IntProgress(value=0, max=62), HTML(value='')))"
      ]
     },
     "metadata": {},
     "output_type": "display_data"
    },
    {
     "name": "stdout",
     "output_type": "stream",
     "text": [
      "\n"
     ]
    },
    {
     "data": {
      "application/vnd.jupyter.widget-view+json": {
       "model_id": "bd3050e544b64fa987358af88dd2e13e",
       "version_major": 2,
       "version_minor": 0
      },
      "text/plain": [
       "HBox(children=(IntProgress(value=0, max=16), HTML(value='')))"
      ]
     },
     "metadata": {},
     "output_type": "display_data"
    },
    {
     "name": "stdout",
     "output_type": "stream",
     "text": [
      "\n",
      "Epoch 7, train_loss: 0.3286310516057475, valid_loss: 0.35804977640509605, time: 9.492170572280884\n",
      "train (8000, 10)\n",
      "valid (2000, 10)\n"
     ]
    },
    {
     "data": {
      "application/vnd.jupyter.widget-view+json": {
       "model_id": "b0aa0eb753514e28bd290476db7ba525",
       "version_major": 2,
       "version_minor": 0
      },
      "text/plain": [
       "HBox(children=(IntProgress(value=0, max=62), HTML(value='')))"
      ]
     },
     "metadata": {},
     "output_type": "display_data"
    },
    {
     "name": "stdout",
     "output_type": "stream",
     "text": [
      "\n"
     ]
    },
    {
     "data": {
      "application/vnd.jupyter.widget-view+json": {
       "model_id": "0b3030557f834d5fb61064683f90b731",
       "version_major": 2,
       "version_minor": 0
      },
      "text/plain": [
       "HBox(children=(IntProgress(value=0, max=16), HTML(value='')))"
      ]
     },
     "metadata": {},
     "output_type": "display_data"
    },
    {
     "name": "stdout",
     "output_type": "stream",
     "text": [
      "\n",
      "Epoch 8, train_loss: 0.3467928663857522, valid_loss: 0.3251007180660963, time: 9.542524814605713\n",
      "train (8000, 10)\n",
      "valid (2000, 10)\n"
     ]
    },
    {
     "data": {
      "application/vnd.jupyter.widget-view+json": {
       "model_id": "6e2ce3b6d7054e6a852491523b58dd7e",
       "version_major": 2,
       "version_minor": 0
      },
      "text/plain": [
       "HBox(children=(IntProgress(value=0, max=62), HTML(value='')))"
      ]
     },
     "metadata": {},
     "output_type": "display_data"
    },
    {
     "name": "stdout",
     "output_type": "stream",
     "text": [
      "\n"
     ]
    },
    {
     "data": {
      "application/vnd.jupyter.widget-view+json": {
       "model_id": "84af019a153b4b4788c27ebf941f021d",
       "version_major": 2,
       "version_minor": 0
      },
      "text/plain": [
       "HBox(children=(IntProgress(value=0, max=16), HTML(value='')))"
      ]
     },
     "metadata": {},
     "output_type": "display_data"
    },
    {
     "name": "stdout",
     "output_type": "stream",
     "text": [
      "\n",
      "Epoch 9, train_loss: 0.3469660844533673, valid_loss: 0.40802603773772717, time: 9.495785236358643\n",
      "train (8000, 10)\n",
      "valid (2000, 10)\n"
     ]
    },
    {
     "data": {
      "application/vnd.jupyter.widget-view+json": {
       "model_id": "b380a17d1c2943759d53aed74a6507d9",
       "version_major": 2,
       "version_minor": 0
      },
      "text/plain": [
       "HBox(children=(IntProgress(value=0, max=62), HTML(value='')))"
      ]
     },
     "metadata": {},
     "output_type": "display_data"
    },
    {
     "name": "stdout",
     "output_type": "stream",
     "text": [
      "\n"
     ]
    },
    {
     "data": {
      "application/vnd.jupyter.widget-view+json": {
       "model_id": "4c52c25e21054ba491ce635a3e0b97fc",
       "version_major": 2,
       "version_minor": 0
      },
      "text/plain": [
       "HBox(children=(IntProgress(value=0, max=16), HTML(value='')))"
      ]
     },
     "metadata": {},
     "output_type": "display_data"
    },
    {
     "name": "stdout",
     "output_type": "stream",
     "text": [
      "\n",
      "Epoch 10, train_loss: 0.3221725448966026, valid_loss: 0.3929827567189932, time: 9.530924081802368\n",
      "train (8000, 10)\n",
      "valid (2000, 10)\n"
     ]
    },
    {
     "data": {
      "application/vnd.jupyter.widget-view+json": {
       "model_id": "f90992739ee541168817d5ae10c00b37",
       "version_major": 2,
       "version_minor": 0
      },
      "text/plain": [
       "HBox(children=(IntProgress(value=0, max=62), HTML(value='')))"
      ]
     },
     "metadata": {},
     "output_type": "display_data"
    },
    {
     "name": "stdout",
     "output_type": "stream",
     "text": [
      "\n"
     ]
    },
    {
     "data": {
      "application/vnd.jupyter.widget-view+json": {
       "model_id": "78e6a17057de4337bee7667886b2ba85",
       "version_major": 2,
       "version_minor": 0
      },
      "text/plain": [
       "HBox(children=(IntProgress(value=0, max=16), HTML(value='')))"
      ]
     },
     "metadata": {},
     "output_type": "display_data"
    },
    {
     "name": "stdout",
     "output_type": "stream",
     "text": [
      "\n",
      "Epoch 11, train_loss: 0.3541002259139093, valid_loss: 0.3086443990468979, time: 9.499951362609863\n",
      "train (8000, 10)\n",
      "valid (2000, 10)\n"
     ]
    },
    {
     "data": {
      "application/vnd.jupyter.widget-view+json": {
       "model_id": "35b32b91749d407983b2ea5b3948875d",
       "version_major": 2,
       "version_minor": 0
      },
      "text/plain": [
       "HBox(children=(IntProgress(value=0, max=62), HTML(value='')))"
      ]
     },
     "metadata": {},
     "output_type": "display_data"
    },
    {
     "name": "stdout",
     "output_type": "stream",
     "text": [
      "\n"
     ]
    },
    {
     "data": {
      "application/vnd.jupyter.widget-view+json": {
       "model_id": "9ca9f3a0cadc44fba3ea0eadf836e342",
       "version_major": 2,
       "version_minor": 0
      },
      "text/plain": [
       "HBox(children=(IntProgress(value=0, max=16), HTML(value='')))"
      ]
     },
     "metadata": {},
     "output_type": "display_data"
    },
    {
     "name": "stdout",
     "output_type": "stream",
     "text": [
      "\n",
      "Epoch 12, train_loss: 0.31929199061086105, valid_loss: 0.4042071122676134, time: 9.519401788711548\n",
      "train (8000, 10)\n",
      "valid (2000, 10)\n"
     ]
    },
    {
     "data": {
      "application/vnd.jupyter.widget-view+json": {
       "model_id": "b921a0ade67841f9a20e2001181a52de",
       "version_major": 2,
       "version_minor": 0
      },
      "text/plain": [
       "HBox(children=(IntProgress(value=0, max=62), HTML(value='')))"
      ]
     },
     "metadata": {},
     "output_type": "display_data"
    },
    {
     "name": "stdout",
     "output_type": "stream",
     "text": [
      "\n"
     ]
    },
    {
     "data": {
      "application/vnd.jupyter.widget-view+json": {
       "model_id": "e7cb6091c984448f81593165719d93f6",
       "version_major": 2,
       "version_minor": 0
      },
      "text/plain": [
       "HBox(children=(IntProgress(value=0, max=16), HTML(value='')))"
      ]
     },
     "metadata": {},
     "output_type": "display_data"
    },
    {
     "name": "stdout",
     "output_type": "stream",
     "text": [
      "\n",
      "Epoch 13, train_loss: 0.2489225598833253, valid_loss: 0.21132295206189156, time: 9.520739555358887\n",
      "train (8000, 10)\n",
      "valid (2000, 10)\n"
     ]
    },
    {
     "data": {
      "application/vnd.jupyter.widget-view+json": {
       "model_id": "8fd812bd5e784ba39ae3122210270fd2",
       "version_major": 2,
       "version_minor": 0
      },
      "text/plain": [
       "HBox(children=(IntProgress(value=0, max=62), HTML(value='')))"
      ]
     },
     "metadata": {},
     "output_type": "display_data"
    },
    {
     "name": "stdout",
     "output_type": "stream",
     "text": [
      "\n"
     ]
    },
    {
     "data": {
      "application/vnd.jupyter.widget-view+json": {
       "model_id": "2bffdb4c6abf43aea2c25f68b748e346",
       "version_major": 2,
       "version_minor": 0
      },
      "text/plain": [
       "HBox(children=(IntProgress(value=0, max=16), HTML(value='')))"
      ]
     },
     "metadata": {},
     "output_type": "display_data"
    },
    {
     "name": "stdout",
     "output_type": "stream",
     "text": [
      "\n",
      "Epoch 14, train_loss: 0.30601554508170775, valid_loss: 0.4094775151461363, time: 9.48860502243042\n",
      "train (8000, 10)\n",
      "valid (2000, 10)\n"
     ]
    },
    {
     "data": {
      "application/vnd.jupyter.widget-view+json": {
       "model_id": "c447d3a3c904412b9e81b09744b71f56",
       "version_major": 2,
       "version_minor": 0
      },
      "text/plain": [
       "HBox(children=(IntProgress(value=0, max=62), HTML(value='')))"
      ]
     },
     "metadata": {},
     "output_type": "display_data"
    },
    {
     "name": "stdout",
     "output_type": "stream",
     "text": [
      "\n"
     ]
    },
    {
     "data": {
      "application/vnd.jupyter.widget-view+json": {
       "model_id": "fd1b2edbefe64db2b20709bc1fc8df9d",
       "version_major": 2,
       "version_minor": 0
      },
      "text/plain": [
       "HBox(children=(IntProgress(value=0, max=16), HTML(value='')))"
      ]
     },
     "metadata": {},
     "output_type": "display_data"
    },
    {
     "name": "stdout",
     "output_type": "stream",
     "text": [
      "\n",
      "Epoch 15, train_loss: 0.32893873342583274, valid_loss: 0.3507482688874006, time: 9.556471586227417\n",
      "train (8000, 10)\n",
      "valid (2000, 10)\n"
     ]
    },
    {
     "data": {
      "application/vnd.jupyter.widget-view+json": {
       "model_id": "a62c3a32fd8c47368a9418ac668e69b6",
       "version_major": 2,
       "version_minor": 0
      },
      "text/plain": [
       "HBox(children=(IntProgress(value=0, max=62), HTML(value='')))"
      ]
     },
     "metadata": {},
     "output_type": "display_data"
    },
    {
     "name": "stdout",
     "output_type": "stream",
     "text": [
      "\n"
     ]
    },
    {
     "data": {
      "application/vnd.jupyter.widget-view+json": {
       "model_id": "a5c94c11362f4ca09582394c34cbab1d",
       "version_major": 2,
       "version_minor": 0
      },
      "text/plain": [
       "HBox(children=(IntProgress(value=0, max=16), HTML(value='')))"
      ]
     },
     "metadata": {},
     "output_type": "display_data"
    },
    {
     "name": "stdout",
     "output_type": "stream",
     "text": [
      "\n",
      "Epoch 16, train_loss: 0.337782808369206, valid_loss: 0.36415242962539196, time: 9.459723472595215\n",
      "train (8000, 10)\n",
      "valid (2000, 10)\n"
     ]
    },
    {
     "data": {
      "application/vnd.jupyter.widget-view+json": {
       "model_id": "088304b42c9240ccb8176d799b9e6247",
       "version_major": 2,
       "version_minor": 0
      },
      "text/plain": [
       "HBox(children=(IntProgress(value=0, max=62), HTML(value='')))"
      ]
     },
     "metadata": {},
     "output_type": "display_data"
    },
    {
     "name": "stdout",
     "output_type": "stream",
     "text": [
      "\n"
     ]
    },
    {
     "data": {
      "application/vnd.jupyter.widget-view+json": {
       "model_id": "90e838797d9e403197752255a38687b1",
       "version_major": 2,
       "version_minor": 0
      },
      "text/plain": [
       "HBox(children=(IntProgress(value=0, max=16), HTML(value='')))"
      ]
     },
     "metadata": {},
     "output_type": "display_data"
    },
    {
     "name": "stdout",
     "output_type": "stream",
     "text": [
      "\n",
      "Epoch 17, train_loss: 0.3319483649346136, valid_loss: 0.3281013946980238, time: 9.485703945159912\n",
      "train (8000, 10)\n",
      "valid (2000, 10)\n"
     ]
    },
    {
     "data": {
      "application/vnd.jupyter.widget-view+json": {
       "model_id": "8135e145410b4030916324f6389b46a6",
       "version_major": 2,
       "version_minor": 0
      },
      "text/plain": [
       "HBox(children=(IntProgress(value=0, max=62), HTML(value='')))"
      ]
     },
     "metadata": {},
     "output_type": "display_data"
    },
    {
     "name": "stdout",
     "output_type": "stream",
     "text": [
      "\n"
     ]
    },
    {
     "data": {
      "application/vnd.jupyter.widget-view+json": {
       "model_id": "0c9115513c4244eb86d95dcbca4a04f1",
       "version_major": 2,
       "version_minor": 0
      },
      "text/plain": [
       "HBox(children=(IntProgress(value=0, max=16), HTML(value='')))"
      ]
     },
     "metadata": {},
     "output_type": "display_data"
    },
    {
     "name": "stdout",
     "output_type": "stream",
     "text": [
      "\n",
      "Epoch 18, train_loss: 0.34691014261015, valid_loss: 0.3608162887394428, time: 9.461026668548584\n",
      "train (8000, 10)\n",
      "valid (2000, 10)\n"
     ]
    },
    {
     "data": {
      "application/vnd.jupyter.widget-view+json": {
       "model_id": "cb1d422f7da544dfaaf6ff7338ce34a4",
       "version_major": 2,
       "version_minor": 0
      },
      "text/plain": [
       "HBox(children=(IntProgress(value=0, max=62), HTML(value='')))"
      ]
     },
     "metadata": {},
     "output_type": "display_data"
    },
    {
     "name": "stdout",
     "output_type": "stream",
     "text": [
      "\n"
     ]
    },
    {
     "data": {
      "application/vnd.jupyter.widget-view+json": {
       "model_id": "9b8bde68d0e443e1aae66bcf49d0787a",
       "version_major": 2,
       "version_minor": 0
      },
      "text/plain": [
       "HBox(children=(IntProgress(value=0, max=16), HTML(value='')))"
      ]
     },
     "metadata": {},
     "output_type": "display_data"
    },
    {
     "name": "stdout",
     "output_type": "stream",
     "text": [
      "\n",
      "Epoch 19, train_loss: 0.32054481967802967, valid_loss: 0.2054919470101595, time: 9.499288320541382\n",
      "train (8000, 10)\n",
      "valid (2000, 10)\n"
     ]
    },
    {
     "data": {
      "application/vnd.jupyter.widget-view+json": {
       "model_id": "e90ae3aa3ee04a3cb1beceb9a5d102eb",
       "version_major": 2,
       "version_minor": 0
      },
      "text/plain": [
       "HBox(children=(IntProgress(value=0, max=62), HTML(value='')))"
      ]
     },
     "metadata": {},
     "output_type": "display_data"
    },
    {
     "name": "stdout",
     "output_type": "stream",
     "text": [
      "\n"
     ]
    },
    {
     "data": {
      "application/vnd.jupyter.widget-view+json": {
       "model_id": "d2442b49f57f422aa270b066972ceb2c",
       "version_major": 2,
       "version_minor": 0
      },
      "text/plain": [
       "HBox(children=(IntProgress(value=0, max=16), HTML(value='')))"
      ]
     },
     "metadata": {},
     "output_type": "display_data"
    },
    {
     "name": "stdout",
     "output_type": "stream",
     "text": [
      "\n",
      "Epoch 20, train_loss: 0.2665694973641827, valid_loss: 0.2883451944217086, time: 9.559422731399536\n"
     ]
    }
   ],
   "source": [
    "loss_list_train = []\n",
    "loss_list_valid = []\n",
    "for fold in range(3):\n",
    "    print('---%d-Fold---'%(fold+1))\n",
    "    \n",
    "    model_image = Model_Image().to(device)\n",
    "    model_query = Model_Query().to(device)\n",
    "    \n",
    "#     optimizer = torch.optim.Adam(model.parameters())\n",
    "    optimizer = torch.optim.Adam([\n",
    "                        {'params': model_image.parameters()},\n",
    "                        {'params': model_query.parameters()}\n",
    "                    ])\n",
    "    \n",
    "    criterion = losses.TripletMarginLoss(margin=0.1)\n",
    "    \n",
    "    loss_list_epoch_train = []\n",
    "    loss_list_epoch_valid = []\n",
    "    for epoch in range(20):\n",
    "\n",
    "        torch.cuda.empty_cache()\n",
    "        start_time   = time.time()\n",
    "\n",
    "        train_loader, valid_loader = get_train_valid_loaders(df=train,batch_size=128,val_batch_size=128,ifold=fold)\n",
    "        #scheduler = get_cosine_schedule_with_warmup(optimizer, num_warmup_steps=config.warmup, num_training_steps=config.epochs*len(train_loader))\n",
    "\n",
    "        loss_train = train_model(train_loader, model_image, model_query, optimizer, criterion)#, scheduler)\n",
    "        loss_valid = valid_model(valid_loader, model_image, model_query)\n",
    "        \n",
    "        loss_list_epoch_train.append(loss_train)\n",
    "        loss_list_epoch_valid.append(loss_valid)\n",
    "        \n",
    "        print(f'Epoch {(epoch+1)}, train_loss: {loss_train}, valid_loss: {loss_valid}, time: {(time.time()-start_time)}')\n",
    "\n",
    "#         if score_val > best_score:\n",
    "#             best_score = score_val\n",
    "#             best_param_score = model.state_dict()\n",
    "#             print('best_param_score_{}_{}.pt'.format(config.name ,fold+1))\n",
    "#             torch.save(best_param_score, '/content/drive/My Drive/Colab Notebooks/GoogleQuest/best_param_score_{}_{}.pt'.format(config.name ,fold+1))\n",
    "#         else:\n",
    "#             patience += 1\n",
    "#             if patience >= config.patience:\n",
    "#                 del train_loader, valid_loader, loss_train, loss_val, score_val, preds\n",
    "#                 torch.cuda.empty_cache()\n",
    "#                 gc.collect()\n",
    "#                 break\n",
    "\n",
    "        del train_loader, valid_loader, loss_train, loss_valid\n",
    "        torch.cuda.empty_cache()\n",
    "        gc.collect()\n",
    "    \n",
    "    loss_list_train.append(loss_list_epoch_train)\n",
    "    loss_list_valid.append(loss_list_epoch_valid)"
   ]
  },
  {
   "cell_type": "markdown",
   "metadata": {},
   "source": [
    "### Evaluation\n",
    "- 各クエリに対して、約30個程度の画像が用意されている\n",
    "- "
   ]
  },
  {
   "cell_type": "code",
   "execution_count": 55,
   "metadata": {},
   "outputs": [],
   "source": [
    "def make_submit_df(df_test, model_image, model_query):\n",
    "    test_loader = get_test_loaders(df_test, batch_size=128)\n",
    "    out_list = test_model(test_loader, model_image, model_query)\n",
    "\n",
    "    for i, out in enumerate(out_list):\n",
    "        if i==0:\n",
    "            out_array = out.squeeze()\n",
    "        else:\n",
    "            out_array = torch.cat([out_array, out.squeeze()], dim=-1)\n",
    "\n",
    "    out_array = out_array.cpu().detach().numpy()\n",
    "    df_test['score'] = out_array\n",
    "    \n",
    "    # sort and group by\n",
    "    df_test = df_test.sort_values(by=\"score\", ascending=False)\n",
    "    grouped = df_test.groupby(\"query_id\").head(5)\n",
    "    \n",
    "    submit_df = pd.DataFrame(columns=['query-id','product1','product2','product3','product4','product5'])\n",
    "    for i, q_id in enumerate(tqdm(grouped['query_id'].unique())):\n",
    "        submit_df.loc[i, 'query-id'] = q_id\n",
    "        submit_df.iloc[i, 1:] = grouped.loc[(grouped['query_id']==q_id), 'product_id'].values\n",
    "    submit_df = submit_df.astype(int)\n",
    "    submit_df = submit_df.sort_values(by='query-id')\n",
    "    submit_df = submit_df.reset_index(drop=True)\n",
    "    \n",
    "    return submit_df"
   ]
  },
  {
   "cell_type": "code",
   "execution_count": 56,
   "metadata": {},
   "outputs": [
    {
     "data": {
      "application/vnd.jupyter.widget-view+json": {
       "model_id": "64f1bf3e276d4f29a0165500b301c7be",
       "version_major": 2,
       "version_minor": 0
      },
      "text/plain": [
       "HBox(children=(IntProgress(value=0, max=115), HTML(value='')))"
      ]
     },
     "metadata": {},
     "output_type": "display_data"
    },
    {
     "name": "stdout",
     "output_type": "stream",
     "text": [
      "\n"
     ]
    },
    {
     "data": {
      "application/vnd.jupyter.widget-view+json": {
       "model_id": "77a2de6a296c4752ada7f44dab99c83e",
       "version_major": 2,
       "version_minor": 0
      },
      "text/plain": [
       "HBox(children=(IntProgress(value=0, max=496), HTML(value='')))"
      ]
     },
     "metadata": {},
     "output_type": "display_data"
    },
    {
     "name": "stdout",
     "output_type": "stream",
     "text": [
      "\n"
     ]
    }
   ],
   "source": [
    "valid_df = make_submit_df(valid, model_image, model_query)"
   ]
  },
  {
   "cell_type": "code",
   "execution_count": 57,
   "metadata": {
    "scrolled": false
   },
   "outputs": [
    {
     "data": {
      "text/html": [
       "<div>\n",
       "<style scoped>\n",
       "    .dataframe tbody tr th:only-of-type {\n",
       "        vertical-align: middle;\n",
       "    }\n",
       "\n",
       "    .dataframe tbody tr th {\n",
       "        vertical-align: top;\n",
       "    }\n",
       "\n",
       "    .dataframe thead th {\n",
       "        text-align: right;\n",
       "    }\n",
       "</style>\n",
       "<table border=\"1\" class=\"dataframe\">\n",
       "  <thead>\n",
       "    <tr style=\"text-align: right;\">\n",
       "      <th></th>\n",
       "      <th>query-id</th>\n",
       "      <th>product1</th>\n",
       "      <th>product2</th>\n",
       "      <th>product3</th>\n",
       "      <th>product4</th>\n",
       "      <th>product5</th>\n",
       "    </tr>\n",
       "  </thead>\n",
       "  <tbody>\n",
       "    <tr>\n",
       "      <td>0</td>\n",
       "      <td>0</td>\n",
       "      <td>103035435</td>\n",
       "      <td>103051756</td>\n",
       "      <td>103061530</td>\n",
       "      <td>103001388</td>\n",
       "      <td>103030678</td>\n",
       "    </tr>\n",
       "    <tr>\n",
       "      <td>1</td>\n",
       "      <td>1</td>\n",
       "      <td>103049171</td>\n",
       "      <td>103015195</td>\n",
       "      <td>103021626</td>\n",
       "      <td>103037602</td>\n",
       "      <td>103058364</td>\n",
       "    </tr>\n",
       "    <tr>\n",
       "      <td>2</td>\n",
       "      <td>2</td>\n",
       "      <td>103059018</td>\n",
       "      <td>103020043</td>\n",
       "      <td>103035690</td>\n",
       "      <td>103062605</td>\n",
       "      <td>103001803</td>\n",
       "    </tr>\n",
       "    <tr>\n",
       "      <td>3</td>\n",
       "      <td>3</td>\n",
       "      <td>103038025</td>\n",
       "      <td>103010833</td>\n",
       "      <td>103034297</td>\n",
       "      <td>100839691</td>\n",
       "      <td>103037089</td>\n",
       "    </tr>\n",
       "    <tr>\n",
       "      <td>4</td>\n",
       "      <td>4</td>\n",
       "      <td>103022601</td>\n",
       "      <td>103048840</td>\n",
       "      <td>103007030</td>\n",
       "      <td>103028489</td>\n",
       "      <td>103028674</td>\n",
       "    </tr>\n",
       "    <tr>\n",
       "      <td>...</td>\n",
       "      <td>...</td>\n",
       "      <td>...</td>\n",
       "      <td>...</td>\n",
       "      <td>...</td>\n",
       "      <td>...</td>\n",
       "      <td>...</td>\n",
       "    </tr>\n",
       "    <tr>\n",
       "      <td>491</td>\n",
       "      <td>496</td>\n",
       "      <td>103039754</td>\n",
       "      <td>103038851</td>\n",
       "      <td>103017742</td>\n",
       "      <td>103023873</td>\n",
       "      <td>103055292</td>\n",
       "    </tr>\n",
       "    <tr>\n",
       "      <td>492</td>\n",
       "      <td>497</td>\n",
       "      <td>103010228</td>\n",
       "      <td>103061897</td>\n",
       "      <td>103040596</td>\n",
       "      <td>103059758</td>\n",
       "      <td>103029501</td>\n",
       "    </tr>\n",
       "    <tr>\n",
       "      <td>493</td>\n",
       "      <td>498</td>\n",
       "      <td>103025926</td>\n",
       "      <td>103035595</td>\n",
       "      <td>103007452</td>\n",
       "      <td>103029931</td>\n",
       "      <td>103007795</td>\n",
       "    </tr>\n",
       "    <tr>\n",
       "      <td>494</td>\n",
       "      <td>499</td>\n",
       "      <td>103004211</td>\n",
       "      <td>103066828</td>\n",
       "      <td>103040130</td>\n",
       "      <td>103016696</td>\n",
       "      <td>103022168</td>\n",
       "    </tr>\n",
       "    <tr>\n",
       "      <td>495</td>\n",
       "      <td>500</td>\n",
       "      <td>103035563</td>\n",
       "      <td>103056840</td>\n",
       "      <td>103017846</td>\n",
       "      <td>103046364</td>\n",
       "      <td>103060709</td>\n",
       "    </tr>\n",
       "  </tbody>\n",
       "</table>\n",
       "<p>496 rows × 6 columns</p>\n",
       "</div>"
      ],
      "text/plain": [
       "     query-id   product1   product2   product3   product4   product5\n",
       "0           0  103035435  103051756  103061530  103001388  103030678\n",
       "1           1  103049171  103015195  103021626  103037602  103058364\n",
       "2           2  103059018  103020043  103035690  103062605  103001803\n",
       "3           3  103038025  103010833  103034297  100839691  103037089\n",
       "4           4  103022601  103048840  103007030  103028489  103028674\n",
       "..        ...        ...        ...        ...        ...        ...\n",
       "491       496  103039754  103038851  103017742  103023873  103055292\n",
       "492       497  103010228  103061897  103040596  103059758  103029501\n",
       "493       498  103025926  103035595  103007452  103029931  103007795\n",
       "494       499  103004211  103066828  103040130  103016696  103022168\n",
       "495       500  103035563  103056840  103017846  103046364  103060709\n",
       "\n",
       "[496 rows x 6 columns]"
      ]
     },
     "execution_count": 57,
     "metadata": {},
     "output_type": "execute_result"
    }
   ],
   "source": [
    "valid_df"
   ]
  },
  {
   "cell_type": "code",
   "execution_count": 58,
   "metadata": {},
   "outputs": [
    {
     "data": {
      "text/plain": [
       "{'0': [103059361, 103020398, 103017048, 103020893, 103031217, 103027983],\n",
       " '1': [103006221, 103021626, 103058364, 103004286, 103037602, 103031934],\n",
       " '2': [103057259, 103008379, 103056701, 103020043, 103059018, 103032818],\n",
       " '3': [103039690, 103047054, 103045847, 103043416, 103040728, 103041248],\n",
       " '4': [103041391, 103020465, 103042861, 103000889, 103034565, 103018943],\n",
       " '5': [103054968, 103042912, 103061609, 103054576, 103007463, 103022151],\n",
       " '6': [103021733, 103005137, 103032874, 103057624, 103016708, 103053800],\n",
       " '7': [103018229, 103065006, 103001819, 103029600, 103013625, 103061390],\n",
       " '8': [103052237, 103007467, 103027357, 103056233, 103027289, 103011213],\n",
       " '9': [103038057, 103064965, 103026604, 103030456, 103046297, 103010304],\n",
       " '10': [103018933, 103032226, 103065206, 103005840, 103049707],\n",
       " '11': [103028765, 103052758, 103056361, 103058508],\n",
       " '12': [103032272, 103014741, 103058210, 103048088, 103008191, 103034577],\n",
       " '13': [103064962, 103000619, 103004698, 103004351, 103056700, 103029152],\n",
       " '14': [103045410, 103012854, 103028198, 103029168, 103057072, 103038336],\n",
       " '15': [103002639, 103049190, 103019826, 103054344, 103014422, 103001622],\n",
       " '16': [103052178, 103037104, 103066013, 103014385, 103023326, 103058776],\n",
       " '17': [103046185, 103049768, 103041378, 103001542, 103000718, 103056435],\n",
       " '18': [103013630, 103047396, 103002893, 103027360, 103052700, 103032361],\n",
       " '19': [103038015, 103066482, 103049444, 103024171, 103017923, 103045995],\n",
       " '20': [103044380, 103053811, 103013648, 103005310, 103040951, 103010688],\n",
       " '21': [103029058, 103004245, 103036133, 103019534, 103036746, 103043491],\n",
       " '22': [103031132, 103000588, 103037835, 103039726, 103026115, 103045009],\n",
       " '23': [103054200, 103031425, 103063018, 103055844, 103052819, 103017270],\n",
       " '24': [103006374, 103065015, 103059900, 103034701, 103043318, 103026638],\n",
       " '25': [103060452, 103007224, 103011939, 103064337, 103057577, 103052090],\n",
       " '26': [103000063, 103052850, 103045159, 103033879, 103059861, 103028409],\n",
       " '27': [103060706, 103045003, 103060002, 103004496, 103015352, 103057580],\n",
       " '28': [103034126, 103009874, 103013198, 103004785, 103059507, 103000532],\n",
       " '29': [103030110, 103031074, 103006765, 103036535, 103056994, 103053100],\n",
       " '30': [103033406, 103028419, 103033633, 103052467, 103050747, 103037984],\n",
       " '31': [103035550, 103048346, 103003580, 103019938, 103014334, 103066777],\n",
       " '32': [103015565, 103044054, 103006186, 103048276, 103041854, 103042988],\n",
       " '33': [103060612, 103012339, 103013895, 103000881, 103013597, 103008465],\n",
       " '34': [103015803, 103021319, 103019486, 103027402, 103010859, 103034108],\n",
       " '35': [103020086, 103033025, 103065593, 103055761, 103041244, 103041896],\n",
       " '36': [103033402, 103005281, 103053322, 103041452, 103047700, 103034167],\n",
       " '37': [103024692, 103019817, 103065655, 103014252, 103060758, 103052525],\n",
       " '38': [103001398, 103036984, 103022147, 103061079, 103030525, 103008527],\n",
       " '39': [103004373, 103060261, 103018242, 103022208, 103026288, 103065750],\n",
       " '40': [103011747, 103004098, 103048477, 103051564, 103058248, 103052150],\n",
       " '41': [103063648, 103024364, 103020009, 103039813, 103003041, 103056782],\n",
       " '42': [103065332, 103044893, 103002337, 103021241, 103022570, 103052856],\n",
       " '43': [103014606, 103017946, 103060861, 103003163, 103053155, 103005913],\n",
       " '44': [103064556, 103012184, 103043385, 103031872, 103027211, 103003934],\n",
       " '45': [103014594, 103046281, 103053126, 103060296, 103039191, 103022571],\n",
       " '46': [103057769, 103057529, 103029491, 103051738, 103018808, 103007155],\n",
       " '47': [103065503, 103059498, 103046125, 103009254, 103017768, 103045010],\n",
       " '48': [103042129, 103039413, 103013256, 103032710, 103027830, 103031533],\n",
       " '49': [103016108, 103051990, 103056285, 103052103, 103063570, 103009263],\n",
       " '50': [103020371, 103011079, 103009944, 103050583, 103010424, 103045715],\n",
       " '51': [103055751, 103011108, 103024786, 103053721, 103053497, 103045708],\n",
       " '52': [103021772, 103039986, 103009013, 103047896, 103045588, 103009762],\n",
       " '53': [103053768, 103049272, 103018608, 103025299, 103035314, 103057898],\n",
       " '54': [103054190, 103057712, 103053123, 103000459, 103030338, 103028813],\n",
       " '55': [103032056, 103055774, 103013944, 103056893, 103056275, 103030722],\n",
       " '56': [103030990, 103058022, 103008301, 103005055, 103008880, 103005307],\n",
       " '57': [103000710, 103030731, 103064176, 103042194, 103062879, 103005206],\n",
       " '59': [103038651, 103042062, 103016084, 103029387, 103006165, 103061317],\n",
       " '60': [103011449, 103033767, 103040004, 103002405, 103062822, 103057666],\n",
       " '61': [103006969, 103016791, 103022415, 103050128, 103033419, 103021077],\n",
       " '62': [103003153, 103029969, 103050948, 103029475, 103026719, 103026438],\n",
       " '63': [103029361, 103045384, 103025815, 103057449, 103006034, 103028933],\n",
       " '64': [103019887, 103060848, 103002858, 103059152, 103013109, 103013138],\n",
       " '65': [103012165, 103049140, 103012651, 103036825, 103002697, 103062989],\n",
       " '66': [103055426, 103019000, 103005207, 103046970, 103051549, 103045625],\n",
       " '67': [103064932, 103040303, 103019440, 103009171, 103047089, 103023375],\n",
       " '68': [103056638, 103026639, 103053912, 103048256, 103001153, 103056314],\n",
       " '69': [103038166, 100834995, 103063562, 103065917, 103023464, 103043065],\n",
       " '70': [103012904, 103034579, 103012838, 103021749, 103016234, 103017161],\n",
       " '71': [103033317, 103004308, 103015260, 103007549, 103037215, 103058035],\n",
       " '72': [103023609, 103004839, 103061908, 103001035, 103050368, 103009839],\n",
       " '73': [103039926, 103061477, 103060831, 103050257, 103009270, 103010438],\n",
       " '74': [103053812, 103059239, 103007637, 103043118, 103033283, 103061799],\n",
       " '75': [103011601, 103038056, 103051468, 103040704, 103026875, 103007156],\n",
       " '76': [103005022, 103062799, 103041276, 103054146, 103066475, 103013968],\n",
       " '77': [103006261, 103052404, 103023896, 103021216, 103025644, 103047007],\n",
       " '78': [103006781, 103003009, 103034019, 103049835, 103030008, 103031756],\n",
       " '79': [103025187, 103060243, 103000274, 103053745, 103020409, 100753913],\n",
       " '80': [103011458, 103062915, 103044120, 103018625, 103001287, 103054704],\n",
       " '81': [103041868, 103015196, 103004238, 103053705, 103003475, 103004624],\n",
       " '82': [103063246, 103061420, 103036214, 103054593, 103014086, 103054363],\n",
       " '83': [103042954, 103041605, 103043358, 103018572, 103060202, 103052326],\n",
       " '84': [103023234, 103036557, 103000644, 103001054, 103059312, 103014440],\n",
       " '85': [103008014, 103038185, 103027974, 103055461, 103063071, 103023048],\n",
       " '86': [103048734, 103046346, 103045683, 103049963, 103029482, 103028662],\n",
       " '87': [103023903, 103065768, 103002912, 103021947, 103049371, 103038140],\n",
       " '88': [103066917, 103006426, 103010882, 103047091, 103019063, 103030258],\n",
       " '89': [103018797, 103056945, 103023835, 103028750, 103024909, 103003849],\n",
       " '90': [103008042, 103025372, 103048823, 101225857, 103056339, 103047010],\n",
       " '91': [103065091, 103032991, 103018467, 103032207, 103047754, 103004730],\n",
       " '92': [103058665, 103061173, 103015007, 103049473, 103019092, 103055656],\n",
       " '93': [103027493, 103015118, 103011101, 103043212, 103041988, 103011212],\n",
       " '94': [103022840, 103063395, 103040072, 101286434, 103055718, 103008618],\n",
       " '95': [103057378, 103045967, 103058821, 103034288, 103044705, 103043195],\n",
       " '96': [103020097, 103034138, 103006715, 103034539, 103056705, 103047194],\n",
       " '97': [103029675, 103037519, 103004535, 103060590, 103022025, 103018675],\n",
       " '98': [103057562, 103061218, 103013017, 103062417, 103049039, 103027731],\n",
       " '99': [103051143, 103019588, 103063573, 103060811, 103048039, 103010482],\n",
       " '100': [103046085, 103056025, 103050600, 103066386, 103006609, 103012284],\n",
       " '101': [103053165, 103007723, 103059793, 103046224, 103036180, 103032526],\n",
       " '102': [103035950, 103050255, 103016005, 103016739, 103023089, 103004044],\n",
       " '103': [103055189, 103058375, 103063996, 103016355, 103047291, 103020895],\n",
       " '104': [103047809, 103055644, 103041655, 103035984, 103057804, 103010737],\n",
       " '105': [103006100, 103035560, 103032907, 103063191, 103063357, 103014420],\n",
       " '106': [103002810, 103016202, 103027307, 103006116, 103006562, 103046033],\n",
       " '107': [103024715, 103026025, 103054991, 103062837, 103012044, 103010726],\n",
       " '108': [103001300, 103009810, 103009273, 103012894, 103045283, 103023015],\n",
       " '109': [103024594, 103062541, 103041096, 103023523, 103056390, 103030733],\n",
       " '110': [103050781, 103062375, 103054639, 103052743, 103037997, 103012530],\n",
       " '111': [103066448, 103029319, 103001277, 103057697, 103034462, 103026894],\n",
       " '112': [103031647, 103060868, 103020149, 103025525, 103017855, 103052419],\n",
       " '113': [103055878, 103009173, 103025355, 103064146, 103007569, 103039399],\n",
       " '114': [103012359, 103012157, 103047614, 103020280, 103024820, 103046485],\n",
       " '115': [103024163, 103023971, 103020938, 103061191, 103020641, 103033192],\n",
       " '116': [103017471, 103056466, 103015292, 103050724, 103009660, 103039789],\n",
       " '117': [103061236, 103041864, 103024440, 103000224, 103047399, 103033473],\n",
       " '118': [103056064, 103004026, 103001100, 103061627, 103023057, 103040329],\n",
       " '119': [103009157, 103046012, 103007676, 103031395, 103010474, 103045127],\n",
       " '120': [103054599, 103049070, 103008661, 103042038, 103020496, 103035179],\n",
       " '121': [103023337, 103036021, 103010423, 103027149, 103026308, 103028811],\n",
       " '122': [103023634, 103057367, 103012752, 103045561, 103063103, 103028751],\n",
       " '123': [103018143, 103025248, 103017136, 103057983, 103046666, 103016986],\n",
       " '124': [103039857, 103028909, 103018405, 103015867, 103047720, 103005467],\n",
       " '125': [103006021, 103042200, 103031516, 103054228, 103008121, 103027393],\n",
       " '126': [103019542, 103008355, 103012538, 103020647, 103045339, 103053629],\n",
       " '127': [103025369, 103014070, 103040157, 103054486, 103013213, 103022884],\n",
       " '128': [103040562, 103053316, 103056062, 103030130, 103028509, 103017957],\n",
       " '129': [103018886, 103042482, 103000388, 103047131, 103047363, 103044657],\n",
       " '130': [103034324, 103048946, 103061131, 103026992, 103030919, 103030120],\n",
       " '131': [103036189, 103043816, 103030602, 103028170, 103006498, 103055706],\n",
       " '132': [103055712, 103025520, 103030189, 103007097, 103038675, 103053097],\n",
       " '133': [103054784, 103065708, 103063073, 103037755, 103041282, 103016188],\n",
       " '134': [103060419, 103043245, 103021375, 103055906, 103022082, 103060571],\n",
       " '135': [103061182, 103025818],\n",
       " '136': [103064567, 103065605, 103032763, 103000406, 103043585, 103012050],\n",
       " '137': [103059138, 103045234, 103063045, 103051474, 103058315, 103062606],\n",
       " '138': [102339596, 103065409, 103059142, 103048245, 103028541, 103002126],\n",
       " '139': [103022725, 103021936, 103016015, 103034228, 103045345, 103052697],\n",
       " '140': [103021824, 103006758, 103035014, 103042220, 103063942, 103017502],\n",
       " '141': [103021784, 103054102, 103028395, 103007172, 103027332, 103030844],\n",
       " '142': [103042839, 103036356, 103007574, 103020552, 103054096, 103033133],\n",
       " '143': [103046356, 103038377, 103048641, 103057492, 103038398, 103023328],\n",
       " '144': [103062701, 103039277, 103026544, 103055691, 103006787],\n",
       " '145': [103044982, 103048536, 103014599, 103009737, 103063373, 103066487],\n",
       " '146': [103062473, 103041526, 103049586, 103028028, 103014700, 103031926],\n",
       " '147': [103001103, 103037072, 103040988, 103015113, 103034878, 103050346],\n",
       " '148': [103042852, 103019687, 103046054, 103004315, 103058139, 103061549],\n",
       " '149': [103038805, 103027611, 103026351, 103061253, 103058196, 103045633],\n",
       " '150': [103026812, 103020070, 103033071, 103052561, 103016804, 103063810],\n",
       " '151': [103025020, 103019370, 103036043, 103039525, 103066407, 103028152],\n",
       " '152': [103037581, 103012846, 103004656, 103062430, 103027446, 103009140],\n",
       " '153': [103041171, 103061974, 103064440, 103042785, 103022424, 103053222],\n",
       " '154': [103021459, 103032083, 103014079, 103007225, 103051317, 103008000],\n",
       " '155': [103033177, 103047218, 103037901, 103020399, 103025905, 103032100],\n",
       " '156': [103047708, 103012716, 103049831, 103048944, 103025668, 103016946],\n",
       " '157': [103047550, 103056979, 103028737, 103011613, 103046249, 103000726],\n",
       " '158': [103007339, 103037493, 103059695, 103006807, 103035396, 103043607],\n",
       " '159': [103042876, 103054058, 103002922, 103053781, 103022734, 103059005],\n",
       " '160': [103050900, 103063488, 103027962, 103025045, 103034109, 103027879],\n",
       " '161': [103037670, 103035459, 103038457, 103031456, 103047524, 103041240],\n",
       " '162': [103033758, 103018899, 103051658, 103000174, 103010608, 103013962],\n",
       " '163': [103039949, 103062621, 103024622, 103035763, 103000294, 103017632],\n",
       " '164': [103045935, 103053296, 103012569, 103003503, 103029575, 103027943],\n",
       " '165': [103008810, 103029960, 103052891, 103044313, 103001130, 103001954],\n",
       " '166': [103055999, 103024901, 103026653, 103016961, 103054836, 103037645],\n",
       " '167': [103002350, 103008060, 103043275, 103034613, 103022461, 103040187],\n",
       " '168': [103055679, 103014640, 103033714, 103014723, 103035446],\n",
       " '169': [103002603, 103000550, 103051555, 103055234, 103062448, 103003446],\n",
       " '170': [103033488, 103017913, 103052880, 103028382, 103047323, 103000006],\n",
       " '171': [103027104, 103014900, 103059867, 103034221, 103013196, 103041131],\n",
       " '172': [103012930, 103004529, 103051287, 103036730, 103047491, 103050126],\n",
       " '173': [103011514, 103061075, 103011159, 103042538, 103026340, 103026911],\n",
       " '174': [103018395, 103053779, 103060500, 103001340, 103035840, 103011826],\n",
       " '175': [103017400, 103031567, 103049482, 103010368, 103057307, 103030035],\n",
       " '176': [103066786, 103001481, 103003928, 103006872, 103042652, 103057048],\n",
       " '177': [103044636, 103059300, 103024006, 103009570, 103053937, 103045099],\n",
       " '178': [103022059, 103033615, 103014872, 103061261, 103053868, 103051012],\n",
       " '179': [103025691, 103065919, 103036534, 103028101, 103011497, 103059372],\n",
       " '180': [103012865, 103023899, 103002851, 103028849, 103021350, 103046347],\n",
       " '181': [103017112, 103012368, 103050060, 103019302, 103023217, 103063273],\n",
       " '182': [103009685, 103060700, 103056881, 103007700, 103011868, 103065653],\n",
       " '183': [103043862, 103063519, 103011270, 103050639, 103031875, 103015467],\n",
       " '184': [103049301, 100829477, 103024632, 103057429, 103011970, 103005622],\n",
       " '185': [103047601, 103002493, 103061499, 103046481, 103009107, 103021727],\n",
       " '186': [103061647, 103026274, 103021912, 103063474, 103018585, 103064298],\n",
       " '187': [103008152, 103024296, 103065893, 103006922, 103033050, 103019082],\n",
       " '188': [103050810, 103060050, 103045928, 103038636, 103045102, 103053577],\n",
       " '189': [103046609, 103048104, 103019935, 103027284, 103012121, 103052666],\n",
       " '190': [103000784, 103001198, 103006321, 103016981, 103020607, 103054364],\n",
       " '191': [103004846, 103015390, 103056316, 103008270, 103052756, 103022397],\n",
       " '192': [103043405, 103062155, 103057063, 103012054, 103015990, 103001937],\n",
       " '193': [103008896, 103015382, 103047487, 103010888, 103018717, 103034180],\n",
       " '194': [103059664, 103044314, 103022255, 103028941, 103056468, 103052926],\n",
       " '195': [103024218, 103020316, 103065887, 103045911, 103040395, 103064871],\n",
       " '196': [103000817, 103047894, 103025072, 103066743, 103038429, 103020054],\n",
       " '197': [103013445, 103033456, 103050545, 103000434, 103033827, 103003541],\n",
       " '198': [103011502, 103065837, 103034666, 103027342, 103012506, 103059583],\n",
       " '199': [103013328, 103041270, 103039852, 103007665, 103045262, 103018200],\n",
       " '200': [103060508, 103011835, 103032350, 103061526, 103025153, 103030052],\n",
       " '201': [103057808, 103037353, 103065423, 103056086, 103045241, 103031188],\n",
       " '202': [103040717, 103048700, 103032036, 103031278, 103012087, 103001431],\n",
       " '203': [103059228, 103061478, 103030479, 103014689, 103039211, 103020485],\n",
       " '204': [103006302, 103063252, 103005127, 103038658, 103052660, 103063629],\n",
       " '205': [103056263, 103032899, 103008040, 103013732, 103043950, 103042978],\n",
       " '206': [103006599, 103015268, 103032587, 103023131, 103015130, 103058339],\n",
       " '207': [103001782, 103062036, 103000087, 103051078, 103019772, 103006465],\n",
       " '208': [103063998, 103009689, 103043723, 103001038, 103029843, 103057928],\n",
       " '209': [103049993, 103033332, 103065457, 103045346, 103050758, 103017158],\n",
       " '210': [103024515, 103058187, 103006466, 103018912, 103034785, 103007091],\n",
       " '211': [103004429, 103061409, 103015955, 103061167, 103025916, 103040005],\n",
       " '212': [103023403, 103062747, 103017904, 103013808, 103010675, 103003544],\n",
       " '213': [103019868, 103057311, 103035604, 103058909, 103034848, 103021129],\n",
       " '214': [103053216, 103024362, 103010042, 103066237, 103050491, 103040347],\n",
       " '215': [103040100, 103049505, 103064828, 103000009, 103064012, 103002701],\n",
       " '216': [103049436, 103059223, 103015416, 103042043, 103022275, 103025572],\n",
       " '217': [103017552, 103016971, 103034029, 103024271, 103021795, 103001639],\n",
       " '218': [103026784, 103048368, 103025931, 103063744, 103060628, 103010773],\n",
       " '219': [103005874, 103005868, 103030315, 103017047, 103009333, 103055651],\n",
       " '220': [103019745, 103048274, 103002829, 103020233, 103022520, 103057946],\n",
       " '221': [103029493, 103046985, 103027170, 103038911, 103052689, 103031699],\n",
       " '222': [103007823, 103033337, 103032386, 103046451, 103001333, 103029863],\n",
       " '223': [103050625, 103012934, 103008809, 103009048, 103056844, 103045761],\n",
       " '224': [103049602, 103059043, 103005847, 103048634, 103021436, 103003076],\n",
       " '225': [103058299, 103060523, 103012283, 103041320, 103062563, 103015399],\n",
       " '226': [101327120, 103018800, 103018713, 103004625, 103022091, 103007042],\n",
       " '227': [103004574, 103007968, 103011889, 103042197, 103001151, 103046880],\n",
       " '228': [103049924, 103033684, 103017052, 103014363, 103063013, 103059280],\n",
       " '229': [103054347, 103043910, 103010980, 103040887, 103030208, 103046885],\n",
       " '230': [103042967, 103025561, 103011681, 103021530, 103027616, 103025399],\n",
       " '231': [103043160, 103052702, 103060329, 103022429, 103025945, 103055208],\n",
       " '232': [103030627, 103047338, 103036348, 103015288, 103039049, 103038007],\n",
       " '233': [103027030, 103001254, 103012914, 103056315, 103031342, 103037957],\n",
       " '234': [103015075, 103023261, 103033333, 103006572, 103051669, 103042605],\n",
       " '235': [103040689, 103007717, 103055390, 103000173, 103065553, 103066235],\n",
       " '236': [103043312, 103055126, 103035657, 103046890, 103008302, 103062535],\n",
       " '237': [103023492, 103024532, 103060087, 103025365, 103059891, 103059532],\n",
       " '238': [103049187, 103040639, 103057569, 103035000, 103040777, 103033063],\n",
       " '239': [103004052, 103033616, 103005616, 103008910, 103060790, 103041108],\n",
       " '240': [103002864, 103057989, 103052541, 103045983, 103002203, 103013491],\n",
       " '241': [103066317, 103045713, 103053412, 103015206, 103030637, 103000415],\n",
       " '242': [103022154, 103017396, 103022635, 103015469, 103000522, 103034516],\n",
       " '243': [103035520, 103027194, 103019835, 103038952, 103007594, 103003989],\n",
       " '244': [103029889, 103055480, 103061939, 103014279, 103063813, 103034864],\n",
       " '245': [103006290, 103057143, 103005797, 103001660, 103049606, 103048322],\n",
       " '246': [103050190, 103032336, 103000830, 103052083, 103060821, 103018257],\n",
       " '247': [103033665, 103062125, 103005266, 103052966, 103003294, 103009200],\n",
       " '248': [103049832, 103014860, 103055919, 102787394, 103021207, 103033949],\n",
       " '249': [103046564, 103051687, 103012631, 103041931, 103045316, 103041621],\n",
       " '250': [103061808, 103052023, 103064646, 103018323, 103030817, 103001374],\n",
       " '251': [103029676, 103055749, 103041508, 103031090, 103040306, 103012388],\n",
       " '252': [103007572, 103022643, 103005904, 103060252, 103031621, 103036076],\n",
       " '253': [103062676, 103029045, 103061098, 103056274, 103016033, 103007468],\n",
       " '254': [103000810, 103032276, 103014669, 103043061, 103058854, 103007921],\n",
       " '255': [103023300, 103023641, 103055622, 103046857, 103065687, 103049618],\n",
       " '256': [103055896, 103019545, 103031907, 103043119, 103052714, 103014551],\n",
       " '257': [103038246, 103049474, 103038941, 103007419, 103034418, 103058843],\n",
       " '258': [103036606, 103030409, 103002374, 103018709, 103049894, 103062690],\n",
       " '259': [103021497, 103006279, 103050469, 103049724, 103033134, 103029855],\n",
       " '260': [103029120, 103059398, 103024723, 103011077, 103006845, 103034535],\n",
       " '261': [103034318, 103041551, 103007690, 103045923, 103014891, 103060357],\n",
       " '262': [103065177, 103044510, 103031874, 103029256, 103023109, 103025766],\n",
       " '263': [103062644, 103009727, 103004686, 103063238],\n",
       " '264': [103054489, 103041642, 103002859, 103046068, 103061658, 103030747],\n",
       " '265': [103029947, 103007883, 103018865, 103023804, 103014600, 103058730],\n",
       " '266': [103006507, 103005638, 103027977, 103016554, 103000601, 103059740],\n",
       " '267': [103049344, 103008481, 103006671, 103018524, 103043736, 103014444],\n",
       " '268': [103013678, 103001391, 103045249, 103006181, 103027297, 103056066],\n",
       " '269': [103047189, 103037587, 103062712, 103033613, 103042315, 103011811],\n",
       " '270': [103054849, 103031025, 103041838, 103050213, 103000196, 103017686],\n",
       " '271': [103036464, 103057966, 103055606],\n",
       " '272': [103066153, 103052339, 103044242, 103051227, 103062800, 103063732],\n",
       " '273': [103036645, 103057214, 103037224, 103043142, 103051985, 103010967],\n",
       " '274': [103015996, 103018311, 103019631, 103031294, 103038461, 103062702],\n",
       " '275': [103040856, 103043704, 103030278, 103012875, 103006336, 103038505],\n",
       " '276': [103014543, 103017969, 103035281, 103019873, 103031824, 103037786],\n",
       " '277': [103053401, 103063461, 103033039, 103007213, 103065405, 103043089],\n",
       " '278': [103034971, 103053712, 103013615, 103022319, 103011913, 103007512],\n",
       " '279': [103037294, 103039008, 103050837, 103019099, 103041222, 103019603],\n",
       " '280': [103055527, 100640027, 103036753, 103001856, 103064446, 103025124],\n",
       " '281': [103015614, 103064052, 103045920, 103007924, 103011316, 103054853],\n",
       " '282': [103011130, 103056640, 103025073, 103037125, 103061073, 103017689],\n",
       " '283': [103014902, 103053676, 103061928, 103024893, 103003858, 103055346],\n",
       " '284': [103001157, 103020554, 103052886, 103054624, 103060011, 103037185],\n",
       " '285': [103051870, 103058026, 103061602, 103043030, 103017877, 103027666],\n",
       " '286': [103054588, 103044597, 103045398, 103040922, 103001517, 103037529],\n",
       " '287': [103004825, 103046969, 101079892, 103004191, 103066243, 103020330],\n",
       " '288': [103013636, 103056367, 103062816, 103018077, 103020089, 103054949],\n",
       " '289': [103046819, 103056901, 103020176, 103021535, 103050533, 103037029],\n",
       " '290': [103056939, 103056126, 103026566, 103044646, 103057646, 103062917],\n",
       " '291': [103037638, 103062776, 103054053, 103011089, 103047920, 103041785],\n",
       " '292': [103044024, 103051924, 103029025, 103056987, 103036932, 103047256],\n",
       " '293': [103063808, 103033258, 103018462, 103015789, 103037189, 103061561],\n",
       " '294': [103045752, 103047392, 103052405, 103060825, 103002027, 103050106],\n",
       " '295': [103058824, 103033094, 103012575, 103050095, 103023921, 103027440],\n",
       " '296': [103002069, 103053990, 103021827, 103035202, 103030092, 103004898],\n",
       " '297': [103050772, 103002415, 103059012, 103030101, 103041095, 103021751],\n",
       " '298': [103014955, 103025000, 103066408, 103045439, 103020375, 103012737],\n",
       " '299': [103064444, 103042115, 103026318, 103066765, 103038243, 103014560],\n",
       " '300': [103051119, 103019392, 103035380, 103037453, 103016263, 103016366],\n",
       " '301': [103058656, 103063873, 103035811, 103066964, 103038341, 103051906],\n",
       " '302': [103045223, 103024524, 103063552, 103047480, 103066065, 103060653],\n",
       " '303': [103025769, 103040210, 103044000, 103003800, 103016165, 103024008],\n",
       " '304': [103029119, 103015525, 103005236, 103031280, 103023637, 103013370],\n",
       " '305': [103065246, 103049538],\n",
       " '306': [103043321, 103039387, 103005563, 103058049, 103063787, 103037911],\n",
       " '307': [103032669, 103047823, 103057039],\n",
       " '308': [103034685, 103046680, 103006612, 103021278, 103001700, 103011061],\n",
       " '309': [103045560, 103006125, 103055764, 103057109, 103022495, 103008510],\n",
       " '310': [103028485, 103062574, 103027431, 103032816, 103025133, 103053677],\n",
       " '311': [103050980, 103008190, 103006500, 103055277, 103039101, 103027576],\n",
       " '312': [103052993, 103007109, 103043289, 103023470, 103007860, 103015673],\n",
       " '314': [103005619, 103026743, 103029243, 103036505, 103006617, 103063160],\n",
       " '315': [103027885, 103060098, 103019688, 103059505, 103025671, 103030594],\n",
       " '316': [103018519, 103007232, 103056261, 103053714, 103057508, 103024250],\n",
       " '317': [103057110, 103024454, 103043686, 103034182, 103011403, 103006369],\n",
       " '318': [103007874, 103000331, 103059478, 103016629, 103061403, 103043329],\n",
       " '319': [103051176, 103020745, 103016266, 103008007, 103041440, 103056675],\n",
       " '320': [103063327, 103046269, 103057432, 103053052, 103017845, 103053177],\n",
       " '321': [103048488, 103017253, 103065018, 103036007, 103006086, 103001507],\n",
       " '322': [103027633, 103058583, 103043036, 103014651, 103056398, 103016360],\n",
       " '323': [103004589, 103064904, 103057706, 103018098, 103033695, 103054675],\n",
       " '324': [103000241, 103065614, 103064318, 103004131, 103058746, 103036675],\n",
       " '325': [103045103, 103053503, 103050479, 103032099, 103001871, 103008308],\n",
       " '326': [103002925, 103036634, 103057022, 100401540, 103054838, 103005801],\n",
       " '327': [103044999, 103052919, 103055012, 103021356, 103066748, 103054238],\n",
       " '328': [103002895, 103028013, 103008582, 103051331, 103040113, 103028078],\n",
       " '329': [103027215, 103002571, 103049221, 103020292, 103015792, 103033225],\n",
       " '330': [103022459, 103032538, 103051335, 103059707, 103019532],\n",
       " '331': [103041922, 103009398, 103007351, 103024111, 103024113, 103042653],\n",
       " '332': [103012140, 103042066, 103013050, 103014183, 103026002, 103030949],\n",
       " '333': [103027260, 103065367, 103010783, 103054209, 103023970, 103012585],\n",
       " '334': [103003445, 103062548, 103007762, 103001853, 103013145, 103004136],\n",
       " '335': [103036286, 103026647, 103022766, 103024086, 103024835, 103020367],\n",
       " '336': [103039253, 103027457, 103009245, 103039774, 103008818, 103056776],\n",
       " '337': [103066948, 103015579, 103043272, 103053634, 103040706, 103048610],\n",
       " '338': [103052812, 103024738, 103060258, 103020198, 103018538, 103059457],\n",
       " '339': [103010357, 103011500, 103023081, 103041175, 103040843, 103007063],\n",
       " '340': [103058149, 103034743, 103028513, 103030920, 103005086, 103029131],\n",
       " '341': [103015138, 103059007, 103051945, 103056291, 103019439, 103013238],\n",
       " '342': [103011908, 103054352, 103032949, 103045142, 103025706, 103045215],\n",
       " '343': [103008021, 103018765, 103014568, 103016642, 103011473, 103047558],\n",
       " '344': [103040031, 103064510, 103027171, 103044158, 103033906, 101205239],\n",
       " '345': [103004800, 103031021, 103063050, 103031933, 103060643, 103015925],\n",
       " '346': [103030098, 103030856, 103053584, 103010651, 103054255, 103003495],\n",
       " '347': [103030730, 103008581, 103012242, 103000882, 103021251, 103027661],\n",
       " '348': [103046388, 103022088, 103015574, 103012682, 103042683, 101405547],\n",
       " '349': [103052173, 103042424, 103063700, 103060411, 103038044, 103053989],\n",
       " '350': [103040642, 103054881, 103020851, 103012387, 103047559, 103031976],\n",
       " '351': [103002616, 103052240, 103006012, 103050821, 103020722, 103056812],\n",
       " '352': [103057751, 103064718, 103065640, 103022353, 103001605, 103022162],\n",
       " '353': [103040999, 103061937, 103051649, 103055176, 103054041, 103031263],\n",
       " '354': [103049466, 103010236, 103032523, 103009124, 103063479, 103057713],\n",
       " '355': [103029142, 103018453, 103061871, 103022925, 103004970, 103030037],\n",
       " '356': [103005194, 103064019, 103031138, 103039911, 103009899, 103003504],\n",
       " '357': [103039985, 103052557, 103052852, 103047178, 103044026, 103017310],\n",
       " '358': [103043657, 103045789, 103043513, 103057963, 103013626, 103059094],\n",
       " '359': [103055807, 103009858, 103002240, 103007785, 103025082, 103018086],\n",
       " '360': [103041113, 103025936, 103036142, 103059096, 103064568, 103059024],\n",
       " '361': [103027551, 103023827, 103026559, 103016944, 103064383, 103017530],\n",
       " '362': [103007756, 103021205, 103028283, 103053272, 103013233, 103030866],\n",
       " '363': [103025928, 103044667, 103050457, 103009852, 103046408, 103036281],\n",
       " '364': [103031705, 103032238, 103037458, 103062649, 103056756, 103055682],\n",
       " '365': [103049158, 103017590, 103062373, 103056001, 103066502, 103006404],\n",
       " '366': [103021964, 103002045, 103059092, 103004189, 103009475, 103065222],\n",
       " '367': [103038013, 103049177, 103001727, 103053667, 103051313, 103030767],\n",
       " '368': [103061992, 103002744, 103059264, 103052752, 100454655, 103006497],\n",
       " '369': [103023900, 103010232, 103024688, 103024910, 103013469, 103065005],\n",
       " '370': [103057091, 103028483, 103028927, 103032804, 103025319, 103019323],\n",
       " '371': [103047426, 103020902, 103028960, 103017103, 103017262, 103019961],\n",
       " '372': [103054029, 103000541, 103052389, 103043039, 103046811, 103027541],\n",
       " '373': [103001163, 103029518, 103033282, 103030725, 103066986, 103019108],\n",
       " '374': [103036389, 103052087, 101536821, 103051480, 103047816, 103037016],\n",
       " '375': [103004053, 103033800, 103016331, 103002534, 103036041, 103033251],\n",
       " '376': [103024978, 102301030, 103051222, 103042285, 103008915, 103026801],\n",
       " '377': [103058884, 103035480, 103003097, 103015243, 103063545, 103038718],\n",
       " '378': [103023952, 103026333, 103014648, 103024418, 103060196, 103008099],\n",
       " '379': [103064582, 103016139, 103036933, 103041859, 103001512, 103060097],\n",
       " '380': [103056658, 103057730, 103050552, 103008192, 103061845, 103028686],\n",
       " '381': [103052029, 103062943, 103024774, 103014093, 103004988, 103046973],\n",
       " '382': [103059838, 103015910, 103035890, 103005006, 103040261, 103030439],\n",
       " '383': [103065095, 103028357, 103024891, 103007643, 103009832, 103006264],\n",
       " '384': [103031935, 103057544, 103041517, 103018594, 103056949, 103063755],\n",
       " '385': [103006975, 103037878, 103033291, 103029949, 103019143, 103032933],\n",
       " '386': [103026977, 103037973, 103061588, 103010606, 103064073, 103045395],\n",
       " '387': [103008766, 103035785, 103066655, 103065744, 103027692, 103015335],\n",
       " '388': [103042241, 103033784, 103049610, 103002138, 103046848, 103035752],\n",
       " '389': [103047921, 103029285, 103000324, 103036239, 103050849, 103037808],\n",
       " '390': [103026162, 103050466, 103027772, 103036907, 103037129, 103002160],\n",
       " '391': [102184985, 101008033, 103026868, 103057038, 103018159, 103063487],\n",
       " '392': [103047298, 103008750, 103046933, 103040417, 103028316, 103001068],\n",
       " '394': [103028376, 103023824, 103028016, 103032482, 103025511, 103008869],\n",
       " '395': [103008365, 103031015, 103054677, 103043505, 103065502, 103026787],\n",
       " '396': [103038131, 103040552, 103048388, 103001581, 103040259, 103045473],\n",
       " '397': [103020515, 103057665, 103043428, 103057801, 103034788, 103021212],\n",
       " '398': [103033863, 103020580, 103020844, 103033676, 103009240, 103020285],\n",
       " '399': [103063534, 103049026, 103051894, 103058250, 103034644, 103036412],\n",
       " '400': [103028609, 103001960, 103029366, 103000252, 103018678, 103062027],\n",
       " '402': [103060926, 103017441, 103042667, 103045189, 103059980, 103001402],\n",
       " '403': [103032694, 103024846, 103015356, 103028753, 103009004, 103016262],\n",
       " '405': [103050413, 103052748, 103029934, 103037400, 103001166, 103003709],\n",
       " '406': [103045074, 103053770, 103010156, 103057220, 103046321, 103020029],\n",
       " '407': [103010057, 103046918, 103033011, 103047384, 103025932, 103006945],\n",
       " '408': [103045281, 103057033, 103012183, 103039670, 103051515, 103056595],\n",
       " '409': [103009304, 103003190, 103044782, 103014004, 103013925, 103040862],\n",
       " '410': [103063509, 103046303, 103040170, 103062443, 103042267, 103015576],\n",
       " '411': [103007644, 103022587, 103002848, 103029817, 103012037, 103008992],\n",
       " '412': [103003870, 103038917, 103048868, 103065045, 103047138, 103048580],\n",
       " '413': [103062203, 103052930, 103002930, 103040912, 103037387, 103011504],\n",
       " '414': [103031599, 103034515, 103009281, 103016079, 103008124, 103040949],\n",
       " '415': [103006481, 103009893, 103015287, 103060117, 103050728, 103063955],\n",
       " '416': [103000680, 103023168, 103052797, 103033384, 103002055, 103026289],\n",
       " '417': [103044087, 103064854, 103032515, 103010441, 103032429, 103024926],\n",
       " '418': [103034049, 103010381, 103034872, 103014142, 103021269, 103022445],\n",
       " '419': [103026131, 103007180, 103033912, 103020556, 103041914, 103017277],\n",
       " '420': [103019271, 103047777, 103046625, 103030004, 103064928, 103010327],\n",
       " '421': [103066509, 103029397, 103021131, 103037642, 103044585, 103022946],\n",
       " '422': [103056224, 103039679, 103021199, 103050718, 103033878, 103053007],\n",
       " '423': [103062483, 103009849, 103034717, 103033664, 103030480, 103057625],\n",
       " '424': [103057184, 103001059, 103010205, 103057745, 103039431, 103023482],\n",
       " '425': [103055723, 103018993, 103044840, 103016635, 103013772, 103019107],\n",
       " '426': [103065301, 103048163, 103038458, 103041377, 103028210, 103043305],\n",
       " '427': [103002484, 103000852, 103030571, 103063670, 103062335, 103029070],\n",
       " '428': [103004200, 103033923, 103001920, 103064323, 103013547, 103020423],\n",
       " '429': [103062798, 103048359, 103007453, 103014488, 103030257, 103023510],\n",
       " '430': [103054391, 103055755, 103000357, 103004101, 103058271, 103059555],\n",
       " '431': [103035298, 103032501, 103045706, 103041857, 103006206, 103032155],\n",
       " '432': [103066107, 103007217, 103037316, 103026327, 103002941, 103001124],\n",
       " '433': [103004704, 103012426, 103059578, 103003565, 103061660, 103031457],\n",
       " '434': [103062457, 103021346, 103008987, 103024707, 103052341, 103009503],\n",
       " '435': [103039614, 103022839, 103005757, 103066459, 103000107, 103012580],\n",
       " '436': [103005576, 103014009, 103043729, 103065841, 103025763, 103063889],\n",
       " '437': [103027002, 103014147, 103034359, 103020275, 103020343, 103048787],\n",
       " '438': [103039194, 103049479, 103051068, 103063529, 103048154, 103055643],\n",
       " '439': [103043402, 103001944, 103065328, 103010023, 103056143, 103014128],\n",
       " '440': [103047198, 103063228, 103062211, 103019604, 103030737, 103019822],\n",
       " '441': [103012446, 103048795, 103014592, 103032757, 103001975, 103028314],\n",
       " '442': [103014943, 103064881, 103022819, 103013685, 103015357, 103044987],\n",
       " '443': [103002198, 103061879, 103015074, 103018358, 103024968, 103010822],\n",
       " '444': [103002520, 103046429, 103000515, 103023872, 103025546, 103038953],\n",
       " '445': [103001420, 103013283, 103008444, 103023928, 103033995, 103027191],\n",
       " '446': [103027934, 103012141, 103013935, 103008235, 103023816, 103010332],\n",
       " '447': [103046614, 103009451, 103006766, 103039223, 103016190, 103035334],\n",
       " '448': [103004404, 103050140, 103050402, 103004633, 103005118, 103007019],\n",
       " '449': [103042626, 103041256, 103050850, 103050274, 103038245, 103011053],\n",
       " '450': [103011177, 103043362, 103048300, 103060621, 103051594, 103007523],\n",
       " '451': [103064603, 103010389, 103053350, 103054644, 103011211, 103045829],\n",
       " '452': [103026108, 103025160, 103064211, 103041225, 103011097, 103040493],\n",
       " '453': [103026181, 103015935, 103050021, 103006388, 103047287, 103046602],\n",
       " '454': [103052059, 103020085, 103024255, 103049635, 103043625, 103041919],\n",
       " '455': [103029090, 103019114, 103039944, 103047125, 103008243, 103032034],\n",
       " '456': [103015661, 103053808, 103042400, 103019172, 103040404, 103044439],\n",
       " '457': [103039017, 103041413, 103006693, 103014148, 103052872, 103035970],\n",
       " '458': [103037217, 103004309, 103034601, 103006237, 103048071, 103040810],\n",
       " '459': [103050371, 103004867, 103035666, 103034537, 103056146, 103015378],\n",
       " '460': [103026659, 103019018, 103054806, 103058912, 103048882, 103008162],\n",
       " '461': [103037136, 103029114, 103035653, 103030065, 103057480, 103003724],\n",
       " '462': [103058209, 103053688, 103046036, 103047535, 103044416, 103005092],\n",
       " '463': [103049079, 103065007, 103056644, 103017442, 103051614, 103024747],\n",
       " '464': [103000822, 103029329, 103060709, 103057304, 103029867, 103035563],\n",
       " '465': [103049650, 103036797, 103014750, 103018300, 103048487, 103025005],\n",
       " '466': [103004579, 103043393, 103052288, 103032612, 103059538, 103017181],\n",
       " '467': [103012887, 103002416, 103014259, 103047253, 103009768, 103061245],\n",
       " '468': [103023214, 103059083, 103012099, 103018814, 103005351, 103049223],\n",
       " '469': [103000384, 103002732, 103026958, 103014530, 103040881],\n",
       " '470': [103047299, 103065721, 103038297, 103055090, 103017739, 103033918],\n",
       " '471': [103030912, 103035581, 103060639, 103021738, 103034498, 103017735],\n",
       " '472': [103026912, 103011562, 103038334, 103066483, 103056385, 103045566],\n",
       " '473': [103048190, 103014547, 103017165, 103066291, 103043975, 103032340],\n",
       " '474': [103046332, 103004538, 103034936, 103046929, 103052893, 103051258],\n",
       " '475': [103035497, 103058462, 103047493, 103006361, 103012031, 103042471],\n",
       " '476': [103013850, 103023756, 103001891, 103026079, 103048473, 103045815],\n",
       " '477': [103000034, 103033412, 103047838, 103046563, 103058862],\n",
       " '478': [103033606, 103012818, 103056399, 103054215, 103047864, 103056891],\n",
       " '479': [103027917, 103040710, 103023992, 103019272, 103025992, 103000114],\n",
       " '480': [103028312, 103054572, 103053549, 103013878, 103006660, 103023122],\n",
       " '481': [103014447, 103015034, 103003641, 103016477, 103018680, 103032019],\n",
       " '482': [103013981, 103030002, 103005090, 103050633, 103001145, 103048444],\n",
       " '483': [103044470, 103039823, 103036969, 103031617, 103058182, 103023487],\n",
       " '484': [103024334, 103005279, 103012529, 103029092, 103011692, 103008746],\n",
       " '485': [103029129, 103028149, 103000736, 103011758, 103048254, 103043377],\n",
       " '486': [103051019, 103016304, 103030748, 103018488, 103022378, 103044676],\n",
       " '487': [103037892, 103017950, 103033936, 103021344, 103046673, 103065657],\n",
       " '488': [103037815, 103001838, 103022531, 103066410, 103054203, 103035809],\n",
       " '489': [103052127, 103004644, 103038724, 101756193, 103041672, 103064232],\n",
       " '490': [103066684, 103003950, 103037251, 103010317, 103008419, 103056311],\n",
       " '491': [103048984, 103025557, 103008272, 103008396, 103047208, 103059527],\n",
       " '492': [103012772, 103048830, 103030501, 103033596, 103051670, 103006904],\n",
       " '493': [103010659, 103058071, 103017708, 103033199, 103041228, 103045153],\n",
       " '494': [103004597, 103005360, 103063929, 103029235, 103048898, 103036343],\n",
       " '495': [103011412, 103056980, 103039552, 103052177, 103040298, 103016546],\n",
       " '496': [103051646, 103062055, 103055292, 103010178, 101438681, 103007943],\n",
       " '497': [103001977, 103033520, 103061897, 103016524, 103060783, 103040596],\n",
       " '498': [103064686, 103038619, 103035595, 103032689, 103006923, 103035303],\n",
       " '499': [103054911, 103004228, 103062148, 103058680, 103029056, 103062273],\n",
       " '500': [103006399, 103042318, 103044330, 103006515, 103057030, 103011884]}"
      ]
     },
     "execution_count": 58,
     "metadata": {},
     "output_type": "execute_result"
    }
   ],
   "source": [
    "import json\n",
    "with open(DATA_DIR+'multimodal_valid/'+'valid_answer.json') as f:\n",
    "    valid_answer = json.load(f)\n",
    "valid_answer"
   ]
  },
  {
   "cell_type": "code",
   "execution_count": 59,
   "metadata": {},
   "outputs": [
    {
     "data": {
      "text/plain": [
       "0.0"
      ]
     },
     "execution_count": 59,
     "metadata": {},
     "output_type": "execute_result"
    }
   ],
   "source": [
    "# 答え合わせ\n",
    "dcg5_list = []\n",
    "for k, v in valid_answer.items():\n",
    "    dcg5_local = 0\n",
    "    for i in range(5):\n",
    "        if valid_df.loc[valid_df['query-id']==int(0), :].values[:, (i+1)][0] in v:\n",
    "            dcg5_local += 1/np.log2(i+1+1)\n",
    "    dcg5_list.append(dcg5_local)\n",
    "    \n",
    "np.mean(dcg5_list)"
   ]
  },
  {
   "cell_type": "code",
   "execution_count": null,
   "metadata": {},
   "outputs": [],
   "source": []
  },
  {
   "cell_type": "code",
   "execution_count": null,
   "metadata": {},
   "outputs": [],
   "source": []
  },
  {
   "cell_type": "code",
   "execution_count": null,
   "metadata": {},
   "outputs": [],
   "source": []
  },
  {
   "cell_type": "code",
   "execution_count": null,
   "metadata": {},
   "outputs": [],
   "source": []
  },
  {
   "cell_type": "code",
   "execution_count": null,
   "metadata": {},
   "outputs": [],
   "source": []
  },
  {
   "cell_type": "code",
   "execution_count": null,
   "metadata": {},
   "outputs": [],
   "source": [
    "for i, out in enumerate(out_list):\n",
    "    if i==0:\n",
    "        out_array = out.squeeze()\n",
    "    else:\n",
    "        out_array = torch.cat([out_array, out.squeeze()], dim=-1)\n",
    "\n",
    "out_array = out_array.cpu().detach().numpy()"
   ]
  },
  {
   "cell_type": "code",
   "execution_count": null,
   "metadata": {},
   "outputs": [],
   "source": [
    "valid['score'] = out_array"
   ]
  },
  {
   "cell_type": "code",
   "execution_count": null,
   "metadata": {
    "scrolled": true
   },
   "outputs": [],
   "source": [
    "# sort\n",
    "valid = valid.sort_values(by=\"score\", ascending=False)\n",
    "display(valid)\n",
    "# # group by\n",
    "grouped = valid.groupby(\"query_id\").head(5)\n",
    "display(grouped)"
   ]
  },
  {
   "cell_type": "code",
   "execution_count": null,
   "metadata": {},
   "outputs": [],
   "source": [
    "grouped['query_id'].value_counts(dropna=False)"
   ]
  },
  {
   "cell_type": "code",
   "execution_count": null,
   "metadata": {},
   "outputs": [],
   "source": [
    "grouped.groupby('query_id')[['product_id']].count()"
   ]
  },
  {
   "cell_type": "code",
   "execution_count": null,
   "metadata": {
    "scrolled": true
   },
   "outputs": [],
   "source": [
    "submit_df = pd.DataFrame(columns=['query-id','product1','product2','product3','product4','product5'])\n",
    "for i, q_id in enumerate(tqdm(grouped['query_id'].unique())):\n",
    "    submit_df.loc[i, 'query-id'] = q_id\n",
    "    submit_df.iloc[i, 1:] = grouped.loc[(grouped['query_id']==q_id), 'product_id'].values\n",
    "submit_df = submit_df.astype(int)\n",
    "submit_df = submit_df.sort_values(by='query-id')\n",
    "submit_df = submit_df.reset_index(drop=True)"
   ]
  },
  {
   "cell_type": "code",
   "execution_count": null,
   "metadata": {
    "scrolled": false
   },
   "outputs": [],
   "source": [
    "submit_df"
   ]
  },
  {
   "cell_type": "code",
   "execution_count": null,
   "metadata": {},
   "outputs": [],
   "source": [
    "import json\n",
    "with open(DATA_DIR+'multimodal_valid/'+'valid_answer.json') as f:\n",
    "    valid_answer = json.load(f)\n",
    "valid_answer"
   ]
  },
  {
   "cell_type": "code",
   "execution_count": null,
   "metadata": {
    "scrolled": true
   },
   "outputs": [],
   "source": [
    "vald_answer_df = pd.DataFrame(columns=['query-id','product1','product2','product3','product4','product5'])\n",
    "for i, (k,v) in enumerate(tqdm(valid_answer.items())):\n",
    "    vald_answer_df.loc[i, 'query-id'] = k\n",
    "    vald_answer_df.iloc[i, 1:] = v"
   ]
  },
  {
   "cell_type": "code",
   "execution_count": null,
   "metadata": {},
   "outputs": [],
   "source": []
  },
  {
   "cell_type": "code",
   "execution_count": null,
   "metadata": {},
   "outputs": [],
   "source": [
    "len(valid_answer)"
   ]
  },
  {
   "cell_type": "markdown",
   "metadata": {},
   "source": [
    "## ※Try and Error"
   ]
  },
  {
   "cell_type": "code",
   "execution_count": null,
   "metadata": {},
   "outputs": [],
   "source": [
    "a = torch.randn((4,10,8))"
   ]
  },
  {
   "cell_type": "code",
   "execution_count": null,
   "metadata": {},
   "outputs": [],
   "source": [
    "F.avg_pool1d(a.transpose(1,2), kernel_size=a.size()[1]).squeeze().shape"
   ]
  },
  {
   "cell_type": "code",
   "execution_count": null,
   "metadata": {
    "scrolled": true
   },
   "outputs": [],
   "source": [
    "a"
   ]
  },
  {
   "cell_type": "code",
   "execution_count": null,
   "metadata": {},
   "outputs": [],
   "source": []
  },
  {
   "cell_type": "code",
   "execution_count": null,
   "metadata": {},
   "outputs": [],
   "source": [
    "a = torch.randn(4,10)\n",
    "b = torch.randn(4,10)"
   ]
  },
  {
   "cell_type": "code",
   "execution_count": null,
   "metadata": {},
   "outputs": [],
   "source": [
    "a"
   ]
  },
  {
   "cell_type": "code",
   "execution_count": null,
   "metadata": {},
   "outputs": [],
   "source": [
    "b"
   ]
  },
  {
   "cell_type": "code",
   "execution_count": null,
   "metadata": {
    "scrolled": true
   },
   "outputs": [],
   "source": [
    "a.view(4,1,10)"
   ]
  },
  {
   "cell_type": "code",
   "execution_count": null,
   "metadata": {},
   "outputs": [],
   "source": [
    "torch.bmm(a.view(4,1,10), b.view(4,10,1))"
   ]
  },
  {
   "cell_type": "code",
   "execution_count": null,
   "metadata": {},
   "outputs": [],
   "source": [
    "torch.bmm(a.view(4,1,10),b.view(4,10,1)"
   ]
  },
  {
   "cell_type": "code",
   "execution_count": null,
   "metadata": {},
   "outputs": [],
   "source": []
  },
  {
   "cell_type": "code",
   "execution_count": null,
   "metadata": {},
   "outputs": [],
   "source": [
    "a = torch.randn((4, 1))\n",
    "a"
   ]
  },
  {
   "cell_type": "code",
   "execution_count": null,
   "metadata": {},
   "outputs": [],
   "source": [
    "b = torch.tensor(np.array([1,2,3,4]))\n",
    "b.shape"
   ]
  },
  {
   "cell_type": "code",
   "execution_count": null,
   "metadata": {
    "scrolled": true
   },
   "outputs": [],
   "source": [
    "loss = criterion(a, b) \n",
    "loss.item()"
   ]
  }
 ],
 "metadata": {
  "kernelspec": {
   "display_name": "Python 3",
   "language": "python",
   "name": "python3"
  },
  "language_info": {
   "codemirror_mode": {
    "name": "ipython",
    "version": 3
   },
   "file_extension": ".py",
   "mimetype": "text/x-python",
   "name": "python",
   "nbconvert_exporter": "python",
   "pygments_lexer": "ipython3",
   "version": "3.6.8"
  }
 },
 "nbformat": 4,
 "nbformat_minor": 2
}
